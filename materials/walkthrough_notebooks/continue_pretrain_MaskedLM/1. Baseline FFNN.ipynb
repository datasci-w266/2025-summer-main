{
 "cells": [
  {
   "cell_type": "markdown",
   "metadata": {
    "id": "TMU22tPLMVyS"
   },
   "source": [
    "# Learning objectives\n",
    "\n",
    "This is a series of 4 notebooks. By the end, you should able to:\n",
    "1. Explain the difference between `pretrain`, `finetune`, and `continue pretrain`\n",
    "2. Understand when and why `pretrain`, `finetune`, and `continue pretrain`\n",
    "3. Implement `continue pretrain` of a MaskedLM and use the output model for a downstream `finetune` task\n",
    "\n",
    "- LLM used: RoBERTa-base\n",
    "- Dataset used: climate change policy dataset\n",
    "- Machine Learning Libraries: HuggingFace, Tensorflow\n",
    "\n",
    "Note: The notebook was compiled in Google Colab, with file streaming from Google Drive. To run the notebook in your own environment, change the file path as needed."
   ]
  },
  {
   "cell_type": "code",
   "execution_count": 1,
   "metadata": {
    "id": "838YloQ4TfVl"
   },
   "outputs": [],
   "source": [
    "PATH = '/content/drive/MyDrive/Projects/Pretrain_MLM_PERMANENT/'"
   ]
  },
  {
   "cell_type": "markdown",
   "metadata": {
    "id": "VE1DYvzUiYW0"
   },
   "source": [
    "# Concepts"
   ]
  },
  {
   "cell_type": "markdown",
   "metadata": {
    "id": "FletjQD_FXuN"
   },
   "source": [
    "## What is the difference between `pretrain` and `finetune`?"
   ]
  },
  {
   "cell_type": "markdown",
   "metadata": {
    "id": "xZ4KTWMuvZl2"
   },
   "source": [
    "\n",
    "\n",
    "A language model is `pretrained` on a `large` dataset to learn general representations of language. The model is `pretrained` for an `initial task`. For BERT, the initial tasks were fill-mask and next-sentence-prediction.\n",
    "\n",
    "In contrast, `finetune` refers to the process of taking a `pretrained` model and `repurpose` it for a `different task`, this is generally done with a much `smaller` dataset. For example, we could take BERT and a movie review dataset to `classify` whether the movie reviews are positive or negative (ie, sentiment analysis).\n",
    "\n",
    "Notice that in this example, BERT was not trained to perform classification, but the model can be `repurposed` to perform the new task (ie, `finetune`). This works well (compared to training a sentiment analysis model using only the movie review dataset from scratch) because the `pretrained` model already learned some general representations of language due to the fact it was trained on a large dataset."
   ]
  },
  {
   "cell_type": "markdown",
   "metadata": {
    "id": "o4aQqRppFbfK"
   },
   "source": [
    "## What is `continue pretraining`?"
   ]
  },
  {
   "cell_type": "markdown",
   "metadata": {
    "id": "kstBzZXiiahY"
   },
   "source": [
    "`Continue pretraining` means we take the `pretrained` model (together with the trained weights) and a new dataset and continue training the model for its `initial task`. For example, we can `continue pretraining` BERT for the initial tasks of fill-mask and next-sentence-prediction.\n",
    "\n",
    "Notice the difference between `continue pretraining` and `finetuning`. In both cases, we train the `pretrained` model on a new dataset, but when we `continue pretraining`, we continue to train the model for its `initial tasks`, whereas when we `finetune`, the model is `repurposed` to a different task."
   ]
  },
  {
   "cell_type": "markdown",
   "metadata": {
    "id": "DG-2jjlRFdT1"
   },
   "source": [
    "## Why `continue pretraining`?"
   ]
  },
  {
   "cell_type": "markdown",
   "metadata": {
    "id": "3rkQgJzXvdjK"
   },
   "source": [
    "\n",
    "\n",
    "`Continue pretraining` a `pretrained` model could help the model gain a better representation of language within a `specific domain` (ie, Domain-Adaptive Pretraining) or a `specific task` (ie, Task-Adaptive Pretraining). [Support](https://aclanthology.org/2020.acl-main.740.pdf)\n",
    "\n",
    "For example, BERT was `pretrained` using (mostly) wikipedia texts, so it might not have learned good representations of `domain specific` texts, such as `medical terms`. You might find it beneficial to `continue pretraining` BERT with `domain specific` texts before using on a downstream tasks within that domain to potentially boost the performance.\n",
    "\n",
    "Another benefit of `continue pretraining` a `self-supervised` model is that the model omits the need for human-annotated labels, which can be expensive and scarce to come by. Imagine you want to train a classifier that uses doctor notes to predict diagnostics, you have lots of doctor notes but only a small portion of them are labelled with diagnosis. If you only use the labelled portion to train your classifier, the majority of your data are essentially wasted. You might then consider using all the doctor notes to `continue pretraining` the model so it gains a better representation of the domain and task of your interest before moving on to building your classification model using the labelled data."
   ]
  },
  {
   "cell_type": "markdown",
   "metadata": {
    "id": "kFXqvxTHzJVi"
   },
   "source": [
    "# Import Libraries"
   ]
  },
  {
   "cell_type": "code",
   "execution_count": 2,
   "metadata": {
    "colab": {
     "base_uri": "https://localhost:8080/"
    },
    "id": "ISsuX6WLy1XG",
    "outputId": "263f24c3-7acc-4821-d63f-03b0267e2c90"
   },
   "outputs": [
    {
     "name": "stdout",
     "output_type": "stream",
     "text": [
      "Mounted at /content/drive\n",
      "\u001b[2K   \u001b[90m━━━━━━━━━━━━━━━━━━━━━━━━━━━━━━━━━━━━━━━━\u001b[0m \u001b[32m84.1/84.1 kB\u001b[0m \u001b[31m4.0 MB/s\u001b[0m eta \u001b[36m0:00:00\u001b[0m\n",
      "\u001b[?25h"
     ]
    }
   ],
   "source": [
    "from google.colab import drive\n",
    "drive.mount('/content/drive')\n",
    "\n",
    "# standard libraries\n",
    "import pandas as pd\n",
    "import numpy as np\n",
    "import math\n",
    "\n",
    "# train/val/test split\n",
    "from sklearn.model_selection import train_test_split\n",
    "from sklearn.preprocessing import LabelEncoder\n",
    "\n",
    "# for models\n",
    "import tensorflow as tf\n",
    "\n",
    "!pip install transformers -q\n",
    "import transformers\n",
    "from transformers import pipeline, TFRobertaModel, TFRobertaForMaskedLM, RobertaTokenizer, DataCollatorForLanguageModeling\n",
    "\n",
    "!pip install datasets -q\n",
    "import datasets\n",
    "\n",
    "# for visualization\n",
    "import matplotlib.pyplot as plt\n",
    "import seaborn as sns\n",
    "\n",
    "# for evaluation metrics\n",
    "from sklearn.metrics import classification_report\n",
    "\n",
    "!pip install evaluate -q\n",
    "from evaluate import load"
   ]
  },
  {
   "cell_type": "markdown",
   "metadata": {
    "id": "NFJWs-P5Bh9u"
   },
   "source": [
    "# Load RoBERTa\n",
    "\n",
    "\n",
    "[RoBERTa](https://arxiv.org/abs/1907.11692) is one of the BERT family models that uses a `masked-language-model` approach as its initial task. The researchers that introduced RoBERTa investigated the design choices made in the original BERT model and identified a few improvement areas that lead to performance gain. Below are a few key areas where RoBERTa differs from BERT:\n",
    "\n",
    "1. Unlike BERT, where masking was performed only once during data preprocessing (training data was duplicated 10 times so that each sequence is masked in 10 different ways over the 40 epochs of training, resulting in each training sequence was seen with the same mask four times during training) resulting in a single static mask (`static masking`), RoBERT employed `dynamic masking` where different masking pattern was generated every time a sequence was feed to the model.\n",
    "2. Unlike BERT, where the initial training tasks consisted of fill-mask and next-sentence-prediction, RoBERTa removed the next-sentence-prediction task from its initial tasks and focused only on the fill-mask task.\n",
    "3. Further, unlike BERT, where short sequences were randomly injected and the sequence length for the first 90% of updates were reduced, RoBERTa was trained only with full-length sequences (T = 512 tokens), and RoBERTa used a larger byte-level Byte-Pair Encoding vocabulary as well as larger batch sizes in its training.\n",
    "4. RoBERTa was also trained on a different dataset than BERT, but the dataset matches the overall quantity and quality of the dataset used for BERT.\n",
    "\n",
    "- [GitHub](https://github.com/facebookresearch/fairseq/tree/main/examples/roberta)\n",
    "- [HuggingFace](https://huggingface.co/docs/transformers/model_doc/roberta)\n",
    "\n",
    "Keeping in mind that `RoBERTa` was trained using `Byte-Pair Encoding` tokenizers with casing and `base` has 12 layers while `large` has 24. For the showcase here, we will use `roberta-base`, but the same techniques can be easily adopted to roberta-large."
   ]
  },
  {
   "cell_type": "code",
   "execution_count": 3,
   "metadata": {
    "colab": {
     "base_uri": "https://localhost:8080/",
     "height": 408,
     "referenced_widgets": [
      "ea11d2590a4248d1af209c3d6c36dd59",
      "877203e9f574481193cc2fc61759f1f0",
      "242c14a528094fa6a6759b9c820ab42f",
      "b5bc93f706954430a5766df00680d967",
      "d6d614b30be44346951827d13ba55970",
      "f35d49dfba344f3e894fb6c12f23a03e",
      "a3752e0b1480454885d530f726ba930d",
      "bdb2c2a2d7854292a4d5ef05b850582a",
      "e2704d80e17848a193634ae32a47b3b4",
      "fadf377fbeba4b6c9f57132d93b75f55",
      "b618a122332f4fd2b9bfdb5c170bec34",
      "f8dbbc2d7ea748b38e7eb9a3b339a53a",
      "7f160fc24d9c45ecb10a23f2ac84991e",
      "81e849d5f6dc49afbdf0ab413cd9730a",
      "e22d3306a58e4107966649d45f99fc43",
      "50ff0f9c17bf4ad0a13cd88eebab9c9c",
      "56a263ff478d44ae9ebb269b979eaaef",
      "1dff6b33fc054ba0b42d682c8c150114",
      "23f1dd2be2ed4f1289dc33ad1aca6d8e",
      "0fd49f34bd7e4579b74ddcd49454c7e3",
      "b9758dcb2fe44f6d95755ae1bc81bf53",
      "966a7fbd4a924dbfa6d2c8442dd2ef86",
      "c100f307747d44ccb55ff427ee9ad2c3",
      "d4c6e49ab2ef4c3b822e3d19eb162c62",
      "f0a7656aaf7848d895a97c1550a2e2c4",
      "30a55fc0154e460aaac13a261d657b7d",
      "aff9cb874c43484aa170d456eb3d0a24",
      "a417b32a25f94f099f6bec7dfe278498",
      "c3f9b9d0fc80446c8c8c9481c6f2e7f3",
      "e08f7d96e7c347aa879f2c7018e3cd52",
      "2e3971887e154e2482d0488741085b88",
      "6d1e0a8f2b074fa695a13047a282945a",
      "95b567375948493e8157619f2092bece",
      "cee4979e28de4505b811c7ccd4dffca7",
      "f6a27da3bc1b4beb90612ce746dfa288",
      "03195ce9793e4af6bf965ec1d054157f",
      "c9ecd0d4288347deb9cf40cced137b34",
      "c4b824021a5b4aa5b05e574c0e0fc7c2",
      "b5ebf54deb8043938713724a9ff762c8",
      "efa45019fe7d491d97abd7c1d561807d",
      "f36fce120b92410b8ea874f7e37065e7",
      "f3129150000b4b018b7ac34838ec2722",
      "5e571e9517d24d3ba587592d12ffef88",
      "da8dfa3d9075465c9fd0b426a4c78626",
      "0f7297f2cc6c4cc2a3feb6b26ab88a02",
      "4ce4f098a96a44f289577e8ab6eedd9d",
      "2f76a91567634f8cb63fedfa27336097",
      "0bfdd4f04f62442096fd7cced798a367",
      "cce99ad58e2c4c28b79fc41bd59b0975",
      "420d80ef0e394d26804e9b745806d14b",
      "263cf2e4b9e84ec68ad09517c688f0e7",
      "291e910009bd41859e62731568f38c2b",
      "9d1aaaacaaee4377ad38f10410a64cc9",
      "e97e5b38b9774ca89e17df79890ec069",
      "b02091bb1966428c8e042160874a7185",
      "2dd5cc57766e497bb7e3989d5ab1d7e4",
      "f1a81ae1eecb4c2484ebb819ada8053a",
      "fce21c27c92e4a349f5a72876b613e10",
      "48fdd2fb21234d189298dc17687c3ad1",
      "2aa8f3565e5c44dc9cccc83b6761198f",
      "115a6b9487ed42f3959e8a49b2819152",
      "b6f1da8b23834bb6a6d60de34dea7aa7",
      "6755b1b9a12f47d99afc1b1f3748a857",
      "48f321f57d6640029070e2677a62c685",
      "b73fc52ddee643a5a9d2dcd0992fbd5e",
      "a03944c710e64f6786c74194489534b9"
     ]
    },
    "id": "qikEe9xsBjVm",
    "outputId": "b5537c89-805f-4423-ba18-46329627c07a"
   },
   "outputs": [
    {
     "data": {
      "application/vnd.jupyter.widget-view+json": {
       "model_id": "ea11d2590a4248d1af209c3d6c36dd59",
       "version_major": 2,
       "version_minor": 0
      },
      "text/plain": [
       "tokenizer_config.json:   0%|          | 0.00/25.0 [00:00<?, ?B/s]"
      ]
     },
     "metadata": {},
     "output_type": "display_data"
    },
    {
     "data": {
      "application/vnd.jupyter.widget-view+json": {
       "model_id": "f8dbbc2d7ea748b38e7eb9a3b339a53a",
       "version_major": 2,
       "version_minor": 0
      },
      "text/plain": [
       "vocab.json:   0%|          | 0.00/899k [00:00<?, ?B/s]"
      ]
     },
     "metadata": {},
     "output_type": "display_data"
    },
    {
     "data": {
      "application/vnd.jupyter.widget-view+json": {
       "model_id": "c100f307747d44ccb55ff427ee9ad2c3",
       "version_major": 2,
       "version_minor": 0
      },
      "text/plain": [
       "merges.txt:   0%|          | 0.00/456k [00:00<?, ?B/s]"
      ]
     },
     "metadata": {},
     "output_type": "display_data"
    },
    {
     "data": {
      "application/vnd.jupyter.widget-view+json": {
       "model_id": "cee4979e28de4505b811c7ccd4dffca7",
       "version_major": 2,
       "version_minor": 0
      },
      "text/plain": [
       "tokenizer.json:   0%|          | 0.00/1.36M [00:00<?, ?B/s]"
      ]
     },
     "metadata": {},
     "output_type": "display_data"
    },
    {
     "data": {
      "application/vnd.jupyter.widget-view+json": {
       "model_id": "0f7297f2cc6c4cc2a3feb6b26ab88a02",
       "version_major": 2,
       "version_minor": 0
      },
      "text/plain": [
       "config.json:   0%|          | 0.00/481 [00:00<?, ?B/s]"
      ]
     },
     "metadata": {},
     "output_type": "display_data"
    },
    {
     "data": {
      "application/vnd.jupyter.widget-view+json": {
       "model_id": "2dd5cc57766e497bb7e3989d5ab1d7e4",
       "version_major": 2,
       "version_minor": 0
      },
      "text/plain": [
       "model.safetensors:   0%|          | 0.00/499M [00:00<?, ?B/s]"
      ]
     },
     "metadata": {},
     "output_type": "display_data"
    },
    {
     "name": "stderr",
     "output_type": "stream",
     "text": [
      "Some weights of the PyTorch model were not used when initializing the TF 2.0 model TFRobertaModel: ['lm_head.dense.weight', 'lm_head.layer_norm.weight', 'lm_head.bias', 'lm_head.layer_norm.bias', 'lm_head.dense.bias', 'roberta.embeddings.position_ids']\n",
      "- This IS expected if you are initializing TFRobertaModel from a PyTorch model trained on another task or with another architecture (e.g. initializing a TFBertForSequenceClassification model from a BertForPreTraining model).\n",
      "- This IS NOT expected if you are initializing TFRobertaModel from a PyTorch model that you expect to be exactly identical (e.g. initializing a TFBertForSequenceClassification model from a BertForSequenceClassification model).\n",
      "Some weights or buffers of the TF 2.0 model TFRobertaModel were not initialized from the PyTorch model and are newly initialized: ['roberta.pooler.dense.weight', 'roberta.pooler.dense.bias']\n",
      "You should probably TRAIN this model on a down-stream task to be able to use it for predictions and inference.\n",
      "Some weights of the PyTorch model were not used when initializing the TF 2.0 model TFRobertaForMaskedLM: ['roberta.embeddings.position_ids']\n",
      "- This IS expected if you are initializing TFRobertaForMaskedLM from a PyTorch model trained on another task or with another architecture (e.g. initializing a TFBertForSequenceClassification model from a BertForPreTraining model).\n",
      "- This IS NOT expected if you are initializing TFRobertaForMaskedLM from a PyTorch model that you expect to be exactly identical (e.g. initializing a TFBertForSequenceClassification model from a BertForSequenceClassification model).\n",
      "All the weights of TFRobertaForMaskedLM were initialized from the PyTorch model.\n",
      "If your task is similar to the task the model of the checkpoint was trained on, you can already use TFRobertaForMaskedLM for predictions without further training.\n"
     ]
    }
   ],
   "source": [
    "CHECKPOINT = 'roberta-base'\n",
    "TOKENIZER = RobertaTokenizer.from_pretrained(CHECKPOINT)\n",
    "ROBERTA_MODEL = TFRobertaModel.from_pretrained(CHECKPOINT)\n",
    "ROBERTA_MLM = TFRobertaForMaskedLM.from_pretrained(CHECKPOINT)\n",
    "\n",
    "# per RoBERTa default\n",
    "MAX_LEN = 512\n",
    "VOCAB_SIZE = 50265\n",
    "HIDDEN_DIM = 768\n",
    "\n",
    "BATCH_SIZE = 8\n",
    "LR_SCHEDULE = tf.keras.optimizers.schedules.PolynomialDecay(initial_learning_rate=1e-2,\n",
    "                                                            decay_steps=5336,\n",
    "                                                            end_learning_rate=1e-3,\n",
    "                                                            power=1.0)\n",
    "OPTIMIZER = tf.keras.optimizers.Adam(learning_rate=LR_SCHEDULE,\n",
    "                                      beta_1=0.9,\n",
    "                                      beta_2=0.98,\n",
    "                                      epsilon=1e-06,\n",
    "                                      clipnorm=0.0)"
   ]
  },
  {
   "cell_type": "markdown",
   "metadata": {
    "id": "AcEQwd6YmLgK"
   },
   "source": [
    "# Define reusable functions"
   ]
  },
  {
   "cell_type": "code",
   "execution_count": 4,
   "metadata": {
    "id": "v3rNzaA-mNit"
   },
   "outputs": [],
   "source": [
    "def to_tokenize(input):\n",
    "  return TOKENIZER(input,\n",
    "                   add_special_tokens=True,\n",
    "                   max_length=MAX_LEN,\n",
    "                   padding='max_length',\n",
    "                   return_token_type_ids=True,\n",
    "                   truncation=True,\n",
    "                   return_tensors=\"tf\"\n",
    "                   )"
   ]
  },
  {
   "cell_type": "code",
   "execution_count": 5,
   "metadata": {
    "id": "nzQCw5KEs6c6"
   },
   "outputs": [],
   "source": [
    "def show_results(model, feature, label, classes):\n",
    "  yhat_val = model.predict(feature)\n",
    "  yhat_val_result = np.argmax(yhat_val, axis=-1)\n",
    "\n",
    "  print('Validation classification Report \\n')\n",
    "  print(classification_report(label, yhat_val_result, target_names=classes))\n",
    "\n",
    "  ax = sns.heatmap(tf.math.confusion_matrix(label, yhat_val_result),\n",
    "                 annot=True,\n",
    "                 fmt='.0f',\n",
    "                 cmap='Blues',\n",
    "                 yticklabels=classes,\n",
    "                 xticklabels=classes,\n",
    "                 cbar=False)\n",
    "\n",
    "  ax.set(xlabel='Predicted Label', ylabel='True Label')\n",
    "  plt.title('Validation Confusion Matrix')\n",
    "  plt.show()"
   ]
  },
  {
   "cell_type": "markdown",
   "metadata": {
    "id": "3yll8eNa33R-"
   },
   "source": [
    "# Load Dataset\n",
    "\n",
    "The dataset is sourced from the [climate policy database](https://climatepolicydatabase.org/). The database is updated periodically to include climate policies adopted from different countries around the globe.\n",
    "\n",
    "The dataset used in this notebook is the 2023 version downloaded on 1/22/2024. The documentation can be found [here](https://climatepolicydatabase.org/sites/default/files/2023-05/CPDB%20Codebook%20v1.2.pdf).\n",
    "\n",
    "This dataset is not one of the 'classic' datasets commonly used in learning NLP, rather it is a real-life dataset currated by climate change professionals. As we work through the dataset and the models, you will also identify and recognize some of the painpoints (eg, data quality and model performance) in building machine learning models in real-life."
   ]
  },
  {
   "cell_type": "code",
   "execution_count": 6,
   "metadata": {
    "colab": {
     "base_uri": "https://localhost:8080/",
     "height": 551
    },
    "id": "5c-hesq55bo0",
    "outputId": "6f3fde56-4b8d-4859-83a7-152e6d0ef8c8"
   },
   "outputs": [
    {
     "data": {
      "application/vnd.google.colaboratory.intrinsic+json": {
       "type": "dataframe",
       "variable_name": "df"
      },
      "text/html": [
       "\n",
       "  <div id=\"df-497cf293-3478-4ed5-b2e5-fd256426bda6\" class=\"colab-df-container\">\n",
       "    <div>\n",
       "<style scoped>\n",
       "    .dataframe tbody tr th:only-of-type {\n",
       "        vertical-align: middle;\n",
       "    }\n",
       "\n",
       "    .dataframe tbody tr th {\n",
       "        vertical-align: top;\n",
       "    }\n",
       "\n",
       "    .dataframe thead th {\n",
       "        text-align: right;\n",
       "    }\n",
       "</style>\n",
       "<table border=\"1\" class=\"dataframe\">\n",
       "  <thead>\n",
       "    <tr style=\"text-align: right;\">\n",
       "      <th></th>\n",
       "      <th>policy_id</th>\n",
       "      <th>country_iso</th>\n",
       "      <th>country_update</th>\n",
       "      <th>policy_name</th>\n",
       "      <th>policy_title</th>\n",
       "      <th>jurisdiction</th>\n",
       "      <th>supranational_region</th>\n",
       "      <th>country</th>\n",
       "      <th>subnational_region</th>\n",
       "      <th>policy_city_or_local</th>\n",
       "      <th>...</th>\n",
       "      <th>end_date</th>\n",
       "      <th>high_impact</th>\n",
       "      <th>policy_objective</th>\n",
       "      <th>reference</th>\n",
       "      <th>last_update</th>\n",
       "      <th>impact_indicators.comments</th>\n",
       "      <th>impact_indicators.name</th>\n",
       "      <th>impact_indicators.value</th>\n",
       "      <th>impact_indicators.base_year</th>\n",
       "      <th>impact_indicators.target_year</th>\n",
       "    </tr>\n",
       "  </thead>\n",
       "  <tbody>\n",
       "    <tr>\n",
       "      <th>0</th>\n",
       "      <td>211001480</td>\n",
       "      <td>FRA</td>\n",
       "      <td>Sporadic</td>\n",
       "      <td>Incandescent Lamp Phase-out France (2008)</td>\n",
       "      <td>Incandescent Lamp Phase-out</td>\n",
       "      <td>Country</td>\n",
       "      <td>NaN</td>\n",
       "      <td>France</td>\n",
       "      <td>NaN</td>\n",
       "      <td>NaN</td>\n",
       "      <td>...</td>\n",
       "      <td>NaN</td>\n",
       "      <td>Unknown</td>\n",
       "      <td>Mitigation, Energy access</td>\n",
       "      <td>http://www.developpement-durable.gouv.fr/artic...</td>\n",
       "      <td>NaN</td>\n",
       "      <td>NaN</td>\n",
       "      <td>NaN</td>\n",
       "      <td>NaN</td>\n",
       "      <td>NaN</td>\n",
       "      <td>NaN</td>\n",
       "    </tr>\n",
       "    <tr>\n",
       "      <th>1</th>\n",
       "      <td>211001564</td>\n",
       "      <td>IDN</td>\n",
       "      <td>Annual</td>\n",
       "      <td>Jakarta Regulation No. 38/12 on Green Building...</td>\n",
       "      <td>Jakarta Regulation No. 38/12 on Green Buildings</td>\n",
       "      <td>City</td>\n",
       "      <td>NaN</td>\n",
       "      <td>Indonesia</td>\n",
       "      <td>Jakarta</td>\n",
       "      <td>NaN</td>\n",
       "      <td>...</td>\n",
       "      <td>NaN</td>\n",
       "      <td>Unknown</td>\n",
       "      <td>Mitigation</td>\n",
       "      <td>https://www.iea.org/policies/2523-jakarta-regu...</td>\n",
       "      <td>NaN</td>\n",
       "      <td>NaN</td>\n",
       "      <td>NaN</td>\n",
       "      <td>NaN</td>\n",
       "      <td>NaN</td>\n",
       "      <td>NaN</td>\n",
       "    </tr>\n",
       "    <tr>\n",
       "      <th>2</th>\n",
       "      <td>211002621</td>\n",
       "      <td>AUS</td>\n",
       "      <td>Annual</td>\n",
       "      <td>Safeguarding the Future: Australia (1998)</td>\n",
       "      <td>Safeguarding the Future:</td>\n",
       "      <td>Country</td>\n",
       "      <td>NaN</td>\n",
       "      <td>Australia</td>\n",
       "      <td>NaN</td>\n",
       "      <td>NaN</td>\n",
       "      <td>...</td>\n",
       "      <td>2007.0</td>\n",
       "      <td>Unknown</td>\n",
       "      <td>Mitigation</td>\n",
       "      <td>http://www.climatechange.gov.au</td>\n",
       "      <td>NaN</td>\n",
       "      <td>NaN</td>\n",
       "      <td>NaN</td>\n",
       "      <td>NaN</td>\n",
       "      <td>NaN</td>\n",
       "      <td>NaN</td>\n",
       "    </tr>\n",
       "    <tr>\n",
       "      <th>3</th>\n",
       "      <td>211004420</td>\n",
       "      <td>BRB</td>\n",
       "      <td>Sporadic</td>\n",
       "      <td>National Climate Change Policy Barbados (2012)</td>\n",
       "      <td>National Climate Change Policy</td>\n",
       "      <td>Country</td>\n",
       "      <td>NaN</td>\n",
       "      <td>Barbados</td>\n",
       "      <td>NaN</td>\n",
       "      <td>NaN</td>\n",
       "      <td>...</td>\n",
       "      <td>NaN</td>\n",
       "      <td>Unknown</td>\n",
       "      <td>Mitigation, Adaptation</td>\n",
       "      <td>http://gisbarbados.gov.bb/blog/barbados-nation...</td>\n",
       "      <td>NaN</td>\n",
       "      <td>NaN</td>\n",
       "      <td>NaN</td>\n",
       "      <td>NaN</td>\n",
       "      <td>NaN</td>\n",
       "      <td>NaN</td>\n",
       "    </tr>\n",
       "    <tr>\n",
       "      <th>4</th>\n",
       "      <td>211004934</td>\n",
       "      <td>BGR</td>\n",
       "      <td>Sporadic</td>\n",
       "      <td>Spatial Planning Act Bulgaria (2001)</td>\n",
       "      <td>Spatial Planning Act</td>\n",
       "      <td>Country</td>\n",
       "      <td>NaN</td>\n",
       "      <td>Bulgaria</td>\n",
       "      <td>NaN</td>\n",
       "      <td>NaN</td>\n",
       "      <td>...</td>\n",
       "      <td>NaN</td>\n",
       "      <td>NaN</td>\n",
       "      <td>Mitigation</td>\n",
       "      <td>https://www.mrrb.bg/en/spatial-development-act...</td>\n",
       "      <td>NaN</td>\n",
       "      <td>NaN</td>\n",
       "      <td>NaN</td>\n",
       "      <td>NaN</td>\n",
       "      <td>NaN</td>\n",
       "      <td>NaN</td>\n",
       "    </tr>\n",
       "  </tbody>\n",
       "</table>\n",
       "<p>5 rows × 28 columns</p>\n",
       "</div>\n",
       "    <div class=\"colab-df-buttons\">\n",
       "\n",
       "  <div class=\"colab-df-container\">\n",
       "    <button class=\"colab-df-convert\" onclick=\"convertToInteractive('df-497cf293-3478-4ed5-b2e5-fd256426bda6')\"\n",
       "            title=\"Convert this dataframe to an interactive table.\"\n",
       "            style=\"display:none;\">\n",
       "\n",
       "  <svg xmlns=\"http://www.w3.org/2000/svg\" height=\"24px\" viewBox=\"0 -960 960 960\">\n",
       "    <path d=\"M120-120v-720h720v720H120Zm60-500h600v-160H180v160Zm220 220h160v-160H400v160Zm0 220h160v-160H400v160ZM180-400h160v-160H180v160Zm440 0h160v-160H620v160ZM180-180h160v-160H180v160Zm440 0h160v-160H620v160Z\"/>\n",
       "  </svg>\n",
       "    </button>\n",
       "\n",
       "  <style>\n",
       "    .colab-df-container {\n",
       "      display:flex;\n",
       "      gap: 12px;\n",
       "    }\n",
       "\n",
       "    .colab-df-convert {\n",
       "      background-color: #E8F0FE;\n",
       "      border: none;\n",
       "      border-radius: 50%;\n",
       "      cursor: pointer;\n",
       "      display: none;\n",
       "      fill: #1967D2;\n",
       "      height: 32px;\n",
       "      padding: 0 0 0 0;\n",
       "      width: 32px;\n",
       "    }\n",
       "\n",
       "    .colab-df-convert:hover {\n",
       "      background-color: #E2EBFA;\n",
       "      box-shadow: 0px 1px 2px rgba(60, 64, 67, 0.3), 0px 1px 3px 1px rgba(60, 64, 67, 0.15);\n",
       "      fill: #174EA6;\n",
       "    }\n",
       "\n",
       "    .colab-df-buttons div {\n",
       "      margin-bottom: 4px;\n",
       "    }\n",
       "\n",
       "    [theme=dark] .colab-df-convert {\n",
       "      background-color: #3B4455;\n",
       "      fill: #D2E3FC;\n",
       "    }\n",
       "\n",
       "    [theme=dark] .colab-df-convert:hover {\n",
       "      background-color: #434B5C;\n",
       "      box-shadow: 0px 1px 3px 1px rgba(0, 0, 0, 0.15);\n",
       "      filter: drop-shadow(0px 1px 2px rgba(0, 0, 0, 0.3));\n",
       "      fill: #FFFFFF;\n",
       "    }\n",
       "  </style>\n",
       "\n",
       "    <script>\n",
       "      const buttonEl =\n",
       "        document.querySelector('#df-497cf293-3478-4ed5-b2e5-fd256426bda6 button.colab-df-convert');\n",
       "      buttonEl.style.display =\n",
       "        google.colab.kernel.accessAllowed ? 'block' : 'none';\n",
       "\n",
       "      async function convertToInteractive(key) {\n",
       "        const element = document.querySelector('#df-497cf293-3478-4ed5-b2e5-fd256426bda6');\n",
       "        const dataTable =\n",
       "          await google.colab.kernel.invokeFunction('convertToInteractive',\n",
       "                                                    [key], {});\n",
       "        if (!dataTable) return;\n",
       "\n",
       "        const docLinkHtml = 'Like what you see? Visit the ' +\n",
       "          '<a target=\"_blank\" href=https://colab.research.google.com/notebooks/data_table.ipynb>data table notebook</a>'\n",
       "          + ' to learn more about interactive tables.';\n",
       "        element.innerHTML = '';\n",
       "        dataTable['output_type'] = 'display_data';\n",
       "        await google.colab.output.renderOutput(dataTable, element);\n",
       "        const docLink = document.createElement('div');\n",
       "        docLink.innerHTML = docLinkHtml;\n",
       "        element.appendChild(docLink);\n",
       "      }\n",
       "    </script>\n",
       "  </div>\n",
       "\n",
       "\n",
       "    <div id=\"df-01fe1bf2-564c-4067-bac7-ebb00fcd2014\">\n",
       "      <button class=\"colab-df-quickchart\" onclick=\"quickchart('df-01fe1bf2-564c-4067-bac7-ebb00fcd2014')\"\n",
       "                title=\"Suggest charts\"\n",
       "                style=\"display:none;\">\n",
       "\n",
       "<svg xmlns=\"http://www.w3.org/2000/svg\" height=\"24px\"viewBox=\"0 0 24 24\"\n",
       "     width=\"24px\">\n",
       "    <g>\n",
       "        <path d=\"M19 3H5c-1.1 0-2 .9-2 2v14c0 1.1.9 2 2 2h14c1.1 0 2-.9 2-2V5c0-1.1-.9-2-2-2zM9 17H7v-7h2v7zm4 0h-2V7h2v10zm4 0h-2v-4h2v4z\"/>\n",
       "    </g>\n",
       "</svg>\n",
       "      </button>\n",
       "\n",
       "<style>\n",
       "  .colab-df-quickchart {\n",
       "      --bg-color: #E8F0FE;\n",
       "      --fill-color: #1967D2;\n",
       "      --hover-bg-color: #E2EBFA;\n",
       "      --hover-fill-color: #174EA6;\n",
       "      --disabled-fill-color: #AAA;\n",
       "      --disabled-bg-color: #DDD;\n",
       "  }\n",
       "\n",
       "  [theme=dark] .colab-df-quickchart {\n",
       "      --bg-color: #3B4455;\n",
       "      --fill-color: #D2E3FC;\n",
       "      --hover-bg-color: #434B5C;\n",
       "      --hover-fill-color: #FFFFFF;\n",
       "      --disabled-bg-color: #3B4455;\n",
       "      --disabled-fill-color: #666;\n",
       "  }\n",
       "\n",
       "  .colab-df-quickchart {\n",
       "    background-color: var(--bg-color);\n",
       "    border: none;\n",
       "    border-radius: 50%;\n",
       "    cursor: pointer;\n",
       "    display: none;\n",
       "    fill: var(--fill-color);\n",
       "    height: 32px;\n",
       "    padding: 0;\n",
       "    width: 32px;\n",
       "  }\n",
       "\n",
       "  .colab-df-quickchart:hover {\n",
       "    background-color: var(--hover-bg-color);\n",
       "    box-shadow: 0 1px 2px rgba(60, 64, 67, 0.3), 0 1px 3px 1px rgba(60, 64, 67, 0.15);\n",
       "    fill: var(--button-hover-fill-color);\n",
       "  }\n",
       "\n",
       "  .colab-df-quickchart-complete:disabled,\n",
       "  .colab-df-quickchart-complete:disabled:hover {\n",
       "    background-color: var(--disabled-bg-color);\n",
       "    fill: var(--disabled-fill-color);\n",
       "    box-shadow: none;\n",
       "  }\n",
       "\n",
       "  .colab-df-spinner {\n",
       "    border: 2px solid var(--fill-color);\n",
       "    border-color: transparent;\n",
       "    border-bottom-color: var(--fill-color);\n",
       "    animation:\n",
       "      spin 1s steps(1) infinite;\n",
       "  }\n",
       "\n",
       "  @keyframes spin {\n",
       "    0% {\n",
       "      border-color: transparent;\n",
       "      border-bottom-color: var(--fill-color);\n",
       "      border-left-color: var(--fill-color);\n",
       "    }\n",
       "    20% {\n",
       "      border-color: transparent;\n",
       "      border-left-color: var(--fill-color);\n",
       "      border-top-color: var(--fill-color);\n",
       "    }\n",
       "    30% {\n",
       "      border-color: transparent;\n",
       "      border-left-color: var(--fill-color);\n",
       "      border-top-color: var(--fill-color);\n",
       "      border-right-color: var(--fill-color);\n",
       "    }\n",
       "    40% {\n",
       "      border-color: transparent;\n",
       "      border-right-color: var(--fill-color);\n",
       "      border-top-color: var(--fill-color);\n",
       "    }\n",
       "    60% {\n",
       "      border-color: transparent;\n",
       "      border-right-color: var(--fill-color);\n",
       "    }\n",
       "    80% {\n",
       "      border-color: transparent;\n",
       "      border-right-color: var(--fill-color);\n",
       "      border-bottom-color: var(--fill-color);\n",
       "    }\n",
       "    90% {\n",
       "      border-color: transparent;\n",
       "      border-bottom-color: var(--fill-color);\n",
       "    }\n",
       "  }\n",
       "</style>\n",
       "\n",
       "      <script>\n",
       "        async function quickchart(key) {\n",
       "          const quickchartButtonEl =\n",
       "            document.querySelector('#' + key + ' button');\n",
       "          quickchartButtonEl.disabled = true;  // To prevent multiple clicks.\n",
       "          quickchartButtonEl.classList.add('colab-df-spinner');\n",
       "          try {\n",
       "            const charts = await google.colab.kernel.invokeFunction(\n",
       "                'suggestCharts', [key], {});\n",
       "          } catch (error) {\n",
       "            console.error('Error during call to suggestCharts:', error);\n",
       "          }\n",
       "          quickchartButtonEl.classList.remove('colab-df-spinner');\n",
       "          quickchartButtonEl.classList.add('colab-df-quickchart-complete');\n",
       "        }\n",
       "        (() => {\n",
       "          let quickchartButtonEl =\n",
       "            document.querySelector('#df-01fe1bf2-564c-4067-bac7-ebb00fcd2014 button');\n",
       "          quickchartButtonEl.style.display =\n",
       "            google.colab.kernel.accessAllowed ? 'block' : 'none';\n",
       "        })();\n",
       "      </script>\n",
       "    </div>\n",
       "\n",
       "    </div>\n",
       "  </div>\n"
      ],
      "text/plain": [
       "   policy_id country_iso country_update  \\\n",
       "0  211001480         FRA       Sporadic   \n",
       "1  211001564         IDN         Annual   \n",
       "2  211002621         AUS         Annual   \n",
       "3  211004420         BRB       Sporadic   \n",
       "4  211004934         BGR       Sporadic   \n",
       "\n",
       "                                         policy_name  \\\n",
       "0          Incandescent Lamp Phase-out France (2008)   \n",
       "1  Jakarta Regulation No. 38/12 on Green Building...   \n",
       "2          Safeguarding the Future: Australia (1998)   \n",
       "3     National Climate Change Policy Barbados (2012)   \n",
       "4               Spatial Planning Act Bulgaria (2001)   \n",
       "\n",
       "                                      policy_title jurisdiction  \\\n",
       "0                      Incandescent Lamp Phase-out      Country   \n",
       "1  Jakarta Regulation No. 38/12 on Green Buildings         City   \n",
       "2                         Safeguarding the Future:      Country   \n",
       "3                   National Climate Change Policy      Country   \n",
       "4                             Spatial Planning Act      Country   \n",
       "\n",
       "   supranational_region    country subnational_region policy_city_or_local  \\\n",
       "0                   NaN     France                NaN                  NaN   \n",
       "1                   NaN  Indonesia            Jakarta                  NaN   \n",
       "2                   NaN  Australia                NaN                  NaN   \n",
       "3                   NaN   Barbados                NaN                  NaN   \n",
       "4                   NaN   Bulgaria                NaN                  NaN   \n",
       "\n",
       "   ... end_date high_impact           policy_objective  \\\n",
       "0  ...      NaN     Unknown  Mitigation, Energy access   \n",
       "1  ...      NaN     Unknown                 Mitigation   \n",
       "2  ...   2007.0     Unknown                 Mitigation   \n",
       "3  ...      NaN     Unknown     Mitigation, Adaptation   \n",
       "4  ...      NaN         NaN                 Mitigation   \n",
       "\n",
       "                                           reference last_update  \\\n",
       "0  http://www.developpement-durable.gouv.fr/artic...         NaN   \n",
       "1  https://www.iea.org/policies/2523-jakarta-regu...         NaN   \n",
       "2                    http://www.climatechange.gov.au         NaN   \n",
       "3  http://gisbarbados.gov.bb/blog/barbados-nation...         NaN   \n",
       "4  https://www.mrrb.bg/en/spatial-development-act...         NaN   \n",
       "\n",
       "  impact_indicators.comments  impact_indicators.name  impact_indicators.value  \\\n",
       "0                        NaN                     NaN                      NaN   \n",
       "1                        NaN                     NaN                      NaN   \n",
       "2                        NaN                     NaN                      NaN   \n",
       "3                        NaN                     NaN                      NaN   \n",
       "4                        NaN                     NaN                      NaN   \n",
       "\n",
       "   impact_indicators.base_year impact_indicators.target_year  \n",
       "0                          NaN                           NaN  \n",
       "1                          NaN                           NaN  \n",
       "2                          NaN                           NaN  \n",
       "3                          NaN                           NaN  \n",
       "4                          NaN                           NaN  \n",
       "\n",
       "[5 rows x 28 columns]"
      ]
     },
     "execution_count": 6,
     "metadata": {},
     "output_type": "execute_result"
    }
   ],
   "source": [
    "df = pd.read_csv(f'{PATH}climate_policy_database_policies_export.csv')\n",
    "\n",
    "df.head()"
   ]
  },
  {
   "cell_type": "code",
   "execution_count": 7,
   "metadata": {
    "colab": {
     "base_uri": "https://localhost:8080/"
    },
    "id": "pU4rWDhsqHE-",
    "outputId": "b4cfb1ce-0495-41dc-a536-1ff272d9b67e"
   },
   "outputs": [
    {
     "data": {
      "text/plain": [
       "Index(['policy_id', 'country_iso', 'country_update', 'policy_name',\n",
       "       'policy_title', 'jurisdiction', 'supranational_region', 'country',\n",
       "       'subnational_region', 'policy_city_or_local', 'policy_instrument',\n",
       "       'sector', 'policy_description', 'policy_type', 'stringency',\n",
       "       'policy_status', 'decision_date', 'start_date', 'end_date',\n",
       "       'high_impact', 'policy_objective', 'reference', 'last_update',\n",
       "       'impact_indicators.comments', 'impact_indicators.name',\n",
       "       'impact_indicators.value', 'impact_indicators.base_year',\n",
       "       'impact_indicators.target_year'],\n",
       "      dtype='object')"
      ]
     },
     "execution_count": 7,
     "metadata": {},
     "output_type": "execute_result"
    }
   ],
   "source": [
    "df.columns"
   ]
  },
  {
   "cell_type": "markdown",
   "metadata": {
    "id": "-qxhSW2cOm4Y"
   },
   "source": [
    "# Identify modeling objectives:\n",
    "Our modeling objective is to create a `classification` model by using policy_description to predict policy_type.\n",
    "\n",
    "Each of the 4 notebooks implement one of the models below:\n",
    "1. Train a FFNN from scratch\n",
    "2. Finetune a pretrained LLM (RoBERTa-base)\n",
    "3. Continue pretraining the pretrained LLM (RoBERTa-base)\n",
    "4. Finetune the continue pretrained LLM (RoBERTa-base)\n",
    "\n",
    "This notebook showcase the implementation of baseline:\n",
    "1. Train a FFNN from scratch"
   ]
  },
  {
   "cell_type": "markdown",
   "metadata": {
    "id": "j3wtspSJQaY-"
   },
   "source": [
    "# Prepare dataset"
   ]
  },
  {
   "cell_type": "markdown",
   "metadata": {
    "id": "mYONcGDeRm2L"
   },
   "source": [
    "Remove columns not used for the task"
   ]
  },
  {
   "cell_type": "code",
   "execution_count": 8,
   "metadata": {
    "colab": {
     "base_uri": "https://localhost:8080/",
     "height": 206
    },
    "id": "Dtm5T7ZFqv5_",
    "outputId": "0e7cb5f3-b5af-4b4c-bd79-177a6ec29b45"
   },
   "outputs": [
    {
     "data": {
      "application/vnd.google.colaboratory.intrinsic+json": {
       "summary": "{\n  \"name\": \"df\",\n  \"rows\": 6028,\n  \"fields\": [\n    {\n      \"column\": \"policy_description\",\n      \"properties\": {\n        \"dtype\": \"string\",\n        \"num_unique_values\": 3591,\n        \"samples\": [\n          \"Strategy to accelerate energy efficiency improvements for householders and businesses across all sectors of the economy. The strategy will provide a nationally consistent and coordinated approach to energy efficiency. The strategy is designed to complement the CPRS (emissions trading scheme) by addressing information, organisational and other non-market barriers.\\n1. Assisting households and businesses to transition to a low-carbon future;\\n2. Reducing impediments to the uptake of energy efficiency;\\n3. Making buildings more energy efficient; and\\n4. Government working in partnership and leading the way.\",\n          \"Based on Royal Decree 1751/1998 of 31 July 1998 referring to the Regulation of Thermal Installations in Buildings (RITE), the guidelines of the SAVE Directive referring to the Valuing of Energy Consumption for Heating, Air Conditioning and Hot Water and of Periodic Boiler Inspections, have been incorporated into Spanish legislation. IEA/IRENA Global Renewable Energy Policies and Measures Database \\u00a9 OECD/IEA and IRENA, [November 2020]\",\n          \"The\\u00a02030\\u00a0Strategy and\\u00a02021\\u00a0\\u2013\\u00a02023\\u00a0Action Plan\\u00a0for Climate Change Mitigation\\u00a0is a\\u00a0coordinated response to\\u00a0national\\u00a0climate change mitigation objectives\\u00a0\\nGeorgia\\u2019s\\u00a02030\\u00a0Climate\\u00a0Strategy and\\u00a02021-2023\\u00a0Action Plan\\u00a0(hereinafter\\u00a0Climate Strategy\\u00a0and\\u00a0Action Plan or\\u00a0CSAP)\\u00a0sets out the\\u00a0short-term\\u00a0agenda for the implementation of\\u00a0Georgia\\u2019s\\u00a02030\\u00a0greenhouse gas (GHG) emissions\\u00a0reduction target for\\u00a0climate change\\u00a0mitigation,\\u00a0as\\u00a0set in Georgia\\u2019s\\u00a0Updated\\u00a0Nationally Determined Contribution (NDC).\\u00a0The\\u00a0CSAP\\u00a02021-2023 Action Plan\\u00a0identifies planned and new\\u00a0mitigation\\u00a0actions that should be implemented\\u00a0by or\\u00a0during the 2021-2023 period, which have direct relevance for\\u00a0the reduction of\\u00a0GHG\\u00a0emissions.\\u00a0\\u00a0\\u00a0\"\n        ],\n        \"semantic_type\": \"\",\n        \"description\": \"\"\n      }\n    },\n    {\n      \"column\": \"policy_type\",\n      \"properties\": {\n        \"dtype\": \"category\",\n        \"num_unique_values\": 106,\n        \"samples\": [\n          \"Other low-carbon technologies and fuel switch, Unknown\",\n          \"Energy efficiency, Energy service demand reduction and resource efficiency, Non-energy use, Other low-carbon technologies and fuel switch, Renewables\",\n          \"Energy service demand reduction and resource efficiency, Energy efficiency, Renewables, Other low-carbon technologies and fuel switch\"\n        ],\n        \"semantic_type\": \"\",\n        \"description\": \"\"\n      }\n    }\n  ]\n}",
       "type": "dataframe",
       "variable_name": "df"
      },
      "text/html": [
       "\n",
       "  <div id=\"df-1efae758-20c6-490b-ac7f-a4ffa148d124\" class=\"colab-df-container\">\n",
       "    <div>\n",
       "<style scoped>\n",
       "    .dataframe tbody tr th:only-of-type {\n",
       "        vertical-align: middle;\n",
       "    }\n",
       "\n",
       "    .dataframe tbody tr th {\n",
       "        vertical-align: top;\n",
       "    }\n",
       "\n",
       "    .dataframe thead th {\n",
       "        text-align: right;\n",
       "    }\n",
       "</style>\n",
       "<table border=\"1\" class=\"dataframe\">\n",
       "  <thead>\n",
       "    <tr style=\"text-align: right;\">\n",
       "      <th></th>\n",
       "      <th>policy_description</th>\n",
       "      <th>policy_type</th>\n",
       "    </tr>\n",
       "  </thead>\n",
       "  <tbody>\n",
       "    <tr>\n",
       "      <th>0</th>\n",
       "      <td>NaN</td>\n",
       "      <td>Energy efficiency</td>\n",
       "    </tr>\n",
       "    <tr>\n",
       "      <th>1</th>\n",
       "      <td>The policy focuses on energy efficiency, water...</td>\n",
       "      <td>Energy efficiency</td>\n",
       "    </tr>\n",
       "    <tr>\n",
       "      <th>2</th>\n",
       "      <td>NaN</td>\n",
       "      <td>Renewables</td>\n",
       "    </tr>\n",
       "    <tr>\n",
       "      <th>3</th>\n",
       "      <td>The primary goal of the policy is to establish...</td>\n",
       "      <td>Energy service demand reduction and resource e...</td>\n",
       "    </tr>\n",
       "    <tr>\n",
       "      <th>4</th>\n",
       "      <td>Legislative</td>\n",
       "      <td>Non-energy use</td>\n",
       "    </tr>\n",
       "  </tbody>\n",
       "</table>\n",
       "</div>\n",
       "    <div class=\"colab-df-buttons\">\n",
       "\n",
       "  <div class=\"colab-df-container\">\n",
       "    <button class=\"colab-df-convert\" onclick=\"convertToInteractive('df-1efae758-20c6-490b-ac7f-a4ffa148d124')\"\n",
       "            title=\"Convert this dataframe to an interactive table.\"\n",
       "            style=\"display:none;\">\n",
       "\n",
       "  <svg xmlns=\"http://www.w3.org/2000/svg\" height=\"24px\" viewBox=\"0 -960 960 960\">\n",
       "    <path d=\"M120-120v-720h720v720H120Zm60-500h600v-160H180v160Zm220 220h160v-160H400v160Zm0 220h160v-160H400v160ZM180-400h160v-160H180v160Zm440 0h160v-160H620v160ZM180-180h160v-160H180v160Zm440 0h160v-160H620v160Z\"/>\n",
       "  </svg>\n",
       "    </button>\n",
       "\n",
       "  <style>\n",
       "    .colab-df-container {\n",
       "      display:flex;\n",
       "      gap: 12px;\n",
       "    }\n",
       "\n",
       "    .colab-df-convert {\n",
       "      background-color: #E8F0FE;\n",
       "      border: none;\n",
       "      border-radius: 50%;\n",
       "      cursor: pointer;\n",
       "      display: none;\n",
       "      fill: #1967D2;\n",
       "      height: 32px;\n",
       "      padding: 0 0 0 0;\n",
       "      width: 32px;\n",
       "    }\n",
       "\n",
       "    .colab-df-convert:hover {\n",
       "      background-color: #E2EBFA;\n",
       "      box-shadow: 0px 1px 2px rgba(60, 64, 67, 0.3), 0px 1px 3px 1px rgba(60, 64, 67, 0.15);\n",
       "      fill: #174EA6;\n",
       "    }\n",
       "\n",
       "    .colab-df-buttons div {\n",
       "      margin-bottom: 4px;\n",
       "    }\n",
       "\n",
       "    [theme=dark] .colab-df-convert {\n",
       "      background-color: #3B4455;\n",
       "      fill: #D2E3FC;\n",
       "    }\n",
       "\n",
       "    [theme=dark] .colab-df-convert:hover {\n",
       "      background-color: #434B5C;\n",
       "      box-shadow: 0px 1px 3px 1px rgba(0, 0, 0, 0.15);\n",
       "      filter: drop-shadow(0px 1px 2px rgba(0, 0, 0, 0.3));\n",
       "      fill: #FFFFFF;\n",
       "    }\n",
       "  </style>\n",
       "\n",
       "    <script>\n",
       "      const buttonEl =\n",
       "        document.querySelector('#df-1efae758-20c6-490b-ac7f-a4ffa148d124 button.colab-df-convert');\n",
       "      buttonEl.style.display =\n",
       "        google.colab.kernel.accessAllowed ? 'block' : 'none';\n",
       "\n",
       "      async function convertToInteractive(key) {\n",
       "        const element = document.querySelector('#df-1efae758-20c6-490b-ac7f-a4ffa148d124');\n",
       "        const dataTable =\n",
       "          await google.colab.kernel.invokeFunction('convertToInteractive',\n",
       "                                                    [key], {});\n",
       "        if (!dataTable) return;\n",
       "\n",
       "        const docLinkHtml = 'Like what you see? Visit the ' +\n",
       "          '<a target=\"_blank\" href=https://colab.research.google.com/notebooks/data_table.ipynb>data table notebook</a>'\n",
       "          + ' to learn more about interactive tables.';\n",
       "        element.innerHTML = '';\n",
       "        dataTable['output_type'] = 'display_data';\n",
       "        await google.colab.output.renderOutput(dataTable, element);\n",
       "        const docLink = document.createElement('div');\n",
       "        docLink.innerHTML = docLinkHtml;\n",
       "        element.appendChild(docLink);\n",
       "      }\n",
       "    </script>\n",
       "  </div>\n",
       "\n",
       "\n",
       "    <div id=\"df-2daa1515-3375-4ebb-8468-0576cde790cc\">\n",
       "      <button class=\"colab-df-quickchart\" onclick=\"quickchart('df-2daa1515-3375-4ebb-8468-0576cde790cc')\"\n",
       "                title=\"Suggest charts\"\n",
       "                style=\"display:none;\">\n",
       "\n",
       "<svg xmlns=\"http://www.w3.org/2000/svg\" height=\"24px\"viewBox=\"0 0 24 24\"\n",
       "     width=\"24px\">\n",
       "    <g>\n",
       "        <path d=\"M19 3H5c-1.1 0-2 .9-2 2v14c0 1.1.9 2 2 2h14c1.1 0 2-.9 2-2V5c0-1.1-.9-2-2-2zM9 17H7v-7h2v7zm4 0h-2V7h2v10zm4 0h-2v-4h2v4z\"/>\n",
       "    </g>\n",
       "</svg>\n",
       "      </button>\n",
       "\n",
       "<style>\n",
       "  .colab-df-quickchart {\n",
       "      --bg-color: #E8F0FE;\n",
       "      --fill-color: #1967D2;\n",
       "      --hover-bg-color: #E2EBFA;\n",
       "      --hover-fill-color: #174EA6;\n",
       "      --disabled-fill-color: #AAA;\n",
       "      --disabled-bg-color: #DDD;\n",
       "  }\n",
       "\n",
       "  [theme=dark] .colab-df-quickchart {\n",
       "      --bg-color: #3B4455;\n",
       "      --fill-color: #D2E3FC;\n",
       "      --hover-bg-color: #434B5C;\n",
       "      --hover-fill-color: #FFFFFF;\n",
       "      --disabled-bg-color: #3B4455;\n",
       "      --disabled-fill-color: #666;\n",
       "  }\n",
       "\n",
       "  .colab-df-quickchart {\n",
       "    background-color: var(--bg-color);\n",
       "    border: none;\n",
       "    border-radius: 50%;\n",
       "    cursor: pointer;\n",
       "    display: none;\n",
       "    fill: var(--fill-color);\n",
       "    height: 32px;\n",
       "    padding: 0;\n",
       "    width: 32px;\n",
       "  }\n",
       "\n",
       "  .colab-df-quickchart:hover {\n",
       "    background-color: var(--hover-bg-color);\n",
       "    box-shadow: 0 1px 2px rgba(60, 64, 67, 0.3), 0 1px 3px 1px rgba(60, 64, 67, 0.15);\n",
       "    fill: var(--button-hover-fill-color);\n",
       "  }\n",
       "\n",
       "  .colab-df-quickchart-complete:disabled,\n",
       "  .colab-df-quickchart-complete:disabled:hover {\n",
       "    background-color: var(--disabled-bg-color);\n",
       "    fill: var(--disabled-fill-color);\n",
       "    box-shadow: none;\n",
       "  }\n",
       "\n",
       "  .colab-df-spinner {\n",
       "    border: 2px solid var(--fill-color);\n",
       "    border-color: transparent;\n",
       "    border-bottom-color: var(--fill-color);\n",
       "    animation:\n",
       "      spin 1s steps(1) infinite;\n",
       "  }\n",
       "\n",
       "  @keyframes spin {\n",
       "    0% {\n",
       "      border-color: transparent;\n",
       "      border-bottom-color: var(--fill-color);\n",
       "      border-left-color: var(--fill-color);\n",
       "    }\n",
       "    20% {\n",
       "      border-color: transparent;\n",
       "      border-left-color: var(--fill-color);\n",
       "      border-top-color: var(--fill-color);\n",
       "    }\n",
       "    30% {\n",
       "      border-color: transparent;\n",
       "      border-left-color: var(--fill-color);\n",
       "      border-top-color: var(--fill-color);\n",
       "      border-right-color: var(--fill-color);\n",
       "    }\n",
       "    40% {\n",
       "      border-color: transparent;\n",
       "      border-right-color: var(--fill-color);\n",
       "      border-top-color: var(--fill-color);\n",
       "    }\n",
       "    60% {\n",
       "      border-color: transparent;\n",
       "      border-right-color: var(--fill-color);\n",
       "    }\n",
       "    80% {\n",
       "      border-color: transparent;\n",
       "      border-right-color: var(--fill-color);\n",
       "      border-bottom-color: var(--fill-color);\n",
       "    }\n",
       "    90% {\n",
       "      border-color: transparent;\n",
       "      border-bottom-color: var(--fill-color);\n",
       "    }\n",
       "  }\n",
       "</style>\n",
       "\n",
       "      <script>\n",
       "        async function quickchart(key) {\n",
       "          const quickchartButtonEl =\n",
       "            document.querySelector('#' + key + ' button');\n",
       "          quickchartButtonEl.disabled = true;  // To prevent multiple clicks.\n",
       "          quickchartButtonEl.classList.add('colab-df-spinner');\n",
       "          try {\n",
       "            const charts = await google.colab.kernel.invokeFunction(\n",
       "                'suggestCharts', [key], {});\n",
       "          } catch (error) {\n",
       "            console.error('Error during call to suggestCharts:', error);\n",
       "          }\n",
       "          quickchartButtonEl.classList.remove('colab-df-spinner');\n",
       "          quickchartButtonEl.classList.add('colab-df-quickchart-complete');\n",
       "        }\n",
       "        (() => {\n",
       "          let quickchartButtonEl =\n",
       "            document.querySelector('#df-2daa1515-3375-4ebb-8468-0576cde790cc button');\n",
       "          quickchartButtonEl.style.display =\n",
       "            google.colab.kernel.accessAllowed ? 'block' : 'none';\n",
       "        })();\n",
       "      </script>\n",
       "    </div>\n",
       "\n",
       "    </div>\n",
       "  </div>\n"
      ],
      "text/plain": [
       "                                  policy_description  \\\n",
       "0                                                NaN   \n",
       "1  The policy focuses on energy efficiency, water...   \n",
       "2                                                NaN   \n",
       "3  The primary goal of the policy is to establish...   \n",
       "4                                        Legislative   \n",
       "\n",
       "                                         policy_type  \n",
       "0                                  Energy efficiency  \n",
       "1                                  Energy efficiency  \n",
       "2                                         Renewables  \n",
       "3  Energy service demand reduction and resource e...  \n",
       "4                                     Non-energy use  "
      ]
     },
     "execution_count": 8,
     "metadata": {},
     "output_type": "execute_result"
    }
   ],
   "source": [
    "cols = ['policy_description', 'policy_type']\n",
    "df = df[cols]\n",
    "\n",
    "df.head()"
   ]
  },
  {
   "cell_type": "markdown",
   "metadata": {
    "id": "JzRWlH_7rQQ8"
   },
   "source": [
    "For this showcase, I will simply drop instances with missing values. Think about how else you might go about working with datasets that have lots of missing values?"
   ]
  },
  {
   "cell_type": "code",
   "execution_count": 9,
   "metadata": {
    "colab": {
     "base_uri": "https://localhost:8080/"
    },
    "id": "AI_ugg9zujVY",
    "outputId": "2d2e3af3-3dcf-4d77-9f46-abdc8ffa33a5"
   },
   "outputs": [
    {
     "data": {
      "text/plain": [
       "4241"
      ]
     },
     "execution_count": 9,
     "metadata": {},
     "output_type": "execute_result"
    }
   ],
   "source": [
    "df = df.dropna()\n",
    "len(df)"
   ]
  },
  {
   "cell_type": "markdown",
   "metadata": {
    "id": "TeNQ0DH9r-yp"
   },
   "source": [
    "Remove any duplicate instances with the same policy_description. Think about why there are so many duplicate instances and how to better utilize datastes that have lots of duplicate data?"
   ]
  },
  {
   "cell_type": "code",
   "execution_count": 10,
   "metadata": {
    "colab": {
     "base_uri": "https://localhost:8080/"
    },
    "id": "bBjPNbhGsGk6",
    "outputId": "52b535de-ca33-4927-82f8-ca3b07656a2a"
   },
   "outputs": [
    {
     "data": {
      "text/plain": [
       "3591"
      ]
     },
     "execution_count": 10,
     "metadata": {},
     "output_type": "execute_result"
    }
   ],
   "source": [
    "df = df.drop_duplicates(subset=['policy_description'],keep='first')\n",
    "len(df)"
   ]
  },
  {
   "cell_type": "markdown",
   "metadata": {
    "id": "xM54weBlBhEj"
   },
   "source": [
    "Let's also take a look at the label for potential cleaning."
   ]
  },
  {
   "cell_type": "code",
   "execution_count": 11,
   "metadata": {
    "colab": {
     "base_uri": "https://localhost:8080/",
     "height": 490
    },
    "id": "HgH9hSMrBgpH",
    "outputId": "6a5a2816-05f0-423b-8c96-341341d2d1a2"
   },
   "outputs": [
    {
     "data": {
      "text/html": [
       "<div>\n",
       "<style scoped>\n",
       "    .dataframe tbody tr th:only-of-type {\n",
       "        vertical-align: middle;\n",
       "    }\n",
       "\n",
       "    .dataframe tbody tr th {\n",
       "        vertical-align: top;\n",
       "    }\n",
       "\n",
       "    .dataframe thead th {\n",
       "        text-align: right;\n",
       "    }\n",
       "</style>\n",
       "<table border=\"1\" class=\"dataframe\">\n",
       "  <thead>\n",
       "    <tr style=\"text-align: right;\">\n",
       "      <th></th>\n",
       "      <th>count</th>\n",
       "    </tr>\n",
       "    <tr>\n",
       "      <th>policy_type</th>\n",
       "      <th></th>\n",
       "    </tr>\n",
       "  </thead>\n",
       "  <tbody>\n",
       "    <tr>\n",
       "      <th>Renewables</th>\n",
       "      <td>691</td>\n",
       "    </tr>\n",
       "    <tr>\n",
       "      <th>Energy efficiency</th>\n",
       "      <td>595</td>\n",
       "    </tr>\n",
       "    <tr>\n",
       "      <th>Other low-carbon technologies and fuel switch</th>\n",
       "      <td>293</td>\n",
       "    </tr>\n",
       "    <tr>\n",
       "      <th>Energy efficiency, Energy service demand reduction and resource efficiency, Non-energy use, Other low-carbon technologies and fuel switch, Renewables</th>\n",
       "      <td>290</td>\n",
       "    </tr>\n",
       "    <tr>\n",
       "      <th>Energy service demand reduction and resource efficiency, Energy efficiency, Renewables, Other low-carbon technologies and fuel switch, Non-energy use</th>\n",
       "      <td>285</td>\n",
       "    </tr>\n",
       "    <tr>\n",
       "      <th>...</th>\n",
       "      <td>...</td>\n",
       "    </tr>\n",
       "    <tr>\n",
       "      <th>Renewables, Unknown</th>\n",
       "      <td>1</td>\n",
       "    </tr>\n",
       "    <tr>\n",
       "      <th>Energy efficiency, Renewables, Energy service demand reduction and resource efficiency, Other low-carbon technologies and fuel switch, Non-energy use</th>\n",
       "      <td>1</td>\n",
       "    </tr>\n",
       "    <tr>\n",
       "      <th>Energy efficiency, Energy service demand reduction and resource efficiency, Renewables, Other low-carbon technologies and fuel switch, Non-energy use</th>\n",
       "      <td>1</td>\n",
       "    </tr>\n",
       "    <tr>\n",
       "      <th>Other low-carbon technologies and fuel switch, Energy efficiency, Energy service demand reduction and resource efficiency, Non-energy use</th>\n",
       "      <td>1</td>\n",
       "    </tr>\n",
       "    <tr>\n",
       "      <th>Energy efficiency, Renewables, Other low-carbon technologies and fuel switch, Energy service demand reduction and resource efficiency, Non-energy use</th>\n",
       "      <td>1</td>\n",
       "    </tr>\n",
       "  </tbody>\n",
       "</table>\n",
       "<p>94 rows × 1 columns</p>\n",
       "</div><br><label><b>dtype:</b> int64</label>"
      ],
      "text/plain": [
       "policy_type\n",
       "Renewables                                                                                                                                               691\n",
       "Energy efficiency                                                                                                                                        595\n",
       "Other low-carbon technologies and fuel switch                                                                                                            293\n",
       "Energy efficiency, Energy service demand reduction and resource efficiency, Non-energy use, Other low-carbon technologies and fuel switch, Renewables    290\n",
       "Energy service demand reduction and resource efficiency, Energy efficiency, Renewables, Other low-carbon technologies and fuel switch, Non-energy use    285\n",
       "                                                                                                                                                        ... \n",
       "Renewables, Unknown                                                                                                                                        1\n",
       "Energy efficiency, Renewables, Energy service demand reduction and resource efficiency, Other low-carbon technologies and fuel switch, Non-energy use      1\n",
       "Energy efficiency, Energy service demand reduction and resource efficiency, Renewables, Other low-carbon technologies and fuel switch, Non-energy use      1\n",
       "Other low-carbon technologies and fuel switch, Energy efficiency, Energy service demand reduction and resource efficiency, Non-energy use                  1\n",
       "Energy efficiency, Renewables, Other low-carbon technologies and fuel switch, Energy service demand reduction and resource efficiency, Non-energy use      1\n",
       "Name: count, Length: 94, dtype: int64"
      ]
     },
     "execution_count": 11,
     "metadata": {},
     "output_type": "execute_result"
    }
   ],
   "source": [
    "df['policy_type'].value_counts()"
   ]
  },
  {
   "cell_type": "markdown",
   "metadata": {
    "id": "eVJpq2XrxhB2"
   },
   "source": [
    "Based on the documentation 3.14 Mitigation area (policy type), we see that this field is single or multiple choices from their policy matrix.\n",
    "\n",
    "For this exercise, if there are multiple types, I will treat them as a new class 'Multi'. Think about how else might you tackle the label cleaning.\n",
    "\n",
    "Since Pandas dataframe is a pretty heavy object, even though operations can be applied to Pandas dataframe using the apply() method, it's often more efficient to operate on NumPy objects or List objects."
   ]
  },
  {
   "cell_type": "code",
   "execution_count": 12,
   "metadata": {
    "colab": {
     "base_uri": "https://localhost:8080/",
     "height": 335
    },
    "id": "tDGicsT2xIbT",
    "outputId": "f4f283ae-803c-457d-ed53-b26d7d13deb3"
   },
   "outputs": [
    {
     "data": {
      "text/html": [
       "<div>\n",
       "<style scoped>\n",
       "    .dataframe tbody tr th:only-of-type {\n",
       "        vertical-align: middle;\n",
       "    }\n",
       "\n",
       "    .dataframe tbody tr th {\n",
       "        vertical-align: top;\n",
       "    }\n",
       "\n",
       "    .dataframe thead th {\n",
       "        text-align: right;\n",
       "    }\n",
       "</style>\n",
       "<table border=\"1\" class=\"dataframe\">\n",
       "  <thead>\n",
       "    <tr style=\"text-align: right;\">\n",
       "      <th></th>\n",
       "      <th>count</th>\n",
       "    </tr>\n",
       "    <tr>\n",
       "      <th>policy_type</th>\n",
       "      <th></th>\n",
       "    </tr>\n",
       "  </thead>\n",
       "  <tbody>\n",
       "    <tr>\n",
       "      <th>Multi</th>\n",
       "      <td>1578</td>\n",
       "    </tr>\n",
       "    <tr>\n",
       "      <th>Renewables</th>\n",
       "      <td>691</td>\n",
       "    </tr>\n",
       "    <tr>\n",
       "      <th>Energy efficiency</th>\n",
       "      <td>595</td>\n",
       "    </tr>\n",
       "    <tr>\n",
       "      <th>Other low-carbon technologies and fuel switch</th>\n",
       "      <td>293</td>\n",
       "    </tr>\n",
       "    <tr>\n",
       "      <th>Non-energy use</th>\n",
       "      <td>267</td>\n",
       "    </tr>\n",
       "    <tr>\n",
       "      <th>Energy service demand reduction and resource efficiency</th>\n",
       "      <td>131</td>\n",
       "    </tr>\n",
       "    <tr>\n",
       "      <th>Unknown</th>\n",
       "      <td>36</td>\n",
       "    </tr>\n",
       "  </tbody>\n",
       "</table>\n",
       "</div><br><label><b>dtype:</b> int64</label>"
      ],
      "text/plain": [
       "policy_type\n",
       "Multi                                                      1578\n",
       "Renewables                                                  691\n",
       "Energy efficiency                                           595\n",
       "Other low-carbon technologies and fuel switch               293\n",
       "Non-energy use                                              267\n",
       "Energy service demand reduction and resource efficiency     131\n",
       "Unknown                                                      36\n",
       "Name: count, dtype: int64"
      ]
     },
     "execution_count": 12,
     "metadata": {},
     "output_type": "execute_result"
    }
   ],
   "source": [
    "policy_types = []\n",
    "\n",
    "for policy_type in df['policy_type']:\n",
    "  if len(policy_type.split(',')) > 1:\n",
    "    policy_types.append('Multi')\n",
    "  else:\n",
    "    policy_types.append(policy_type)\n",
    "\n",
    "assert len(policy_types) == len(df)\n",
    "df['policy_type'] = policy_types\n",
    "\n",
    "df['policy_type'].value_counts()"
   ]
  },
  {
   "cell_type": "markdown",
   "metadata": {
    "id": "bxNftuv2TG6e"
   },
   "source": [
    "# Train/val/test split"
   ]
  },
  {
   "cell_type": "markdown",
   "metadata": {
    "id": "vgulqj8KAWWg"
   },
   "source": [
    "Now that the data is ready, let's split to train/validation/test to prepare for building the model. Once the test set is split out, we want to make sure we do not touch the test set at all to avoid any data leakage."
   ]
  },
  {
   "cell_type": "code",
   "execution_count": 13,
   "metadata": {
    "id": "6ocxGhV8Ahxy"
   },
   "outputs": [],
   "source": [
    "X = df['policy_description'].to_list()\n",
    "y = df['policy_type'].to_list()"
   ]
  },
  {
   "cell_type": "markdown",
   "metadata": {
    "id": "N5dd-jSqFFH7"
   },
   "source": [
    "Since the model expects classes in numeric values, we will encode the classes first"
   ]
  },
  {
   "cell_type": "code",
   "execution_count": 14,
   "metadata": {
    "colab": {
     "base_uri": "https://localhost:8080/"
    },
    "id": "AH5zyj36FEot",
    "outputId": "7935a4ec-fa09-4f47-d966-c7adedab7b61"
   },
   "outputs": [
    {
     "data": {
      "text/plain": [
       "[np.str_('Energy efficiency'),\n",
       " np.str_('Energy service demand reduction and resource efficiency'),\n",
       " np.str_('Multi'),\n",
       " np.str_('Non-energy use'),\n",
       " np.str_('Other low-carbon technologies and fuel switch'),\n",
       " np.str_('Renewables'),\n",
       " np.str_('Unknown')]"
      ]
     },
     "execution_count": 14,
     "metadata": {},
     "output_type": "execute_result"
    }
   ],
   "source": [
    "label_encoder = LabelEncoder().fit(y)\n",
    "y = label_encoder.transform(y)\n",
    "\n",
    "classes = list(label_encoder.inverse_transform(range(df['policy_type'].nunique())))\n",
    "classes"
   ]
  },
  {
   "cell_type": "markdown",
   "metadata": {
    "id": "Ios58y3YT209"
   },
   "source": [
    "We'll assign 30% of the total data to test, and split the remaining 70% data between train and validation at 80/20 split."
   ]
  },
  {
   "cell_type": "code",
   "execution_count": 15,
   "metadata": {
    "id": "dcxfq3DDB4UH"
   },
   "outputs": [],
   "source": [
    "X_train, X_test, y_train, y_test = train_test_split(X, y, test_size=0.3, random_state=1234)\n",
    "X_train, X_val, y_train, y_val = train_test_split(X_train, y_train, test_size=0.2, random_state=1234)"
   ]
  },
  {
   "cell_type": "code",
   "execution_count": 16,
   "metadata": {
    "colab": {
     "base_uri": "https://localhost:8080/"
    },
    "id": "mjBg05pXCDyI",
    "outputId": "934c5918-612f-4604-ab86-b93a4a93fad5"
   },
   "outputs": [
    {
     "name": "stdout",
     "output_type": "stream",
     "text": [
      "--- training set ---\n",
      "number of samples:  2010\n",
      "examples of features:  ['The Hawaii Energy Code (HEC) adopted the 2015 IECC and ASHRAE 90.1-2013 with amendments by the State Building Council on July 14, 2015. The HEC must be adopted separately by the four counties. State law (Act 164, 2014), requires that if the counties do not adopt HEC by 2017, the HEC becomes the interim code for the counties. (For details, see reference below.) IEA/IRENA Global Renewable Energy Policies and Measures Database © OECD/IEA and IRENA, [November 2020]', 'The Small Power Producers (SPP) framework created an enabling environment for private project developments of projects up to 10MW in 2008, through standardised power purchase agreements. (For details, see reference below.)', 'The Action Plan for Renewable Energy Promotion in Mali was established to achieve the renewable energy target of increasing the share of renewables in TPES from less than 1% in 2002 to 15% in 2020. The energy policy is defined by 5 major objectives: - improving access to energy especially from renewables - the rational use of existing energy sources - the efficient use of existing natural resources to produce energy - sustainable use of biomass resources through the conservation and protection of forests - strengthening government capacity and streamlining administrative procedures within the energy sector IEA/IRENA Global Renewable Energy Policies and Measures Database © OECD/IEA and IRENA, [November 2020]', 'This law sets out a framework to start monetizing different environmental services and define consumers, suppliers, payment methods and prices. According to the PNPSA, those who benefit from environmental services, such as water supply, oxygen production, stability of climatic conditions, among others, must pay for them through a voluntary transaction. On the other hand, those who provide such services must be rewarded for their contribution.', 'This policy applies to the distribution licensee and consumers of distribution licensee of the State of Punjab. It was adopted to support the 2012 New and Renewable Sources of Energy Policy. The eligible consumer can install a rooftop solar system under net metering arrangements according to the permissions defined within the policy. IEA/IRENA Global Renewable Energy Policies and Measures Database © OECD/IEA and IRENA, [November 2020]']\n",
      "examples of labels:  [0 2 2 3 5]\n",
      "--- validation set ---\n",
      "number of samples:  503\n",
      "examples of features:  ['\"The Carbon Capture and Storage Flagships (CCS Flagships) Program was established in May 2009 and supports the construction and demonstration of large-scale integrated CCS projects in Australia.\"\\n\"The Australian Government has confirmed funding of over $125 million in its May 2014 Budget to allow the South West hub and CarbonNet projects to complete their stage gated commitments.\"\\n\"The Education Investment Fund (EIF) provides $100 million to fund the research infrastructure component for short-listed projects. This requires partnering with an eligible research institution, such as universities, for collaborative research into CCS.\" (Source: http://industry.gov.au/resource/LowEmissionsFossilFuelTech/Pages/Carbon-Capture-Storage-Flagships.aspx)', '38 percent (unconditional), 81 percent (conditional)\\nThe Cook Islands is committed to a future powered by renewable energy with targets of 50% of islands transformed from diesel based to renewable sourced electricity by 2015, to 100% coverage by 2020 (Cook Islands Renewable Electricity Chart, 2011).', 'Panama proposes a reduction in GHG emission of 24% by 2050 and 11.5% by 2030 in reference to the BAU scenario (representing an estimated avoided 60 million tons of CO2 equivalent accumulated between 2022-2050 and up to 10 million tons of CO2 equivalent accumulated between 2022-2030.\\nPanama commits to 15% of its energy matrix from renewable sources by 2030. For that, the main policy instrument is fiscal and financial instruments for the installation of renewable power plants (hydropower plants, wind station, solar panel), as well as renewable targets. Regarding energy efficiency, Panama put into force fourteen (14) energy efficiency indexes, standards and technical regulations for air conditioning and refrigeration, with their respective energy labelling. Also, it is proposed forest regeneration of 50.000ha, which is equivalent to a reduction of 2.6MTCO2 in GHG emissions (Panama NDC, 2020).', 'Table of current and planned (2018 onward) motor vehicle emissions standards: https://www.env.go.jp/en/air/aq/mv/table_290628.pdf', 'This document presents Nepal\\'s vision for the forestry sector, which consists of promoting the \"sustainable management of forest ecosystems, biodiversity and watersheds fully optimised for national prosperity\".\\nStrategic pillars identified include climate change mitigation and resilience, improved governance, private sector engagement, and sustainable management of resource.\\nThis strategy \"aims to enhance forest carbon stocks and reduce deforestation. Concrete goals mentioned for 2025 include an increase in the forest carbon stock by 5% and a reduction of the mean annual deforestation rate from 0.44% and 0.18% to 0.05% in Nepal’s largest forests, Tarai and Chure, respectively. Additionally, the Strategy envisages the operation of a forest carbon trade or payment mechanism, which could facilitate the protection of Nepali forests.\"\\n(source: Climate Action Tracker)']\n",
      "examples of labels:  [4 2 2 2 3]\n",
      "--- test set ---\n",
      "number of samples:  1078\n",
      "examples of features:  ['From January 1999, investments in new renewable energy, heat pumps, district heating, natural gas grids, small-scale hydropower plants (< 1 000 kW) and refurbishment of all hydropower plants were exempt from the 7% investment tax. The general investment tax was abolished in April 2002. IEA/IRENA Global Renewable Energy Policies and Measures Database © OECD/IEA and IRENA, [November 2020]', 'Standards Australia’s Committee CS-028 on Solar Water Heaters published its first standard on solar air conditioning, named AS 5389. It contains a methodology to calculate the cooling or heating loads of buildings under a variety of climatic conditions. IEA/IRENA Global Renewable Energy Policies and Measures Database © OECD/IEA and IRENA, [November 2020]', 'The General Law for Sustainable Forest Development aims to protect and restore forests, as well as ensure biodiversity conservation and protection of people affected by forest changes. It encourages sustainable use of forests and forest products.\\nThis law includes the National Forestry Programme 2014-2018 with 5 objectives, various strategies and actions.\\n\"The key objectives are the following:\\n• Increase sustainable production and productivity of forests\\n• Promote conservation and restoration of forest ecosystems\\n• Protect forest ecosystems (forest fires, illegal logging)\\n• Promote and strengthen forest governance and local capacity building\\n• Promote and foster an enabling institutional framework for sustainable forest development\\nMoreover, the Programme sets targets for sustainable forest development. These include:\\n• Increase the percentage of sustainably harvested forest resources from 31.6% in 2013 to 58.7% in 2018\\n• Reach 94% of forest areas certified under “good forest management practice” by 2018\\n• Include at least 10.2% of forest area in the ‘payment for ecosystem services’ scheme\\n• Increase the percentage of restored or rehabilitated forest area from 0.71% in 2013 to 5.45% in 2018 (out of the areas designated for restoration)\\n• Reduce the annual net deforestation rate from -0.24% in 2010 to -0.20% in 2015 (18% reduction)\\n• Reduce the percentage of wood sold on illegal markets from 27.6% in 2012 to 0% in 2018 (proxy indicator)\\n• 8,750,000 tons of avoided CO2e emissions from deforestation and forest degradation by 2018\\n• Increase by 30% the credits allocated for forestry development and conservation programmes by the Development Bank of Mexico between 2012 and 2018\" (LSE Grantham http://www.lse.ac.uk/GranthamInstitute/law/general-law-for-sustainable-forest-development/)', 'The required sectoral targets are as follows:\\n• Electricity: 51,4 %,\\n• Heating and cooling: 38,2 %,\\n• Transport: 10,2 %\\nShare of renewables in the final gross energy consumption 33% by 2020.', 'ARENA’s up to $60 million Renewable Energy Venture Capital Fund was created to foster skills and management capability and provide funding confidence to renewable energy projects to strengthen their chance of success. Southern Cross Venture Partners Pty Ltd was appointed manager of the Fund and Softbank China Venture Capital matched ARENA’s up to $60 million investment creating the up to $120 million Southern Cross Renewable Energy Fund. The Southern Cross Renewable Energy Fund provides management expertise and makes equity investments in early-stage Australian renewable energy companies to help them overcome capital constraints, develop technologies, increase skills and forge international connections.']\n",
      "examples of labels:  [5 0 2 5 5]\n"
     ]
    }
   ],
   "source": [
    "print('--- training set ---')\n",
    "print('number of samples: ', len(X_train))\n",
    "print('examples of features: ', X_train[:5])\n",
    "print('examples of labels: ', y_train[:5])\n",
    "\n",
    "print('--- validation set ---')\n",
    "print('number of samples: ', len(X_val))\n",
    "print('examples of features: ', X_val[:5])\n",
    "print('examples of labels: ', y_val[:5])\n",
    "\n",
    "print('--- test set ---')\n",
    "print('number of samples: ', len(X_test))\n",
    "print('examples of features: ', X_test[:5])\n",
    "print('examples of labels: ', y_test[:5])"
   ]
  },
  {
   "cell_type": "markdown",
   "metadata": {
    "id": "l1FS0QRwUC2T"
   },
   "source": [
    "# Tokenize the feature using RoBERTa tokenizer"
   ]
  },
  {
   "cell_type": "code",
   "execution_count": 17,
   "metadata": {
    "id": "m6-u_EyDOAdO"
   },
   "outputs": [],
   "source": [
    "X_train_tokenized = to_tokenize(X_train)\n",
    "X_val_tokenized = to_tokenize(X_val)\n",
    "X_test_tokenized = to_tokenize(X_test)"
   ]
  },
  {
   "cell_type": "markdown",
   "metadata": {
    "id": "CKuFfO6SEV0x"
   },
   "source": [
    "# Model 1. Train a FFNN from scratch"
   ]
  },
  {
   "cell_type": "code",
   "execution_count": 18,
   "metadata": {
    "id": "LrOoIU7FU0YF"
   },
   "outputs": [],
   "source": [
    "def build_baseline(hidden_size=[1024]):\n",
    "\n",
    "  tf.keras.backend.clear_session()\n",
    "\n",
    "  input = tf.keras.layers.Input(shape=(MAX_LEN,))\n",
    "\n",
    "  embedding = tf.keras.layers.Embedding(input_dim=VOCAB_SIZE, output_dim=MAX_LEN)(input)\n",
    "\n",
    "  hidden = tf.math.reduce_mean(embedding, axis=1)\n",
    "\n",
    "  for i, each in enumerate(hidden_size):\n",
    "    hidden= tf.keras.layers.Dense(each, activation='relu')(hidden)\n",
    "    hidden = tf.keras.layers.Dropout(0.1)(hidden)\n",
    "\n",
    "  outputs = tf.keras.layers.Dense(units=len(classes), activation='softmax')(hidden)\n",
    "\n",
    "  model = tf.keras.Model(inputs=input, outputs=outputs)\n",
    "\n",
    "  model.compile(loss=tf.keras.losses.SparseCategoricalCrossentropy(),\n",
    "                optimizer=OPTIMIZER,\n",
    "                metrics=['accuracy'])\n",
    "\n",
    "  return model"
   ]
  },
  {
   "cell_type": "code",
   "execution_count": 19,
   "metadata": {
    "colab": {
     "base_uri": "https://localhost:8080/"
    },
    "id": "scVQWiNuVc5R",
    "outputId": "c2b069f3-0d8f-4c52-8479-b77e28842bd3"
   },
   "outputs": [
    {
     "name": "stdout",
     "output_type": "stream",
     "text": [
      "Epoch 1/3\n",
      "252/252 [==============================] - 220s 870ms/step - loss: 1.5166 - accuracy: 0.4552 - val_loss: 1.2852 - val_accuracy: 0.5765\n",
      "Epoch 2/3\n",
      "252/252 [==============================] - 209s 832ms/step - loss: 1.1150 - accuracy: 0.6204 - val_loss: 1.2679 - val_accuracy: 0.6123\n",
      "Epoch 3/3\n",
      "252/252 [==============================] - 209s 829ms/step - loss: 0.7646 - accuracy: 0.7448 - val_loss: 1.3564 - val_accuracy: 0.6501\n"
     ]
    }
   ],
   "source": [
    "baseline = build_baseline()\n",
    "\n",
    "baseline_history = baseline.fit(x=X_train_tokenized.input_ids,\n",
    "                                y=y_train,\n",
    "                                epochs=3,\n",
    "                                batch_size=BATCH_SIZE,\n",
    "                                validation_data=(X_val_tokenized.input_ids, y_val),\n",
    "                                verbose=1\n",
    "                                )"
   ]
  },
  {
   "cell_type": "markdown",
   "metadata": {
    "id": "Bxaj7eqCTT0O"
   },
   "source": [
    "I trained for only 3 epochs, the model is quite overfitted and the validation accuracy is meh. Let's take a look at the classification report."
   ]
  },
  {
   "cell_type": "code",
   "execution_count": 20,
   "metadata": {
    "colab": {
     "base_uri": "https://localhost:8080/",
     "height": 1000
    },
    "id": "0QbUIL1WTboe",
    "outputId": "3319bf9d-7ebc-489e-d01b-515b168b1b88"
   },
   "outputs": [
    {
     "name": "stdout",
     "output_type": "stream",
     "text": [
      "16/16 [==============================] - 1s 37ms/step\n",
      "Validation classification Report \n",
      "\n",
      "                                                         precision    recall  f1-score   support\n",
      "\n",
      "                                      Energy efficiency       0.75      0.64      0.69        86\n",
      "Energy service demand reduction and resource efficiency       0.00      0.00      0.00        17\n",
      "                                                  Multi       0.76      0.69      0.72       232\n",
      "                                         Non-energy use       0.24      0.35      0.29        31\n",
      "          Other low-carbon technologies and fuel switch       0.71      0.43      0.54        35\n",
      "                                             Renewables       0.57      0.87      0.69        98\n",
      "                                                Unknown       0.00      0.00      0.00         4\n",
      "\n",
      "                                               accuracy                           0.65       503\n",
      "                                              macro avg       0.43      0.43      0.42       503\n",
      "                                           weighted avg       0.65      0.65      0.64       503\n",
      "\n"
     ]
    },
    {
     "name": "stderr",
     "output_type": "stream",
     "text": [
      "/usr/local/lib/python3.11/dist-packages/sklearn/metrics/_classification.py:1565: UndefinedMetricWarning: Precision is ill-defined and being set to 0.0 in labels with no predicted samples. Use `zero_division` parameter to control this behavior.\n",
      "  _warn_prf(average, modifier, f\"{metric.capitalize()} is\", len(result))\n",
      "/usr/local/lib/python3.11/dist-packages/sklearn/metrics/_classification.py:1565: UndefinedMetricWarning: Precision is ill-defined and being set to 0.0 in labels with no predicted samples. Use `zero_division` parameter to control this behavior.\n",
      "  _warn_prf(average, modifier, f\"{metric.capitalize()} is\", len(result))\n",
      "/usr/local/lib/python3.11/dist-packages/sklearn/metrics/_classification.py:1565: UndefinedMetricWarning: Precision is ill-defined and being set to 0.0 in labels with no predicted samples. Use `zero_division` parameter to control this behavior.\n",
      "  _warn_prf(average, modifier, f\"{metric.capitalize()} is\", len(result))\n"
     ]
    },
    {
     "data": {
      "image/png": "[encoded data removed]",
      "text/plain": [
       "<Figure size 640x480 with 1 Axes>"
      ]
     },
     "metadata": {},
     "output_type": "display_data"
    }
   ],
   "source": [
    "show_results(baseline,\n",
    "             X_val_tokenized.input_ids,\n",
    "             y_val,\n",
    "             classes)"
   ]
  },
  {
   "cell_type": "markdown",
   "metadata": {
    "id": "omJ3FBIQ5_GG"
   },
   "source": [
    "# Review result and run inference"
   ]
  },
  {
   "cell_type": "markdown",
   "metadata": {
    "id": "K5TF4y2z7POo"
   },
   "source": [
    "Let's review the validation accuracy from the model"
   ]
  },
  {
   "cell_type": "code",
   "execution_count": 21,
   "metadata": {
    "colab": {
     "base_uri": "https://localhost:8080/"
    },
    "id": "rm3n2WgL5015",
    "outputId": "c48858e0-2e52-49b8-9b7a-8dd666522660"
   },
   "outputs": [
    {
     "name": "stdout",
     "output_type": "stream",
     "text": [
      "----- FFNN model trained from scratch -----\n",
      "0.6500993967056274\n"
     ]
    }
   ],
   "source": [
    "print('----- FFNN model trained from scratch -----')\n",
    "print(baseline_history.history['val_accuracy'][-1])"
   ]
  },
  {
   "cell_type": "markdown",
   "metadata": {
    "id": "wfp0yJzP8RLo"
   },
   "source": [
    "Let's then run inference on the trained model"
   ]
  },
  {
   "cell_type": "code",
   "execution_count": 22,
   "metadata": {
    "colab": {
     "base_uri": "https://localhost:8080/"
    },
    "id": "hIk-zgj88Z4Z",
    "outputId": "9e967749-0a1b-4e34-c267-e43898d79e1a"
   },
   "outputs": [
    {
     "name": "stdout",
     "output_type": "stream",
     "text": [
      "----- FFNN model trained from scratch -----\n",
      "34/34 [==============================] - 1s 36ms/step - loss: 1.1856 - accuracy: 0.6512\n",
      "[1.1855615377426147, 0.6512059569358826]\n"
     ]
    }
   ],
   "source": [
    "print('----- FFNN model trained from scratch -----')\n",
    "print(baseline.evaluate(X_test_tokenized.input_ids, y_test))"
   ]
  }
 ],
 "metadata": {
  "colab": {
   "collapsed_sections": [
    "VE1DYvzUiYW0",
    "FletjQD_FXuN",
    "o4aQqRppFbfK",
    "DG-2jjlRFdT1",
    "kFXqvxTHzJVi",
    "j3wtspSJQaY-",
    "bxNftuv2TG6e"
   ],
   "provenance": []
  },
  "kernelspec": {
   "display_name": "Python 3 (ipykernel)",
   "language": "python",
   "name": "python3"
  },
  "language_info": {
   "codemirror_mode": {
    "name": "ipython",
    "version": 3
   },
   "file_extension": ".py",
   "mimetype": "text/x-python",
   "name": "python",
   "nbconvert_exporter": "python",
   "pygments_lexer": "ipython3",
   "version": "3.11.5"
  }
 },
 "nbformat": 4,
 "nbformat_minor": 1
}
