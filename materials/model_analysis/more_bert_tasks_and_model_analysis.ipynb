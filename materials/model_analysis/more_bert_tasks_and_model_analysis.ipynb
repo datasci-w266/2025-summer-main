{
 "cells": [
  {
   "cell_type": "markdown",
   "metadata": {
    "id": "_wfJaYVWuYtb"
   },
   "source": [
    "## More text classification tasks, BERT fine-tuning, and model analysis\n",
    "\n",
    "This notebook contains a couple more examples of text classification tasks, in addition to those shown in the lesson notebooks, that involve fine-tuning a pre-trained BERT model. They each involve some sort of binary or categorical labels, not text generation as the output. But the problem structure is slightly different for each task.\n",
    "\n",
    "We'll try fine-tuning a couple different BERT models for each task, so that we can also include some of the basic types of analysis we'd expect to see in your projects. We not only want to look at a common overall evaluation metric to see which model works better, but try to understand the differences in the models' predictions to figure out why.\n",
    "\n",
    "[![Open In Colab](https://colab.research.google.com/assets/colab-badge.svg)](https://colab.research.google.com/github/datasci-w266/2025-summer-main/blob/master/materials/model_analysis/more_bert_tasks_and_model_analysis.ipynb)"
   ]
  },
  {
   "cell_type": "code",
   "execution_count": 1,
   "metadata": {
    "colab": {
     "base_uri": "https://localhost:8080/"
    },
    "id": "ZLHaI34ouYRD",
    "outputId": "010b6799-5737-4d73-cb16-358eaa638bc7"
   },
   "outputs": [
    {
     "name": "stdout",
     "output_type": "stream",
     "text": [
      "\u001b[2K   \u001b[90m━━━━━━━━━━━━━━━━━━━━━━━━━━━━━━━━━━━━━━━━\u001b[0m \u001b[32m485.4/485.4 kB\u001b[0m \u001b[31m9.8 MB/s\u001b[0m eta \u001b[36m0:00:00\u001b[0m\n",
      "\u001b[2K   \u001b[90m━━━━━━━━━━━━━━━━━━━━━━━━━━━━━━━━━━━━━━━━\u001b[0m \u001b[32m116.3/116.3 kB\u001b[0m \u001b[31m6.3 MB/s\u001b[0m eta \u001b[36m0:00:00\u001b[0m\n",
      "\u001b[2K   \u001b[90m━━━━━━━━━━━━━━━━━━━━━━━━━━━━━━━━━━━━━━━━\u001b[0m \u001b[32m143.5/143.5 kB\u001b[0m \u001b[31m10.1 MB/s\u001b[0m eta \u001b[36m0:00:00\u001b[0m\n",
      "\u001b[2K   \u001b[90m━━━━━━━━━━━━━━━━━━━━━━━━━━━━━━━━━━━━━━━━\u001b[0m \u001b[32m194.8/194.8 kB\u001b[0m \u001b[31m10.4 MB/s\u001b[0m eta \u001b[36m0:00:00\u001b[0m\n",
      "\u001b[2K   \u001b[90m━━━━━━━━━━━━━━━━━━━━━━━━━━━━━━━━━━━━━━━━\u001b[0m \u001b[32m84.0/84.0 kB\u001b[0m \u001b[31m3.8 MB/s\u001b[0m eta \u001b[36m0:00:00\u001b[0m\n",
      "\u001b[?25h"
     ]
    }
   ],
   "source": [
    "!pip install -q -U transformers\n",
    "!pip install -q -U datasets\n",
    "!pip install -q evaluate"
   ]
  },
  {
   "cell_type": "code",
   "execution_count": 2,
   "metadata": {
    "id": "GfR1xt36uWIm"
   },
   "outputs": [],
   "source": [
    "import re\n",
    "import json\n",
    "import numpy as np\n",
    "import pandas as pd\n",
    "\n",
    "import torch\n",
    "import evaluate\n",
    "from datasets import load_dataset\n",
    "\n",
    "from transformers import AutoTokenizer, AutoModelForSequenceClassification\n",
    "from transformers import TrainingArguments, Trainer\n",
    "from transformers import logging\n",
    "logging.set_verbosity_error()  # skip warnings\n",
    "\n",
    "import seaborn as sns\n",
    "import matplotlib.pyplot as plt\n",
    "from scipy.special import softmax\n",
    "from sklearn.utils import class_weight\n",
    "from sklearn.metrics import classification_report, confusion_matrix"
   ]
  },
  {
   "cell_type": "code",
   "execution_count": 3,
   "metadata": {
    "colab": {
     "base_uri": "https://localhost:8080/"
    },
    "id": "k51wURwpgvEQ",
    "outputId": "224501ba-d2c7-43ea-d359-33ddce62e9c4"
   },
   "outputs": [
    {
     "name": "stdout",
     "output_type": "stream",
     "text": [
      "Mounted at /content/drive\n"
     ]
    }
   ],
   "source": [
    "# Mount drive for saving model checkpoints, and for loading Task 2 data below\n",
    "\n",
    "from google.colab import drive\n",
    "drive.mount('/content/drive')"
   ]
  },
  {
   "cell_type": "markdown",
   "metadata": {
    "id": "c10ec6ov1c3E"
   },
   "source": [
    "### Task 1: GLUE MRPC (Microsoft Research Paraphrase Corpus)\n",
    "\n",
    "This dataset has pairs of sentences with labels indicating whether the two sentences are equivalent (i.e. they mean the same thing) or not. [Dataset on Huggingface](https://huggingface.co/datasets/nyu-mll/glue), [paper here](https://openreview.net/pdf?id=rJ4km2R5t7)."
   ]
  },
  {
   "cell_type": "code",
   "execution_count": 4,
   "metadata": {
    "colab": {
     "base_uri": "https://localhost:8080/",
     "height": 241,
     "referenced_widgets": [
      "68bb48b1fe27457bb49f4b6186e8fd83",
      "3838bb8b69564e8ebe96be18a7a25cdc",
      "97bb028e3ac24a1dbc0b2277be9f2e91",
      "007afdc7c04e4047a87a23be641b951b",
      "a54ed1d305ed4d30bc839428f4c4fe61",
      "637157b6605e4576bc6d3d722115f542",
      "ee049b1c89ad4d6d8112a9941b762ce3",
      "56192812411a44708b1f32c15d575b64",
      "28d3cfebe3364325a31cde10d7cb4143",
      "f53520939a1043339e61347668096158",
      "2f419bf96225424a91930ec3b9fbfb32",
      "938aa542400946c89e74f0dbbda99b0d",
      "60f40ddb23ce4c6f8a44668a0a1000d9",
      "7ad194be3cb245d896d3df7b65b7052d",
      "b9a3aa3fdb36462abcdce6ce24765151",
      "0f2c03ad6b774a719d3959168c6717a9",
      "e01b050ecee946e38ab0b6bfb05cd2ab",
      "32ebba7fd6bc4964893b20f89909687d",
      "82c7f292a24e43648f39defa62ab0dbd",
      "2eef7391efb6413eaeb2a03c3c25220e",
      "25bf36ec1cf84690ba5309160c3e0eae",
      "f5a122a4f3e744b9936fd956e68647bb",
      "bb647c472bfb40728ad18fba06f57f97",
      "ab954d8be526432684cf7e5cd4d0c064",
      "f1c5317e98fb42739c2045d6378a974a",
      "6edf9055b947411b9d8fa2b21bc8b21c",
      "c754d1a50a7044d4b2bd805a0e247950",
      "c66867c6cf0143d1b3f5ee17f8fbe5d9",
      "38813711c04844c09da639eec6a0c5e2",
      "cdd376d380eb4808bbb7b9ba70d5f6fd",
      "8cbf87d5f4e54c17a48212bf0888af7c",
      "3e5eec1243c4485ab874cf51740934cc",
      "626adbef2ea54cdd8a2bbc781454253b",
      "0c1a5acaf9244522b8db8d06e3ea7568",
      "da8f5edfd93445208b98b3105da7ab16",
      "93d1f3ecb94b4e8ea2dc93c2ece4008e",
      "20c1195158594320b6ad690a0566d382",
      "dae756cb20414f80941d7eca889fac42",
      "61ed0470683f4966883c8d8ba0270e64",
      "f4a6d221b5ab4537b6d68f0309d54272",
      "d437efc311a24aae9a8367139e93babf",
      "61ecdbaf8e034a9aa513280b78831fa7",
      "37bf6b59986f40e89de8713a9f4aa2f8",
      "aa0a68f4bbcf42dc91aab1a8d811f686",
      "12b9b3818eca4f29a1c873510fcca5d5",
      "533ac0a16eb24e7c9e55ac6e558c03b9",
      "a8b346cbbea84d17ab16b3bfe12e6889",
      "0c119dc7dea64d98b5ac1f0585417a15",
      "af03863497014c1092f7f227745b87d1",
      "0b80534eec124212a9f3ee7435c42ab5",
      "b50a162b973d4999ae50bfbbe8cdec3f",
      "47be7224caf64646a75000f45f32f8be",
      "b02203074a4449ad8f04131b55f2b71b",
      "6d48a4434a264369aff14c270be137c4",
      "10e5a7af66d54f8aaee5ae1ab275bca6",
      "cd717591993848b89c847f6b4e1f0ea9",
      "53eb448ee837443cb16335b3640e4499",
      "3afd1133ff6848e9baecfbf9ef53fbb2",
      "e4726c2b65ea4f5ea6e4e9e2c14dcde8",
      "39b51e5df84749c8ae5a14fe9d2b6a62",
      "277c4cbd4f2b4811809b52bf5fdc7569",
      "582afd2dbf3743bc872804eacb4148bf",
      "b0b46fd8c5e44808b7a81378fdc37697",
      "ad6db20ad33948c2b127941fd0842efc",
      "159b5aa98e564443a6436adc60927fc6",
      "2d03388546c2457983e972533962454f",
      "08d5a349f0524551826979ec7b3645d7",
      "1de6a62336a9484293850d72a50c73ff",
      "2fd46d30c39840a78843e2be44e98024",
      "9d389e9b025c44f6a6af4f097fd683f1",
      "16924d6cc37843a3ac1c09ca8663be48",
      "5fff769436c2464b9e6be9c6d6077eff",
      "2118cd22f6714d3281a0eb25f9a287d7",
      "0ec9059db48449a99e5ba96d08b20be9",
      "082ca043aad84349952fa7b37e33fd8d",
      "2782eb6b1b1d484ea1bd0043b2f6969b",
      "7fa6ab08b17c41b9b6cdaaf971a531d3"
     ]
    },
    "id": "wpSuYc3vuWNh",
    "outputId": "9f6c31ee-057c-4312-be10-aca4417b6bf5"
   },
   "outputs": [
    {
     "data": {
      "application/vnd.jupyter.widget-view+json": {
       "model_id": "68bb48b1fe27457bb49f4b6186e8fd83",
       "version_major": 2,
       "version_minor": 0
      },
      "text/plain": [
       "README.md:   0%|          | 0.00/35.3k [00:00<?, ?B/s]"
      ]
     },
     "metadata": {},
     "output_type": "display_data"
    },
    {
     "data": {
      "application/vnd.jupyter.widget-view+json": {
       "model_id": "938aa542400946c89e74f0dbbda99b0d",
       "version_major": 2,
       "version_minor": 0
      },
      "text/plain": [
       "train-00000-of-00001.parquet:   0%|          | 0.00/649k [00:00<?, ?B/s]"
      ]
     },
     "metadata": {},
     "output_type": "display_data"
    },
    {
     "data": {
      "application/vnd.jupyter.widget-view+json": {
       "model_id": "bb647c472bfb40728ad18fba06f57f97",
       "version_major": 2,
       "version_minor": 0
      },
      "text/plain": [
       "validation-00000-of-00001.parquet:   0%|          | 0.00/75.7k [00:00<?, ?B/s]"
      ]
     },
     "metadata": {},
     "output_type": "display_data"
    },
    {
     "data": {
      "application/vnd.jupyter.widget-view+json": {
       "model_id": "0c1a5acaf9244522b8db8d06e3ea7568",
       "version_major": 2,
       "version_minor": 0
      },
      "text/plain": [
       "test-00000-of-00001.parquet:   0%|          | 0.00/308k [00:00<?, ?B/s]"
      ]
     },
     "metadata": {},
     "output_type": "display_data"
    },
    {
     "data": {
      "application/vnd.jupyter.widget-view+json": {
       "model_id": "12b9b3818eca4f29a1c873510fcca5d5",
       "version_major": 2,
       "version_minor": 0
      },
      "text/plain": [
       "Generating train split:   0%|          | 0/3668 [00:00<?, ? examples/s]"
      ]
     },
     "metadata": {},
     "output_type": "display_data"
    },
    {
     "data": {
      "application/vnd.jupyter.widget-view+json": {
       "model_id": "cd717591993848b89c847f6b4e1f0ea9",
       "version_major": 2,
       "version_minor": 0
      },
      "text/plain": [
       "Generating validation split:   0%|          | 0/408 [00:00<?, ? examples/s]"
      ]
     },
     "metadata": {},
     "output_type": "display_data"
    },
    {
     "data": {
      "application/vnd.jupyter.widget-view+json": {
       "model_id": "08d5a349f0524551826979ec7b3645d7",
       "version_major": 2,
       "version_minor": 0
      },
      "text/plain": [
       "Generating test split:   0%|          | 0/1725 [00:00<?, ? examples/s]"
      ]
     },
     "metadata": {},
     "output_type": "display_data"
    }
   ],
   "source": [
    "mrpc_data = load_dataset('nyu-mll/glue', 'mrpc')"
   ]
  },
  {
   "cell_type": "code",
   "execution_count": 5,
   "metadata": {
    "colab": {
     "base_uri": "https://localhost:8080/"
    },
    "id": "esxIr6Hl2Mty",
    "outputId": "db0dfe66-f0ac-4ea1-9202-b016aae7ee99"
   },
   "outputs": [
    {
     "data": {
      "text/plain": [
       "DatasetDict({\n",
       "    train: Dataset({\n",
       "        features: ['sentence1', 'sentence2', 'label', 'idx'],\n",
       "        num_rows: 3668\n",
       "    })\n",
       "    validation: Dataset({\n",
       "        features: ['sentence1', 'sentence2', 'label', 'idx'],\n",
       "        num_rows: 408\n",
       "    })\n",
       "    test: Dataset({\n",
       "        features: ['sentence1', 'sentence2', 'label', 'idx'],\n",
       "        num_rows: 1725\n",
       "    })\n",
       "})"
      ]
     },
     "execution_count": 5,
     "metadata": {},
     "output_type": "execute_result"
    }
   ],
   "source": [
    "# The data comes pre-split, includes pairs of sentences with a label for each\n",
    "mrpc_data"
   ]
  },
  {
   "cell_type": "code",
   "execution_count": 6,
   "metadata": {
    "colab": {
     "base_uri": "https://localhost:8080/"
    },
    "id": "QG8AsMjbuWTQ",
    "outputId": "f400f7f5-5b03-4c7e-bc69-1a6a37fc3b66"
   },
   "outputs": [
    {
     "data": {
      "text/plain": [
       "['not_equivalent', 'equivalent']"
      ]
     },
     "execution_count": 6,
     "metadata": {},
     "output_type": "execute_result"
    }
   ],
   "source": [
    "# Here are the labels\n",
    "mrpc_data['train'].features['label'].names"
   ]
  },
  {
   "cell_type": "code",
   "execution_count": 7,
   "metadata": {
    "colab": {
     "base_uri": "https://localhost:8080/"
    },
    "id": "d23FYBrluWV2",
    "outputId": "15e60cb5-a7af-48ec-9737-a28f7cb5fc59"
   },
   "outputs": [
    {
     "name": "stdout",
     "output_type": "stream",
     "text": [
      "Amrozi accused his brother , whom he called \" the witness \" , of deliberately distorting his evidence .\n",
      "Referring to him as only \" the witness \" , Amrozi accused his brother of deliberately distorting his evidence .\n",
      "1\n",
      "\n",
      "Yucaipa owned Dominick 's before selling the chain to Safeway in 1998 for $ 2.5 billion .\n",
      "Yucaipa bought Dominick 's in 1995 for $ 693 million and sold it to Safeway for $ 1.8 billion in 1998 .\n",
      "0\n",
      "\n",
      "They had published an advertisement on the Internet on June 10 , offering the cargo for sale , he added .\n",
      "On June 10 , the ship 's owners had published an advertisement on the Internet , offering the explosives for sale .\n",
      "1\n",
      "\n",
      "Around 0335 GMT , Tab shares were up 19 cents , or 4.4 % , at A $ 4.56 , having earlier set a record high of A $ 4.57 .\n",
      "Tab shares jumped 20 cents , or 4.6 % , to set a record closing high at A $ 4.57 .\n",
      "0\n",
      "\n"
     ]
    }
   ],
   "source": [
    "# Look at the first few examples in the data\n",
    "for i in range(4):\n",
    "  print(mrpc_data['train']['sentence1'][i])\n",
    "  print(mrpc_data['train']['sentence2'][i])\n",
    "  print(mrpc_data['train']['label'][i])\n",
    "  print()"
   ]
  },
  {
   "cell_type": "markdown",
   "metadata": {
    "id": "-5ivenNO22SQ"
   },
   "source": [
    "#### Models\n",
    "\n",
    "For both tasks, we'll use a BERT-style model called [DistilRoBERTa](https://huggingface.co/distilroberta-base). It's a based on RoBERTa, a popular variant of BERT with a slightly different pre-training task and other tweaks. And the \"Distil\" part means it's smaller model than BERT base, with only six transformer blocks instead of 12.\n",
    "\n",
    "When we want to test a particular hypothesis (e.g. does fine-tuning on a related dataset help with our main task), it's useful to hold other factors constant (e.g. the model architecture and size) so that we know what the main difference is that is driving any difference in performance we observe. It could also be useful to compare different architectures or model sizes, but we'd want to make an isolated comparison for each of those factors. In this notebook, we'll stick with DistilRoBERTa models, and compare versions that have been fine-tuned on different datasets that might be related to our main tasks.\n",
    "\n",
    "We'll use the DistilRoBERTa base model as one of the models for each task. For the MRPC paraphrase task, we'll compare the base model to a version that's been fine-tuned on a natural language inference (NLI) dataset. NLI is conceptually similar to the paraphrase task we're focused on, since it involves pairs of sentences labeled with whether the first sentence entails the second (i.e. whether they have factually consistent information).\n",
    "\n",
    "Using a model that has already been trained on a similar task might help the model learn our task more effectively, even with a fairly small dataset for our main task. You can [search/browse available models on Huggingface here](https://huggingface.co/models)."
   ]
  },
  {
   "cell_type": "code",
   "execution_count": 8,
   "metadata": {
    "colab": {
     "base_uri": "https://localhost:8080/",
     "height": 433,
     "referenced_widgets": [
      "7a0b16749afb4459987fa4e003635fdb",
      "926276c21e5340f49c442e344ba64bd3",
      "fac6c2d3ef674b57b12816ad0c888a5a",
      "3f1f86e581414d239e374340a85b4782",
      "4a5d4ab59ddb4dcb986b4accaa54e174",
      "e031df389fde491b86014b58ac19149a",
      "0f5a98a1b5424d2e8049c65d884cc760",
      "46a2783a686d4e988b517f7115de3489",
      "d9753564a7594370b208b0311b76d489",
      "4ba30f2c976f49448f030196c8cfedf3",
      "7d428e8a65ec4583941f8ffbbc437b41",
      "1efbe37ba20b43c9a4f849b39f108d40",
      "1bfde23499904fbe8b30e18199b496ac",
      "a245ea85f3e94579b94b9d48a84a82a3",
      "5c73eceded5540fdbb622336f2572d90",
      "2fdce0d2dbf94189b423a9784eaf73b7",
      "915e049b352045bc9da8262045d84e1c",
      "3bf7f9db4d1040db85c980ba73587e2b",
      "324447ea74024b209dc441fa803950c6",
      "4bc6a42609ea4c0192f5ac310b929630",
      "f139f219a3de4f8da0f65c13f91b5b00",
      "c6cb5c94b1bd424a90d702a1aa4464ef",
      "354a7ea3f2d649aebc6038ae2b090241",
      "7cb56dba2c7e433d831d03b1b62d8bea",
      "9438abfa12bc46f8ae8abf96502a77e7",
      "6077fe25b7564ad08579c4b0348bd6e0",
      "a897e1a595774e7db1d0d78db3c8f9e4",
      "e4abba2ee01245b9932f52467bed1cf2",
      "be165d91b65240869ecff78752c02f60",
      "9b658cc600794fc8849c69fee9fdfa60",
      "cb4390750d4f409abc383d0986244c28",
      "3d2991a8f031467eb33dd83b664c71f5",
      "7dee8cb9c512450b9204581f8e0903ec",
      "95c267a85fa641a6aee99cd401e5efef",
      "1877f311723746e580450c9ce6a54e08",
      "69e166a0baee4bc2a516ec9b9edba36f",
      "a16271c85ade4a8b8e94af0389aa012c",
      "a7b275d5a5b04669ae8c08b60ff0e376",
      "1207466b6a2747ef8700c8ca2eafb1e5",
      "9d5af986151d493b8e1dfa9e802212d1",
      "ba5b747b61464edbb5c245146a56cd35",
      "fac1d89151f147d78ce9b2cd93852d02",
      "07c8e8fd4d2a4deeb7da2604aab7355c",
      "3d9dcef6b8ec4a3d8edfb36492eb1a5d",
      "574e1bf75e8e4ef4a1dd530406977488",
      "edc140ea2ce543c5851cdc64f0d54388",
      "d801e081cc20475eb59fa6cd74628894",
      "7df4d36010524e44ac7a06c394c755e7",
      "5d455d36cce340a7a7adb343a77c1986",
      "c18544f314894f12a54c892fb97c21fd",
      "2e8d65668f4d49b4bfbb1f529a30e6be",
      "53315cf2d9ec4a0d94ae6325dd7e120a",
      "2112f4ea933349c094bfe88d85bc2c59",
      "1e13b0bd0a7240708ba8195f05497bad",
      "9d8654f4dd93465b826409ec8b552fa7",
      "d35ebb5efdb246f9800903e2db2b9384",
      "9791bc83b5c642c0b65d2c046f3c3e77",
      "7afda715b7644958beb246ea2cf39700",
      "e9468cbe9729455fabcf815a338abada",
      "b0ae71f855094b5cb8442743c937fa35",
      "f7634455783041c5bb256b7c37200cb9",
      "12542d5f168742259525efc9e31b1b93",
      "2b2322a67449459f974531f293a7dd77",
      "5dd0cc195223405da2ccd62b46895076",
      "1460ea840c504aa48e357cfbfe56e99f",
      "821dec2a9f2c4be182cadc2acec7e0a8",
      "06b61a9383c8430d8b658f73b7d92a86",
      "edbd088e1c004b7c9ba8cac33e961746",
      "e0886ea66cda42919de2a89c3f3c06a7",
      "49d5a46714414d67bd73963aa7b4ff04",
      "e27ffbee4abf4e92a4dc577ad56ddb7a",
      "8301b893a8334c22a0b4ac6927aa99e8",
      "f44d8e96e8dc4b878ee610a40f464fb2",
      "b5fe28140e1d4c96900106342f0e82c5",
      "13b189e8d3f14ff19824521573071729",
      "7126d0d46e1a43d68aeb794a032f120d",
      "870875f6052c4cd08a364cb5781f0a24",
      "2f87d0b57bf143539a6a828609096194",
      "4f2f835530fb4b53ae298ec6311ed30a",
      "e15ff37514bd4490bbe901054ae10a45",
      "030f57797f084ec192688a53f54f65e7",
      "751acbcd6b99487088860ba4a1b2eb9f",
      "d268b29b2ee64a27b89429b388a96462",
      "9c39fd016a49446bac3e1ab414de1747",
      "a13f6bd072ac41c3909e974f0b83d4f1",
      "4dfc0919c31842f7ba54b1184f5b9d1d",
      "d17e9c424a1248008ad4cb1cb3365fcb",
      "9b93219f60654470a3a118c5f35cd0a0",
      "35b8db452772439cb8bd84b0dc529d59",
      "4255ee8678c4481da81c05f982d1bd99",
      "7e2b7eceb78b47ccbd825f257ace377e",
      "60bd25b464ea4ecc91abe00ab6936eb2",
      "eee951462ac44e12a1483d1e7c02492d",
      "808dd030b8514f63b3a3da1914281a60",
      "c5cd534caaae440facb4814c3d470524",
      "87a78870b9544d6b85b9cc615d6f8e13",
      "a17015cbb8f84676bf71e973d2e97bca",
      "681279512e6b4b65861584a27eb688f7",
      "c2418d5954304faea4411194958a2544",
      "43bf96da954c4fba81f4a0d62c611591",
      "a7220c8fff1c4ee19ea79995763517b2",
      "b92c668ba3244574aa309777a3648bfe",
      "acc009e8c8ce47a2bd5a121dee2d0c30",
      "1a4edf76ecbb4e7e8a02483d0946df2a",
      "ead3da48d9c04d6b9179e80c991f57f4",
      "06ca76229c81455b9aad3f186fc0485f",
      "7739f35da69d47a792ce209c4d45ea9b",
      "cae19d89fa3a44f9813905321b57e6f8",
      "a1efe35644954cb3838cae6efeb607ae",
      "419e449d19ce491797ad1553efce82a5",
      "96b22f6a02bc4c0d86c2551bf4e06593",
      "c300a2178f7a49a5ac24ccacb93f386b",
      "0b76c54a220147209144cf4b4a39733b",
      "de199ebb93174e7a84eaab2053f9fc3a",
      "e7e73b788cef4f5e81450a30559b6beb",
      "d7b2a3d2f6a143e7aedc25bd7fb97943",
      "0f9e0650324d4df39ed4428b84089c70",
      "2fbb9f74b2f94a95a8d30933be9cdb2b",
      "a4082dd1d7744d5db8a4bbb045dca836",
      "aa34c0b5b80c495bab92b5d0271317c4",
      "73101f875355476f80802408d4351b9b",
      "15e97fde3cad46c6a13f410ec1bd2117",
      "9d2001f34a824cb081efff1d7ad5cebc",
      "0fae611bb3cd46a0b080b86ef83ef1fb",
      "71bf996499734baf9e4715ddbf8fe88a",
      "29db6a6e5bbe47cea35c89f20823d557",
      "0cf5adf451354b5297c138d0c0cf9cee",
      "53d5d94b41c14657930dea6aa8839e81",
      "1605b1532e4e4140aabd47ed3d439fa7",
      "4db5bd14688f412c9c1d9ec2f2635d16",
      "d73554668b7840a3b9f0d9333dc96c62",
      "150f4589e32d446bbab7cb97a1de4ec7",
      "90d064f79116417d99a7f7784d9bcfdf",
      "9df90f70003d42c7a942db35c1b41742",
      "006298333f154062ba6139c78f6f9325",
      "fa79c362fab449cebccb0afdee2b7edd",
      "6257ac5735a242668156911c5a98a5fa",
      "36e4d8e13d7f4bf7909b190c1f2c3ec5",
      "2b904177e3c34d1fb4d50e7759efc7eb",
      "abf5b29112f64da6a1dfe2e28971a87f",
      "6c91b889868741aca940b4b0078ca1bd",
      "12463143a42c4459945513c01d9c12b7",
      "c93ebc23a0c04f8c9fdc86fef2ad07b4"
     ]
    },
    "id": "uAHpFIFa22bG",
    "outputId": "9f6a4753-e69b-488e-ae04-ece9cb8c5b9e"
   },
   "outputs": [
    {
     "data": {
      "application/vnd.jupyter.widget-view+json": {
       "model_id": "7a0b16749afb4459987fa4e003635fdb",
       "version_major": 2,
       "version_minor": 0
      },
      "text/plain": [
       "tokenizer_config.json:   0%|          | 0.00/25.0 [00:00<?, ?B/s]"
      ]
     },
     "metadata": {},
     "output_type": "display_data"
    },
    {
     "data": {
      "application/vnd.jupyter.widget-view+json": {
       "model_id": "1efbe37ba20b43c9a4f849b39f108d40",
       "version_major": 2,
       "version_minor": 0
      },
      "text/plain": [
       "config.json:   0%|          | 0.00/480 [00:00<?, ?B/s]"
      ]
     },
     "metadata": {},
     "output_type": "display_data"
    },
    {
     "data": {
      "application/vnd.jupyter.widget-view+json": {
       "model_id": "354a7ea3f2d649aebc6038ae2b090241",
       "version_major": 2,
       "version_minor": 0
      },
      "text/plain": [
       "vocab.json:   0%|          | 0.00/899k [00:00<?, ?B/s]"
      ]
     },
     "metadata": {},
     "output_type": "display_data"
    },
    {
     "data": {
      "application/vnd.jupyter.widget-view+json": {
       "model_id": "95c267a85fa641a6aee99cd401e5efef",
       "version_major": 2,
       "version_minor": 0
      },
      "text/plain": [
       "merges.txt:   0%|          | 0.00/456k [00:00<?, ?B/s]"
      ]
     },
     "metadata": {},
     "output_type": "display_data"
    },
    {
     "data": {
      "application/vnd.jupyter.widget-view+json": {
       "model_id": "574e1bf75e8e4ef4a1dd530406977488",
       "version_major": 2,
       "version_minor": 0
      },
      "text/plain": [
       "tokenizer.json:   0%|          | 0.00/1.36M [00:00<?, ?B/s]"
      ]
     },
     "metadata": {},
     "output_type": "display_data"
    },
    {
     "data": {
      "application/vnd.jupyter.widget-view+json": {
       "model_id": "d35ebb5efdb246f9800903e2db2b9384",
       "version_major": 2,
       "version_minor": 0
      },
      "text/plain": [
       "tokenizer_config.json:   0%|          | 0.00/1.12k [00:00<?, ?B/s]"
      ]
     },
     "metadata": {},
     "output_type": "display_data"
    },
    {
     "data": {
      "application/vnd.jupyter.widget-view+json": {
       "model_id": "06b61a9383c8430d8b658f73b7d92a86",
       "version_major": 2,
       "version_minor": 0
      },
      "text/plain": [
       "config.json:   0%|          | 0.00/679 [00:00<?, ?B/s]"
      ]
     },
     "metadata": {},
     "output_type": "display_data"
    },
    {
     "data": {
      "application/vnd.jupyter.widget-view+json": {
       "model_id": "2f87d0b57bf143539a6a828609096194",
       "version_major": 2,
       "version_minor": 0
      },
      "text/plain": [
       "vocab.json:   0%|          | 0.00/798k [00:00<?, ?B/s]"
      ]
     },
     "metadata": {},
     "output_type": "display_data"
    },
    {
     "data": {
      "application/vnd.jupyter.widget-view+json": {
       "model_id": "35b8db452772439cb8bd84b0dc529d59",
       "version_major": 2,
       "version_minor": 0
      },
      "text/plain": [
       "merges.txt:   0%|          | 0.00/456k [00:00<?, ?B/s]"
      ]
     },
     "metadata": {},
     "output_type": "display_data"
    },
    {
     "data": {
      "application/vnd.jupyter.widget-view+json": {
       "model_id": "43bf96da954c4fba81f4a0d62c611591",
       "version_major": 2,
       "version_minor": 0
      },
      "text/plain": [
       "tokenizer.json:   0%|          | 0.00/1.36M [00:00<?, ?B/s]"
      ]
     },
     "metadata": {},
     "output_type": "display_data"
    },
    {
     "data": {
      "application/vnd.jupyter.widget-view+json": {
       "model_id": "96b22f6a02bc4c0d86c2551bf4e06593",
       "version_major": 2,
       "version_minor": 0
      },
      "text/plain": [
       "special_tokens_map.json:   0%|          | 0.00/239 [00:00<?, ?B/s]"
      ]
     },
     "metadata": {},
     "output_type": "display_data"
    },
    {
     "data": {
      "application/vnd.jupyter.widget-view+json": {
       "model_id": "15e97fde3cad46c6a13f410ec1bd2117",
       "version_major": 2,
       "version_minor": 0
      },
      "text/plain": [
       "model.safetensors:   0%|          | 0.00/331M [00:00<?, ?B/s]"
      ]
     },
     "metadata": {},
     "output_type": "display_data"
    },
    {
     "data": {
      "application/vnd.jupyter.widget-view+json": {
       "model_id": "90d064f79116417d99a7f7784d9bcfdf",
       "version_major": 2,
       "version_minor": 0
      },
      "text/plain": [
       "model.safetensors:   0%|          | 0.00/328M [00:00<?, ?B/s]"
      ]
     },
     "metadata": {},
     "output_type": "display_data"
    }
   ],
   "source": [
    "mrpc_bert_model_names = ['distilroberta-base',\n",
    "                         'sentence-transformers/nli-distilroberta-base-v2']\n",
    "mrpc_tokenizers = [AutoTokenizer.from_pretrained(bert_model_name)\n",
    "                   for bert_model_name in mrpc_bert_model_names]\n",
    "mrpc_bert_models = [AutoModelForSequenceClassification.from_pretrained(bert_model_name, num_labels=2)\n",
    "                    for bert_model_name in mrpc_bert_model_names]"
   ]
  },
  {
   "cell_type": "markdown",
   "metadata": {
    "id": "0trx2wut4Fw6"
   },
   "source": [
    "We'll need a function to preprocess our data into vocab_ids, using the relevant BERT tokenizer for each model."
   ]
  },
  {
   "cell_type": "code",
   "execution_count": 9,
   "metadata": {
    "id": "jfzn1NUp2PFq"
   },
   "outputs": [],
   "source": [
    "# Define a function to preprocess the data, which takes a tokenizer and dataset\n",
    "\n",
    "max_length = 128\n",
    "\n",
    "def preprocess_mrpc(data, tokenizer):\n",
    "    sents1 = data['sentence1']\n",
    "    sents2 = data['sentence2']\n",
    "\n",
    "    sentence_pairs = [(sents1[i], sents2[i]) for i in range(len(sents1))]\n",
    "    encoded = tokenizer.batch_encode_plus(\n",
    "            sentence_pairs,\n",
    "            add_special_tokens=True,\n",
    "            max_length=max_length,\n",
    "            padding='max_length',\n",
    "            truncation=True,\n",
    "            return_attention_mask=True,\n",
    "            return_token_type_ids=True,\n",
    "            return_tensors=\"pt\"\n",
    "        )\n",
    "\n",
    "    return encoded"
   ]
  },
  {
   "cell_type": "markdown",
   "metadata": {
    "id": "e8p6XZ-o4c7u"
   },
   "source": [
    "We'll use Huggingface's TrainingArguments and Trainer classes to do the fine-tuning. The TrainingArguments class takes an output directory path to save a model checkpoint after each epoch. Set the path to somewhere in your Drive, so that the checkpoint persists after the notebook goes away, so you can load the fine-tuned models again later as needed.\n"
   ]
  },
  {
   "cell_type": "code",
   "execution_count": 10,
   "metadata": {
    "id": "brwP639Pf_Ck"
   },
   "outputs": [],
   "source": [
    "# Edit this filepath to a place in your own Drive where you want to save the model checkpoints.\n",
    "\n",
    "checkpoint_filepath = 'drive/MyDrive/ISchool/MIDS/266/model_checkpoints/mrpc/'"
   ]
  },
  {
   "cell_type": "code",
   "execution_count": 11,
   "metadata": {
    "id": "57lwvDOaig_-"
   },
   "outputs": [],
   "source": [
    "# Create a TrainingArguments object, specifying batch size and num epochs.\n",
    "\n",
    "batch_size = 16\n",
    "num_epochs = 2\n",
    "\n",
    "training_args = TrainingArguments(\n",
    "    output_dir=checkpoint_filepath,\n",
    "    per_device_train_batch_size=batch_size,\n",
    "    per_device_eval_batch_size=batch_size,\n",
    "    num_train_epochs=num_epochs,\n",
    "    eval_strategy=\"epoch\",\n",
    "    save_strategy=\"epoch\",\n",
    "    report_to='none'\n",
    ")"
   ]
  },
  {
   "cell_type": "code",
   "execution_count": 12,
   "metadata": {
    "colab": {
     "base_uri": "https://localhost:8080/",
     "height": 49,
     "referenced_widgets": [
      "96953e8df6534d09b5e9e5fe591c4dcd",
      "d0605ed51dab4d2db6e29b736d829df5",
      "3cb03efdf4fc4078bf33afb16f426c01",
      "b43e29827656448693bd3468d5dd0993",
      "326bfe13af8a4650b233ff5041b93568",
      "79737da710494761ba0f2a4229740d98",
      "7b70b666d6d94e5e95096d84d0a6ecb5",
      "dd9da5433cac4563a020b5462b2e3534",
      "8ae53c6723ff4b4995da7d3c5a618426",
      "37ae6dcc4f444a4da1585e53d8752bbb",
      "f6a04fa59e0447b287afef06731cf5c7"
     ]
    },
    "id": "Rml2Pblljzb5",
    "outputId": "249cc239-a326-44e1-d195-f9192b6f470f"
   },
   "outputs": [
    {
     "data": {
      "application/vnd.jupyter.widget-view+json": {
       "model_id": "96953e8df6534d09b5e9e5fe591c4dcd",
       "version_major": 2,
       "version_minor": 0
      },
      "text/plain": [
       "Downloading builder script:   0%|          | 0.00/4.20k [00:00<?, ?B/s]"
      ]
     },
     "metadata": {},
     "output_type": "display_data"
    }
   ],
   "source": [
    "# Define a compute_metrics function to monitor during training\n",
    "\n",
    "metric = evaluate.load('accuracy')\n",
    "\n",
    "def compute_metrics(p):\n",
    "    predictions, labels = p\n",
    "    predictions = np.argmax(predictions, axis=1)\n",
    "    return metric.compute(predictions=predictions, references=labels)"
   ]
  },
  {
   "cell_type": "markdown",
   "metadata": {
    "id": "b4J934mbDcw1"
   },
   "source": [
    "Both tasks have somewhat imbalanced data, so it's a good idea to apply class weights. We can make a custom Trainer class and just modify the compute_loss to use class weights."
   ]
  },
  {
   "cell_type": "code",
   "execution_count": 13,
   "metadata": {
    "id": "cf8XJ7luDc5G"
   },
   "outputs": [],
   "source": [
    "class CustomTrainer(Trainer):\n",
    "    def __init__(self, class_weights, *args, **kwargs):\n",
    "          super().__init__(*args, **kwargs)\n",
    "          self.class_weights = class_weights\n",
    "\n",
    "    def compute_loss(self, model, inputs, return_outputs=False):\n",
    "        # forward pass\n",
    "        outputs = model(**inputs)\n",
    "        logits = outputs['logits']\n",
    "        # compute custom loss\n",
    "        class_weights = torch.Tensor(self.class_weights)\n",
    "        loss_fn = torch.nn.CrossEntropyLoss(weight=class_weights.cuda())\n",
    "        loss = loss_fn(logits, inputs['labels'])\n",
    "        return (loss, outputs) if return_outputs else loss"
   ]
  },
  {
   "cell_type": "code",
   "execution_count": 14,
   "metadata": {
    "id": "mgAcCTyk1abN"
   },
   "outputs": [],
   "source": [
    "class CustomTrainer(Trainer):\n",
    "    def __init__(self, class_weights, *args, **kwargs):\n",
    "          super().__init__(*args, **kwargs)\n",
    "          self.class_weights = class_weights\n",
    "\n",
    "    def compute_loss(self, model, inputs, return_outputs=False, num_items_in_batch=None): # Add num_items_in_batch=None\n",
    "        # forward pass\n",
    "        outputs = model(**inputs)\n",
    "        logits = outputs['logits']\n",
    "        # compute custom loss\n",
    "        class_weights = torch.Tensor(self.class_weights)\n",
    "        loss_fn = torch.nn.CrossEntropyLoss(weight=class_weights.cuda())\n",
    "        loss = loss_fn(logits, inputs['labels'])\n",
    "        return (loss, outputs) if return_outputs else loss"
   ]
  },
  {
   "cell_type": "markdown",
   "metadata": {
    "id": "etNc1DH7DzWq"
   },
   "source": [
    "We have two models for this task, both of which are small models, along with a small dataset. We'll want to do the same training and evaluation steps on both models, then compare them. Since these models won't take long to train, let's make a loop to preprocess the dataset with each tokenizer, use that data to fine-tune the corresponding model, and save a model checkpoint, so we can do our evaluation and analysis afterwards."
   ]
  },
  {
   "cell_type": "code",
   "execution_count": 15,
   "metadata": {
    "colab": {
     "base_uri": "https://localhost:8080/",
     "height": 272,
     "referenced_widgets": [
      "dcf087b813d54762bbea8248062391d0",
      "20dc764b271a4f0dad0aa9d79cadbbc6",
      "029f550b65874b6286390dc315708dd3",
      "8643650e047243bab0107a6948fc5a23",
      "779a11704f834f9fac5d8a65933250d3",
      "301485a9b9774af198133858f30a6cea",
      "ad1cb375e58f45559f844c5517b966bc",
      "9049c8ff2d134e5c9e5f7d43f661c56c",
      "95151ba92dcd4dd7a3e642395adfe8bb",
      "649e808871934dbd9f5cb423abe00a42",
      "4f766dde88ef445fa900774e6c6cf551",
      "c335c767c99249f891e6866b23daa562",
      "6ea1a96099dd4af4a587df8d4b93bd76",
      "b51efc7cfc0e45a583d57da1cfe3162c",
      "4e76736a825c46e4b4440cc3928cf917",
      "eb988bf7b1e2421f9254f9ecdab9a84c",
      "a4c92d9bb3ed4d8697a4c86988f90da5",
      "110d4a1b689a41b98a2f5f132aafba61",
      "6d4898ad919744c986ddc0803358fd06",
      "509377cbd64345319bd80cf5ca5e6155",
      "1c34586803b6429e82886878016b8fdd",
      "3d01f199e4564408bbfda41e28799435",
      "7ecbd45fcbd6439eb610148db1eab1c9",
      "cc1e3801e56e4560a02663b89b60524c",
      "389d9fca6d8442b3afac183ddf0092f5",
      "7c2c344fce6e4632bed8d7b115fa8172",
      "03fcd27d31f5440c8263c046956759ed",
      "cda6b20f79534502827a7e0499c4b95f",
      "914722b923e644fba6c476cc8ce9018e",
      "6284158e3dad431998f4151fbf17469c",
      "97495afa96194136892d10dae21ff308",
      "2a749353eaa84cd7b48894955ec9c58f",
      "ea45bd86f4a44272934d8d24c18d8da4",
      "97c7081c96824225812aa23790c966f2",
      "d0f240712fd940b2bf0bc46f786c0662",
      "1859d06f905d4f3d9519d0d3791b1148",
      "f4eb81f8418b43228061a85e5726443f",
      "b74732df9c4c4147aabf646e26ee6a1e",
      "798bf7343b814883b4ba15fe9a24d94e",
      "2f708c049e154799a56b313c4cb5be09",
      "01156f4d832c477bbba7ea8e4b24d590",
      "e0b541fd2f1b4c3491c23685452436d5",
      "058edab1f6674f89989cc6f359edaa91",
      "64adbc9e82b2430d905ceb70ebabf7ca"
     ]
    },
    "id": "lDjxXwxd9sRK",
    "outputId": "9234dfcd-80b9-4c9e-a68e-5c6fb493482e"
   },
   "outputs": [
    {
     "data": {
      "application/vnd.jupyter.widget-view+json": {
       "model_id": "dcf087b813d54762bbea8248062391d0",
       "version_major": 2,
       "version_minor": 0
      },
      "text/plain": [
       "Map:   0%|          | 0/3668 [00:00<?, ? examples/s]"
      ]
     },
     "metadata": {},
     "output_type": "display_data"
    },
    {
     "data": {
      "application/vnd.jupyter.widget-view+json": {
       "model_id": "c335c767c99249f891e6866b23daa562",
       "version_major": 2,
       "version_minor": 0
      },
      "text/plain": [
       "Map:   0%|          | 0/408 [00:00<?, ? examples/s]"
      ]
     },
     "metadata": {},
     "output_type": "display_data"
    },
    {
     "name": "stdout",
     "output_type": "stream",
     "text": [
      "{'eval_loss': 0.38633257150650024, 'eval_accuracy': 0.8357843137254902, 'eval_runtime': 1.3117, 'eval_samples_per_second': 311.036, 'eval_steps_per_second': 19.821, 'epoch': 1.0}\n",
      "{'eval_loss': 0.3834766447544098, 'eval_accuracy': 0.8553921568627451, 'eval_runtime': 1.3745, 'eval_samples_per_second': 296.836, 'eval_steps_per_second': 18.916, 'epoch': 2.0}\n",
      "{'train_runtime': 123.2451, 'train_samples_per_second': 59.524, 'train_steps_per_second': 3.732, 'train_loss': 0.4420450625212296, 'epoch': 2.0}\n"
     ]
    },
    {
     "data": {
      "application/vnd.jupyter.widget-view+json": {
       "model_id": "7ecbd45fcbd6439eb610148db1eab1c9",
       "version_major": 2,
       "version_minor": 0
      },
      "text/plain": [
       "Map:   0%|          | 0/3668 [00:00<?, ? examples/s]"
      ]
     },
     "metadata": {},
     "output_type": "display_data"
    },
    {
     "data": {
      "application/vnd.jupyter.widget-view+json": {
       "model_id": "97c7081c96824225812aa23790c966f2",
       "version_major": 2,
       "version_minor": 0
      },
      "text/plain": [
       "Map:   0%|          | 0/408 [00:00<?, ? examples/s]"
      ]
     },
     "metadata": {},
     "output_type": "display_data"
    },
    {
     "name": "stdout",
     "output_type": "stream",
     "text": [
      "{'eval_loss': 0.347034752368927, 'eval_accuracy': 0.8431372549019608, 'eval_runtime': 1.4013, 'eval_samples_per_second': 291.166, 'eval_steps_per_second': 18.555, 'epoch': 1.0}\n",
      "{'eval_loss': 0.4289557933807373, 'eval_accuracy': 0.8553921568627451, 'eval_runtime': 1.4441, 'eval_samples_per_second': 282.523, 'eval_steps_per_second': 18.004, 'epoch': 2.0}\n",
      "{'train_runtime': 98.7395, 'train_samples_per_second': 74.296, 'train_steps_per_second': 4.659, 'train_loss': 0.4259905607804008, 'epoch': 2.0}\n"
     ]
    }
   ],
   "source": [
    "# Now train each model, and store the trained models in a dict for later analysis\n",
    "\n",
    "\n",
    "mrpc_class_weights = softmax(class_weight.compute_class_weight(\n",
    "    'balanced', classes=np.arange(2),  y=mrpc_data['train']['label']))\n",
    "\n",
    "for i in range(len(mrpc_bert_model_names)):\n",
    "\n",
    "    mrpc_train_dataset = mrpc_data['train'].map(preprocess_mrpc, batched=True, fn_kwargs={'tokenizer': mrpc_tokenizers[i]})\n",
    "    mrpc_validation_dataset = mrpc_data['validation'].map(preprocess_mrpc, batched=True, fn_kwargs={'tokenizer': mrpc_tokenizers[i]})\n",
    "\n",
    "    trainer = CustomTrainer(\n",
    "        mrpc_class_weights,\n",
    "        model=mrpc_bert_models[i],\n",
    "        args=training_args,\n",
    "        train_dataset=mrpc_train_dataset,\n",
    "        eval_dataset=mrpc_validation_dataset,\n",
    "        compute_metrics=compute_metrics,\n",
    "    )\n",
    "\n",
    "    trainer.train()"
   ]
  },
  {
   "cell_type": "markdown",
   "metadata": {
    "id": "Fmk-D7hao9xD"
   },
   "source": [
    "The second model (distilroberta-nli) got the highest overall validation accuracy. That said, when the scores are close, it can be difficult to understand which model did better, how much and in what ways, just by looking at a single overall metric.\n",
    "\n",
    "We'll dig into more metrics in the analysis section below. But first let's go through the second task, then we can do the same analysis on both."
   ]
  },
  {
   "cell_type": "markdown",
   "metadata": {
    "id": "4GEKjvNoFYaf"
   },
   "source": [
    "### Task 2. Github Bugs Prediction Challenge (Machine Hack)\n",
    "\n",
    "This dataset contains the titles and bodies of Github discussion posts, labeled with whether the post is about a bug, feature, or question. According to the documentation page, the labels are:\n",
    "- Bug - 0\n",
    "- Feature - 1\n",
    "- Question - 2\n",
    "\n",
    "The [data is available here](https://www.kaggle.com/datasets/arbazkhan971/github-bugs-prediction-challenge-machine-hack?resource=download). Download the data, upload to Google Drive, and mount your Drive to load the data.\n",
    "\n",
    "We'll use the train data file for both training and validation, since the provided test data doesn't have labels (which we need for evaluation). Let's first split the provided train data into our own train/dev split and save as separate files, so that we keep using the same split even if we reload the notebook. Then we can create a Hugginface dataset object from each of those files."
   ]
  },
  {
   "cell_type": "code",
   "execution_count": 18,
   "metadata": {
    "colab": {
     "base_uri": "https://localhost:8080/"
    },
    "id": "h7S_1iIBCwC6",
    "outputId": "55071f34-19df-45e2-ebad-1139e6b5ed1c"
   },
   "outputs": [
    {
     "data": {
      "text/plain": [
       "(150000, 3)"
      ]
     },
     "execution_count": 18,
     "metadata": {},
     "output_type": "execute_result"
    }
   ],
   "source": [
    "github_filepath = 'drive/MyDrive/ISchool/MIDS/266/data/embold_train.json'\n",
    "\n",
    "with open(github_filepath, 'r') as f:\n",
    "    github_data = json.load(f)\n",
    "\n",
    "df_github = pd.DataFrame(github_data)\n",
    "df_github.shape"
   ]
  },
  {
   "cell_type": "code",
   "execution_count": 19,
   "metadata": {
    "colab": {
     "base_uri": "https://localhost:8080/"
    },
    "id": "KB6QFJkiDTb4",
    "outputId": "0f1f0f76-1cb7-4e7e-ab69-c1862adbcc5d"
   },
   "outputs": [
    {
     "data": {
      "text/plain": [
       "array([1, 0, 2])"
      ]
     },
     "execution_count": 19,
     "metadata": {},
     "output_type": "execute_result"
    }
   ],
   "source": [
    "df_github['label'].unique()"
   ]
  },
  {
   "cell_type": "code",
   "execution_count": 20,
   "metadata": {
    "id": "TwHXCz7MDaQI"
   },
   "outputs": [],
   "source": [
    "# Since this is an example notebook, we'll just use 40k training examples and\n",
    "# 1k validation (always shuffling first). You can explore using more on your own.\n",
    "\n",
    "df_github = df_github.sample(frac=1)\n",
    "df_github_train = df_github[0:40000]\n",
    "df_github_dev = df_github[40000:41000]"
   ]
  },
  {
   "cell_type": "code",
   "execution_count": 21,
   "metadata": {
    "id": "DnqApfM1ENgz"
   },
   "outputs": [],
   "source": [
    "# Edit these filepaths to wherever you saved the data in your Drive\n",
    "github_train_filepath = 'drive/MyDrive/ISchool/MIDS/266/data/embold_github_train.csv'\n",
    "github_dev_filepath = 'drive/MyDrive/ISchool/MIDS/266/data/embold_github_dev.csv'\n",
    "\n",
    "df_github_train.to_csv(github_train_filepath, index=False)\n",
    "df_github_dev.to_csv(github_dev_filepath, index=False)"
   ]
  },
  {
   "cell_type": "code",
   "execution_count": 22,
   "metadata": {
    "colab": {
     "base_uri": "https://localhost:8080/",
     "height": 81,
     "referenced_widgets": [
      "82f3a1995560431b88ca985b79f20b91",
      "46a32b0e01a04f76a33a8c9b91a34489",
      "d539a92b82774f1e9e9143d13ac45021",
      "546255cd7b6d43d8b2bd351fb90c089d",
      "3ec311523694459d919f1c1756d40157",
      "43faa8f8f866492d8c3270220f0c7c39",
      "28431b183ff74165a320f62aa312db0d",
      "37130e586846421ab6ed47116096241a",
      "0da7f4a53d97419e99a0ba09a5288825",
      "3ad23046e6894e9e81f3f3ebcc33f444",
      "f7e94f4e5e1944a5b218b34c3fcd4836",
      "fb07fa6e881f47458abceaf7a18814dc",
      "98a76c0884714b0fabfce9660447c279",
      "d66d148a316348f784a508f36bfacee3",
      "c21eee68985b4eccb43da83a674dac1e",
      "0308379280fb4cafa6ec43e7cd537ffa",
      "f7c5b5c6d5a34eb891892bdcb0e2516b",
      "31cb0436819d4132bc8ef0771299376c",
      "355a544ff44a476da4f1b27237fe7c29",
      "f3ddba35948641f682291e82b3fbaac9",
      "893e0dd32a46447da7c29155bf64e615",
      "f10661141a14437c9e017d76c2ffcebe"
     ]
    },
    "id": "AVMQmTW4ENjp",
    "outputId": "25f260a0-1d1e-4920-afcd-bda3c5696a18"
   },
   "outputs": [
    {
     "data": {
      "application/vnd.jupyter.widget-view+json": {
       "model_id": "82f3a1995560431b88ca985b79f20b91",
       "version_major": 2,
       "version_minor": 0
      },
      "text/plain": [
       "Generating train split: 0 examples [00:00, ? examples/s]"
      ]
     },
     "metadata": {},
     "output_type": "display_data"
    },
    {
     "data": {
      "application/vnd.jupyter.widget-view+json": {
       "model_id": "fb07fa6e881f47458abceaf7a18814dc",
       "version_major": 2,
       "version_minor": 0
      },
      "text/plain": [
       "Generating train split: 0 examples [00:00, ? examples/s]"
      ]
     },
     "metadata": {},
     "output_type": "display_data"
    }
   ],
   "source": [
    "# Load the splits as Huggingface datasets\n",
    "github_train_dataset = load_dataset(\"csv\", data_files=github_train_filepath)['train']\n",
    "github_dev_dataset = load_dataset(\"csv\", data_files=github_dev_filepath)['train']"
   ]
  },
  {
   "cell_type": "code",
   "execution_count": 23,
   "metadata": {
    "colab": {
     "base_uri": "https://localhost:8080/"
    },
    "id": "cnvnFoGkENmh",
    "outputId": "f29f3932-2798-4619-b682-214f6f5de205"
   },
   "outputs": [
    {
     "data": {
      "text/plain": [
       "Dataset({\n",
       "    features: ['title', 'body', 'label'],\n",
       "    num_rows: 40000\n",
       "})"
      ]
     },
     "execution_count": 23,
     "metadata": {},
     "output_type": "execute_result"
    }
   ],
   "source": [
    "# Look at what's in the dataset\n",
    "github_train_dataset"
   ]
  },
  {
   "cell_type": "code",
   "execution_count": 24,
   "metadata": {
    "colab": {
     "base_uri": "https://localhost:8080/"
    },
    "id": "TbH1El5emi5j",
    "outputId": "9c5bcde4-799c-47bd-c141-05ba9f7d28a2"
   },
   "outputs": [
    {
     "name": "stdout",
     "output_type": "stream",
     "text": [
      "install error at task  gce-network : create network\n",
      "i can't seem to get past this issue. when i run the install  locally  i get through the first six tasks, then it stops for the error on the gce-network task. the error is  importerror: no module named utils.display .\\r \\r     expected behavior:\\r installation process will complete.\\r \\r     actual behavior:\\r installation process is cancelled because of the gce-network error.\\r \\r     steps to reproduce:\\r 1. run  ./streisand \\r 2. choose google as provider\\r 3. choose 11 as zone\\r 4. key \\ enter\\  for default server name\\r 5. enter location of my streisand.json file\\r 6. key \\ enter\\  to begin install process\\r \\r one interesting note. after step 2, a warning appears before step 3:\\r   warning : found both group and host with same name: localhost \\r \\r then after step 6, during the install process, the task \\ register json file contents\\  returns:\\r  changed:  localhost  \\r \\r     additional details:\\r       log output from ansible or other relevant services  link to gist for longer output : \\r    \\r task  gce-network : create network                                                                                                                                                                            \\r an exception occurred during task execution. to see the full traceback, use -vvv. the error was: importerror: no module named utils.display\\r fatal:  localhost : failed! => {\\ changed\\ : false, \\ failed\\ : true, \\ module_stderr\\ : \\ traceback  most recent call last :\\   file \\\\\\ /var/folders/mw/dy_2c7mn5cvcx10813llsr840000gn/t/ansible_vpseqh/ansible_module_gce_net.py\\\\\\ , line 557, in <module>\\     from ansible.module_utils.gce import  \\   file \\\\\\ /var/folders/mw/dy_2c7mn5cvcx10813llsr840000gn/t/ansible_vpseqh/ansible_modlib.zip/ansible/module_utils/gce.py\\\\\\ , line 30, in <module>\\   file \\\\\\ /var/folders/mw/dy_2c7mn5cvcx10813llsr840000gn/t/ansible_vpseqh/ansible_modlib.zip/ansible/module_utils/gcp.py\\\\\\ , line 64, in <module>\\ importerror: no module named utils.display\\ \\ , \\ module_stdout\\ : \\ \\ , \\ msg\\ : \\ module failure\\ , \\ rc\\ : 1}\\r \\tto retry, use: --limit @/users/markwyner/documents/vpn/streisand/playbooks/google.retry\\r \\r play recap                                                                                                                                                                                                    \\r localhost                  : ok=6    changed=1    unreachable=0    failed=1\\r    \\r       target cloud provider:  google\\r       operating system of target host:  default vpn server setup\\r       operating system of client:  macos 10.12.5\\r       version of ansible, using  ansible --version  :  2.3.10\\r \\r when i check my version of ansible i get the following returned:\\r \\r    \\r ansible 2.3.1.0\\r   config file = /mypath/ansible.cfg\\r   configured module search path = default w/o overrides\\r   python version = 2.7.13  default, jul  7 2017, 17:40:26   gcc 4.2.1 compatible apple llvm 8.1.0  clang-802.0.42  \\r    \\r i'm running homebrew 1.2.4 and python 2.7.10, my google cloud instance is brand new, and i just cloned the streisand repo, so that's current. perhaps is there an issue with ansible seeking that python version 2.7.13?\\r \\r i have already referenced issues  584 and  629, but solutions there aren't fixing my issue. i understand a lot of this and use terminal for many daily workflows in development, but a lot of this server stuff is new to me.\\r \\r i'd love any help anyone might have. thanks in advance.\n",
      "0\n",
      "\n",
      "feature request add remote url to images\n",
      "here is the code:\\r  if image == nil \\r         {\\r             nsurl  url =  nsurl urlwithstring:imagepath ;\\r             nsdata  imagedata =  nsdata datawithcontentsofurl:url ;\\r             image =  uiimage imagewithdata:imagedata ;\\r         }\\r \\r add the above code in the addimageparsingwithimageformattingblock after\\r  uiimage  image =  uiimage imagenamed:imagepath ;\\r \\r basically this checks for the remote url path if the existing path is not a local path.\n",
      "1\n",
      "\n",
      "add backface culling option\n",
      "add the option to enable/disable backface culling.\n",
      "1\n",
      "\n",
      "logo.png is overwritten in cloned animal\n",
      "if an animal with an preexisting  logo.png  in its  wiki  namespace is used as a template for a new animal, that  logo.png  is overwritten with a newly generated logo.\n",
      "0\n",
      "\n"
     ]
    }
   ],
   "source": [
    "# Look at the first few examples in the data\n",
    "for i in range(4):\n",
    "    print(github_train_dataset['title'][i])\n",
    "    print(github_train_dataset['body'][i])\n",
    "    print(github_train_dataset['label'][i])\n",
    "    print()"
   ]
  },
  {
   "cell_type": "markdown",
   "metadata": {
    "id": "D5ELpav53Ael"
   },
   "source": [
    "#### Models\n",
    "\n",
    "For the Github task, we'll also start with distilroberta-base as our first model. For comparison, we'll use a model that has been fine-tuned on a SQuAD question answering dataset.\n",
    "\n",
    "The SQuAD task doesn't seem quite as related to our Github issues classification task, as the NLI task was to the MRPC paraphrase task. I looked for a DistilRoBERTa model that had already been fine-tuned on something like a customer complaints dataset, thinking that might have some similar concepts to Githug bug and issue reports. But DistilRoBERTa isn't quite as commonly used as the larger BERT models, so there weren't as many options in Huggingface. Still, question-answering is somewhat related, since the Github issues often involve questions that users are asking to be solved. We'll see how well it works for our main task.\n",
    "\n",
    "As with the MRPC task, we're using the AutoModelForSequenceClassification model class. The AutoModel classes infer which type of model (BERT, etc) to load based on the model checkpoint name. The ForSequenceClassification part means that Huggingface will use the pre-trained BERT model up until its last hidden layer, and add a new dense classification layer at the end for our task (passing the BERT CLS pooler output into the classification layer). Since the github task has three classes, we need to specify the size the output layer we want when loading the model (using num_labels=3)."
   ]
  },
  {
   "cell_type": "code",
   "execution_count": 25,
   "metadata": {
    "colab": {
     "base_uri": "https://localhost:8080/",
     "height": 241,
     "referenced_widgets": [
      "bcb65c045dcd4628931a191fea2b0ed5",
      "270f4df6e3d64bb681904ddae3b113a9",
      "abe6974f1d954d6d89fa6efb8cbc0ae9",
      "e9f1f490c2b64a4b947ad8239363c681",
      "d147f89900e9420e8602ac9762b248a8",
      "321b09fcf9f243c5932f35718feb8ae6",
      "269a165a43b64f9f91e13d7ce337624d",
      "1f315edba6564dc9ad1f0f0889a9fd4f",
      "7913e7885fb04700bd23b5d9f6e0be57",
      "a86a479746fc4444a483c6ee2e41f727",
      "73c13265a7b045fe9e4cd30e14531f70",
      "8dd78f3cf42245f9a9d7abdcc30f6251",
      "55946a7ee379410e8de2aea4fee2ca88",
      "e4aff6b3d7974da79df0922a0840c096",
      "65880ff1368c4aea96400f18139d1371",
      "6518bd96cb1d486f97a172dd80606048",
      "f50a2c40f2ae4ea1888c797e149e798e",
      "7c23523cd2e54db8b7b9a581f749d7be",
      "835519b2c18b416a9c9d700f43d32384",
      "656d9d1732de455981c96205626c0e48",
      "2415d92ff29b4da5afd7dd6ae188a62d",
      "c2f75070dc0c45509c45dc29286a853c",
      "7305c96d6eab48dcad6ccdc38fadbcfe",
      "f2d634c612ca467198266543b47929fc",
      "4fb692ede20d4a18a4200e294223725b",
      "bf79917dab9c4e23935e1f8ec7dbac82",
      "287471b1af7f4dcda13c6a0b60ccac1a",
      "ddaf7400d1b142eba1ba8cc68d17fa3b",
      "5496c6e933604f3a9847af8474dcb071",
      "a0004d43371f4079988bcb13282eda02",
      "a6439cd31880474faaea6f6f65562d03",
      "91921904aec141b18f4a5a6da2270459",
      "f01566737c0d47e9a676eaeceb1a7221",
      "fbb05b43edad4c1890c3bc989527c96c",
      "1a9c98f1f40346cc967e627afcd2d7cb",
      "865ede02ea1a48789df085fdcddc4b68",
      "84e8ca156d5a4b968df268665f1f73be",
      "a05cece3c53546e2b0a27c100a41c39b",
      "607826b8cb5b4b008ac0e40273d9ffa9",
      "2f2cf4858ca34e6cb3f1beb544d258a7",
      "fd3e8d16de7a44f2a1ce17d9ba9c01ad",
      "dc3ad872bd0f42329411a279f864c66b",
      "99f9f99a544f4229bc93b03ec4c9b87b",
      "02ee99ae92e8407786be544d1e18faaa",
      "a1ca351ef4504b43bf70508846f59895",
      "d96fff957ed34168b4ba37cadf1fc382",
      "28c6315f76e049a8b9ea8f6016f6dc91",
      "3f63fb2030b34687a73ccc7889440983",
      "b33028217aa34863bca6030e23414c88",
      "890c121e4c7e4f69914d93f1212ac065",
      "c944f7dacce248b8819867323d572375",
      "149ad52934ca4f629afebdc35bef14ec",
      "5ecc58e6c2294abaa19b323b508cf629",
      "f4fe4f757d1e4dfb863d665cb0d3ed82",
      "c8b23436bd6a4fd390f0ba4792e1d61b",
      "e760801cce1d44f1a0d603160b822ad6",
      "b7e99760aaeb400189d6057d6d46dfc6",
      "0135fbb39c244ea59858cb80901a201e",
      "a55774333a844cd2b5cc7e02a745932f",
      "d0ef42e33ec44b83838d52b90d1f0cae",
      "cca26532063740c2bab9772e618bdd4c",
      "0cd74a51e17b43a3841e8401ede8986f",
      "074eae552aa34c7198d8c1e0291b35b9",
      "375da3306443409fb5fe47d092eaf9e9",
      "58b3e9ab494c403499677289645bc526",
      "9402806c2c67487488f4b375ea70db7c",
      "4000dae1997747c1ba0d2d9a60c2c274",
      "241b6f07fd0d456c862d7448fdc3eab1",
      "ce4d6566a6c24d578895d496639e0fa1",
      "0c537da3ac4b4a3cb773d7a17bd1ff45",
      "15f373fdc90948c3bb5f66286a72fd51",
      "d387103467e2463d8d7e582dfe619823",
      "c233d85b9bfe45bfb8846f99031c5712",
      "448e860403694bd9ab4242efb85b0e10",
      "99c47e4926cb4b1baee3b315811fb2bc",
      "1b031ed56c364001a3ae7653aa771310",
      "773ead8bbee942e0a5ad143f4791562c"
     ]
    },
    "id": "cozEFoH53Am8",
    "outputId": "ea48aae9-a67c-4bc0-addc-27e970da7a16"
   },
   "outputs": [
    {
     "data": {
      "application/vnd.jupyter.widget-view+json": {
       "model_id": "bcb65c045dcd4628931a191fea2b0ed5",
       "version_major": 2,
       "version_minor": 0
      },
      "text/plain": [
       "tokenizer_config.json:   0%|          | 0.00/355 [00:00<?, ?B/s]"
      ]
     },
     "metadata": {},
     "output_type": "display_data"
    },
    {
     "data": {
      "application/vnd.jupyter.widget-view+json": {
       "model_id": "8dd78f3cf42245f9a9d7abdcc30f6251",
       "version_major": 2,
       "version_minor": 0
      },
      "text/plain": [
       "vocab.json:   0%|          | 0.00/798k [00:00<?, ?B/s]"
      ]
     },
     "metadata": {},
     "output_type": "display_data"
    },
    {
     "data": {
      "application/vnd.jupyter.widget-view+json": {
       "model_id": "7305c96d6eab48dcad6ccdc38fadbcfe",
       "version_major": 2,
       "version_minor": 0
      },
      "text/plain": [
       "merges.txt:   0%|          | 0.00/456k [00:00<?, ?B/s]"
      ]
     },
     "metadata": {},
     "output_type": "display_data"
    },
    {
     "data": {
      "application/vnd.jupyter.widget-view+json": {
       "model_id": "fbb05b43edad4c1890c3bc989527c96c",
       "version_major": 2,
       "version_minor": 0
      },
      "text/plain": [
       "tokenizer.json:   0%|          | 0.00/2.11M [00:00<?, ?B/s]"
      ]
     },
     "metadata": {},
     "output_type": "display_data"
    },
    {
     "data": {
      "application/vnd.jupyter.widget-view+json": {
       "model_id": "a1ca351ef4504b43bf70508846f59895",
       "version_major": 2,
       "version_minor": 0
      },
      "text/plain": [
       "special_tokens_map.json:   0%|          | 0.00/239 [00:00<?, ?B/s]"
      ]
     },
     "metadata": {},
     "output_type": "display_data"
    },
    {
     "data": {
      "application/vnd.jupyter.widget-view+json": {
       "model_id": "e760801cce1d44f1a0d603160b822ad6",
       "version_major": 2,
       "version_minor": 0
      },
      "text/plain": [
       "config.json:   0%|          | 0.00/698 [00:00<?, ?B/s]"
      ]
     },
     "metadata": {},
     "output_type": "display_data"
    },
    {
     "data": {
      "application/vnd.jupyter.widget-view+json": {
       "model_id": "4000dae1997747c1ba0d2d9a60c2c274",
       "version_major": 2,
       "version_minor": 0
      },
      "text/plain": [
       "pytorch_model.bin:   0%|          | 0.00/326M [00:00<?, ?B/s]"
      ]
     },
     "metadata": {},
     "output_type": "display_data"
    }
   ],
   "source": [
    "github_bert_model_names = ['distilroberta-base',\n",
    "                           'squirro/distilroberta-base-squad_v2']\n",
    "github_tokenizers = [AutoTokenizer.from_pretrained(bert_model_name)\n",
    "                   for bert_model_name in github_bert_model_names]\n",
    "github_bert_models = [AutoModelForSequenceClassification.from_pretrained(bert_model_name, num_labels=3)\n",
    "                    for bert_model_name in github_bert_model_names]"
   ]
  },
  {
   "cell_type": "markdown",
   "metadata": {
    "id": "iawcL8cb7V6y"
   },
   "source": [
    "Create a preprocessing function for the task, similar to MRPC, which takes the relevant tokenizer for the model to be used."
   ]
  },
  {
   "cell_type": "code",
   "execution_count": 26,
   "metadata": {
    "id": "dA0EULKHENuH"
   },
   "outputs": [],
   "source": [
    "# Define a function to preprocess the data, which takes a tokenizer and dataset\n",
    "\n",
    "def preprocess_github(data, tokenizer):\n",
    "    titles = data['title']\n",
    "    bodies = data['body']\n",
    "\n",
    "    text_pairs = [(titles[i], bodies[i]) for i in range(len(titles))]\n",
    "    encoded = tokenizer.batch_encode_plus(\n",
    "            text_pairs,\n",
    "            add_special_tokens=True,\n",
    "            max_length=max_length,\n",
    "            padding='max_length',\n",
    "            truncation=True,\n",
    "            return_attention_mask=True,\n",
    "            return_token_type_ids=True,\n",
    "            return_tensors=\"pt\"\n",
    "        )\n",
    "\n",
    "    return encoded"
   ]
  },
  {
   "cell_type": "markdown",
   "metadata": {
    "id": "i3onxWiu7iDF"
   },
   "source": [
    "Same as with the MRPC task, for the Github task we'll make one TrainingArguments object, and specify a filepath to save the model checkpoints. Then we'll make a loop to preprocess the dataset with each tokenizer, use that data to fine-tune the corresponding model, and save a model so we can do our evaluation and analysis afterwards."
   ]
  },
  {
   "cell_type": "code",
   "execution_count": 27,
   "metadata": {
    "id": "4b8sstxWkux1"
   },
   "outputs": [],
   "source": [
    "# Edit this filepath to a place in your own Drive where you want to save the fine-tuned github models.\n",
    "\n",
    "checkpoint_filepath = 'drive/MyDrive/ISchool/MIDS/266/model_checkpoints/github/'"
   ]
  },
  {
   "cell_type": "code",
   "execution_count": 28,
   "metadata": {
    "id": "l7Tjma0ckvFD"
   },
   "outputs": [],
   "source": [
    "batch_size = 16\n",
    "num_epochs = 2\n",
    "\n",
    "training_args = TrainingArguments(\n",
    "    output_dir=checkpoint_filepath,\n",
    "    per_device_train_batch_size=batch_size,\n",
    "    per_device_eval_batch_size=batch_size,\n",
    "    num_train_epochs=num_epochs,\n",
    "    eval_strategy=\"epoch\",\n",
    "    save_strategy=\"epoch\",\n",
    "    report_to='none'\n",
    ")"
   ]
  },
  {
   "cell_type": "code",
   "execution_count": 29,
   "metadata": {
    "colab": {
     "base_uri": "https://localhost:8080/",
     "height": 629,
     "referenced_widgets": [
      "53a37719f5104a90a1b7a0c6fec522e2",
      "ec9a6c4f118f4a5ea81138a5b73260aa",
      "aecfce2d569f49e5bc4828d8c2d7433b",
      "ad352a2bb3cc46b3895c73db14a49cf9",
      "e83081a4eaab47f08a104602a8da8f68",
      "b853e3b8b2814125bd62a791a198edf3",
      "969c15e4ab5540298b18a0609d94579c",
      "f01369be39bd4c0aafb561f4ae9037d1",
      "84888d0e12314239a099b9dc4353f21f",
      "d622b7f6b9a441608af584f5bb544e7b",
      "80d5a509d28645ecadcde421dc976827",
      "e479e8da3e9e42e3a716b4dc5715fd9d",
      "a056899e192341f28c138bf3bdec5d73",
      "a568b4f6c0d9484eafd5eb2695c451d4",
      "c83f2646e19d43329e34796a89dd63ab",
      "ed463795f5ac4a0088a20c8404937fcb",
      "8e29439fbfd844cd8549c80c655ccac8",
      "d1d470c9caba4bb8acde083c36fb6a71",
      "c4ea5413167f47fea24c60c1155ba24d",
      "c461b13664c7446b8856331e9ea527cf",
      "d07699d80e8f4fcdb42d938412029d3d",
      "eac81bd794034d64831fdad178cbf8df",
      "52a18efa33cc47e0ae2425bc85d86f15",
      "41d0421769f64538a50925448a1ba70f",
      "e256385282bd414a812913b87afc6abb",
      "2052e8cfd9d34cb4a07def12fa10421f",
      "0a1b26aacc3e48c699746490f190475e",
      "f3a76efc7a1345b3a3249bd4620cdf12",
      "2935e66f5ce743f7a21d735997ea99a4",
      "c7441d032f0c4ccaaafd1f76456d2ef6",
      "232dfd1c5a2b44669a442914a14c2150",
      "58736c42478e4504883a6eb89a1de938",
      "01d0701cf392420dae1fc3c8d3b8674a",
      "4c2cd1368669445385617fa6bbf8287a",
      "e8cfca84922e4737b5843a31b0e7d647",
      "f89c721c1a3743dc869af55a5354577e",
      "3e7c62d68bae47b7b7f23afa4f837623",
      "b23badf6b8ed4322ba83e10430a98306",
      "d8556e5c40f441888c40504fcad2ce37",
      "907268e4da6c4fd7a7d1b01526502a9d",
      "bfc8ff8733ea482a99e15cf139c4abfb",
      "623acc70bad34b7c9d650bd262838636",
      "846e94d47d5649f4832d5fe477808f2c",
      "63aead35b25742388f524ba488e5340f"
     ]
    },
    "id": "KyPk1kLpENzW",
    "outputId": "4d994bfb-9bdb-4c17-f302-a6bf0d508e6b"
   },
   "outputs": [
    {
     "data": {
      "application/vnd.jupyter.widget-view+json": {
       "model_id": "53a37719f5104a90a1b7a0c6fec522e2",
       "version_major": 2,
       "version_minor": 0
      },
      "text/plain": [
       "Map:   0%|          | 0/40000 [00:00<?, ? examples/s]"
      ]
     },
     "metadata": {},
     "output_type": "display_data"
    },
    {
     "data": {
      "application/vnd.jupyter.widget-view+json": {
       "model_id": "e479e8da3e9e42e3a716b4dc5715fd9d",
       "version_major": 2,
       "version_minor": 0
      },
      "text/plain": [
       "Map:   0%|          | 0/1000 [00:00<?, ? examples/s]"
      ]
     },
     "metadata": {},
     "output_type": "display_data"
    },
    {
     "name": "stdout",
     "output_type": "stream",
     "text": [
      "{'loss': 0.7968, 'grad_norm': 5.698744297027588, 'learning_rate': 4.5e-05, 'epoch': 0.2}\n",
      "{'loss': 0.6847, 'grad_norm': 10.282373428344727, 'learning_rate': 4e-05, 'epoch': 0.4}\n",
      "{'loss': 0.6685, 'grad_norm': 10.528538703918457, 'learning_rate': 3.5e-05, 'epoch': 0.6}\n",
      "{'loss': 0.659, 'grad_norm': 8.259747505187988, 'learning_rate': 3e-05, 'epoch': 0.8}\n",
      "{'loss': 0.6137, 'grad_norm': 12.956867218017578, 'learning_rate': 2.5e-05, 'epoch': 1.0}\n",
      "{'eval_loss': 0.6534878611564636, 'eval_accuracy': 0.709, 'eval_runtime': 3.6736, 'eval_samples_per_second': 272.212, 'eval_steps_per_second': 17.149, 'epoch': 1.0}\n",
      "{'loss': 0.5651, 'grad_norm': 2.7105860710144043, 'learning_rate': 2e-05, 'epoch': 1.2}\n",
      "{'loss': 0.5582, 'grad_norm': 28.551937103271484, 'learning_rate': 1.5e-05, 'epoch': 1.4}\n",
      "{'loss': 0.5658, 'grad_norm': 3.9467906951904297, 'learning_rate': 1e-05, 'epoch': 1.6}\n",
      "{'loss': 0.5276, 'grad_norm': 33.218536376953125, 'learning_rate': 5e-06, 'epoch': 1.8}\n",
      "{'loss': 0.5484, 'grad_norm': 0.9847356677055359, 'learning_rate': 0.0, 'epoch': 2.0}\n",
      "{'eval_loss': 0.6750354170799255, 'eval_accuracy': 0.795, 'eval_runtime': 3.6131, 'eval_samples_per_second': 276.77, 'eval_steps_per_second': 17.436, 'epoch': 2.0}\n",
      "{'train_runtime': 950.3838, 'train_samples_per_second': 84.177, 'train_steps_per_second': 5.261, 'train_loss': 0.6187928833007813, 'epoch': 2.0}\n"
     ]
    },
    {
     "data": {
      "application/vnd.jupyter.widget-view+json": {
       "model_id": "52a18efa33cc47e0ae2425bc85d86f15",
       "version_major": 2,
       "version_minor": 0
      },
      "text/plain": [
       "Map:   0%|          | 0/40000 [00:00<?, ? examples/s]"
      ]
     },
     "metadata": {},
     "output_type": "display_data"
    },
    {
     "data": {
      "application/vnd.jupyter.widget-view+json": {
       "model_id": "4c2cd1368669445385617fa6bbf8287a",
       "version_major": 2,
       "version_minor": 0
      },
      "text/plain": [
       "Map:   0%|          | 0/1000 [00:00<?, ? examples/s]"
      ]
     },
     "metadata": {},
     "output_type": "display_data"
    },
    {
     "name": "stdout",
     "output_type": "stream",
     "text": [
      "{'loss': 0.826, 'grad_norm': 12.853898048400879, 'learning_rate': 4.5e-05, 'epoch': 0.2}\n",
      "{'loss': 0.6894, 'grad_norm': 5.896997451782227, 'learning_rate': 4e-05, 'epoch': 0.4}\n",
      "{'loss': 0.6894, 'grad_norm': 10.591928482055664, 'learning_rate': 3.5e-05, 'epoch': 0.6}\n",
      "{'loss': 0.6616, 'grad_norm': 8.36054801940918, 'learning_rate': 3e-05, 'epoch': 0.8}\n",
      "{'loss': 0.6285, 'grad_norm': 16.856918334960938, 'learning_rate': 2.5e-05, 'epoch': 1.0}\n",
      "{'eval_loss': 0.6086733341217041, 'eval_accuracy': 0.733, 'eval_runtime': 3.5695, 'eval_samples_per_second': 280.152, 'eval_steps_per_second': 17.65, 'epoch': 1.0}\n",
      "{'loss': 0.585, 'grad_norm': 2.0330140590667725, 'learning_rate': 2e-05, 'epoch': 1.2}\n",
      "{'loss': 0.5677, 'grad_norm': 6.7748026847839355, 'learning_rate': 1.5e-05, 'epoch': 1.4}\n",
      "{'loss': 0.5652, 'grad_norm': 2.9481008052825928, 'learning_rate': 1e-05, 'epoch': 1.6}\n",
      "{'loss': 0.5381, 'grad_norm': 17.642711639404297, 'learning_rate': 5e-06, 'epoch': 1.8}\n",
      "{'loss': 0.5544, 'grad_norm': 0.9038506150245667, 'learning_rate': 0.0, 'epoch': 2.0}\n",
      "{'eval_loss': 0.6860965490341187, 'eval_accuracy': 0.788, 'eval_runtime': 3.6471, 'eval_samples_per_second': 274.191, 'eval_steps_per_second': 17.274, 'epoch': 2.0}\n",
      "{'train_runtime': 953.8828, 'train_samples_per_second': 83.868, 'train_steps_per_second': 5.242, 'train_loss': 0.6305205932617187, 'epoch': 2.0}\n"
     ]
    }
   ],
   "source": [
    "# Now train each model, and store the trained models in a dict for later analysis\n",
    "\n",
    "max_length = 128\n",
    "\n",
    "github_class_weights = softmax(class_weight.compute_class_weight(\n",
    "    'balanced', classes=np.arange(3), y=github_train_dataset['label']))\n",
    "\n",
    "for i in range(len(github_bert_model_names)):\n",
    "\n",
    "    github_train_dataset_ready = github_train_dataset.map(preprocess_github, batched=True, fn_kwargs={'tokenizer': github_tokenizers[i]})\n",
    "    github_dev_dataset_ready = github_dev_dataset.map(preprocess_github, batched=True, fn_kwargs={'tokenizer': github_tokenizers[i]})\n",
    "\n",
    "    trainer = CustomTrainer(\n",
    "        github_class_weights,\n",
    "        model=github_bert_models[i],\n",
    "        args=training_args,\n",
    "        train_dataset=github_train_dataset_ready,\n",
    "        eval_dataset=github_dev_dataset_ready,\n",
    "        compute_metrics=compute_metrics,\n",
    "    )\n",
    "\n",
    "    trainer.train()"
   ]
  },
  {
   "cell_type": "markdown",
   "metadata": {
    "id": "Z8Fy474DqH2y"
   },
   "source": [
    "In this task, it also look slike the second model (the SQuAD fine-tuned model) did a little better than the first (distilroberta-base). But again, the validation accuracy numbers are close, so we should dive in further to try to understand more about when and/or why one model works better than another for this task."
   ]
  },
  {
   "cell_type": "markdown",
   "metadata": {
    "id": "1XCL1D_cu8PM"
   },
   "source": [
    "### Breaking Down Evaluation Metrics\n",
    "\n",
    "Does the validation accuracy shown above give us enough info to simply pick a winning model? Is there more that we can try to understand about which model works better under what conditions, or what types of errors each one is making, so that we can learn how to use them and try to further improve them?\n",
    "\n",
    "For instance, is one model missing more bugs or features than the other (in the Github data)? Is one over- or under-predicting paraphrase equivalence (in the MRPC data)? A good place to start is to look at precision and recall by label class, as well as a confusion matrix. We'll use the validation data for each task to do so."
   ]
  },
  {
   "cell_type": "code",
   "execution_count": 30,
   "metadata": {
    "id": "-38g_gO_MSYh"
   },
   "outputs": [],
   "source": [
    "def plot_confusion_matrix(y_true, y_pred, label_names):\n",
    "    cm = confusion_matrix(y_true, y_pred)\n",
    "    cm = cm/cm.sum(axis=1)[:, np.newaxis]\n",
    "\n",
    "    plt.figure(figsize=(20,7))\n",
    "    sns.heatmap(\n",
    "        cm, annot=True,\n",
    "        xticklabels=label_names,\n",
    "        yticklabels=label_names)\n",
    "    plt.xlabel(\"Predicted\")\n",
    "    plt.ylabel(\"True\")"
   ]
  },
  {
   "cell_type": "code",
   "execution_count": 31,
   "metadata": {
    "colab": {
     "base_uri": "https://localhost:8080/",
     "height": 1000
    },
    "id": "DEjiPEK9sDxD",
    "outputId": "71e28f5f-5d02-480e-fa93-e30d6bad0c73"
   },
   "outputs": [
    {
     "name": "stdout",
     "output_type": "stream",
     "text": [
      "distilroberta-base\n",
      "              precision    recall  f1-score   support\n",
      "\n",
      "           0       0.73      0.85      0.79       129\n",
      "           1       0.93      0.86      0.89       279\n",
      "\n",
      "    accuracy                           0.86       408\n",
      "   macro avg       0.83      0.85      0.84       408\n",
      "weighted avg       0.87      0.86      0.86       408\n",
      "\n",
      "sentence-transformers/nli-distilroberta-base-v2\n",
      "              precision    recall  f1-score   support\n",
      "\n",
      "           0       0.75      0.82      0.78       129\n",
      "           1       0.91      0.87      0.89       279\n",
      "\n",
      "    accuracy                           0.86       408\n",
      "   macro avg       0.83      0.85      0.84       408\n",
      "weighted avg       0.86      0.86      0.86       408\n",
      "\n"
     ]
    },
    {
     "data": {
      "image/png": "[encoded data removed]",
      "text/plain": [
       "<Figure size 2000x700 with 2 Axes>"
      ]
     },
     "metadata": {},
     "output_type": "display_data"
    },
    {
     "data": {
      "image/png": "[encoded data removed]",
      "text/plain": [
       "<Figure size 2000x700 with 2 Axes>"
      ]
     },
     "metadata": {},
     "output_type": "display_data"
    }
   ],
   "source": [
    "# Print classification report and confusion matrix for each model, for MRPC task.\n",
    "\n",
    "mrpc_label_names = mrpc_data['train'].features['label'].names\n",
    "\n",
    "mrpc_wrong_guesses = {}  # Save indices of wrong guesses so we can look at them later\n",
    "\n",
    "batch_size = 16\n",
    "num_batches = int((len(mrpc_data['validation']['label']) + batch_size - 1) / batch_size)\n",
    "\n",
    "for i in range(len(mrpc_bert_model_names)):\n",
    "    print(mrpc_bert_model_names[i])\n",
    "\n",
    "    mrpc_validation_labels = mrpc_data['validation']['label']\n",
    "    mrpc_y_preds = []\n",
    "\n",
    "    for batch in range(num_batches):\n",
    "        mrpc_validation_inputs = preprocess_mrpc(mrpc_data['validation'][batch*batch_size:(batch+1)*batch_size], mrpc_tokenizers[i])\n",
    "        mrpc_y_logits = mrpc_bert_models[i].cpu()(**mrpc_validation_inputs).logits.detach().numpy()\n",
    "        mrpc_y_preds.append(np.argmax(mrpc_y_logits, axis=1))\n",
    "\n",
    "    mrpc_y_pred = np.concatenate(mrpc_y_preds, axis=0)\n",
    "    print(classification_report(mrpc_validation_labels, mrpc_y_pred))\n",
    "\n",
    "    plot_confusion_matrix(mrpc_validation_labels, mrpc_y_pred, mrpc_label_names)\n",
    "\n",
    "    mrpc_wrong_guesses[mrpc_bert_model_names[i]] = np.where(mrpc_validation_labels != mrpc_y_pred)"
   ]
  },
  {
   "cell_type": "markdown",
   "metadata": {
    "id": "JchG0UAxrCzZ"
   },
   "source": [
    "For the MRPC task, the second model (distilroberta-nli) does appear to perform better than the first model (distilroberta-base). In particular, it seems to have handled the imbalanced data a little better.\n",
    "\n",
    "The first model slightly overpredicts the majority class, while the second model is more balanced. The largest difference in category-level metrics is how much the second model increased recall of the minority class over the first model.\n",
    "\n",
    "This seems to support our hypothesis that the second model's prior training on an NLI dataset helped it do well on our MRPC paraphrase task. It's not perfect, though. So we should still take a look at some examples that the model is still getting wrong (below).\n",
    "\n",
    "But first, let's print the same breakdown of evaluation metrics and confusion matrix for the second task, the Github issues."
   ]
  },
  {
   "cell_type": "code",
   "execution_count": 32,
   "metadata": {
    "colab": {
     "base_uri": "https://localhost:8080/",
     "height": 1000
    },
    "id": "B8TJHUNIEN2J",
    "outputId": "e8343839-710e-4ab1-ea25-5937b7a2b24f"
   },
   "outputs": [
    {
     "name": "stdout",
     "output_type": "stream",
     "text": [
      "distilroberta-base\n",
      "              precision    recall  f1-score   support\n",
      "\n",
      "           0       0.82      0.82      0.82       430\n",
      "           1       0.90      0.79      0.84       491\n",
      "           2       0.38      0.68      0.49        79\n",
      "\n",
      "    accuracy                           0.80      1000\n",
      "   macro avg       0.70      0.76      0.72      1000\n",
      "weighted avg       0.83      0.80      0.81      1000\n",
      "\n",
      "squirro/distilroberta-base-squad_v2\n",
      "              precision    recall  f1-score   support\n",
      "\n",
      "           0       0.83      0.81      0.82       430\n",
      "           1       0.90      0.79      0.84       491\n",
      "           2       0.36      0.68      0.47        79\n",
      "\n",
      "    accuracy                           0.79      1000\n",
      "   macro avg       0.70      0.76      0.71      1000\n",
      "weighted avg       0.83      0.79      0.80      1000\n",
      "\n"
     ]
    },
    {
     "data": {
      "image/png": "[encoded data removed]",
      "text/plain": [
       "<Figure size 2000x700 with 2 Axes>"
      ]
     },
     "metadata": {},
     "output_type": "display_data"
    },
    {
     "data": {
      "image/png": "[encoded data removed]",
      "text/plain": [
       "<Figure size 2000x700 with 2 Axes>"
      ]
     },
     "metadata": {},
     "output_type": "display_data"
    }
   ],
   "source": [
    "# Print classification report and confusion matrix for each model, for Github issues task.\n",
    "\n",
    "github_label_names = ['bug', 'feature', 'question']\n",
    "\n",
    "github_wrong_guesses = {}\n",
    "\n",
    "batch_size = 16\n",
    "num_batches = int((len(github_dev_dataset['label']) + batch_size - 1) / batch_size)\n",
    "\n",
    "for i in range(len(github_bert_model_names)):\n",
    "    print(github_bert_model_names[i])\n",
    "\n",
    "    github_validation_labels = github_dev_dataset['label']\n",
    "    github_y_preds = []\n",
    "\n",
    "    for batch in range(num_batches):\n",
    "        github_validation_inputs = preprocess_github(github_dev_dataset[batch*batch_size:(batch+1)*batch_size], github_tokenizers[i])\n",
    "        github_y_logits = github_bert_models[i].cpu()(**github_validation_inputs).logits.detach().numpy()\n",
    "        github_y_preds.append(np.argmax(github_y_logits, axis=1))\n",
    "\n",
    "    github_y_pred = np.concatenate(github_y_preds, axis=0)\n",
    "    print(classification_report(github_validation_labels, github_y_pred))\n",
    "\n",
    "    plot_confusion_matrix(github_validation_labels, github_y_pred, github_label_names)\n",
    "\n",
    "    github_wrong_guesses[github_bert_model_names[i]] = np.where(github_validation_labels != github_y_pred)"
   ]
  },
  {
   "cell_type": "markdown",
   "metadata": {
    "id": "rh3YR1G9zUAE"
   },
   "source": [
    "The story is similar here. The second model (the SQuAD trained one) seems to perform better than the first model (distilroberta-base) across all categories, but especially the smallest category (questions). That is by far the smallest category, and both models struggled with it. But the first model underpredicted questions more than the second model.\n",
    "\n",
    "Hey, that kind of makes sense, right? The questions category is so small, that the general-purpose base model has not learned to identify it very well. But the second model, which was specifically trained to understand questions (via the SQuAD dataset), seems better able to recognize what a question is, even when our dataset for this task has very few of them.\n",
    "\n",
    "This might also be a realization we could have made after we trained and evaluated the first model. Even if we didn't think to use a model fine-tuned on question answering at first, we might think of it after looking at the first model's results. Since the first model is weakest on that third category of questions, and we might not have a way to augment the data to add more Github-style question examples, we might consider trying fine-tuning our model another dataset more focused on question style text in order to help it better recognize questions in the Github dataset.\n",
    "\n",
    "Let's see if there's anything else we can learn about this model comparison, or further evidence we can use to validate what we think is happening, when we look at the remaining misclassifications directly."
   ]
  },
  {
   "cell_type": "markdown",
   "metadata": {
    "id": "eSp64TIywJ_Y"
   },
   "source": [
    "### Inspecting Misclassifications\n",
    "\n",
    "It's always important to look at actual examples from our validation data, to see what mistakes the model is making. Below, we'll use the indices of the examples each model got wrong. We'll separate them into examples that only one model got wrong but not the other, as well as examples both models got wrong, and print out a sample from each to look at."
   ]
  },
  {
   "cell_type": "code",
   "execution_count": 33,
   "metadata": {
    "colab": {
     "base_uri": "https://localhost:8080/"
    },
    "id": "Bjv5BGiS2PKk",
    "outputId": "090c9772-f578-4fab-84bb-b7438d5d4a93"
   },
   "outputs": [
    {
     "name": "stdout",
     "output_type": "stream",
     "text": [
      "He added : ``I 've never heard of more reprehensiblebehaviour by a doctor .\n",
      "The Harrisons ’ lawyer Paul LiCalsi said : “ I ’ ve never heard of more reprehensible behaviour by a doctor .\n",
      "1\n",
      "Morrill 's wife , Ellie , sobbed and hugged Bondeson 's sister-in-law during the service .\n",
      "At the service Morrill 's widow , Ellie , sobbed and hugged Bondeson 's sister-in-law as people consoled her .\n",
      "0\n",
      "A recent poll showed Edwards with a narrow lead in South Carolina , and he plans a rally there later on Tuesday .\n",
      "A recent poll showed Edwards in a virtual four-way tie at the top in South Carolina , and he plans a rally there later on Tuesday .\n",
      "1\n",
      "Gilead had earnings of $ 73.1 million , or 33 cents a share , compared with $ 20.8 million , or 10 cents , in the year-ago quarter .\n",
      "Quarterly profit climbed to $ 73.1 million , or 33 cents a share , from $ 20.8 million , or 10 cents , a year earlier , the company said .\n",
      "1\n",
      "Terri Schiavo , 39 , underwent the procedure at the Tampa Bay area hospice where she has been living for several years , said her father , Bob Schindler .\n",
      "The tube was removed Wednesday from Terri Schiavo , 39 , at the Tampa Bay-area hospice where she has lived for several years .\n",
      "1\n",
      "After 18 months , Nissen found that Lipitor stopped plaque buildup in the patients ' arteries .\n",
      "After 18 months , the atorvastatin patients had no change in the plaque in their arteries .\n",
      "0\n",
      "They will help draft a plan to attack obesity that Kraft will implement over three to four years .\n",
      "The team will help draft a plan by the end of the year to attack obesity .\n",
      "0\n",
      "Corixa shares rose 54 cents to $ 7.74 yesterday on the Nasdaq Stock Market .\n",
      "Shares of Corixa rose 54 cents , or about 8 percent , to close at $ 7.74 .\n",
      "0\n",
      "\" It was never our intention to sell the product , \" said Health Minister Anne McClellan , a skeptic of medical marijuana use .\n",
      "\" It was never the intention of us to sell product , \" federal Health Minister Anne McLellan said yesterday in Edmonton .\n",
      "1\n",
      "Gov. Bob Riley proposed the budget cuts after Alabama voters rejected his $ 1.2 billion tax plan Sept . 9 .\n",
      "After Alabama voters rejected his $ 1.2 billion tax plan Sept . 9 , Riley forecast significant cuts in state programs .\n",
      "1\n"
     ]
    }
   ],
   "source": [
    "# MRPC: examples that the first model got right and the second got wrong\n",
    "\n",
    "mrpc_examples_model1_better = [i for i in np.squeeze(mrpc_wrong_guesses[mrpc_bert_model_names[1]])\n",
    "                               if i not in np.squeeze(mrpc_wrong_guesses[mrpc_bert_model_names[0]])]\n",
    "\n",
    "for i in mrpc_examples_model1_better[:10]:\n",
    "    print(mrpc_data['validation']['sentence1'][i])\n",
    "    print(mrpc_data['validation']['sentence2'][i])\n",
    "    print(mrpc_data['validation']['label'][i])"
   ]
  },
  {
   "cell_type": "code",
   "execution_count": 34,
   "metadata": {
    "colab": {
     "base_uri": "https://localhost:8080/"
    },
    "id": "xQDve-Q0RaQU",
    "outputId": "d91508c3-823f-4de0-920f-3c6284d75722"
   },
   "outputs": [
    {
     "name": "stdout",
     "output_type": "stream",
     "text": [
      "Unable to find a home for him , a judge told mental health authorities they needed to find supervised housing and treatment for DeVries somewhere in California .\n",
      "The judge had told the state Department of Mental Health to find supervised housing and treatment for DeVries somewhere in California .\n",
      "1\n",
      "Cooley said he expects Muhammad will similarly be called as a witness at a pretrial hearing for Malvo .\n",
      "Lee Boyd Malvo will be called as a witness Wednesday in a pretrial hearing for fellow sniper suspect John Allen Muhammad .\n",
      "0\n",
      "On Saturday , a 149mph serve against Agassi equalled Rusedski 's world record .\n",
      "On Saturday , Roddick equalled the world record with a 149 m.p.h. serve in beating Andre Agassi .\n",
      "0\n",
      "North American markets grabbed early gains Monday morning , as earnings season begins to slow and economic indicators take the spotlight .\n",
      "North American futures pointed to a strong start to the first trading session of the week Monday , as earnings season slows and economic indicators take the spotlight .\n",
      "1\n",
      "Kelly killed himself after being exposed as the source for a BBC report which claimed the government had embellished evidence of Iraq 's banned weapons to justify the war .\n",
      "He killed himself after being exposed as the source for a BBC report which claimed the government exaggerated the case for war against Iraq .\n",
      "1\n",
      "Columbia broke up over Texas upon re-entry on Feb. 1 .\n",
      "Columbia broke apart in the skies above Texas on Feb. 1 .\n",
      "1\n",
      "The legal ruling follows three days of intense speculation Hewlett-Packard Co. may be bidding for the company .\n",
      "The legal ruling follows three days of wild volatility in RIM 's stock over speculation that PC giant Hewlett-Packard Co. may be bidding for the company .\n",
      "1\n",
      "The show 's closure affected third-quarter earnings per share by a penny .\n",
      "The company said this impacted earnings by a penny a share .\n",
      "1\n",
      "Franklin County Judge-Executive Teresa Barton said a firefighter was struck by lightning and was taken to the Frankfort Regional Medical Center .\n",
      "A county firefighter , was struck by lightning and was in stable condition at Frankfort Regional Medical Center .\n",
      "0\n",
      "Blair 's Foreign Secretary Jack Straw was to take his place on Monday to give a statement to parliament on the European Union .\n",
      "Blair 's office said his Foreign Secretary Jack Straw would take his place on Monday to give a statement to parliament on the EU meeting the prime minister attended last week .\n",
      "1\n"
     ]
    }
   ],
   "source": [
    "# MRPC: examples that the second model got right and the first got wrong\n",
    "\n",
    "mrpc_examples_model2_better = [i for i in np.squeeze(mrpc_wrong_guesses[mrpc_bert_model_names[0]])\n",
    "                               if i not in np.squeeze(mrpc_wrong_guesses[mrpc_bert_model_names[1]])]\n",
    "\n",
    "for i in mrpc_examples_model2_better[:10]:\n",
    "    print(mrpc_data['validation']['sentence1'][i])\n",
    "    print(mrpc_data['validation']['sentence2'][i])\n",
    "    print(mrpc_data['validation']['label'][i])"
   ]
  },
  {
   "cell_type": "code",
   "execution_count": 35,
   "metadata": {
    "colab": {
     "base_uri": "https://localhost:8080/"
    },
    "id": "yg_ekl9URaSb",
    "outputId": "4e4409be-ec32-4ad5-cacb-b0794ce716da"
   },
   "outputs": [
    {
     "name": "stdout",
     "output_type": "stream",
     "text": [
      "While dioxin levels in the environment were up last year , they have dropped by 75 percent since the 1970s , said Caswell .\n",
      "The Institute said dioxin levels in the environment have fallen by as much as 76 percent since the 1970s .\n",
      "0\n",
      "Last month Intel raised its revenue guidance for the quarter to between $ 7.6 billion and $ 7.8 billion .\n",
      "At the end of the second quarter , Intel initially predicted sales of between $ 6.9 billion and $ 7.5 billion .\n",
      "1\n",
      "Its closest living relatives are a family frogs called sooglossidae that are found only in the Seychelles in the Indian Ocean .\n",
      "Its closest relative is found in the Seychelles Archipelago , near Madagascar in the Indian Ocean .\n",
      "1\n",
      "Mr Annan also warned the US should not use the war on terror as an excuse to suppress \" long-cherished freedoms \" .\n",
      "Annan warned that the dangers of extremism after September 11 should not be used as an excuse to suppress \" long-cherished \" freedoms .\n",
      "1\n",
      "At community colleges , tuition will jump to $ 2,800 from $ 2,500 .\n",
      "Community college students will see their tuition rise by $ 300 to $ 2,800 or 12 percent .\n",
      "1\n",
      "Bush wanted \" to see an aircraft landing the same way that the pilots saw an aircraft landing , \" White House press secretary Ari Fleischer said yesterday .\n",
      "On Tuesday , before Byrd 's speech , Fleischer said Bush wanted ' ' to see an aircraft landing the same way that the pilots saw an aircraft landing .\n",
      "0\n",
      "In the 2002 study , the margin of error ranged from 1.8 to 4.4 percentage points .\n",
      "It has a margin of error of plus or minus three to four percentage points .\n",
      "1\n",
      "Secretary of State Colin Powell designated the Chechen leader believed responsible for last year 's hostage standoff in a Moscow theater as a threat to U.S. security Friday .\n",
      "U.S. Secretary of State Colin Powell on Friday designated Chechen rebel leader Shamil Basayev a threat to the security of the United States and to U.S. citizens .\n",
      "1\n",
      "McCabe said he was considered a witness , not a suspect .\n",
      "\" He is not considered a suspect , \" McCabe said .\n",
      "0\n",
      "Indonesia 's army has often been accused of human rights abuses during GAM 's battle for independence , charges it has generally denied while accusing the separatists of committing rights violations .\n",
      "Indonesia 's army has been accused of human rights abuses during its earlier battles with GAM , charges it has generally denied .\n",
      "0\n"
     ]
    }
   ],
   "source": [
    "# MRPC: examples that both models got wrong\n",
    "\n",
    "mrpc_examples_both_wrong = np.intersect1d(mrpc_wrong_guesses[mrpc_bert_model_names[0]],\n",
    "                                          mrpc_wrong_guesses[mrpc_bert_model_names[1]])\n",
    "\n",
    "for i in mrpc_examples_both_wrong[:10]:\n",
    "    print(mrpc_data['validation']['sentence1'][i])\n",
    "    print(mrpc_data['validation']['sentence2'][i])\n",
    "    print(mrpc_data['validation']['label'][i])"
   ]
  },
  {
   "cell_type": "markdown",
   "metadata": {
    "id": "tVNx_qYGxBFt"
   },
   "source": [
    "For the first task, I don't see any obvious patterns that stand out when looking at a sample of misclassifications that model 1 got right and model 2 didn't, and vice versa. But it's useful to at least confirm that we aren't missing something important that one of the models might be consistently getting wrong, and that we can easily fix.\n",
    "\n",
    "Both model 1's and model 2's misclassifications including \"equivalent\" and \"non-equivalent\" labeled sentence pairs. And they both cover a variety of topics, so it doesn't look like either model is taking any simple shortcuts, like thinking all sentence pairs about politics are non-equivalent.\n",
    "\n",
    "Sometimes, differences in model output or predictions are clearest when looking at actual text examples. Sometimes, they're easier to spot through quantitative break-downs. We'll try a few other ways to slice the examples in a bit.\n",
    "\n",
    "But first, let's look at example misclassifications from the second task as well."
   ]
  },
  {
   "cell_type": "code",
   "execution_count": 36,
   "metadata": {
    "colab": {
     "base_uri": "https://localhost:8080/"
    },
    "id": "MkqUiwfhRaWA",
    "outputId": "3685d3fa-b3c2-4501-d4c1-8e8c6b751f1f"
   },
   "outputs": [
    {
     "name": "stdout",
     "output_type": "stream",
     "text": [
      "errors in parallel parsing need an escape\n",
      "any computations that are done in parallel need a mechanism of throwing an error besides the builtin matlab options, as these are not thread safe.\n",
      "0\n",
      "do research for open source ci/cd\n",
      "some ci/cd services will offer free perks to open source software. find out what tech stacks are most supported by which services and see what kind of perks might be available for open source software.\n",
      "1\n",
      "greyscale issue with ie\n",
      "hi all\\r i've just been doing some testing of an issue that cropped up recently that appears to be ie specific. i'm not sure if it's new and due to a change or has been there for a while but not picked up because it requires specific circumstances. however i can replicate with latest develop...\\r \\r 1. create an lo and add a title page and plain text page.\\r 2. add a background image to the title page, make public and view in different browsers including ie - all good so far!\\r 3. apply the greyscale property to the background image by ticking that option and view again in different browsers including ie. what you will find if you get the same as me is that in most browsers all is well but in ie the greyscale image loads but the header and footer and navigation buttons do not load?\\r 4. if you add a plain text page before the title page and refresh in ie the lo then loads but upon navigation to the title page containing the background image set to greyscale the navigation buttons now stop working. untick the greyscale option and all is fine.\\r \\r i've just been have a quick look at the xenith code and there is reference to the greyscale code working differently in ie and needing pagebg id but i'm not sure if this is something that has changed or always been there. @johnsmith-lt do you recognise this? can you replicate?\n",
      "0\n",
      "support for local telemetry files\n",
      "i downloaded a few thousand telemetry files without using pubg-python, but then i wanted to use pubg-python to process them handily. so i added the following code into  base.py  https://github.com/ramonsaraiva/pubg-python/blob/master/pubg_python/base.py :\\r \\r    \\r 11   import json\\r \\r 55    def telemetrystatic self, telemetryjson :\\r 56        data = json.loads open telemetryjson,\\ r\\  .read   \\r 57        return telemetry data, telemetryjson \\r    \\r \\r now, this really doesn't follow the rest of the library's style, so i haven't submitted a pull request. but it allows me to do this, which is valuable to me:\\r \\r    \\r static = \\ telemetry-files/c8228bc5-4f28-11e8-9fbb-0a5864768b15-telemetry.json\\ \\r telemetry =  api.telemetrystatic static \\r    \\r \\r from there, i can work with the file as if i'd requested it through the api. this saves requests and guards against pubg deleting historical replays. i thought this might be useful to people trying to solve the same problem, or as inspiration for a future feature  e.g. a function to cache the json file when we api request it .\n",
      "1\n",
      "webhooks: scalehost  panic in webhook-service after host scale down below min\n",
      "rancher versions:  \\r server:master\\r \\r   docker version:  1.13.0\\r \\r   os and where are the hosts located?  cloud, bare metal, etc :  ubuntu, cloud\\r \\r   setup details:  single node rancher vs. ha rancher, internal db vs. external db   single node\\r \\r   environment type:  cattle/kubernetes/swarm/mesos   cattle\\r \\r   steps to reproduce:  \\r 1. create a 4 host setup with few hosts having label \\ test=value\\  \\r 2. create a webhook to scale up hosts by amount=1\\r 3. power off the oldest host with the label \\ test=value\\  and wait till it goes to disconnected state\\r 4. execute the webhook to scale up while the oldest host is in disconnected state. a new host gets added as per the request\\r 5. edit the local storage resource limit to a lower value in the host settings on the disconnected host\\r 6. execute the webhook again, the request is stuck without any response\\r 7. created another webhook to scale down hosts and executed the webhook. hosts scaled down as per the request.\\r 8. after the min required scale was reached, the execution of the webhook gave an internal server error.\\r    \\r soumyas-mbp:~ soumya$ curl -i -h 'x-api-project-id: 1a5' -h 'accept: application/json' -h 'content-type: application/json' -x post http://35.184.42.95:8080/v1-webhooks/endpoint\\\\?key=16kvht5kqvotav3hqaacapqdwpea8sh06msxwxnh\\\\&projectid\\\\=1a5\\r http/1.1 500 internal server error\\r content-type: application/json; charset=utf-8\\r date: wed, 22 feb 2017 01:22:27 gmt\\r expires: thu, 01 jan 1970 00:00:00 gmt\\r server: jetty 9.2.11.v20150529 \\r set-cookie: pl=rancher;path=/\\r x-api-schemas: http://35.184.42.95:8080/v1/schemas\\r content-length: 195\\r \\r {\\ id\\ :\\ 72f5f0d4-a668-4ce1-babf-8a5a644c8e49\\ ,\\ type\\ :\\ error\\ ,\\ links\\ :{},\\ actions\\ :{},\\ status\\ :500,\\ code\\ :\\ internal server error\\ ,\\ message\\ :\\ internal server error\\ ,\\ detail\\ :null,\\ baset\\r \\r    \\r the cattle logs have a panic\\r    \\r 2017/02/22 01:26:09 http: panic serving 127.0.0.1:48188: runtime error: index out of range\\r goroutine 526  running :\\r net/http.  conn .serve.func1 0xc82011b380 \\r \\t/usr/local/go/src/net/http/server.go:1389 +0xc1\\r panic 0xa0e600, 0xc82000a060 \\r \\t/usr/local/go/src/runtime/panic.go:443 +0x4e9\\r github.com/rancher/webhook-service/drivers.  scalehostdriver .execute 0x104be88, 0x8f0fc0, 0xc820ccfe60, 0xc820a5aa00, 0x0, 0x0, 0xc820001380, 0x0, 0x0 \\r \\t/go/src/github.com/rancher/webhook-service/drivers/scale_host.go:149 +0x1d26\\r github.com/rancher/webhook-service/service.  routehandler .executewithkey 0xc8200f4b20, 0xc82066e79f, 0x28, 0xc82066e7d2, 0x3, 0x0, 0x0, 0xc8206380a8, 0x0, 0x0 \\r \\t/go/src/github.com/rancher/webhook-service/service/execute_handler.go:144 +0x804\\r github.com/rancher/webhook-service/service.  routehandler .execute 0xc8200f4b20, 0x7fcb5de21d00, 0xc820ec21a0, 0xc82001e620, 0x104bfa0, 0x0, 0x0 \\r \\t/go/src/github.com/rancher/webhook-service/service/execute_handler.go:50 +0x5d2\\r github.com/rancher/webhook-service/service.  routehandler .execute-fm 0x7fcb5de21d00, 0xc820ec21a0, 0xc82001e620, 0x8, 0x0, 0x0 \\r \\t/go/src/github.com/rancher/webhook-service/service/routes.go:73 +0x4c\\r github.com/rancher/webhook-service/service.handleerror.func1 0x7fcb5de21d00, 0xc820ec21a0, 0xc82001e620 \\r \\t/go/src/github.com/rancher/webhook-service/service/routes.go:19 +0x4e\\r net/http.handlerfunc.servehttp 0xc820122580, 0x7fcb5de21d00, 0xc820ec21a0, 0xc82001e620 \\r \\t/usr/local/go/src/net/http/server.go:1618 +0x3a\\r github.com/rancher/webhook-service/vendor/github.com/rancher/go-rancher/api.apihandler.func1 0x7fcb5de21d00, 0xc820ec21a0, 0xc82001e620 \\r \\t/go/src/github.com/rancher/webhook-service/vendor/github.com/rancher/go-rancher/api/handler.go:20 +0x13c\\r net/http.handlerfunc.servehttp 0xc82010cdc0, 0x7fcb5de21d00, 0xc820ec21a0, 0xc82001e620 \\r \\t/usr/local/go/src/net/http/server.go:1618 +0x3a\\r github.com/rancher/webhook-service/vendor/github.com/gorilla/context.clearhandler.func1 0x7fcb5de21d00, 0xc820ec21a0, 0xc82001e620 \\r \\t/go/src/github.com/rancher/webhook-service/vendor/github.com/gorilla/context/context.go:141 +0x85\\r net/http.handlerfunc.servehttp 0xc82010cde0, 0x7fcb5de21d00, 0xc820ec21a0, 0xc82001e620 \\r \\t/usr/local/go/src/net/http/server.go:1618 +0x3a\\r github.com/rancher/webhook-service/vendor/github.com/gorilla/mux.  router .servehttp 0xc8200f0eb0, 0x7fcb5de21d00, 0xc820ec21a0, 0xc82001e620 \\r \\t/go/src/github.com/rancher/webhook-service/vendor/github.com/gorilla/mux/mux.go:100 +0x29e\\r net/http.serverhandler.servehttp 0xc82011ab00, 0x7fcb5de21d00, 0xc820ec21a0, 0xc82001e620 \\r \\t/usr/local/go/src/net/http/server.go:2081 +0x19e\\r net/http.  conn .serve 0xc82011b380 \\r \\t/usr/local/go/src/net/http/server.go:1472 +0xf2e\\r created by net/http.  server .serve\\r \\t/usr/local/go/src/net/http/server.go:2137 +0x44e\\r 2017-02-22 01:26:09,206 error  :            tp192881625-619   i.g.i.g.r.handler.exceptionhandler    exception in api for request  http://35.184.42.95:8080/v1/proxy/http://localhost:8085/v1-webhooks/endpoint . error id:  72f5f0d4-a668-4ce1-babf-8a5a644c8e49 . org.apache.http.nohttpresponseexception: the target server failed to respond\\r \\tat org.apache.http.impl.conn.defaulthttpresponseparser.parsehead defaulthttpresponseparser.java:143  ~ httpclient-4.3.1.jar:4.3.1 \\r \\tat org.apache.http.impl.conn.defaulthttpresponseparser.parsehead defaulthttpresponseparser.java:57  ~ httpclient-4.3.1.jar:4.3.1 \\r \\tat org.apache.http.impl.io.abstractmessageparser.parse abstractmessageparser.java:260  ~ httpcore-4.3.jar:4.3 \\r \\tat org.apache.http.impl.defaultbhttpclientconnection.receiveresponseheader defaultbhttpclientconnection.java:161  ~ httpcore-4.3.jar:4.3 \\r \\tat sun.reflect.generatedmethodaccessor482.invoke unknown source  ~ na:na \\r \\tat sun.reflect.delegatingmethodaccessorimpl.invoke delegatingmethodaccessorimpl.java:43  ~ na:1.8.0_72 \\r \\tat java.lang.reflect.method.invoke method.java:498  ~ na:1.8.0_72 \\r \\tat org.apache.http.impl.conn.cpoolproxy.invoke cpoolproxy.java:138  ~ httpclient-4.3.1.jar:4.3.1 \\r \\tat com.sun.proxy.$proxy83.receiveresponseheader unknown source  ~ na:na \\r \\tat org.apache.http.protocol.httprequestexecutor.doreceiveresponse httprequestexecutor.java:271  ~ httpcore-4.3.jar:4.3 \\r \\tat org.apache.http.protocol.httprequestexecutor.execute httprequestexecutor.java:123  ~ httpcore-4.3.jar:4.3 \\r \\tat org.apache.http.impl.execchain.mainclientexec.execute mainclientexec.java:253  ~ httpclient-4.3.1.jar:4.3.1 \\r \\tat org.apache.http.impl.execchain.protocolexec.execute protocolexec.java:194  ~ httpclient-4.3.1.jar:4.3.1 \\r \\tat org.apache.http.impl.execchain.retryexec.execute retryexec.java:85  ~ httpclient-4.3.1.jar:4.3.1 \\r \\tat org.apache.http.impl.execchain.redirectexec.execute redirectexec.java:108  ~ httpclient-4.3.1.jar:4.3.1 \\r \\tat org.apache.http.impl.client.internalhttpclient.doexecute internalhttpclient.java:186  ~ httpclient-4.3.1.jar:4.3.1 \\r \\tat org.apache.http.impl.client.closeablehttpclient.execute closeablehttpclient.java:82  ~ httpclient-4.3.1.jar:4.3.1 \\r \\tat org.apache.http.impl.client.closeablehttpclient.execute closeablehttpclient.java:57  ~ httpclient-4.3.1.jar:4.3.1 \\r \\tat org.apache.http.client.fluent.executor.execute executor.java:215  ~ fluent-hc-4.3.1.jar:4.3.1 \\r \\tat io.cattle.platform.iaas.api.request.handler.genericwhitelistedproxy.generate genericwhitelistedproxy.java:342  ~ cattle-iaas-api-logic-0.5.0-snapshot.jar:na \\r \\tat io.github.ibuildthecloud.gdapi.request.handler.abstractresponsegenerator.handle abstractresponsegenerator.java:14  ~ cattle-framework-java-server-0.5.0-snapshot.jar:na \\r \\tat io.github.ibuildthecloud.gdapi.servlet.apirequestfilterdelegate.dofilter apirequestfilterdelegate.java:99  ~ cattle-framework-java-server-0.5.0-snapshot.jar:na \\r \\tat io.cattle.platform.api.servlet.apirequestfilter$1.runincontext apirequestfilter.java:96   cattle-framework-api-0.5.0-snapshot.jar:na \\r \\tat org.apache.cloudstack.managed.context.managedcontextrunnable$1.run managedcontextrunnable.java:49   cattle-framework-managed-context-0.5.0-snapshot.jar:na \\r \\tat org.apache.cloudstack.managed.context.impl.defaultmanagedcontext$1.call defaultmanagedcontext.java:55   cattle-framework-managed-context-0.5.0-snapshot.jar:na \\r \\tat org.apache.cloudstack.managed.context.impl.defaultmanagedcontext.callwithcontext defaultmanagedcontext.java:108   cattle-framework-managed-context-0.5.0-snapshot.jar:na \\r \\tat org.apache.cloudstack.managed.context.impl.defaultmanagedcontext.runwithcontext defaultmanagedcontext.java:52   cattle-framework-managed-context-0.5.0-snapshot.jar:na \\r \\tat org.apache.cloudstack.managed.context.managedcontextrunnable.run managedcontextrunnable.java:46   cattle-framework-managed-context-0.5.0-snapshot.jar:na \\r \\tat io.cattle.platform.api.servlet.apirequestfilter.dofilter apirequestfilter.java:106   cattle-framework-api-0.5.0-snapshot.jar:na \\r \\tat org.eclipse.jetty.servlet.servlethandler$cachedchain.dofilter servlethandler.java:1652   jetty-servlet-9.2.11.v20150529.jar:9.2.11.v20150529 \\r \\tat io.cattle.platform.iaas.api.servlet.filter.proxyprefilter.dofilter proxyprefilter.java:22   cattle-iaas-api-logic-0.5.0-snapshot.jar:na \\r \\tat org.eclipse.jetty.servlet.servlethandler$cachedchain.dofilter servlethandler.java:1652   jetty-servlet-9.2.11.v20150529.jar:9.2.11.v20150529 \\r \\tat org.eclipse.jetty.servlet.servlethandler.dohandle servlethandler.java:585   jetty-servlet-9.2.11.v20150529.jar:9.2.11.v20150529 \\r \\tat org.eclipse.jetty.server.handler.scopedhandler.handle scopedhandler.java:143   jetty-server-9.2.11.v20150529.jar:9.2.11.v20150529 \\r \\tat org.eclipse.jetty.security.securityhandler.handle securityhandler.java:595   jetty-security-9.2.11.v20150529.jar:9.2.11.v20150529 \\r \\tat org.eclipse.jetty.server.session.sessionhandler.dohandle sessionhandler.java:223   jetty-server-9.2.11.v20150529.jar:9.2.11.v20150529 \\r \\tat org.eclipse.jetty.server.handler.contexthandler.dohandle contexthandler.java:1127   jetty-server-9.2.11.v20150529.jar:9.2.11.v20150529 \\r \\tat org.eclipse.jetty.servlet.servlethandler.doscope servlethandler.java:515   jetty-servlet-9.2.11.v20150529.jar:9.2.11.v20150529 \\r \\tat org.eclipse.jetty.server.session.sessionhandler.doscope sessionhandler.java:185   jetty-server-9.2.11.v20150529.jar:9.2.11.v20150529 \\r \\tat org.eclipse.jetty.server.handler.contexthandler.doscope contexthandler.java:1061   jetty-server-9.2.11.v20150529.jar:9.2.11.v20150529 \\r \\tat org.eclipse.jetty.server.handler.scopedhandler.handle scopedhandler.java:141   jetty-server-9.2.11.v20150529.jar:9.2.11.v20150529 \\r \\tat org.eclipse.jetty.server.dispatcher.forward dispatcher.java:191   jetty-server-9.2.11.v20150529.jar:9.2.11.v20150529 \\r \\tat org.eclipse.jetty.server.dispatcher.forward dispatcher.java:72   jetty-server-9.2.11.v20150529.jar:9.2.11.v20150529 \\r \\tat io.cattle.platform.iaas.api.servlet.filter.proxyfilter.dofilter proxyfilter.java:45   cattle-iaas-api-logic-0.5.0-snapshot.jar:na \\r \\tat org.eclipse.jetty.servlet.servlethandler$cachedchain.dofilter servlethandler.java:1652   jetty-servlet-9.2.11.v20150529.jar:9.2.11.v20150529 \\r \\tat org.eclipse.jetty.servlets.useragentfilter.dofilter useragentfilter.java:83   jetty-servlets-9.2.11.v20150529.jar:9.2.11.v20150529 \\r \\tat org.eclipse.jetty.servlets.gzipfilter.dofilter gzipfilter.java:300   jetty-servlets-9.2.11.v20150529.jar:9.2.11.v20150529 \\r \\tat org.eclipse.jetty.servlet.servlethandler$cachedchain.dofilter servlethandler.java:1652   jetty-servlet-9.2.11.v20150529.jar:9.2.11.v20150529 \\r \\tat org.eclipse.jetty.servlet.servlethandler.dohandle servlethandler.java:585   jetty-servlet-9.2.11.v20150529.jar:9.2.11.v20150529 \\r \\tat org.eclipse.jetty.server.handler.scopedhandler.handle scopedhandler.java:143   jetty-server-9.2.11.v20150529.jar:9.2.11.v20150529 \\r \\tat org.eclipse.jetty.security.securityhandler.handle securityhandler.java:577   jetty-security-9.2.11.v20150529.jar:9.2.11.v20150529 \\r \\tat org.eclipse.jetty.server.session.sessionhandler.dohandle sessionhandler.java:223   jetty-server-9.2.11.v20150529.jar:9.2.11.v20150529 \\r \\tat org.eclipse.jetty.server.handler.contexthandler.dohandle contexthandler.java:1127   jetty-server-9.2.11.v20150529.jar:9.2.11.v20150529 \\r \\tat org.eclipse.jetty.servlet.servlethandler.doscope servlethandler.java:515   jetty-servlet-9.2.11.v20150529.jar:9.2.11.v20150529 \\r \\tat org.eclipse.jetty.server.session.sessionhandler.doscope sessionhandler.java:185   jetty-server-9.2.11.v20150529.jar:9.2.11.v20150529 \\r \\tat org.eclipse.jetty.server.handler.contexthandler.doscope contexthandler.java:1061   jetty-server-9.2.11.v20150529.jar:9.2.11.v20150529 \\r \\tat org.eclipse.jetty.server.handler.scopedhandler.handle scopedhandler.java:141   jetty-server-9.2.11.v20150529.jar:9.2.11.v20150529 \\r \\tat org.eclipse.jetty.server.handler.handlerwrapper.handle handlerwrapper.java:97   jetty-server-9.2.11.v20150529.jar:9.2.11.v20150529 \\r \\tat org.eclipse.jetty.server.server.handle server.java:499   jetty-server-9.2.11.v20150529.jar:9.2.11.v20150529 \\r \\tat org.eclipse.jetty.server.httpchannel.handle httpchannel.java:310   jetty-server-9.2.11.v20150529.jar:9.2.11.v20150529 \\r \\tat org.eclipse.jetty.server.httpconnection.onfillable httpconnection.java:257   jetty-server-9.2.11.v20150529.jar:9.2.11.v20150529 \\r \\tat org.eclipse.jetty.io.abstractconnection$2.run abstractconnection.java:540   jetty-io-9.2.11.v20150529.jar:9.2.11.v20150529 \\r \\tat org.eclipse.jetty.util.thread.queuedthreadpool.runjob queuedthreadpool.java:635   jetty-util-9.2.11.v20150529.jar:9.2.11.v20150529 \\r \\tat org.eclipse.jetty.util.thread.queuedthreadpool$3.run queuedthreadpool.java:555   jetty-util-9.2.11.v20150529.jar:9.2.11.v20150529 \\r \\tat java.lang.thread.run thread.java:745   na:1.8.0_72 \\r \\r \\r \\r\n",
      "0\n",
      "paths not relative to configured source\n",
      "i have a project where i'm using the 'source' configuration option offered by jekyll to change the directory which jekyll will read files from when serving / building my project.  see https://jekyllrb.com/docs/configuration/ for details.   i have found that this plugin does not respect this configuration when locating images by their path, and thus gives an 'invalid image path' error when it should not. it would great if support for this config option could be added to this plugin.  thanks so much!\n",
      "0\n",
      "out-of-memory in bremsstrahlung example\n",
      "i recently tried out the vanilla  bremsstrahlung  example and noticed that  mallocmc  reports that it is out of memory.\\r \\r the default in  cmakeflags  in the example is \\r    cmake\\r flags 0 =\\ -dcuda_arch=20\\ \\r    \\r \\r i first used 8 k20 gpus and the simulation was out of memory after 3000 time steps. by the same time the issues  1953 and  1954 came up. i double checked by compiling with \\r    cmake\\r flags 0 =\\ -dcuda_arch=35\\ \\r    \\r and running on 8 k80 gpus.\\r \\r the simulation ran out of memory again and  stderr  is showing messages like:\\r    \\r  1,1 <stderr>:vsetenv ld_library_path failed\\r ...\\r  1,4 <stderr>:send/receive buffer for species e is to small  max: 13797, direction: 2, retries: 1 \\r ...\\r  1,3 <stderr>:  what  :   cuda  error: an illegal memory access was encountered 1,3 <stderr>:\\r  1,3 <stderr>: kepler020:31195      process received signal    \\r  1,3 <stderr>: kepler020:31195  signal: aborted  6 \\r  1,3 <stderr>: kepler020:31195  signal code:   -6 \\r    \\r and long error messages pointing to memory exchanges.\\r \\r hopefully this is connected and can all be solved with  1960 .\\r \\r   update   i forgot to post the module environment so here it is:\\r    \\r gcc/4.9.2\\r cmake/3.7.2\\r cuda/8.0\\r openmpi/1.8.6.kepler.cuda80\\r boost/1.60.0\\r pngwriter/0.5.6\\r hdf5-parallel/1.8.15\\r libsplash/1.6.0\\r numactl/2.0.7\\r paraview/3.98.laser\\r apr/1.5.1\\r apr-util/1.5.3\\r serf/1.3.6\\r svn/1.8.8\\r gnuplot/4.2.6\\r    \\r\n",
      "0\n",
      "potential deadlocks in extreme edge case\n",
      "there are potential deadlocks noticed while developing  residue  https://github.com/muflihun/residue  logging server\\r \\r please refer to https://github.com/muflihun/residue/issues/76 and https://github.com/muflihun/residue/issues/77\\r\n",
      "0\n",
      "undefined method  signature'\n",
      "this code raises nomethoderror\\r     ruby\\r require 'pp'\\r require 'dry-validation'\\r \\r myschema = dry::validation.schema do\\r   required :x .filled :int? \\r \\r   rule a:  :x   do |x|\\r     x.gteq? 3 \\r   end\\r \\r   rule b:  :x   do |x|\\r     x.gteq? 5 \\r   end\\r end\\r \\r pp myschema.call x: 5 .messages\\r pp myschema.call x: 4 .messages\\r pp myschema.call x: 2 .messages\\r\n",
      "0\n",
      "relax syncthing interface timeout\n",
      "i am in antarctica and administer a syncthing server across a satellite link. there is sufficient bandwidth  3 mb/s , but due to the satellite connection the latency is very high  500-750ms constant .   the syncthing web interface consistently times out with this error message:  > syncthing seems to be experiencing a problem processing your request. please refresh the page or restart syncthing if the problem persists.  is it possible to include a \\ high latency connection\\  option, or have syncthing automatically detect a high latency connection and relax the gui timeout counters accordingly?   thank-you!  ! blackmill syncthing - timeout  https://cloud.githubusercontent.com/assets/5703764/17838088/caf0a064-679a-11e6-8a1c-37e6f7979124.png  ! blackmill syncthing  https://cloud.githubusercontent.com/assets/5703764/17838087/cae56c30-679a-11e6-8b47-2f5672885ea4.png      version information  syncthing version: v0.14.4 os version: linux mint 17.3 rosa 64-bit  server ; windows 7, 10 and linux mint 17.3  client accessing the web gui  browser version: multiple browsers. primarily palemoon 26.3.3 and firefox 41+. have also replicated the issue with whatever the latest chrome was a week or so ago.\n",
      "1\n"
     ]
    }
   ],
   "source": [
    "# Github: examples that the first model got right and the second got wrong\n",
    "\n",
    "github_examples_model1_better = [i for i in np.squeeze(github_wrong_guesses[github_bert_model_names[1]])\n",
    "                                 if i not in np.squeeze(github_wrong_guesses[github_bert_model_names[0]])]\n",
    "\n",
    "for i in github_examples_model1_better[:10]:\n",
    "    print(github_dev_dataset['title'][i])\n",
    "    print(github_dev_dataset['body'][i])\n",
    "    print(github_dev_dataset['label'][i])"
   ]
  },
  {
   "cell_type": "code",
   "execution_count": 37,
   "metadata": {
    "colab": {
     "base_uri": "https://localhost:8080/"
    },
    "id": "KBJaN_w2RbEM",
    "outputId": "a65f9d71-7614-4f79-a4ea-1180591c3d30"
   },
   "outputs": [
    {
     "name": "stdout",
     "output_type": "stream",
     "text": [
      "year-old issue from wordpress.org\n",
      "https://wordpress.org/support/topic/categories-tags-bug-and-solution?replies=1 post-7127312\\r \\r > great idea for a plugin!\\r > \\r > unfortunately there's a bug with the targeting but i managed to find a solution. currently the script executes in the footer and tries to obtain the categories using get_the_category   and tags using get_the_tags   but because the footer is outside the loop, these just return a subset of all categories and tags.\\r > \\r > the fix is simple, for categories  around line 230  and tags  around line 247  in dfw-init simply access the wp_query and insert the id as a parameter. the code should look something like:\\r > \\r > global $wp_query;\\r > $current_page_id = $wp_query->get_queried_object_id  ;\\r > $cats = get_the_category $current_page_id ; // existing line with param added\\r > ...\\r > global $wp_query;\\r > $current_page_id = $wp_query->get_queried_object_id  ;\\r > $tags = get_the_tags $current_page_id ; // existing line with param added\\r > i hope you keep working on this plugin because it's a great idea and otherwise dfp is a headache to implement in wordpress without creating a custom theme or child theme.\\r -  x  is this still a problem?\\r -  x  reply to thread\\r\n",
      "0\n",
      "the user can create 2 the same clients - project manager - lelya penka\n",
      "the user can create a 2 clients with the same name and the same birthdates. \\r \\r 1. login with user account. \\r 2. go to seccion \\ client\\  and create a new client. \\r 3.  create onother client with the same first name, same last name and same birth date. \\r \\r expected result: the creation of the second client is not successful. \\r actual result: the client is successful created. \\r\n",
      "0\n",
      "adding vector:normalized and vector:clone to mathlib\n",
      "actually i only wanted to request normalized, but realized, that some people might use vector:clone   in some cases. so i want to request both:\\r \\r clone function:\\r -> return a vector copy\\r \\r normalized function:\\r -> returns a new,normalized vector  function math is : vector:clone   / vector:normalize\n",
      "1\n",
      "moidfy .wxs file and use candle and ligh to create the .msi failed\n",
      "hi oleg,\\r \\r i created a .wxs via wix .\\r 1. candle \\ somthing.wxs\\ \\r 2. light \\ something.wixsobj\\ \\r \\r then i get this error:\\r error lght0094 : unresolved reference to symbol 'wixui:wixui_errorprogresstext' in section 'product:{6fe30b47-2577-43ad-9095-1861ebd5889c}'.\\r \\r what i have to do, so can work with candle and light?\\r \\r thanks in advance\\r thomas\n",
      "2\n",
      "sourcelist: allowing to add date to an empty technology\n",
      "issue 1 - sourcelist: allowing to add date to an empty technology. refer the screen shot.\\r \\r need to validate before adding a date if a tech is entered.\\r \\r issue 2: can add new tech only when an existing date is selected. how will the user know it ? it should be allowed anytime when a tech is not selected.\\r \\r ! screen shot 2016-01-06 at 4 25 17 pm  https://cloud.githubusercontent.com/assets/16315979/12141014/234cf68e-b492-11e5-8d48-94f378c7cb84.png \\r \\r\n",
      "0\n",
      "brave-extension icon should be gray when shields are down\n",
      "cc @cezaraugusto if you're interested in taking this.\n",
      "1\n",
      "editing a multiline text should work differently from single line\n",
      "because of my spurt of energy writing jsfunction blocks, i've noticed some annoyances about editing multiline text.   besides jsfunction, there's the multiline block in a library, and the options dialog for pulldown menu inputs in custom blocks.  maybe more? \\r \\r 1.  the first click in a multiline text should point the cursor, not select the whole text.  we had a discussion on this issue before, and the decision was that clicking in an input slot should be like clicking in a browser form text field, and that's right for single-line contexts, but clicking in a jsfunction block is more like clicking in a word document.   the pulldown option dialog already does this right; does it have its own editing code? \\r \\r 2.  currently newlines are treated as if they were really spaces wrapping around; they should be treated as explicitly typed newlines, which is what they are.  that means they shouldn't be represented as a space at the end of the line, and they should never be deleted unless the cursor is at the beginning of a line  which should be distinct from being at the end of the previous line!  or the selection region spans multiple lines.   this one is wrong in pulldown option boxes too.\n",
      "1\n",
      "nullpointerexception when invoking oclass::truncate\n",
      "this is related to  this issue  https://github.com/orientechnologies/orientdb/issues/6303 .\\r \\r so i have an application which uses intensively orientdb and i have a lot of integration tests.\\r \\r when using orientdb 2.1.5 al the tests pass.\\r after moving to orientdb 2.2.2 some tests fail.\\r \\r in this particular case this test passes in eclipse as well as when run via maven in my windows machine. it also passes when it's run by jenkins in a linux machine for a certain job, but fails when run by another different job.\\r \\r the stack trace:\\r \\r    \\r stacktrace\\r \\r com.orientechnologies.orient.core.index.oindexexception: \\r error on rebuilding the index for clusters:  aenclosure_14, adocument_10, aenclosure_13, adocument_11, aenclosure_16, aenclosure_15, aenclosure_18, adocument_14, aenclosure_17, adocument_15, adocument_12, aenclosure_19, adocument_13, adocument_18, adocument_19, aenclosure, adocument_16, adocument_17, aenclosure_10, aenclosure_12, aenclosure_11, adocument_7, adocument_21, aenclosure_3, adocument_8, adocument_22, aenclosure_2, adocument_9, aenclosure_5, adocument_20, aenclosure_4, adocument_3, adocument_4, adocument_5, adocument_23, aenclosure_1, adocument_6, aenclosure_7, aenclosure_6, aenclosure_9, aenclosure_8, adocument, adocument_1, adocument_2, aenclosure_21, aenclosure_20, aenclosure_23, aenclosure_22 \\r \\tdb name=\\ dclosure_integration\\ \\r \\tat com.compart.tec.destiny.core.db.browse.flattenedbrowseusingblueprintsit.<init> flattenedbrowseusingblueprintsit.java:42 \\r caused by: com.orientechnologies.orient.core.exception.ostorageexception: \\r file file: adocument.bundleid.irs, stored=0 does not exist.\\r \\tdb name=\\ dclosure_integration\\ \\r \\tat com.compart.tec.destiny.core.db.browse.flattenedbrowseusingblueprintsit.<init> flattenedbrowseusingblueprintsit.java:42 \\r \\r standard error\\r \\r jun 16, 2016 12:47:28 pm com.orientechnologies.common.log.ologmanager log\\r severe: $ansi{green {db=dclosure_integration}} error during index 'adocument.bundleid' delete\\r jun 16, 2016 12:47:28 pm com.orientechnologies.common.log.ologmanager log\\r severe: $ansi{green {db=dclosure_integration}} error during index rebuild\\r java.lang.nullpointerexception\\r \\tat com.orientechnologies.orient.core.storage.impl.local.oabstractpaginatedstorage.doclearindex oabstractpaginatedstorage.java:1785 \\r \\tat com.orientechnologies.orient.core.storage.impl.local.oabstractpaginatedstorage.clearindex oabstractpaginatedstorage.java:1772 \\r \\tat com.orientechnologies.orient.core.index.oindexabstract.rebuild oindexabstract.java:449 \\r \\tat com.orientechnologies.orient.core.index.oindexabstract.rebuild oindexabstract.java:377 \\r \\tat com.orientechnologies.orient.core.index.oindexabstractdelegate.rebuild oindexabstractdelegate.java:168 \\r \\tat com.orientechnologies.orient.core.metadata.schema.oclassimpl.truncate oclassimpl.java:1547 \\r    \\r \\r     runninng mode\\r -     embedded, using plocal access mode\\r \\r     orientdb version\\r -     v2.2.x - please specify last number: 2\\r \\r     operating system\\r -     linux\\r \\r     java version\\r -     8\\r\n",
      "0\n",
      "springboot with junit reports in jenkins\n",
      "nice to have: junit reports seen at jenkins build pages  although build fails \\r \\r proposal: get shell exit status at gradle build command, store junit reports to jenkins and throw error if exit status different to 0\n",
      "1\n",
      "update task comment count on auto-refresh of board view\n",
      "my git commit hook can add comment to tasks, as well as close tasks  using the api access . if it closes a task, a few seconds later i can see the board view updates automatically - the task disappears. however if the hook only posts a comment, the comment count doesn't update. even if i hover the mouse over the comment icon, the just added comment is displayed, but even then the count doesn't change. i didn't test other stuff but i would also take a look at other properties of the task card if they auto-refresh or not. it would be good if every property would auto-refresh.\n",
      "1\n"
     ]
    }
   ],
   "source": [
    "# Github: examples that the second model got right and the first got wrong\n",
    "\n",
    "github_examples_model2_better = [i for i in np.squeeze(github_wrong_guesses[github_bert_model_names[0]])\n",
    "                                 if i not in np.squeeze(github_wrong_guesses[github_bert_model_names[1]])]\n",
    "\n",
    "for i in github_examples_model2_better[:10]:\n",
    "    print(github_dev_dataset['title'][i])\n",
    "    print(github_dev_dataset['body'][i])\n",
    "    print(github_dev_dataset['label'][i])"
   ]
  },
  {
   "cell_type": "code",
   "execution_count": 38,
   "metadata": {
    "colab": {
     "base_uri": "https://localhost:8080/"
    },
    "id": "58nCH4LRr96k",
    "outputId": "ab200618-4c95-40b9-8e40-b21f1f76d59a"
   },
   "outputs": [
    {
     "name": "stdout",
     "output_type": "stream",
     "text": [
      "can this be used in server-side rendering?\n",
      "the easiest example is how do i set up to use vue-progressive-image in nuxt.js?  \\r \\r ssr: false, or if  process.browser_build  {} setting.\\r \\r -- \\r the error message is as follows.\\r \\r _ vue warn : the client-side rendered virtual dom tree is not matching server-rendered content. html markup, for example nesting block-level elements inside <p>, or missing <tbody>. billing hydration and performing full client-side render._\\r\n",
      "1\n",
      "set max height\n",
      "the max width=100%, which causes the height to extend past the screen  try big bunny buck in a browser . need to set a max height. there is a css style for max height.\n",
      "0\n",
      "sendasync, receiveasync semantics inconsistency between different implementations\n",
      "there are some incosistencies in implementations of web sockets:  helios, reference:aspnetwebsocket, .net core:commonwebsocket   receiveasync is not that bad: 1. helioswebsocket throws exceptions in case of two simultaneous receiveasync are in place - this is consistent with reference documentation: http://referencesource.microsoft.com/ system.web/websockets/aspnetwebsocket.cs throwifreceiveunavailable - checks for busy state which is set during every receiveasync from my experiment helioswebsocket behaves the same commonwebsocket - does behave differently but! it has a proper code comment:             // todo: invalidoperationexception if any receives are currently in progress.  so i can safely assume that reference semantics are the expected ones. 2. in case of sendasync it's a bit worse: it's well documented in reference implementation:     // - we'll detect multiple calls to sendasync  e.g. a second call takes place while the first     //   call isn't yet complete  and throw an appropriate exception. closeoutputasync is     //   an equivalent of sendasync for this purpose. helioswebsockets acts accordingly  from my experiments . commonwebsocket uses asynchronous _writelock during entire operations - so it safely allows multiple subsequent sendasync and there is not intention in comments to unify semantics.  what are the intended semantics for asp.net 5? single sendasync at a time and single receiveasync at a time? and it is a bug? or singlereceiveasync and multiple sendasyncs at a time and hellioswebsockets are going to be updated?\n",
      "1\n",
      "duplicate default error with single default\n",
      "after the updating to  babylon@6.11.2  in one of my projects i am now getting the following error in my webpack builds:\\r \\r    \\r error ./app/routes/surgery-center/patient-dashboard/procedure-search.js\\r \\r syntax error only one default export allowed per module.  124:0 \\r \\r   122 | }\\r   123 |\\r > 124 | export default connect select  proceduresearch \\r       | ^\\r   125 |\\r \\r  @ ./app/routes/surgery-center/patient-dashboard/index.js 27:0-49\\r  @ ./app/routes/routes.js\\r  @ ./app/root.js\\r  @ ./app/main.js\\r  @ multi main\\r    \\r \\r the only exports in the file look like this\\r \\r    js\\r //...\\r export class proceduresearch extends react.component {\\r //...\\r }\\r //...\\r export default connect select  proceduresearch \\r    \\r \\r so as far as _i can tell_ there's only a single default export. any idea what could be causing this?\\r \\r thanks for all your hard work!\\r\n",
      "0\n",
      "notification for primary student\n",
      "multiple system generated notifications are received for activity lapse by student\n",
      "0\n",
      "disable messages for kerbals in ksc\n",
      "do not show messages about events with available kerbals.\n",
      "1\n",
      "background very translucent\n",
      "why the background of latte is more translucent that plasmashell?\\r \\r  latte right and plasmshell  bottom \\r ! screenshot_20170220_183519  https://cloud.githubusercontent.com/assets/7884292/23145304/5d6aa1fc-f79b-11e6-9985-2808e34149e8.png \\r \\r i wish it were opaque.\\r\n",
      "1\n",
      "prey doesn't take pictures with more than one camera on windows devices  hs:dual-camera-pictures\n",
      "problem\\r \\r prey is not coded to handle multiple webcams on windows and on laptops it will default to the primary camera. this is affecting different windows devices, but surface pro 3 clients and users mainly.\\r \\r    how it was detected\\r \\r some clients and users have reported it.\\r \\r    suggestions\\r \\r implement the feature of handling multiple webcams on this kind of devices. \\r \\r    resources\\r \\r - https://secure.helpscout.net/conversation/60057926/9526\\r - https://secure.helpscout.net/conversation/61210357/10000\\r - https://secure.helpscout.net/conversation/67110413/12248\\r - https://secure.helpscout.net/conversation/71002639/13645\\r - https://secure.helpscout.net/conversation/72337002/14017\\r - https://secure.helpscout.net/conversation/73700755/14518\\r - https://secure.helpscout.net/conversation/75611568/15691\\r - https://secure.helpscout.net/conversation/72967876/14223\n",
      "0\n",
      "sublime text syntax highlight\n",
      "are there plans to support sublime text syntax highlight?\\r maybe ride on the  babel  https://github.com/babel/babel-sublime  plugin like  styled-components  https://github.com/styled-components/styled-components sublime-text  did?\n",
      "1\n",
      ".authinfo.gpg not taken into account when password-store is enabled\n",
      "observed behavior\\r \\r start gnus, which needs some passwords encrypted in .authinfo.gpg to connect. i'm asked the passwords at the prompt.\\r \\r     expected behavior\\r \\r ask me for the symmetric key used to encrypt .authinfo.gpg.\\r \\r     additional notes\\r \\r my .authinfo.gpg is symmetrically encrypted. i use different gpg keys for pass and for email signing/encrypting, but they share the same email address.\n",
      "0\n"
     ]
    }
   ],
   "source": [
    "# Github: examples that both models got wrong\n",
    "\n",
    "github_examples_both_wrong = np.intersect1d(github_wrong_guesses[github_bert_model_names[0]],\n",
    "                                            github_wrong_guesses[github_bert_model_names[1]])\n",
    "\n",
    "for i in github_examples_both_wrong[:10]:\n",
    "    print(github_dev_dataset['title'][i])\n",
    "    print(github_dev_dataset['body'][i])\n",
    "    print(github_dev_dataset['label'][i])"
   ]
  },
  {
   "cell_type": "markdown",
   "metadata": {
    "id": "1Eqnrahi1f3F"
   },
   "source": [
    "There isn't a very obvious pattern when looking at the text of misclassifications in this task either. Most of the examples that model 1 did better on seem to have close to complete sentences. The ones that model 2 did better on might have a bit more informally structured text, including what looks like some copy-pasted code snippets, though I don't have a hypothesis as to why the SQuAD-trained model would do better on that. (A good next step might be to try a model that has been fine-tuned on some other text-to-code type task.)\n",
    "\n",
    "From the quantitative metrics, it seems that model 2 did better on recognizing questions. In looking at the examples above, I notice that two of the ones model 2 did better on actually start with a grammatical question, but are labeled (correctly) as features. E.g. \"is this something on the roadmap or currently supported?\" and \"would it be possible new service for ftp?\" So it seems like model 1 might have been misled by the question marks or questioning grammar into thinking those are labeled as questions, while model 2 was better able to learn what types of grammatical questions are really asking for a feature, rather than asking an informational question about the repo.\n",
    "\n",
    "That's a very anecdotal, speculative hypothesis. But we could try to look for some other quantitative patterns to see if model 2 does tend to do better on examples that have some form of a grammatical question, by being able to tell what the post is actually asking for."
   ]
  },
  {
   "cell_type": "markdown",
   "metadata": {
    "id": "etDU9L_PQo_i"
   },
   "source": [
    "### Text attributes associated with differences in model errors\n",
    "\n",
    "We might be able to identify patterns with some aggregate summary statistics. Maybe we think we see a potential pattern in the misclassifications, but we aren't sure if that's a consistent difference between the two models.\n",
    "\n",
    "For instance, in the Github task, we noticed that a lot of the examples model 2 did better on, there's some statement phrased as a question, ending in a question mark. Can we verify that quantitatively? It might not tell us much more than we already know, but it's easy to count.\n",
    "\n",
    "Let's do this analysis on both tasks, just to see what happens. The two models use different tokenizers, but we're interested in real words and punctuation here. So let's use spaCy to split up the text and apply some filters to it (first just counting up question marks, later we could use other spaCy tags)."
   ]
  },
  {
   "cell_type": "code",
   "execution_count": 39,
   "metadata": {
    "colab": {
     "base_uri": "https://localhost:8080/"
    },
    "id": "1o7gtvf5Z9ag",
    "outputId": "13f53bfa-b236-4348-a1ee-b5143d68f394"
   },
   "outputs": [
    {
     "name": "stdout",
     "output_type": "stream",
     "text": [
      "\u001b[2K   \u001b[90m━━━━━━━━━━━━━━━━━━━━━━━━━━━━━━━━━━━━━━━━\u001b[0m \u001b[32m30.6/30.6 MB\u001b[0m \u001b[31m31.0 MB/s\u001b[0m eta \u001b[36m0:00:00\u001b[0m\n",
      "\u001b[2K   \u001b[90m━━━━━━━━━━━━━━━━━━━━━━━━━━━━━━━━━━━━━━━━\u001b[0m \u001b[32m3.9/3.9 MB\u001b[0m \u001b[31m73.2 MB/s\u001b[0m eta \u001b[36m0:00:00\u001b[0m\n",
      "\u001b[2K   \u001b[90m━━━━━━━━━━━━━━━━━━━━━━━━━━━━━━━━━━━━━━━━\u001b[0m \u001b[32m11.7/11.7 MB\u001b[0m \u001b[31m90.9 MB/s\u001b[0m eta \u001b[36m0:00:00\u001b[0m\n",
      "\u001b[?25h\u001b[31mERROR: pip's dependency resolver does not currently take into account all the packages that are installed. This behaviour is the source of the following dependency conflicts.\n",
      "en-core-web-sm 3.7.1 requires spacy<3.8.0,>=3.7.2, but you have spacy 3.8.4 which is incompatible.\u001b[0m\u001b[31m\n",
      "\u001b[0m"
     ]
    }
   ],
   "source": [
    "!pip -q install -U spacy"
   ]
  },
  {
   "cell_type": "code",
   "execution_count": 40,
   "metadata": {
    "id": "H3iCdBmmZ9dV"
   },
   "outputs": [],
   "source": [
    "import spacy"
   ]
  },
  {
   "cell_type": "code",
   "execution_count": 41,
   "metadata": {
    "colab": {
     "base_uri": "https://localhost:8080/"
    },
    "id": "rVB-hCUzZ9gN",
    "outputId": "30ff967e-155d-4551-e239-80672ffe379a"
   },
   "outputs": [
    {
     "name": "stderr",
     "output_type": "stream",
     "text": [
      "/usr/local/lib/python3.11/dist-packages/spacy/util.py:910: UserWarning: [W095] Model 'en_core_web_sm' (3.7.1) was trained with spaCy v3.7.2 and may not be 100% compatible with the current version (3.8.4). If you see errors or degraded performance, download a newer compatible model or retrain your custom model with the current spaCy version. For more details and available updates, run: python -m spacy validate\n",
      "  warnings.warn(warn_msg)\n"
     ]
    }
   ],
   "source": [
    "nlp = spacy.load(\"en_core_web_sm\")"
   ]
  },
  {
   "cell_type": "code",
   "execution_count": 42,
   "metadata": {
    "colab": {
     "base_uri": "https://localhost:8080/"
    },
    "id": "SYLIYCZjcRCi",
    "outputId": "baab2e40-1676-4242-854a-8c75cd5ca854"
   },
   "outputs": [
    {
     "data": {
      "text/plain": [
       "0.18181818181818182"
      ]
     },
     "execution_count": 42,
     "metadata": {},
     "output_type": "execute_result"
    }
   ],
   "source": [
    "def pct_qmarks_spacy(text):\n",
    "    doc = nlp(text)\n",
    "    return len([tok for tok in doc if tok.text == '?']) / len(doc)\n",
    "\n",
    "pct_qmarks_spacy('This is a sentence with some stopwords? in it?')"
   ]
  },
  {
   "cell_type": "code",
   "execution_count": 43,
   "metadata": {
    "colab": {
     "base_uri": "https://localhost:8080/"
    },
    "id": "4cLhqcF0cRFV",
    "outputId": "b4131425-d94b-4541-af84-8ab90e6f4961"
   },
   "outputs": [
    {
     "name": "stdout",
     "output_type": "stream",
     "text": [
      "Avg pct questionmarks in paraphrase sentences when model 1 did better: 0.0000\n",
      "Avg pct questionmarks in paraphrase sentences when model 2 did better: 0.0000\n"
     ]
    }
   ],
   "source": [
    "avg_stops_model1_better = np.mean([pct_qmarks_spacy(mrpc_data['validation']['sentence1'][i]\n",
    "                                   + mrpc_data['validation']['sentence2'][i])\n",
    "                                  for i in mrpc_examples_model1_better])\n",
    "avg_stops_model2_better = np.mean([pct_qmarks_spacy(mrpc_data['validation']['sentence1'][i]\n",
    "                                   + mrpc_data['validation']['sentence2'][i])\n",
    "                                  for i in mrpc_examples_model2_better])\n",
    "\n",
    "print('Avg pct questionmarks in paraphrase sentences when model 1 did better: %.4f' % avg_stops_model1_better)\n",
    "print('Avg pct questionmarks in paraphrase sentences when model 2 did better: %.4f' % avg_stops_model2_better)"
   ]
  },
  {
   "cell_type": "code",
   "execution_count": 44,
   "metadata": {
    "colab": {
     "base_uri": "https://localhost:8080/"
    },
    "id": "RKcTDmDZcRIN",
    "outputId": "6ecdc7eb-8375-411f-8632-0d647282d219"
   },
   "outputs": [
    {
     "name": "stdout",
     "output_type": "stream",
     "text": [
      "Avg pct questionmarks in github post when model 1 did better: 0.0030\n",
      "Avg pct questionmarks in github post when model 2 did better: 0.0011\n"
     ]
    }
   ],
   "source": [
    "avg_stops_len_model1_better = np.mean([pct_qmarks_spacy(github_dev_dataset['title'][i]\n",
    "                                       + github_dev_dataset['body'][i])\n",
    "                                      for i in github_examples_model1_better])\n",
    "avg_stops_len_model2_better = np.mean([pct_qmarks_spacy(github_dev_dataset['title'][i]\n",
    "                                       + github_dev_dataset['body'][i])\n",
    "                                      for i in github_examples_model2_better])\n",
    "\n",
    "print('Avg pct questionmarks in github post when model 1 did better: %.4f' % avg_stops_len_model1_better)\n",
    "print('Avg pct questionmarks in github post when model 2 did better: %.4f' % avg_stops_len_model2_better)"
   ]
  },
  {
   "cell_type": "markdown",
   "metadata": {
    "id": "TeZ25pWCERRK"
   },
   "source": [
    "For the Github task, there are definitely more question marks in the examples that model 2 gets right, than in the examples that model 1 gets right. We don't see that pattern in the MRPC task; in fact, the MRPC dataset seems to have no (or almost no) examples with question marks at all. Breaking down the text in a particular way might only make sense for one task and not for others.\n",
    "\n",
    "Let's try something else, since we've got spaCy loaded. Beyond question marks, did the second model in the Github task learn how to recognize other subtle clues in text that's asking an open-ended question, vs. text that's stating a problem or proposing a solution?\n",
    "\n",
    "SpaCy can tag a variety of grammatical and semantic features for us, including parts of speech and dependency relations. We might want to look for question-implying words like \"what\", \"where\", \"how\", as well as uncertain words like \"if\", \"any\", etc. Let's write a sentence that sounds like someone asking a question, but with no actual question mark, and see what spaCy shows us."
   ]
  },
  {
   "cell_type": "code",
   "execution_count": 45,
   "metadata": {
    "colab": {
     "base_uri": "https://localhost:8080/"
    },
    "id": "1efccYb7F2H0",
    "outputId": "f61ec400-7594-4c70-d862-cb944b6539fa"
   },
   "outputs": [
    {
     "name": "stdout",
     "output_type": "stream",
     "text": [
      "I nsubj PRON\n",
      "'m ROOT AUX\n",
      "not neg PART\n",
      "sure acomp ADJ\n",
      "what dobj PRON\n",
      "to aux PART\n",
      "do xcomp VERB\n",
      "here advmod ADV\n",
      ". punct PUNCT\n",
      "Wondering ROOT VERB\n",
      "if mark SCONJ\n",
      "anyone nsubj PRON\n",
      "has ccomp VERB\n",
      "an det DET\n",
      "idea dobj NOUN\n",
      "if mark SCONJ\n",
      "this nsubj PRON\n",
      "is advcl AUX\n",
      "the det DET\n",
      "right amod ADJ\n",
      "way attr NOUN\n",
      "to aux PART\n",
      "do relcl VERB\n",
      "a det DET\n",
      "thing dobj NOUN\n",
      ". punct PUNCT\n"
     ]
    }
   ],
   "source": [
    "doc = nlp(\"I'm not sure what to do here. Wondering if anyone has an idea if this is the right way to do a thing.\")\n",
    "\n",
    "for tok in doc:\n",
    "  print(tok.text, tok.dep_, tok.pos_)"
   ]
  },
  {
   "cell_type": "markdown",
   "metadata": {
    "id": "NIbkfTzHHGmE"
   },
   "source": [
    "There seem to be quite a few words marked as pronouns in here (POS tag = \"PRON\"). \"I\" and \"this\" are pronouns, as well as an open-ended personal reference like \"anyone\". The word \"what\" is also a pronoun as used here, referring vaguely to something the user is asking for but doesn't know what specifically to call it.\n",
    "\n",
    "Let's count the percent of tokens in each example text that are tagged as pronouns by spaCy, and see if that percentage is higher in examples that model 1 got right, or in examples that model 2 got right. We can do this again for both tasks, just to see what happens."
   ]
  },
  {
   "cell_type": "code",
   "execution_count": 46,
   "metadata": {
    "colab": {
     "base_uri": "https://localhost:8080/"
    },
    "id": "qrlKX0d7Z9jD",
    "outputId": "ca669e72-efb9-4c0a-be64-abca5f4e0cf3"
   },
   "outputs": [
    {
     "data": {
      "text/plain": [
       "0.2"
      ]
     },
     "execution_count": 46,
     "metadata": {},
     "output_type": "execute_result"
    }
   ],
   "source": [
    "def pct_pronouns(text):\n",
    "    doc = nlp(text)\n",
    "    return len([tok for tok in doc if tok.pos_ == 'PRON']) / len(doc)\n",
    "\n",
    "pct_pronouns('This is a sentence with some stopwords in it.')"
   ]
  },
  {
   "cell_type": "code",
   "execution_count": 47,
   "metadata": {
    "colab": {
     "base_uri": "https://localhost:8080/"
    },
    "id": "NrASmBoZaHs2",
    "outputId": "dcfc6b7d-15fd-4104-cf74-178630c4426b"
   },
   "outputs": [
    {
     "name": "stdout",
     "output_type": "stream",
     "text": [
      "Avg pct pronouns in paraphrase sentences when model 1 did better: 0.0362\n",
      "Avg pct pronouns in paraphrase sentences when model 2 did better: 0.0163\n"
     ]
    }
   ],
   "source": [
    "avg_stops_model1_better = np.mean([pct_pronouns(mrpc_data['validation']['sentence1'][i]\n",
    "                                   + mrpc_data['validation']['sentence2'][i])\n",
    "                                  for i in mrpc_examples_model1_better])\n",
    "avg_stops_model2_better = np.mean([pct_pronouns(mrpc_data['validation']['sentence1'][i]\n",
    "                                   + mrpc_data['validation']['sentence2'][i])\n",
    "                                  for i in mrpc_examples_model2_better])\n",
    "\n",
    "print('Avg pct pronouns in paraphrase sentences when model 1 did better: %.4f' % avg_stops_model1_better)\n",
    "print('Avg pct pronouns in paraphrase sentences when model 2 did better: %.4f' % avg_stops_model2_better)"
   ]
  },
  {
   "cell_type": "code",
   "execution_count": 48,
   "metadata": {
    "colab": {
     "base_uri": "https://localhost:8080/"
    },
    "id": "q5eRFO7IZ9mO",
    "outputId": "3917ee0b-2f48-4f38-dabf-d21d0e509927"
   },
   "outputs": [
    {
     "name": "stdout",
     "output_type": "stream",
     "text": [
      "Avg pct pronouns in github post when model 1 did better: 0.0453\n",
      "Avg pct pronouns in github post when model 2 did better: 0.0391\n"
     ]
    }
   ],
   "source": [
    "avg_stops_len_model1_better = np.mean([pct_pronouns(github_dev_dataset['title'][i]\n",
    "                                       + github_dev_dataset['body'][i])\n",
    "                                      for i in github_examples_model1_better])\n",
    "avg_stops_len_model2_better = np.mean([pct_pronouns(github_dev_dataset['title'][i]\n",
    "                                       + github_dev_dataset['body'][i])\n",
    "                                      for i in github_examples_model2_better])\n",
    "\n",
    "print('Avg pct pronouns in github post when model 1 did better: %.4f' % avg_stops_len_model1_better)\n",
    "print('Avg pct pronouns in github post when model 2 did better: %.4f' % avg_stops_len_model2_better)"
   ]
  },
  {
   "cell_type": "markdown",
   "metadata": {
    "id": "f8jGee4nIHIx"
   },
   "source": [
    "Unfortunately, for the Github task, the percentage of pronouns is fairly close across examples model 1 got right and examples model 2 got right. And actually, there are slightly more pronouns in the ones model 1 got right, though we don't have a hypothesis for why that might be.\n",
    "\n",
    "So it really seems to be that clear question-phrased text (with a question mark) that model 2 is better able to recognize (because of its SQuAD training). We haven't found other patterns in informal or vaguer text that model 2 is better at understanding than model 1. But there's always more you could try.\n",
    "\n",
    "However, when looking at the prevalence of pronouns, there's actually a big difference in the first task! The distilbert-base model seems to do better at recognizing paraphrased text when it has a higher rate of pronouns (more like the pronoun rate in the more informal text in the Github dataset), while the distilbert-nli model seems to do better at recognizing paraphrases when the text has a much lower rate of pronouns.\n",
    "\n",
    "Could there be a reason for that? Maybe. The distilbert-nli model was better on average at recognizing paraphrases than the base model, because it's already been trained on a natural language inference dataset. But that type of dataset tends to have lots of factual news and historic reference style text, about specific people, places and events.\n",
    "\n",
    "The NLI-trained model probably didn't gain any advantages in recognizing paraphrases in looser, vaguer text. And it might have even lost some of the original base model's general ability to understand the meaning of more abstract text, leading to the base model performing better in classifying the few instances where more pronoun-heavy text does come up in our MRPC dataset.\n",
    "\n",
    "Is there any other way we can test this?"
   ]
  },
  {
   "cell_type": "markdown",
   "metadata": {
    "id": "ze-qJU1GP1I6"
   },
   "source": [
    "### Engineered Test Examples\n",
    "\n",
    "If we have a hypothesis about a specific factor that can change a model's performance, we can try to test that hypothesis by feeding the model specially engineered examples. In particular, we can try to give a model two examples, which are almost the same, but have just this one thing different, and see if that changes the model's prediction.\n",
    "\n",
    "Let's try that here, with the MRPC task. Our idea is that the NLI-trained model (model 2) might be better at recognizing factual inconsistencies between two sentences that make them not-equivalent, especially when the text involves clearly stated news-style facts. But the base model (model 1) might be better at recognizing inconsistencies in more vague, less factual text.\n",
    "\n",
    "Let's make two examples, one that involves very specific newsy factual text, and one that involves much vaguer informal text. In both cases, let's make the pair of sentences be mostly about the same thing, but with slight factual inconcistencies. We could first have a pair of sentences about a hurricane, but the level and date of arrival are different. Then let's have a pair of sentences about a more vague bad event, which differ about whether the event might happen or did not happen."
   ]
  },
  {
   "cell_type": "code",
   "execution_count": 49,
   "metadata": {
    "id": "ZCyDA6hHLcxX"
   },
   "outputs": [],
   "source": [
    "test_examples = [\n",
    "    [\"The category 5 hurricane will hit New Orleans at 5 p.m. on January 5.\",\n",
    "     \"The storm, which is a category 4, will not reach New Orleans until late January.\"],\n",
    "\n",
    "    [\"The thing we thought might happen, that would be bad, I think it's gonna happen.\",\n",
    "     \"The thing that didn't happened, that would have been bad, I don't know why it didn't happen.\"]\n",
    "]"
   ]
  },
  {
   "cell_type": "markdown",
   "metadata": {
    "id": "eDi5VSgpRHTU"
   },
   "source": [
    "We'll need to modify our preprocessing function, because we aren't using a Huggingface dataset as the input, we just have a list of two examples that are already in the form of sentence pairs. But the structure of the input is otherwise the same as what went into the models for training."
   ]
  },
  {
   "cell_type": "code",
   "execution_count": 50,
   "metadata": {
    "id": "BzH642F9Lcz7"
   },
   "outputs": [],
   "source": [
    "def preprocess_test_examples(sentence_pairs, tokenizer):\n",
    "    encoded = tokenizer.batch_encode_plus(\n",
    "            sentence_pairs,\n",
    "            add_special_tokens=True,\n",
    "            max_length=max_length,\n",
    "            padding='max_length',\n",
    "            truncation=True,\n",
    "            return_attention_mask=True,\n",
    "            return_token_type_ids=True,\n",
    "            return_tensors=\"pt\"\n",
    "        )\n",
    "\n",
    "    return encoded"
   ]
  },
  {
   "cell_type": "markdown",
   "metadata": {
    "id": "rcYG2EbyRmkT"
   },
   "source": [
    "Let's preprocess both pairs of sentences, pass them through both models and get the models' predictions, then compare."
   ]
  },
  {
   "cell_type": "code",
   "execution_count": 51,
   "metadata": {
    "colab": {
     "base_uri": "https://localhost:8080/"
    },
    "id": "_hYywkL3Lc2U",
    "outputId": "7c76fa45-1b83-4e94-d80a-c6ecb33b1be7"
   },
   "outputs": [
    {
     "name": "stdout",
     "output_type": "stream",
     "text": [
      "\n",
      "The category 5 hurricane will hit New Orleans at 5 p.m. on January 5.\n",
      "The storm, which is a category 4, will not reach New Orleans until late January.\n",
      "Model 1 prediction:  0.1884266\n",
      "Model 2 prediction:  0.115171716\n",
      "\n",
      "The thing we thought might happen, that would be bad, I think it's gonna happen.\n",
      "The thing that didn't happened, that would have been bad, I don't know why it didn't happen.\n",
      "Model 1 prediction:  0.2667608\n",
      "Model 2 prediction:  0.31399947\n"
     ]
    }
   ],
   "source": [
    "predictions = []\n",
    "for i in range(len(mrpc_bert_model_names)):\n",
    "    test_example_inputs = preprocess_test_examples(test_examples, mrpc_tokenizers[i])\n",
    "    test_example_logits = mrpc_bert_models[i](**test_example_inputs).logits.detach().numpy()\n",
    "    predictions.append(softmax(test_example_logits, axis=1)[:, 1])\n",
    "\n",
    "for j in range(len(test_examples)):\n",
    "    print()\n",
    "    print(test_examples[j][0])\n",
    "    print(test_examples[j][1])\n",
    "    for i in range(len(mrpc_bert_model_names)):\n",
    "        print('Model %d prediction: ' % (i + 1), predictions[i][j])"
   ]
  },
  {
   "cell_type": "markdown",
   "metadata": {
    "id": "8e6EoTGzPwOV"
   },
   "source": [
    "The two models do give us quite different predictions! And the difference is in line with our hypothesis. Model 2 is very confident in predicting that the first sentence pair is not equivalent (0.09 predicted probability that they're equivalent), but Model 1 seems to think that they are equivalent. Model 2 was able to recognize the specific factual inconsistencies (category 5/4, Jan 5 vs late Jan), while Model 1 probably gets caught up on the broader similarities (hurricane/storm, New Orleans).\n",
    "\n",
    "However, the reverse is true for the second sentence pair. Model 1 is now very confident that the two sentences are probably not equivalent, even though they're again very similar in language. There aren't as many specifically named details that are the same (e.g. event or place names) to confuse Model 1, and even though the two sentences have somewhat similar structures and vocabulary, Model 1 seems to recognize that tehy aren't saying the same thing. Meanwhile, Model 2 is much less certain, almost 50/50 on whether the sentences mean the same thing or not. It doesn't seem to recognize the vaguely worded inconsistencies as being clear differences, the way it can recognize differences in more detailed facts.\n",
    "\n",
    "These are simple examples just to show you how you might think about the results you see when comparing your models, and how you can use your intuition to think through additional metrics or break-downs in your model analysis. Even if one model does better than another overall, understanding that model's remaining weaknesses and how other models can offer gains in specific cases, can help you plan further improvements like adding additional training data or incorporating other related tasks."
   ]
  },
  {
   "cell_type": "code",
   "execution_count": 51,
   "metadata": {
    "id": "LSFdLRa4Lp6_"
   },
   "outputs": [],
   "source": []
  },
  {
   "cell_type": "code",
   "execution_count": 51,
   "metadata": {
    "id": "Wjb3MtYGMIGm"
   },
   "outputs": [],
   "source": []
  }
 ],
 "metadata": {
  "accelerator": "GPU",
  "colab": {
   "gpuType": "T4",
   "provenance": []
  },
  "kernelspec": {
   "display_name": "Python 3 (ipykernel)",
   "language": "python",
   "name": "python3"
  },
  "language_info": {
   "codemirror_mode": {
    "name": "ipython",
    "version": 3
   },
   "file_extension": ".py",
   "mimetype": "text/x-python",
   "name": "python",
   "nbconvert_exporter": "python",
   "pygments_lexer": "ipython3",
   "version": "3.11.5"
  }
 },
 "nbformat": 4,
 "nbformat_minor": 1
}
