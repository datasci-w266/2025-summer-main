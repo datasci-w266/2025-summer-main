{
 "cells": [
  {
   "cell_type": "markdown",
   "metadata": {
    "id": "0L5LQ2xlw2I9"
   },
   "source": [
    "# Lesson notebook 8 - Parsing\n",
    "\n",
    "\n",
    "\n",
    "#### NLTK Chart parser\n",
    "\n",
    "First we'll look at a chart parser from NLTK.  This parser is not pretrained.  It will operate by following the production rules in the grammar we provide.\n",
    "\n",
    "\n",
    "#### NLTK Shift Reduce parser\n",
    "\n",
    "Next we'll run the NLTK shift reduce parser.  Again, this parser is also not pre-trained so it is completely dependent on the grammar we provide.  Since we are providing a toy grammar and an ambiguous sentence we end up without a single tree as output.\n",
    "\n",
    "#### NLTK Probabilistic Chart parser\n",
    "\n",
    "Third, we'll look at a probabilistic chart parser from NLTK.  This parser is not pretrained.  It will operate by following the production rules in the grammar we provide and score the sentences.\n",
    "\n",
    "\n",
    "#### SpaCy language processing examples\n",
    "\n",
    "Fourth, we'll use SpaCy, a pretrained open source language processing pipeline.  It provides a platform for processing text in a number of ways without having to perform any fine-tuning.\n",
    "\n",
    "#### Mistral-7B language processing example\n",
    "\n",
    "Finally, we'll use Mistral, an LLM that is instruction Fine-tuned and a generalist with many capabilities.  Let's see how we can use an LLM to identify parts of speech and syntactic relations.\n",
    "\n",
    "\n",
    "<a id = 'returnToTop'></a>\n",
    "\n",
    "## Notebook Contents\n",
    "  * 1. [NLTK Parsers](#nltk)\n",
    "    * 1.1 [NLTK Setup](#nltkSetup)\n",
    "    * 1.2 [Chart Parser](#chartParser)\n",
    "    * 1.3 [Shift Reduce Parser](#srParser)\n",
    "    * 1.4 [Probabilistic Chart Parser](#pchartParser)\n",
    "  * 2. [SpaCy](#spacy)\n",
    "    * 2.1 [SpaCy Setup](#spacySetup)\n",
    "    * 2.2 [Spacy Natural Language Processing Pipeline](#spacyPipeline)\n",
    "    * 2.3 [Sentence Boundary Detection](#spacySentence)\n",
    "    * 2.4 [Part of Speech Tagging](#spacyPOS)\n",
    "    * 2.5 [Dependency Parsing](#spacyDep)\n",
    "  * 3. [LLM](#mistral7b)\n",
    "    * 3.1 [Mistral Setup](#mistralSetup)\n",
    "  * 4. [Class Exercise](#classExercise)\n",
    "  * 5. [Answers](#answers)      \n",
    "\n",
    "\n",
    "\n",
    "\n",
    "\n",
    "[![Open In Colab](https://colab.research.google.com/assets/colab-badge.svg)](https://colab.research.google.com/github/datasci-w266/2025-summer-main/blob/master/materials/lesson_notebooks/lesson_8_Parsing.ipynb)"
   ]
  },
  {
   "cell_type": "markdown",
   "metadata": {
    "id": "Gfh-AqbIMtEk"
   },
   "source": [
    "[Return to Top](#returnToTop)  \n",
    "<a id = 'nltk'></a>\n",
    "\n",
    "\n",
    "## 1. NLTK Parsers\n",
    "\n",
    "NLTK (Natural Language Tool Kit) is an older python library that enables the pre-neural way of doing many of the language processing tasks that we discuss in this class.  It is a good way of exploring algorithms and non-neural implementations. The [NLTK book](https://www.nltk.org/book/) is referenced in the syllabus.\n",
    "\n",
    "\n",
    "[Return to Top](#returnToTop)  \n",
    "<a id = 'nltkSetup'></a>\n",
    "\n",
    "### 1.1 NLTK set up\n",
    "\n",
    "Let's set up our environment to run the NLTK library.  It was created before the advent of neural NLP but provides a great illustration of these approaches and allows you to experiment with them.  These implementations do not require a GPU and can easily run on your laptop."
   ]
  },
  {
   "cell_type": "code",
   "execution_count": 1,
   "metadata": {
    "id": "f0PrW_vywtRY"
   },
   "outputs": [],
   "source": [
    "import pickle\n",
    "import subprocess\n",
    "import sys\n",
    "import nltk\n",
    "from nltk import Nonterminal, nonterminals, Production, CFG, PCFG"
   ]
  },
  {
   "cell_type": "markdown",
   "metadata": {
    "id": "u1pP4Rj-ne6b"
   },
   "source": [
    "[Return to Top](#returnToTop)  \n",
    "<a id = 'chartParser'></a>\n",
    "\n",
    "### 1.2 NLTK Chart parser\n",
    "\n",
    "Recall that a [chart parser](https://www.nltk.org/howto/parse.html) requires some way of prioritizing production rules.  This can be done with a context free grammar.  Here's an example of such a grammar that deals with the wonderfully ambiguous line \"I shot an elephant in my pajamas\".  The prepositional phrase \"in my pajamas\" can be attached to the verb  \"shot\" meaning I was wearing pajamas or attached to the non \"elephant\" meaning the elephant was wearing my pajamas. Both parses are equally valid gramatically speaking even though the attachment to the verb shot is the more probable."
   ]
  },
  {
   "cell_type": "markdown",
   "metadata": {
    "id": "CxW2Tjtbpt0a"
   },
   "source": [
    "First we define our context free grammar.  A real full grammar for English would be significantly larger."
   ]
  },
  {
   "cell_type": "code",
   "execution_count": 2,
   "metadata": {
    "id": "xUwtEnMfwzly"
   },
   "outputs": [],
   "source": [
    "groucho_grammar = nltk.CFG.fromstring(\"\"\"\n",
    " S -> NP VP\n",
    " PP -> P NP\n",
    " NP -> Det N | Det N PP | 'I'\n",
    " VP -> V NP | VP PP\n",
    " Det -> 'an' | 'my'\n",
    " N -> 'elephant' | 'pajamas'\n",
    " V -> 'shot'\n",
    " P -> 'in'\n",
    " \"\"\")"
   ]
  },
  {
   "cell_type": "markdown",
   "metadata": {
    "id": "TOk_aA_Ap9pn"
   },
   "source": [
    "Now we can feed our grammar and sentence in to the chart parser and generate some parses."
   ]
  },
  {
   "cell_type": "code",
   "execution_count": 3,
   "metadata": {
    "colab": {
     "base_uri": "https://localhost:8080/"
    },
    "id": "4dh69Ftswzop",
    "outputId": "905536a8-a70a-4787-acc9-17abb1146cdd"
   },
   "outputs": [
    {
     "name": "stdout",
     "output_type": "stream",
     "text": [
      "     S                                       \n",
      "  ___|______________                          \n",
      " |                  VP                       \n",
      " |         _________|__________               \n",
      " |        VP                   PP            \n",
      " |    ____|___              ___|___           \n",
      " |   |        NP           |       NP        \n",
      " |   |     ___|_____       |    ___|_____     \n",
      " NP  V   Det        N      P  Det        N   \n",
      " |   |    |         |      |   |         |    \n",
      " I  shot  an     elephant  in  my     pajamas\n",
      "\n",
      "     S                                   \n",
      "  ___|__________                          \n",
      " |              VP                       \n",
      " |    __________|______                   \n",
      " |   |                 NP                \n",
      " |   |     ____________|___               \n",
      " |   |    |     |          PP            \n",
      " |   |    |     |       ___|___           \n",
      " |   |    |     |      |       NP        \n",
      " |   |    |     |      |    ___|_____     \n",
      " NP  V   Det    N      P  Det        N   \n",
      " |   |    |     |      |   |         |    \n",
      " I  shot  an elephant  in  my     pajamas\n",
      "\n"
     ]
    }
   ],
   "source": [
    "sent = ['I', 'shot', 'an', 'elephant', 'in', 'my', 'pajamas']\n",
    "parser = nltk.ChartParser(groucho_grammar)\n",
    "for tree in parser.parse(sent):\n",
    "     tree.pretty_print()"
   ]
  },
  {
   "cell_type": "markdown",
   "metadata": {
    "id": "GCpUUCgwqLlh"
   },
   "source": [
    "Note the parser includes trees for both prepositional attachment possibilities because both parses are equally valid given our grammar."
   ]
  },
  {
   "cell_type": "markdown",
   "metadata": {
    "id": "nAkUoNcmOKWu"
   },
   "source": [
    "[Return to Top](#returnToTop)  \n",
    "<a id = 'srParser'></a>\n",
    "\n",
    "### 1.3 NLTK Shift Reduce Parser Example\n",
    "\n",
    "Let's try NLTK's simple shift reduce parser.  This is a parser that uses a grammar we provide and generates a constituency parse that corresponds to our grammar.  As such it can only work as well as the grammar we provide.  If you alter the input sentence to inpclude words not in the grammar you will generte an exception."
   ]
  },
  {
   "cell_type": "code",
   "execution_count": 4,
   "metadata": {
    "id": "pL1d3ep_wzsA"
   },
   "outputs": [],
   "source": [
    "#shift reduce parser example\n",
    "from nltk.grammar import Nonterminal\n",
    "from nltk.parse.api import ParserI\n",
    "from nltk.tree import Tree"
   ]
  },
  {
   "cell_type": "markdown",
   "metadata": {
    "id": "MeXjtkwps45O"
   },
   "source": [
    "Now let's run the shift reduce parser.  The buffer is loaded with all of the words in our sentence.  On the left, before the square bracket is a letter **S** or **R**.  **S** means the parser picks the Shift command and move a token from the buffer to the stack.  **R** means it chooses the reduce command so swaps out a word for a label based on the grammar.  The parser runs until the buffer is empty."
   ]
  },
  {
   "cell_type": "code",
   "execution_count": 5,
   "metadata": {
    "colab": {
     "base_uri": "https://localhost:8080/"
    },
    "id": "RnO6Rr9awzuI",
    "outputId": "3bafe229-8b93-4f1c-fd85-b142be4d4ca4"
   },
   "outputs": [
    {
     "name": "stdout",
     "output_type": "stream",
     "text": [
      "Parsing 'I shot an elephant in my pajamas'\n",
      "    [ * I shot an elephant in my pajamas]\n",
      "  S [ 'I' * shot an elephant in my pajamas]\n",
      "  R [ NP * shot an elephant in my pajamas]\n",
      "  S [ NP 'shot' * an elephant in my pajamas]\n",
      "  R [ NP V * an elephant in my pajamas]\n",
      "  S [ NP V 'an' * elephant in my pajamas]\n",
      "  R [ NP V Det * elephant in my pajamas]\n",
      "  S [ NP V Det 'elephant' * in my pajamas]\n",
      "  R [ NP V Det N * in my pajamas]\n",
      "  R [ NP V NP * in my pajamas]\n",
      "  R [ NP VP * in my pajamas]\n",
      "  R [ S * in my pajamas]\n",
      "  S [ S 'in' * my pajamas]\n",
      "  R [ S P * my pajamas]\n",
      "  S [ S P 'my' * pajamas]\n",
      "  R [ S P Det * pajamas]\n",
      "  S [ S P Det 'pajamas' * ]\n",
      "  R [ S P Det N * ]\n",
      "  R [ S P NP * ]\n",
      "  R [ S PP * ]\n"
     ]
    }
   ],
   "source": [
    "parser = nltk.parse.ShiftReduceParser(groucho_grammar, trace=2)\n",
    "for p in parser.parse(sent):\n",
    "    print(p)"
   ]
  },
  {
   "cell_type": "markdown",
   "metadata": {
    "id": "YNTSyqq_5aHI"
   },
   "source": [
    "Note the shift reduce parser doesn't produce a single constituency parse with an S at the top of the tree."
   ]
  },
  {
   "cell_type": "markdown",
   "metadata": {
    "id": "ifm3qbtU5aD8"
   },
   "source": [
    "[Return to Top](#returnToTop)  \n",
    "<a id = 'pchartParser'></a>\n",
    "\n",
    "### 1.4 NLTK Probabilistic Chart Parser\n",
    "\n",
    "Here is a probabilistic chart parser where we define a grammar and associate a probability with each of the productions.  We can use this to generate a joint probability for each parse of the sentence.\n",
    "\n",
    "First, we define our grammar and associate probabilities with each production.  Note that the probabilities associated with the left hand rule **VP** add up to one.  There is a vey low probability associated with attaching a prepositional phrase (PP) to a verb phrase (VP)."
   ]
  },
  {
   "cell_type": "code",
   "execution_count": 6,
   "metadata": {
    "id": "_Oo3PACh57wD"
   },
   "outputs": [],
   "source": [
    "from nltk.parse import pchart"
   ]
  },
  {
   "cell_type": "code",
   "execution_count": 7,
   "metadata": {
    "id": "WnnCaeSU5ZQK"
   },
   "outputs": [],
   "source": [
    "toy_pcfg2 = PCFG.fromstring(\"\"\"\n",
    "     S    -> NP VP         [1.0]\n",
    "     VP   -> V NP          [.59]\n",
    "     VP   -> V             [.40]\n",
    "     VP   -> VP PP         [.01]\n",
    "     NP   -> Det N         [.41]\n",
    "     NP   -> Name          [.28]\n",
    "     NP   -> NP PP         [.31]\n",
    "     PP   -> P NP          [1.0]\n",
    "     V    -> 'saw'         [.21]\n",
    "     V    -> 'shot'        [.51]\n",
    "     V    -> 'ran'         [.28]\n",
    "     N    -> 'boy'         [.11]\n",
    "     N    -> 'pajamas'     [.12]\n",
    "     N    -> 'table'       [.13]\n",
    "     N    -> 'telescope'   [.14]\n",
    "     N    -> 'elephant'    [.5]\n",
    "     Name -> 'Jack'        [.32]\n",
    "     Name -> 'Bob'         [.28]\n",
    "     Name -> 'I'           [.40]\n",
    "     P    -> 'in'          [.30]\n",
    "     P    -> 'with'        [.41]\n",
    "     P    -> 'under'       [.29]\n",
    "     Det  -> 'the'         [.41]\n",
    "     Det  -> 'an'          [.31]\n",
    "     Det  -> 'my'          [.28]\n",
    "     \"\"\")"
   ]
  },
  {
   "cell_type": "code",
   "execution_count": 8,
   "metadata": {
    "colab": {
     "base_uri": "https://localhost:8080/"
    },
    "id": "JC3FpzJD6gJe",
    "outputId": "bce855e5-a70e-4e91-a00f-cb8100dfc20b"
   },
   "outputs": [
    {
     "name": "stdout",
     "output_type": "stream",
     "text": [
      "(S\n",
      "  (NP (Name I))\n",
      "  (VP\n",
      "    (V shot)\n",
      "    (NP\n",
      "      (NP (Det an) (N elephant))\n",
      "      (PP (P in) (NP (Det my) (N pajamas)))))) (p=2.74386e-06)\n",
      "(S\n",
      "  (NP (Name I))\n",
      "  (VP\n",
      "    (VP (V shot) (NP (Det an) (N elephant)))\n",
      "    (PP (P in) (NP (Det my) (N pajamas))))) (p=8.85116e-08)\n"
     ]
    }
   ],
   "source": [
    "sent = ['I', 'shot', 'an', 'elephant', 'in', 'my', 'pajamas']\n",
    "grammar = toy_pcfg2\n",
    "parser = pchart.InsideChartParser(grammar)\n",
    "for t in parser.parse(sent):\n",
    "    print(t)"
   ]
  },
  {
   "cell_type": "markdown",
   "metadata": {
    "id": "L5NAuPNPOWp3"
   },
   "source": [
    "[Return to Top](#returnToTop)  \n",
    "<a id = 'spacy'></a>\n",
    "\n",
    "## 2. SpaCy for Language Processing\n",
    "\n",
    "Let's set up our environment to run the current version of [SpaCy](https://spacy.io) and feed it a small snippet of text to see what it can do.  \n",
    "\n",
    "SpaCy is an open source industrial strength NLP engine that can perform multiple functions out of the box. It strikes a good balance between speed of processing and accuracy of predictions.  It comes with a number of different language models trained on the [OntoNotes5](https://catalog.ldc.upenn.edu/LDC2013T19) data set.  This means that it is already trained to do part of speech tagging and dependency parsing.  It can also be trained to do classification and a number of other tasks in the standard NLP stack.  It is very fast.  It can be a handy way of analyzing some text for exploratory data analysis. Another use is annotating some text to then create a labelled training set that you use to train up your own model independent of spaCy.\n",
    "\n",
    "SpaCy uses a combination of techniques including embeddings and convolutional neural nets to genearate the output we see. Newer versions (> 2.1) are able to interact with pre-trained transformers.\n",
    "\n"
   ]
  },
  {
   "cell_type": "markdown",
   "metadata": {
    "id": "SLAB_vCRTOGP"
   },
   "source": [
    "[Return to Top](#returnToTop)  \n",
    "<a id = 'spacySetup'></a>\n",
    "\n",
    "### 2.1 SpaCy Setup\n"
   ]
  },
  {
   "cell_type": "code",
   "execution_count": 9,
   "metadata": {
    "id": "emk0eFYbwzyz"
   },
   "outputs": [],
   "source": [
    "!pip -q install -U spacy\n"
   ]
  },
  {
   "cell_type": "code",
   "execution_count": 10,
   "metadata": {
    "colab": {
     "base_uri": "https://localhost:8080/"
    },
    "id": "Z_EnoqmUwz1b",
    "outputId": "cbb3b70d-040b-4c30-eb95-aba482bfb943"
   },
   "outputs": [
    {
     "name": "stdout",
     "output_type": "stream",
     "text": [
      "Requirement already satisfied: spacy-lookups-data in /usr/local/lib/python3.11/dist-packages (1.0.5)\n",
      "Requirement already satisfied: setuptools in /usr/local/lib/python3.11/dist-packages (from spacy-lookups-data) (75.2.0)\n"
     ]
    }
   ],
   "source": [
    "!pip install -U spacy-lookups-data"
   ]
  },
  {
   "cell_type": "code",
   "execution_count": 11,
   "metadata": {
    "colab": {
     "base_uri": "https://localhost:8080/"
    },
    "id": "ebg7KXskwz5G",
    "outputId": "65b3a035-a988-48e1-d586-67473cb2937a"
   },
   "outputs": [
    {
     "name": "stdout",
     "output_type": "stream",
     "text": [
      "3.8.7\n",
      "2.2.2\n"
     ]
    }
   ],
   "source": [
    "import spacy\n",
    "import pandas as pd\n",
    "\n",
    "print(spacy.__version__)\n",
    "print(pd.__version__)\n"
   ]
  },
  {
   "cell_type": "markdown",
   "metadata": {
    "id": "FU2Cb3JGQhZE"
   },
   "source": [
    "#### Pre-trained Language Models for SpaCy\n",
    "\n",
    "SpaCy has also been pre-trained on multiple languages.  When using it you need to select and load a specific language model.\n",
    "\n",
    "Make sure you first download a language model then load it into SpaCy. We're selecting English via a small model which gives us access to a wide variety of functionality.  There are many other options and other languages."
   ]
  },
  {
   "cell_type": "code",
   "execution_count": 12,
   "metadata": {
    "id": "6CSDp0B5wz_n"
   },
   "outputs": [],
   "source": [
    "#load an english model\n",
    "nlp = spacy.load(\"en_core_web_sm\")"
   ]
  },
  {
   "cell_type": "markdown",
   "metadata": {
    "id": "XZjidc5bR4fg"
   },
   "source": [
    "[Return to Top](#returnToTop)  \n",
    "<a id = 'spacyPipeline'></a>\n",
    "\n",
    "### 2.2 SpaCy Natural Language Processing Pipeline\n",
    "When you invoke spaCy with some input text it generates a set of objects.  spaCy wants to process \"document\" like objects. This document can be one sentence or can be many sentences.  You provide the text and spaCy runs the nlp function which returns a Doc object.  That Doc object contains a list of Token objects each of which is associated with a set of annotations.  Many examples below are just about harvesting the labels associated with each token after the processing of the document in the Doc object."
   ]
  },
  {
   "cell_type": "code",
   "execution_count": 13,
   "metadata": {
    "colab": {
     "base_uri": "https://localhost:8080/",
     "height": 53
    },
    "id": "uT-xcQihR31j",
    "outputId": "46241a62-96b2-4658-da33-7ae73e91a773"
   },
   "outputs": [
    {
     "name": "stdout",
     "output_type": "stream",
     "text": [
      "The first word is: \n"
     ]
    },
    {
     "data": {
      "application/vnd.google.colaboratory.intrinsic+json": {
       "type": "string"
      },
      "text/plain": [
       "'This'"
      ]
     },
     "execution_count": 13,
     "metadata": {},
     "output_type": "execute_result"
    }
   ],
   "source": [
    "doc = nlp(u\"This is a sentence that we want to process.\")\n",
    "\n",
    "print(\"The first word is: \")\n",
    "doc[0].text"
   ]
  },
  {
   "cell_type": "markdown",
   "metadata": {
    "id": "Eom49P2IQ1KD"
   },
   "source": [
    "[Return to Top](#returnToTop)  \n",
    "<a id = 'spacySentence'></a>\n",
    "\n",
    "### 2.3 Sentence Boundary Detection\n",
    "\n",
    "Let's demonstrate some of the capabilities built in to the SpaCy language processing pipeline.  One problem we sometimes have to deal with is sentence boundayr detection.  We want to process a sequence of words as a unit like a sentence.  We might then want to feed individual sentences in to some SpaCy process.\n",
    "\n",
    "Let's see if we can convert these five lines of text into the three sentences they contain.  We include the tricky 'U.S.' in our lines to see if the bounadry detector can handle more complex cases."
   ]
  },
  {
   "cell_type": "code",
   "execution_count": 14,
   "metadata": {
    "colab": {
     "base_uri": "https://localhost:8080/"
    },
    "id": "C9T8tvXtw0Cp",
    "outputId": "4703d5a6-0ef4-4074-ed80-24dac1e9c392"
   },
   "outputs": [
    {
     "name": "stdout",
     "output_type": "stream",
     "text": [
      "Sentence boundary detection is actually a pretty hard problem.  \n",
      "Great advances have been made in the U.S. in the past decade.\n",
      "New neural nets like a CNN can help improve results on this classification task.\n"
     ]
    }
   ],
   "source": [
    "#sentence detection\n",
    "# Given an input block of text, identify where the sentences end.\n",
    "\n",
    "about_text = ('Sentence boundary detection is actually'\n",
    "              ' a pretty hard problem.  Great advances'\n",
    "              ' have been made in the U.S. in the'\n",
    "              ' past decade. New neural nets'\n",
    "              ' like a CNN can help improve results on this classification task.')\n",
    "about_doc = nlp(about_text)\n",
    "sentences = list(about_doc.sents)\n",
    "#len(sentences)\n",
    "\n",
    "#now print out the three sentences\n",
    "for sentence in sentences:\n",
    "    print (sentence)"
   ]
  },
  {
   "cell_type": "markdown",
   "metadata": {
    "id": "TkZ3iyqIZM8z"
   },
   "source": [
    "[Return to Top](#returnToTop)  \n",
    "<a id = 'spacyPOS'></a>\n",
    "\n",
    "### 2.4 Part of Speech Tagging\n",
    "Part of speech tagging can also be very valuable.  Tagging words can allow you to quickly distinguish \"things\" from \"actions\" or \"events.\"\n",
    "SpaCy has several different tags to display related to part of speech as shown below.  First, we'll just print out the tags.  Second we'll take the output and display it in a table using pandas."
   ]
  },
  {
   "cell_type": "code",
   "execution_count": 15,
   "metadata": {
    "colab": {
     "base_uri": "https://localhost:8080/"
    },
    "id": "bBnQls-xw0J4",
    "outputId": "17999b07-ce1b-4a62-bc48-d4b295723431"
   },
   "outputs": [
    {
     "name": "stdout",
     "output_type": "stream",
     "text": [
      "Sentence NN NOUN noun, singular or mass\n",
      "boundary NN NOUN noun, singular or mass\n",
      "detection NN NOUN noun, singular or mass\n",
      "is VBZ AUX verb, 3rd person singular present\n",
      "actually RB ADV adverb\n",
      "a DT DET determiner\n",
      "pretty RB ADV adverb\n",
      "hard JJ ADJ adjective (English), other noun-modifier (Chinese)\n",
      "problem NN NOUN noun, singular or mass\n",
      ". . PUNCT punctuation mark, sentence closer\n",
      "  _SP SPACE whitespace\n",
      "Great JJ ADJ adjective (English), other noun-modifier (Chinese)\n",
      "advances NNS NOUN noun, plural\n",
      "have VBP AUX verb, non-3rd person singular present\n",
      "been VBN AUX verb, past participle\n",
      "made VBN VERB verb, past participle\n",
      "in IN ADP conjunction, subordinating or preposition\n",
      "the DT DET determiner\n",
      "U.S. NNP PROPN noun, proper singular\n",
      "in IN ADP conjunction, subordinating or preposition\n",
      "the DT DET determiner\n",
      "past JJ ADJ adjective (English), other noun-modifier (Chinese)\n",
      "decade NN NOUN noun, singular or mass\n",
      ". . PUNCT punctuation mark, sentence closer\n",
      "New JJ ADJ adjective (English), other noun-modifier (Chinese)\n",
      "neural JJ ADJ adjective (English), other noun-modifier (Chinese)\n",
      "nets NNS NOUN noun, plural\n",
      "like IN ADP conjunction, subordinating or preposition\n",
      "a DT DET determiner\n",
      "CNN NNP PROPN noun, proper singular\n",
      "can MD AUX verb, modal auxiliary\n",
      "help VB VERB verb, base form\n",
      "improve VB VERB verb, base form\n",
      "results NNS NOUN noun, plural\n",
      "on IN ADP conjunction, subordinating or preposition\n",
      "this DT DET determiner\n",
      "classification NN NOUN noun, singular or mass\n",
      "task NN NOUN noun, singular or mass\n",
      ". . PUNCT punctuation mark, sentence closer\n"
     ]
    }
   ],
   "source": [
    "#POS with unpretty print\n",
    "\n",
    "for token in about_doc:\n",
    "    print (token, token.tag_, token.pos_, spacy.explain(token.tag_))"
   ]
  },
  {
   "cell_type": "markdown",
   "metadata": {
    "id": "qMPNJS2SZtnz"
   },
   "source": [
    "Let's process that input from the variable *about_doc* and show the results of POS tagging the three sentences it contains.  We'll take that output and display it in a table with columns for the word, it's POS tag, a higher level syntactic description, and an explanation for the model."
   ]
  },
  {
   "cell_type": "code",
   "execution_count": 16,
   "metadata": {
    "colab": {
     "base_uri": "https://localhost:8080/",
     "height": 1000
    },
    "id": "OM_SSSyK2I1v",
    "outputId": "459c8f9a-e6a4-463c-c0c0-28f600bdd76f"
   },
   "outputs": [
    {
     "data": {
      "application/vnd.google.colaboratory.intrinsic+json": {
       "summary": "{\n  \"name\": \"dpos\",\n  \"rows\": 39,\n  \"fields\": [\n    {\n      \"column\": \"text\",\n      \"properties\": {\n        \"dtype\": \"string\",\n        \"num_unique_values\": 34,\n        \"samples\": [\n          \"made\",\n          \"past\",\n          \"help\"\n        ],\n        \"semantic_type\": \"\",\n        \"description\": \"\"\n      }\n    },\n    {\n      \"column\": \"tag\",\n      \"properties\": {\n        \"dtype\": \"category\",\n        \"num_unique_values\": 14,\n        \"samples\": [\n          \"VBN\",\n          \"NNP\",\n          \"NN\"\n        ],\n        \"semantic_type\": \"\",\n        \"description\": \"\"\n      }\n    },\n    {\n      \"column\": \"pos\",\n      \"properties\": {\n        \"dtype\": \"category\",\n        \"num_unique_values\": 10,\n        \"samples\": [\n          \"ADP\",\n          \"AUX\",\n          \"PUNCT\"\n        ],\n        \"semantic_type\": \"\",\n        \"description\": \"\"\n      }\n    },\n    {\n      \"column\": \"explain\",\n      \"properties\": {\n        \"dtype\": \"category\",\n        \"num_unique_values\": 14,\n        \"samples\": [\n          \"verb, past participle\",\n          \"noun, proper singular\",\n          \"noun, singular or mass\"\n        ],\n        \"semantic_type\": \"\",\n        \"description\": \"\"\n      }\n    }\n  ]\n}",
       "type": "dataframe",
       "variable_name": "dpos"
      },
      "text/html": [
       "\n",
       "  <div id=\"df-5e404c70-d4e3-4fac-bca2-7fdc2bcbde4b\" class=\"colab-df-container\">\n",
       "    <div>\n",
       "<style scoped>\n",
       "    .dataframe tbody tr th:only-of-type {\n",
       "        vertical-align: middle;\n",
       "    }\n",
       "\n",
       "    .dataframe tbody tr th {\n",
       "        vertical-align: top;\n",
       "    }\n",
       "\n",
       "    .dataframe thead th {\n",
       "        text-align: right;\n",
       "    }\n",
       "</style>\n",
       "<table border=\"1\" class=\"dataframe\">\n",
       "  <thead>\n",
       "    <tr style=\"text-align: right;\">\n",
       "      <th></th>\n",
       "      <th>text</th>\n",
       "      <th>tag</th>\n",
       "      <th>pos</th>\n",
       "      <th>explain</th>\n",
       "    </tr>\n",
       "  </thead>\n",
       "  <tbody>\n",
       "    <tr>\n",
       "      <th>0</th>\n",
       "      <td>Sentence</td>\n",
       "      <td>NN</td>\n",
       "      <td>NOUN</td>\n",
       "      <td>noun, singular or mass</td>\n",
       "    </tr>\n",
       "    <tr>\n",
       "      <th>1</th>\n",
       "      <td>boundary</td>\n",
       "      <td>NN</td>\n",
       "      <td>NOUN</td>\n",
       "      <td>noun, singular or mass</td>\n",
       "    </tr>\n",
       "    <tr>\n",
       "      <th>2</th>\n",
       "      <td>detection</td>\n",
       "      <td>NN</td>\n",
       "      <td>NOUN</td>\n",
       "      <td>noun, singular or mass</td>\n",
       "    </tr>\n",
       "    <tr>\n",
       "      <th>3</th>\n",
       "      <td>is</td>\n",
       "      <td>VBZ</td>\n",
       "      <td>AUX</td>\n",
       "      <td>verb, 3rd person singular present</td>\n",
       "    </tr>\n",
       "    <tr>\n",
       "      <th>4</th>\n",
       "      <td>actually</td>\n",
       "      <td>RB</td>\n",
       "      <td>ADV</td>\n",
       "      <td>adverb</td>\n",
       "    </tr>\n",
       "    <tr>\n",
       "      <th>5</th>\n",
       "      <td>a</td>\n",
       "      <td>DT</td>\n",
       "      <td>DET</td>\n",
       "      <td>determiner</td>\n",
       "    </tr>\n",
       "    <tr>\n",
       "      <th>6</th>\n",
       "      <td>pretty</td>\n",
       "      <td>RB</td>\n",
       "      <td>ADV</td>\n",
       "      <td>adverb</td>\n",
       "    </tr>\n",
       "    <tr>\n",
       "      <th>7</th>\n",
       "      <td>hard</td>\n",
       "      <td>JJ</td>\n",
       "      <td>ADJ</td>\n",
       "      <td>adjective (English), other noun-modifier (Chin...</td>\n",
       "    </tr>\n",
       "    <tr>\n",
       "      <th>8</th>\n",
       "      <td>problem</td>\n",
       "      <td>NN</td>\n",
       "      <td>NOUN</td>\n",
       "      <td>noun, singular or mass</td>\n",
       "    </tr>\n",
       "    <tr>\n",
       "      <th>9</th>\n",
       "      <td>.</td>\n",
       "      <td>.</td>\n",
       "      <td>PUNCT</td>\n",
       "      <td>punctuation mark, sentence closer</td>\n",
       "    </tr>\n",
       "    <tr>\n",
       "      <th>10</th>\n",
       "      <td></td>\n",
       "      <td>_SP</td>\n",
       "      <td>SPACE</td>\n",
       "      <td>whitespace</td>\n",
       "    </tr>\n",
       "    <tr>\n",
       "      <th>11</th>\n",
       "      <td>Great</td>\n",
       "      <td>JJ</td>\n",
       "      <td>ADJ</td>\n",
       "      <td>adjective (English), other noun-modifier (Chin...</td>\n",
       "    </tr>\n",
       "    <tr>\n",
       "      <th>12</th>\n",
       "      <td>advances</td>\n",
       "      <td>NNS</td>\n",
       "      <td>NOUN</td>\n",
       "      <td>noun, plural</td>\n",
       "    </tr>\n",
       "    <tr>\n",
       "      <th>13</th>\n",
       "      <td>have</td>\n",
       "      <td>VBP</td>\n",
       "      <td>AUX</td>\n",
       "      <td>verb, non-3rd person singular present</td>\n",
       "    </tr>\n",
       "    <tr>\n",
       "      <th>14</th>\n",
       "      <td>been</td>\n",
       "      <td>VBN</td>\n",
       "      <td>AUX</td>\n",
       "      <td>verb, past participle</td>\n",
       "    </tr>\n",
       "    <tr>\n",
       "      <th>15</th>\n",
       "      <td>made</td>\n",
       "      <td>VBN</td>\n",
       "      <td>VERB</td>\n",
       "      <td>verb, past participle</td>\n",
       "    </tr>\n",
       "    <tr>\n",
       "      <th>16</th>\n",
       "      <td>in</td>\n",
       "      <td>IN</td>\n",
       "      <td>ADP</td>\n",
       "      <td>conjunction, subordinating or preposition</td>\n",
       "    </tr>\n",
       "    <tr>\n",
       "      <th>17</th>\n",
       "      <td>the</td>\n",
       "      <td>DT</td>\n",
       "      <td>DET</td>\n",
       "      <td>determiner</td>\n",
       "    </tr>\n",
       "    <tr>\n",
       "      <th>18</th>\n",
       "      <td>U.S.</td>\n",
       "      <td>NNP</td>\n",
       "      <td>PROPN</td>\n",
       "      <td>noun, proper singular</td>\n",
       "    </tr>\n",
       "    <tr>\n",
       "      <th>19</th>\n",
       "      <td>in</td>\n",
       "      <td>IN</td>\n",
       "      <td>ADP</td>\n",
       "      <td>conjunction, subordinating or preposition</td>\n",
       "    </tr>\n",
       "    <tr>\n",
       "      <th>20</th>\n",
       "      <td>the</td>\n",
       "      <td>DT</td>\n",
       "      <td>DET</td>\n",
       "      <td>determiner</td>\n",
       "    </tr>\n",
       "    <tr>\n",
       "      <th>21</th>\n",
       "      <td>past</td>\n",
       "      <td>JJ</td>\n",
       "      <td>ADJ</td>\n",
       "      <td>adjective (English), other noun-modifier (Chin...</td>\n",
       "    </tr>\n",
       "    <tr>\n",
       "      <th>22</th>\n",
       "      <td>decade</td>\n",
       "      <td>NN</td>\n",
       "      <td>NOUN</td>\n",
       "      <td>noun, singular or mass</td>\n",
       "    </tr>\n",
       "    <tr>\n",
       "      <th>23</th>\n",
       "      <td>.</td>\n",
       "      <td>.</td>\n",
       "      <td>PUNCT</td>\n",
       "      <td>punctuation mark, sentence closer</td>\n",
       "    </tr>\n",
       "    <tr>\n",
       "      <th>24</th>\n",
       "      <td>New</td>\n",
       "      <td>JJ</td>\n",
       "      <td>ADJ</td>\n",
       "      <td>adjective (English), other noun-modifier (Chin...</td>\n",
       "    </tr>\n",
       "    <tr>\n",
       "      <th>25</th>\n",
       "      <td>neural</td>\n",
       "      <td>JJ</td>\n",
       "      <td>ADJ</td>\n",
       "      <td>adjective (English), other noun-modifier (Chin...</td>\n",
       "    </tr>\n",
       "    <tr>\n",
       "      <th>26</th>\n",
       "      <td>nets</td>\n",
       "      <td>NNS</td>\n",
       "      <td>NOUN</td>\n",
       "      <td>noun, plural</td>\n",
       "    </tr>\n",
       "    <tr>\n",
       "      <th>27</th>\n",
       "      <td>like</td>\n",
       "      <td>IN</td>\n",
       "      <td>ADP</td>\n",
       "      <td>conjunction, subordinating or preposition</td>\n",
       "    </tr>\n",
       "    <tr>\n",
       "      <th>28</th>\n",
       "      <td>a</td>\n",
       "      <td>DT</td>\n",
       "      <td>DET</td>\n",
       "      <td>determiner</td>\n",
       "    </tr>\n",
       "    <tr>\n",
       "      <th>29</th>\n",
       "      <td>CNN</td>\n",
       "      <td>NNP</td>\n",
       "      <td>PROPN</td>\n",
       "      <td>noun, proper singular</td>\n",
       "    </tr>\n",
       "    <tr>\n",
       "      <th>30</th>\n",
       "      <td>can</td>\n",
       "      <td>MD</td>\n",
       "      <td>AUX</td>\n",
       "      <td>verb, modal auxiliary</td>\n",
       "    </tr>\n",
       "    <tr>\n",
       "      <th>31</th>\n",
       "      <td>help</td>\n",
       "      <td>VB</td>\n",
       "      <td>VERB</td>\n",
       "      <td>verb, base form</td>\n",
       "    </tr>\n",
       "    <tr>\n",
       "      <th>32</th>\n",
       "      <td>improve</td>\n",
       "      <td>VB</td>\n",
       "      <td>VERB</td>\n",
       "      <td>verb, base form</td>\n",
       "    </tr>\n",
       "    <tr>\n",
       "      <th>33</th>\n",
       "      <td>results</td>\n",
       "      <td>NNS</td>\n",
       "      <td>NOUN</td>\n",
       "      <td>noun, plural</td>\n",
       "    </tr>\n",
       "    <tr>\n",
       "      <th>34</th>\n",
       "      <td>on</td>\n",
       "      <td>IN</td>\n",
       "      <td>ADP</td>\n",
       "      <td>conjunction, subordinating or preposition</td>\n",
       "    </tr>\n",
       "    <tr>\n",
       "      <th>35</th>\n",
       "      <td>this</td>\n",
       "      <td>DT</td>\n",
       "      <td>DET</td>\n",
       "      <td>determiner</td>\n",
       "    </tr>\n",
       "    <tr>\n",
       "      <th>36</th>\n",
       "      <td>classification</td>\n",
       "      <td>NN</td>\n",
       "      <td>NOUN</td>\n",
       "      <td>noun, singular or mass</td>\n",
       "    </tr>\n",
       "    <tr>\n",
       "      <th>37</th>\n",
       "      <td>task</td>\n",
       "      <td>NN</td>\n",
       "      <td>NOUN</td>\n",
       "      <td>noun, singular or mass</td>\n",
       "    </tr>\n",
       "    <tr>\n",
       "      <th>38</th>\n",
       "      <td>.</td>\n",
       "      <td>.</td>\n",
       "      <td>PUNCT</td>\n",
       "      <td>punctuation mark, sentence closer</td>\n",
       "    </tr>\n",
       "  </tbody>\n",
       "</table>\n",
       "</div>\n",
       "    <div class=\"colab-df-buttons\">\n",
       "\n",
       "  <div class=\"colab-df-container\">\n",
       "    <button class=\"colab-df-convert\" onclick=\"convertToInteractive('df-5e404c70-d4e3-4fac-bca2-7fdc2bcbde4b')\"\n",
       "            title=\"Convert this dataframe to an interactive table.\"\n",
       "            style=\"display:none;\">\n",
       "\n",
       "  <svg xmlns=\"http://www.w3.org/2000/svg\" height=\"24px\" viewBox=\"0 -960 960 960\">\n",
       "    <path d=\"M120-120v-720h720v720H120Zm60-500h600v-160H180v160Zm220 220h160v-160H400v160Zm0 220h160v-160H400v160ZM180-400h160v-160H180v160Zm440 0h160v-160H620v160ZM180-180h160v-160H180v160Zm440 0h160v-160H620v160Z\"/>\n",
       "  </svg>\n",
       "    </button>\n",
       "\n",
       "  <style>\n",
       "    .colab-df-container {\n",
       "      display:flex;\n",
       "      gap: 12px;\n",
       "    }\n",
       "\n",
       "    .colab-df-convert {\n",
       "      background-color: #E8F0FE;\n",
       "      border: none;\n",
       "      border-radius: 50%;\n",
       "      cursor: pointer;\n",
       "      display: none;\n",
       "      fill: #1967D2;\n",
       "      height: 32px;\n",
       "      padding: 0 0 0 0;\n",
       "      width: 32px;\n",
       "    }\n",
       "\n",
       "    .colab-df-convert:hover {\n",
       "      background-color: #E2EBFA;\n",
       "      box-shadow: 0px 1px 2px rgba(60, 64, 67, 0.3), 0px 1px 3px 1px rgba(60, 64, 67, 0.15);\n",
       "      fill: #174EA6;\n",
       "    }\n",
       "\n",
       "    .colab-df-buttons div {\n",
       "      margin-bottom: 4px;\n",
       "    }\n",
       "\n",
       "    [theme=dark] .colab-df-convert {\n",
       "      background-color: #3B4455;\n",
       "      fill: #D2E3FC;\n",
       "    }\n",
       "\n",
       "    [theme=dark] .colab-df-convert:hover {\n",
       "      background-color: #434B5C;\n",
       "      box-shadow: 0px 1px 3px 1px rgba(0, 0, 0, 0.15);\n",
       "      filter: drop-shadow(0px 1px 2px rgba(0, 0, 0, 0.3));\n",
       "      fill: #FFFFFF;\n",
       "    }\n",
       "  </style>\n",
       "\n",
       "    <script>\n",
       "      const buttonEl =\n",
       "        document.querySelector('#df-5e404c70-d4e3-4fac-bca2-7fdc2bcbde4b button.colab-df-convert');\n",
       "      buttonEl.style.display =\n",
       "        google.colab.kernel.accessAllowed ? 'block' : 'none';\n",
       "\n",
       "      async function convertToInteractive(key) {\n",
       "        const element = document.querySelector('#df-5e404c70-d4e3-4fac-bca2-7fdc2bcbde4b');\n",
       "        const dataTable =\n",
       "          await google.colab.kernel.invokeFunction('convertToInteractive',\n",
       "                                                    [key], {});\n",
       "        if (!dataTable) return;\n",
       "\n",
       "        const docLinkHtml = 'Like what you see? Visit the ' +\n",
       "          '<a target=\"_blank\" href=https://colab.research.google.com/notebooks/data_table.ipynb>data table notebook</a>'\n",
       "          + ' to learn more about interactive tables.';\n",
       "        element.innerHTML = '';\n",
       "        dataTable['output_type'] = 'display_data';\n",
       "        await google.colab.output.renderOutput(dataTable, element);\n",
       "        const docLink = document.createElement('div');\n",
       "        docLink.innerHTML = docLinkHtml;\n",
       "        element.appendChild(docLink);\n",
       "      }\n",
       "    </script>\n",
       "  </div>\n",
       "\n",
       "\n",
       "    <div id=\"df-e07a79f3-2813-4119-94b2-d2d8fe7fe602\">\n",
       "      <button class=\"colab-df-quickchart\" onclick=\"quickchart('df-e07a79f3-2813-4119-94b2-d2d8fe7fe602')\"\n",
       "                title=\"Suggest charts\"\n",
       "                style=\"display:none;\">\n",
       "\n",
       "<svg xmlns=\"http://www.w3.org/2000/svg\" height=\"24px\"viewBox=\"0 0 24 24\"\n",
       "     width=\"24px\">\n",
       "    <g>\n",
       "        <path d=\"M19 3H5c-1.1 0-2 .9-2 2v14c0 1.1.9 2 2 2h14c1.1 0 2-.9 2-2V5c0-1.1-.9-2-2-2zM9 17H7v-7h2v7zm4 0h-2V7h2v10zm4 0h-2v-4h2v4z\"/>\n",
       "    </g>\n",
       "</svg>\n",
       "      </button>\n",
       "\n",
       "<style>\n",
       "  .colab-df-quickchart {\n",
       "      --bg-color: #E8F0FE;\n",
       "      --fill-color: #1967D2;\n",
       "      --hover-bg-color: #E2EBFA;\n",
       "      --hover-fill-color: #174EA6;\n",
       "      --disabled-fill-color: #AAA;\n",
       "      --disabled-bg-color: #DDD;\n",
       "  }\n",
       "\n",
       "  [theme=dark] .colab-df-quickchart {\n",
       "      --bg-color: #3B4455;\n",
       "      --fill-color: #D2E3FC;\n",
       "      --hover-bg-color: #434B5C;\n",
       "      --hover-fill-color: #FFFFFF;\n",
       "      --disabled-bg-color: #3B4455;\n",
       "      --disabled-fill-color: #666;\n",
       "  }\n",
       "\n",
       "  .colab-df-quickchart {\n",
       "    background-color: var(--bg-color);\n",
       "    border: none;\n",
       "    border-radius: 50%;\n",
       "    cursor: pointer;\n",
       "    display: none;\n",
       "    fill: var(--fill-color);\n",
       "    height: 32px;\n",
       "    padding: 0;\n",
       "    width: 32px;\n",
       "  }\n",
       "\n",
       "  .colab-df-quickchart:hover {\n",
       "    background-color: var(--hover-bg-color);\n",
       "    box-shadow: 0 1px 2px rgba(60, 64, 67, 0.3), 0 1px 3px 1px rgba(60, 64, 67, 0.15);\n",
       "    fill: var(--button-hover-fill-color);\n",
       "  }\n",
       "\n",
       "  .colab-df-quickchart-complete:disabled,\n",
       "  .colab-df-quickchart-complete:disabled:hover {\n",
       "    background-color: var(--disabled-bg-color);\n",
       "    fill: var(--disabled-fill-color);\n",
       "    box-shadow: none;\n",
       "  }\n",
       "\n",
       "  .colab-df-spinner {\n",
       "    border: 2px solid var(--fill-color);\n",
       "    border-color: transparent;\n",
       "    border-bottom-color: var(--fill-color);\n",
       "    animation:\n",
       "      spin 1s steps(1) infinite;\n",
       "  }\n",
       "\n",
       "  @keyframes spin {\n",
       "    0% {\n",
       "      border-color: transparent;\n",
       "      border-bottom-color: var(--fill-color);\n",
       "      border-left-color: var(--fill-color);\n",
       "    }\n",
       "    20% {\n",
       "      border-color: transparent;\n",
       "      border-left-color: var(--fill-color);\n",
       "      border-top-color: var(--fill-color);\n",
       "    }\n",
       "    30% {\n",
       "      border-color: transparent;\n",
       "      border-left-color: var(--fill-color);\n",
       "      border-top-color: var(--fill-color);\n",
       "      border-right-color: var(--fill-color);\n",
       "    }\n",
       "    40% {\n",
       "      border-color: transparent;\n",
       "      border-right-color: var(--fill-color);\n",
       "      border-top-color: var(--fill-color);\n",
       "    }\n",
       "    60% {\n",
       "      border-color: transparent;\n",
       "      border-right-color: var(--fill-color);\n",
       "    }\n",
       "    80% {\n",
       "      border-color: transparent;\n",
       "      border-right-color: var(--fill-color);\n",
       "      border-bottom-color: var(--fill-color);\n",
       "    }\n",
       "    90% {\n",
       "      border-color: transparent;\n",
       "      border-bottom-color: var(--fill-color);\n",
       "    }\n",
       "  }\n",
       "</style>\n",
       "\n",
       "      <script>\n",
       "        async function quickchart(key) {\n",
       "          const quickchartButtonEl =\n",
       "            document.querySelector('#' + key + ' button');\n",
       "          quickchartButtonEl.disabled = true;  // To prevent multiple clicks.\n",
       "          quickchartButtonEl.classList.add('colab-df-spinner');\n",
       "          try {\n",
       "            const charts = await google.colab.kernel.invokeFunction(\n",
       "                'suggestCharts', [key], {});\n",
       "          } catch (error) {\n",
       "            console.error('Error during call to suggestCharts:', error);\n",
       "          }\n",
       "          quickchartButtonEl.classList.remove('colab-df-spinner');\n",
       "          quickchartButtonEl.classList.add('colab-df-quickchart-complete');\n",
       "        }\n",
       "        (() => {\n",
       "          let quickchartButtonEl =\n",
       "            document.querySelector('#df-e07a79f3-2813-4119-94b2-d2d8fe7fe602 button');\n",
       "          quickchartButtonEl.style.display =\n",
       "            google.colab.kernel.accessAllowed ? 'block' : 'none';\n",
       "        })();\n",
       "      </script>\n",
       "    </div>\n",
       "\n",
       "  <div id=\"id_156966c7-63eb-4ec2-8c65-efe146664624\">\n",
       "    <style>\n",
       "      .colab-df-generate {\n",
       "        background-color: #E8F0FE;\n",
       "        border: none;\n",
       "        border-radius: 50%;\n",
       "        cursor: pointer;\n",
       "        display: none;\n",
       "        fill: #1967D2;\n",
       "        height: 32px;\n",
       "        padding: 0 0 0 0;\n",
       "        width: 32px;\n",
       "      }\n",
       "\n",
       "      .colab-df-generate:hover {\n",
       "        background-color: #E2EBFA;\n",
       "        box-shadow: 0px 1px 2px rgba(60, 64, 67, 0.3), 0px 1px 3px 1px rgba(60, 64, 67, 0.15);\n",
       "        fill: #174EA6;\n",
       "      }\n",
       "\n",
       "      [theme=dark] .colab-df-generate {\n",
       "        background-color: #3B4455;\n",
       "        fill: #D2E3FC;\n",
       "      }\n",
       "\n",
       "      [theme=dark] .colab-df-generate:hover {\n",
       "        background-color: #434B5C;\n",
       "        box-shadow: 0px 1px 3px 1px rgba(0, 0, 0, 0.15);\n",
       "        filter: drop-shadow(0px 1px 2px rgba(0, 0, 0, 0.3));\n",
       "        fill: #FFFFFF;\n",
       "      }\n",
       "    </style>\n",
       "    <button class=\"colab-df-generate\" onclick=\"generateWithVariable('dpos')\"\n",
       "            title=\"Generate code using this dataframe.\"\n",
       "            style=\"display:none;\">\n",
       "\n",
       "  <svg xmlns=\"http://www.w3.org/2000/svg\" height=\"24px\"viewBox=\"0 0 24 24\"\n",
       "       width=\"24px\">\n",
       "    <path d=\"M7,19H8.4L18.45,9,17,7.55,7,17.6ZM5,21V16.75L18.45,3.32a2,2,0,0,1,2.83,0l1.4,1.43a1.91,1.91,0,0,1,.58,1.4,1.91,1.91,0,0,1-.58,1.4L9.25,21ZM18.45,9,17,7.55Zm-12,3A5.31,5.31,0,0,0,4.9,8.1,5.31,5.31,0,0,0,1,6.5,5.31,5.31,0,0,0,4.9,4.9,5.31,5.31,0,0,0,6.5,1,5.31,5.31,0,0,0,8.1,4.9,5.31,5.31,0,0,0,12,6.5,5.46,5.46,0,0,0,6.5,12Z\"/>\n",
       "  </svg>\n",
       "    </button>\n",
       "    <script>\n",
       "      (() => {\n",
       "      const buttonEl =\n",
       "        document.querySelector('#id_156966c7-63eb-4ec2-8c65-efe146664624 button.colab-df-generate');\n",
       "      buttonEl.style.display =\n",
       "        google.colab.kernel.accessAllowed ? 'block' : 'none';\n",
       "\n",
       "      buttonEl.onclick = () => {\n",
       "        google.colab.notebook.generateWithVariable('dpos');\n",
       "      }\n",
       "      })();\n",
       "    </script>\n",
       "  </div>\n",
       "\n",
       "    </div>\n",
       "  </div>\n"
      ],
      "text/plain": [
       "              text  tag    pos  \\\n",
       "0         Sentence   NN   NOUN   \n",
       "1         boundary   NN   NOUN   \n",
       "2        detection   NN   NOUN   \n",
       "3               is  VBZ    AUX   \n",
       "4         actually   RB    ADV   \n",
       "5                a   DT    DET   \n",
       "6           pretty   RB    ADV   \n",
       "7             hard   JJ    ADJ   \n",
       "8          problem   NN   NOUN   \n",
       "9                .    .  PUNCT   \n",
       "10                  _SP  SPACE   \n",
       "11           Great   JJ    ADJ   \n",
       "12        advances  NNS   NOUN   \n",
       "13            have  VBP    AUX   \n",
       "14            been  VBN    AUX   \n",
       "15            made  VBN   VERB   \n",
       "16              in   IN    ADP   \n",
       "17             the   DT    DET   \n",
       "18            U.S.  NNP  PROPN   \n",
       "19              in   IN    ADP   \n",
       "20             the   DT    DET   \n",
       "21            past   JJ    ADJ   \n",
       "22          decade   NN   NOUN   \n",
       "23               .    .  PUNCT   \n",
       "24             New   JJ    ADJ   \n",
       "25          neural   JJ    ADJ   \n",
       "26            nets  NNS   NOUN   \n",
       "27            like   IN    ADP   \n",
       "28               a   DT    DET   \n",
       "29             CNN  NNP  PROPN   \n",
       "30             can   MD    AUX   \n",
       "31            help   VB   VERB   \n",
       "32         improve   VB   VERB   \n",
       "33         results  NNS   NOUN   \n",
       "34              on   IN    ADP   \n",
       "35            this   DT    DET   \n",
       "36  classification   NN   NOUN   \n",
       "37            task   NN   NOUN   \n",
       "38               .    .  PUNCT   \n",
       "\n",
       "                                              explain  \n",
       "0                              noun, singular or mass  \n",
       "1                              noun, singular or mass  \n",
       "2                              noun, singular or mass  \n",
       "3                   verb, 3rd person singular present  \n",
       "4                                              adverb  \n",
       "5                                          determiner  \n",
       "6                                              adverb  \n",
       "7   adjective (English), other noun-modifier (Chin...  \n",
       "8                              noun, singular or mass  \n",
       "9                   punctuation mark, sentence closer  \n",
       "10                                         whitespace  \n",
       "11  adjective (English), other noun-modifier (Chin...  \n",
       "12                                       noun, plural  \n",
       "13              verb, non-3rd person singular present  \n",
       "14                              verb, past participle  \n",
       "15                              verb, past participle  \n",
       "16          conjunction, subordinating or preposition  \n",
       "17                                         determiner  \n",
       "18                              noun, proper singular  \n",
       "19          conjunction, subordinating or preposition  \n",
       "20                                         determiner  \n",
       "21  adjective (English), other noun-modifier (Chin...  \n",
       "22                             noun, singular or mass  \n",
       "23                  punctuation mark, sentence closer  \n",
       "24  adjective (English), other noun-modifier (Chin...  \n",
       "25  adjective (English), other noun-modifier (Chin...  \n",
       "26                                       noun, plural  \n",
       "27          conjunction, subordinating or preposition  \n",
       "28                                         determiner  \n",
       "29                              noun, proper singular  \n",
       "30                              verb, modal auxiliary  \n",
       "31                                    verb, base form  \n",
       "32                                    verb, base form  \n",
       "33                                       noun, plural  \n",
       "34          conjunction, subordinating or preposition  \n",
       "35                                         determiner  \n",
       "36                             noun, singular or mass  \n",
       "37                             noun, singular or mass  \n",
       "38                  punctuation mark, sentence closer  "
      ]
     },
     "execution_count": 16,
     "metadata": {},
     "output_type": "execute_result"
    }
   ],
   "source": [
    "#POS\n",
    "#capturing the output in a pandas dataframe makes it easier to view\n",
    "dpos = pd.DataFrame()\n",
    "dpos['text'] = [token.text for token in about_doc]\n",
    "dpos['tag'] = [token.tag_ for token in about_doc]\n",
    "dpos['pos'] = [token.pos_ for token in about_doc]\n",
    "dpos['explain'] = [spacy.explain(token.tag_) for token in about_doc]\n",
    "\n",
    "dpos\n"
   ]
  },
  {
   "cell_type": "markdown",
   "metadata": {
    "id": "0ED3q7VvcCN6"
   },
   "source": [
    "[Return to Top](#returnToTop)  \n",
    "<a id = 'spacyDep'></a>\n",
    "\n",
    "### 2.5 Dependency Parsing\n",
    "\n",
    "Now let's test SpaCy's ability to generate dependency parse trees. SpaCy has been pre-trained on a number of different tasks, like T5. Spacy performs multiple analyses simultaneously so we can walk over the list of input tokens and simply call up the labels assigned to each token.\n",
    "\n",
    "This approach can be difficult for a human to read.  Sometimes the data can be used for training other models or for exploratory data analysis."
   ]
  },
  {
   "cell_type": "code",
   "execution_count": 17,
   "metadata": {
    "colab": {
     "base_uri": "https://localhost:8080/"
    },
    "id": "GRPjVaYc2Iv7",
    "outputId": "668a2647-1244-46b8-bf4f-0c0af7830b4c"
   },
   "outputs": [
    {
     "name": "stdout",
     "output_type": "stream",
     "text": [
      "Students NNS learning nsubj\n",
      "are VBP learning aux\n",
      "learning VBG learning ROOT\n",
      "Natural NNP Language compound\n",
      "Language NNP Processing compound\n",
      "Processing NN learning dobj\n",
      "in IN Processing prep\n",
      "the DT class det\n",
      "W266 JJ class amod\n",
      "class NN in pobj\n",
      ". . learning punct\n"
     ]
    }
   ],
   "source": [
    "#dependency parsing\n",
    "w266_text = 'Students are learning Natural Language Processing in the W266 class.'\n",
    "w266_doc = nlp(w266_text)\n",
    "for token in w266_doc:\n",
    "    print (token.text, token.tag_, token.head.text, token.dep_)"
   ]
  },
  {
   "cell_type": "markdown",
   "metadata": {
    "id": "9dFgdZoGmzSl"
   },
   "source": [
    "Lets capture the output and put it into a pandas dataframe for easier consumption."
   ]
  },
  {
   "cell_type": "code",
   "execution_count": 18,
   "metadata": {
    "colab": {
     "base_uri": "https://localhost:8080/",
     "height": 394
    },
    "id": "IL_s-17f2IuC",
    "outputId": "a7db35e8-5b7d-4739-8ba6-b023cd0e339f"
   },
   "outputs": [
    {
     "data": {
      "application/vnd.google.colaboratory.intrinsic+json": {
       "summary": "{\n  \"name\": \"df\",\n  \"rows\": 11,\n  \"fields\": [\n    {\n      \"column\": \"text\",\n      \"properties\": {\n        \"dtype\": \"string\",\n        \"num_unique_values\": 11,\n        \"samples\": [\n          \"Processing\",\n          \"Students\",\n          \"class\"\n        ],\n        \"semantic_type\": \"\",\n        \"description\": \"\"\n      }\n    },\n    {\n      \"column\": \"lemma\",\n      \"properties\": {\n        \"dtype\": \"string\",\n        \"num_unique_values\": 11,\n        \"samples\": [\n          \"processing\",\n          \"student\",\n          \"class\"\n        ],\n        \"semantic_type\": \"\",\n        \"description\": \"\"\n      }\n    },\n    {\n      \"column\": \"is_punctuation\",\n      \"properties\": {\n        \"dtype\": \"boolean\",\n        \"num_unique_values\": 2,\n        \"samples\": [\n          true,\n          false\n        ],\n        \"semantic_type\": \"\",\n        \"description\": \"\"\n      }\n    },\n    {\n      \"column\": \"is_space\",\n      \"properties\": {\n        \"dtype\": \"boolean\",\n        \"num_unique_values\": 1,\n        \"samples\": [\n          false\n        ],\n        \"semantic_type\": \"\",\n        \"description\": \"\"\n      }\n    },\n    {\n      \"column\": \"shape\",\n      \"properties\": {\n        \"dtype\": \"string\",\n        \"num_unique_values\": 6,\n        \"samples\": [\n          \"Xxxxx\"\n        ],\n        \"semantic_type\": \"\",\n        \"description\": \"\"\n      }\n    },\n    {\n      \"column\": \"part_of_speech\",\n      \"properties\": {\n        \"dtype\": \"string\",\n        \"num_unique_values\": 8,\n        \"samples\": [\n          \"AUX\"\n        ],\n        \"semantic_type\": \"\",\n        \"description\": \"\"\n      }\n    },\n    {\n      \"column\": \"pos_tag\",\n      \"properties\": {\n        \"dtype\": \"string\",\n        \"num_unique_values\": 9,\n        \"samples\": [\n          \"JJ\"\n        ],\n        \"semantic_type\": \"\",\n        \"description\": \"\"\n      }\n    },\n    {\n      \"column\": \"head\",\n      \"properties\": {\n        \"dtype\": \"category\",\n        \"num_unique_values\": 5,\n        \"samples\": [\n          \"Language\"\n        ],\n        \"semantic_type\": \"\",\n        \"description\": \"\"\n      }\n    },\n    {\n      \"column\": \"dep\",\n      \"properties\": {\n        \"dtype\": \"string\",\n        \"num_unique_values\": 10,\n        \"samples\": [\n          \"pobj\"\n        ],\n        \"semantic_type\": \"\",\n        \"description\": \"\"\n      }\n    }\n  ]\n}",
       "type": "dataframe",
       "variable_name": "df"
      },
      "text/html": [
       "\n",
       "  <div id=\"df-891b5225-bbb8-4b9d-8090-f188c0f9f988\" class=\"colab-df-container\">\n",
       "    <div>\n",
       "<style scoped>\n",
       "    .dataframe tbody tr th:only-of-type {\n",
       "        vertical-align: middle;\n",
       "    }\n",
       "\n",
       "    .dataframe tbody tr th {\n",
       "        vertical-align: top;\n",
       "    }\n",
       "\n",
       "    .dataframe thead th {\n",
       "        text-align: right;\n",
       "    }\n",
       "</style>\n",
       "<table border=\"1\" class=\"dataframe\">\n",
       "  <thead>\n",
       "    <tr style=\"text-align: right;\">\n",
       "      <th></th>\n",
       "      <th>text</th>\n",
       "      <th>lemma</th>\n",
       "      <th>is_punctuation</th>\n",
       "      <th>is_space</th>\n",
       "      <th>shape</th>\n",
       "      <th>part_of_speech</th>\n",
       "      <th>pos_tag</th>\n",
       "      <th>head</th>\n",
       "      <th>dep</th>\n",
       "    </tr>\n",
       "  </thead>\n",
       "  <tbody>\n",
       "    <tr>\n",
       "      <th>0</th>\n",
       "      <td>Students</td>\n",
       "      <td>student</td>\n",
       "      <td>False</td>\n",
       "      <td>False</td>\n",
       "      <td>Xxxxx</td>\n",
       "      <td>NOUN</td>\n",
       "      <td>NNS</td>\n",
       "      <td>learning</td>\n",
       "      <td>nsubj</td>\n",
       "    </tr>\n",
       "    <tr>\n",
       "      <th>1</th>\n",
       "      <td>are</td>\n",
       "      <td>be</td>\n",
       "      <td>False</td>\n",
       "      <td>False</td>\n",
       "      <td>xxx</td>\n",
       "      <td>AUX</td>\n",
       "      <td>VBP</td>\n",
       "      <td>learning</td>\n",
       "      <td>aux</td>\n",
       "    </tr>\n",
       "    <tr>\n",
       "      <th>2</th>\n",
       "      <td>learning</td>\n",
       "      <td>learn</td>\n",
       "      <td>False</td>\n",
       "      <td>False</td>\n",
       "      <td>xxxx</td>\n",
       "      <td>VERB</td>\n",
       "      <td>VBG</td>\n",
       "      <td>learning</td>\n",
       "      <td>ROOT</td>\n",
       "    </tr>\n",
       "    <tr>\n",
       "      <th>3</th>\n",
       "      <td>Natural</td>\n",
       "      <td>Natural</td>\n",
       "      <td>False</td>\n",
       "      <td>False</td>\n",
       "      <td>Xxxxx</td>\n",
       "      <td>PROPN</td>\n",
       "      <td>NNP</td>\n",
       "      <td>Language</td>\n",
       "      <td>compound</td>\n",
       "    </tr>\n",
       "    <tr>\n",
       "      <th>4</th>\n",
       "      <td>Language</td>\n",
       "      <td>Language</td>\n",
       "      <td>False</td>\n",
       "      <td>False</td>\n",
       "      <td>Xxxxx</td>\n",
       "      <td>PROPN</td>\n",
       "      <td>NNP</td>\n",
       "      <td>Processing</td>\n",
       "      <td>compound</td>\n",
       "    </tr>\n",
       "    <tr>\n",
       "      <th>5</th>\n",
       "      <td>Processing</td>\n",
       "      <td>processing</td>\n",
       "      <td>False</td>\n",
       "      <td>False</td>\n",
       "      <td>Xxxxx</td>\n",
       "      <td>NOUN</td>\n",
       "      <td>NN</td>\n",
       "      <td>learning</td>\n",
       "      <td>dobj</td>\n",
       "    </tr>\n",
       "    <tr>\n",
       "      <th>6</th>\n",
       "      <td>in</td>\n",
       "      <td>in</td>\n",
       "      <td>False</td>\n",
       "      <td>False</td>\n",
       "      <td>xx</td>\n",
       "      <td>ADP</td>\n",
       "      <td>IN</td>\n",
       "      <td>Processing</td>\n",
       "      <td>prep</td>\n",
       "    </tr>\n",
       "    <tr>\n",
       "      <th>7</th>\n",
       "      <td>the</td>\n",
       "      <td>the</td>\n",
       "      <td>False</td>\n",
       "      <td>False</td>\n",
       "      <td>xxx</td>\n",
       "      <td>DET</td>\n",
       "      <td>DT</td>\n",
       "      <td>class</td>\n",
       "      <td>det</td>\n",
       "    </tr>\n",
       "    <tr>\n",
       "      <th>8</th>\n",
       "      <td>W266</td>\n",
       "      <td>w266</td>\n",
       "      <td>False</td>\n",
       "      <td>False</td>\n",
       "      <td>Xddd</td>\n",
       "      <td>ADJ</td>\n",
       "      <td>JJ</td>\n",
       "      <td>class</td>\n",
       "      <td>amod</td>\n",
       "    </tr>\n",
       "    <tr>\n",
       "      <th>9</th>\n",
       "      <td>class</td>\n",
       "      <td>class</td>\n",
       "      <td>False</td>\n",
       "      <td>False</td>\n",
       "      <td>xxxx</td>\n",
       "      <td>NOUN</td>\n",
       "      <td>NN</td>\n",
       "      <td>in</td>\n",
       "      <td>pobj</td>\n",
       "    </tr>\n",
       "    <tr>\n",
       "      <th>10</th>\n",
       "      <td>.</td>\n",
       "      <td>.</td>\n",
       "      <td>True</td>\n",
       "      <td>False</td>\n",
       "      <td>.</td>\n",
       "      <td>PUNCT</td>\n",
       "      <td>.</td>\n",
       "      <td>learning</td>\n",
       "      <td>punct</td>\n",
       "    </tr>\n",
       "  </tbody>\n",
       "</table>\n",
       "</div>\n",
       "    <div class=\"colab-df-buttons\">\n",
       "\n",
       "  <div class=\"colab-df-container\">\n",
       "    <button class=\"colab-df-convert\" onclick=\"convertToInteractive('df-891b5225-bbb8-4b9d-8090-f188c0f9f988')\"\n",
       "            title=\"Convert this dataframe to an interactive table.\"\n",
       "            style=\"display:none;\">\n",
       "\n",
       "  <svg xmlns=\"http://www.w3.org/2000/svg\" height=\"24px\" viewBox=\"0 -960 960 960\">\n",
       "    <path d=\"M120-120v-720h720v720H120Zm60-500h600v-160H180v160Zm220 220h160v-160H400v160Zm0 220h160v-160H400v160ZM180-400h160v-160H180v160Zm440 0h160v-160H620v160ZM180-180h160v-160H180v160Zm440 0h160v-160H620v160Z\"/>\n",
       "  </svg>\n",
       "    </button>\n",
       "\n",
       "  <style>\n",
       "    .colab-df-container {\n",
       "      display:flex;\n",
       "      gap: 12px;\n",
       "    }\n",
       "\n",
       "    .colab-df-convert {\n",
       "      background-color: #E8F0FE;\n",
       "      border: none;\n",
       "      border-radius: 50%;\n",
       "      cursor: pointer;\n",
       "      display: none;\n",
       "      fill: #1967D2;\n",
       "      height: 32px;\n",
       "      padding: 0 0 0 0;\n",
       "      width: 32px;\n",
       "    }\n",
       "\n",
       "    .colab-df-convert:hover {\n",
       "      background-color: #E2EBFA;\n",
       "      box-shadow: 0px 1px 2px rgba(60, 64, 67, 0.3), 0px 1px 3px 1px rgba(60, 64, 67, 0.15);\n",
       "      fill: #174EA6;\n",
       "    }\n",
       "\n",
       "    .colab-df-buttons div {\n",
       "      margin-bottom: 4px;\n",
       "    }\n",
       "\n",
       "    [theme=dark] .colab-df-convert {\n",
       "      background-color: #3B4455;\n",
       "      fill: #D2E3FC;\n",
       "    }\n",
       "\n",
       "    [theme=dark] .colab-df-convert:hover {\n",
       "      background-color: #434B5C;\n",
       "      box-shadow: 0px 1px 3px 1px rgba(0, 0, 0, 0.15);\n",
       "      filter: drop-shadow(0px 1px 2px rgba(0, 0, 0, 0.3));\n",
       "      fill: #FFFFFF;\n",
       "    }\n",
       "  </style>\n",
       "\n",
       "    <script>\n",
       "      const buttonEl =\n",
       "        document.querySelector('#df-891b5225-bbb8-4b9d-8090-f188c0f9f988 button.colab-df-convert');\n",
       "      buttonEl.style.display =\n",
       "        google.colab.kernel.accessAllowed ? 'block' : 'none';\n",
       "\n",
       "      async function convertToInteractive(key) {\n",
       "        const element = document.querySelector('#df-891b5225-bbb8-4b9d-8090-f188c0f9f988');\n",
       "        const dataTable =\n",
       "          await google.colab.kernel.invokeFunction('convertToInteractive',\n",
       "                                                    [key], {});\n",
       "        if (!dataTable) return;\n",
       "\n",
       "        const docLinkHtml = 'Like what you see? Visit the ' +\n",
       "          '<a target=\"_blank\" href=https://colab.research.google.com/notebooks/data_table.ipynb>data table notebook</a>'\n",
       "          + ' to learn more about interactive tables.';\n",
       "        element.innerHTML = '';\n",
       "        dataTable['output_type'] = 'display_data';\n",
       "        await google.colab.output.renderOutput(dataTable, element);\n",
       "        const docLink = document.createElement('div');\n",
       "        docLink.innerHTML = docLinkHtml;\n",
       "        element.appendChild(docLink);\n",
       "      }\n",
       "    </script>\n",
       "  </div>\n",
       "\n",
       "\n",
       "    <div id=\"df-768abd23-5d56-459f-af93-2ad7289b033f\">\n",
       "      <button class=\"colab-df-quickchart\" onclick=\"quickchart('df-768abd23-5d56-459f-af93-2ad7289b033f')\"\n",
       "                title=\"Suggest charts\"\n",
       "                style=\"display:none;\">\n",
       "\n",
       "<svg xmlns=\"http://www.w3.org/2000/svg\" height=\"24px\"viewBox=\"0 0 24 24\"\n",
       "     width=\"24px\">\n",
       "    <g>\n",
       "        <path d=\"M19 3H5c-1.1 0-2 .9-2 2v14c0 1.1.9 2 2 2h14c1.1 0 2-.9 2-2V5c0-1.1-.9-2-2-2zM9 17H7v-7h2v7zm4 0h-2V7h2v10zm4 0h-2v-4h2v4z\"/>\n",
       "    </g>\n",
       "</svg>\n",
       "      </button>\n",
       "\n",
       "<style>\n",
       "  .colab-df-quickchart {\n",
       "      --bg-color: #E8F0FE;\n",
       "      --fill-color: #1967D2;\n",
       "      --hover-bg-color: #E2EBFA;\n",
       "      --hover-fill-color: #174EA6;\n",
       "      --disabled-fill-color: #AAA;\n",
       "      --disabled-bg-color: #DDD;\n",
       "  }\n",
       "\n",
       "  [theme=dark] .colab-df-quickchart {\n",
       "      --bg-color: #3B4455;\n",
       "      --fill-color: #D2E3FC;\n",
       "      --hover-bg-color: #434B5C;\n",
       "      --hover-fill-color: #FFFFFF;\n",
       "      --disabled-bg-color: #3B4455;\n",
       "      --disabled-fill-color: #666;\n",
       "  }\n",
       "\n",
       "  .colab-df-quickchart {\n",
       "    background-color: var(--bg-color);\n",
       "    border: none;\n",
       "    border-radius: 50%;\n",
       "    cursor: pointer;\n",
       "    display: none;\n",
       "    fill: var(--fill-color);\n",
       "    height: 32px;\n",
       "    padding: 0;\n",
       "    width: 32px;\n",
       "  }\n",
       "\n",
       "  .colab-df-quickchart:hover {\n",
       "    background-color: var(--hover-bg-color);\n",
       "    box-shadow: 0 1px 2px rgba(60, 64, 67, 0.3), 0 1px 3px 1px rgba(60, 64, 67, 0.15);\n",
       "    fill: var(--button-hover-fill-color);\n",
       "  }\n",
       "\n",
       "  .colab-df-quickchart-complete:disabled,\n",
       "  .colab-df-quickchart-complete:disabled:hover {\n",
       "    background-color: var(--disabled-bg-color);\n",
       "    fill: var(--disabled-fill-color);\n",
       "    box-shadow: none;\n",
       "  }\n",
       "\n",
       "  .colab-df-spinner {\n",
       "    border: 2px solid var(--fill-color);\n",
       "    border-color: transparent;\n",
       "    border-bottom-color: var(--fill-color);\n",
       "    animation:\n",
       "      spin 1s steps(1) infinite;\n",
       "  }\n",
       "\n",
       "  @keyframes spin {\n",
       "    0% {\n",
       "      border-color: transparent;\n",
       "      border-bottom-color: var(--fill-color);\n",
       "      border-left-color: var(--fill-color);\n",
       "    }\n",
       "    20% {\n",
       "      border-color: transparent;\n",
       "      border-left-color: var(--fill-color);\n",
       "      border-top-color: var(--fill-color);\n",
       "    }\n",
       "    30% {\n",
       "      border-color: transparent;\n",
       "      border-left-color: var(--fill-color);\n",
       "      border-top-color: var(--fill-color);\n",
       "      border-right-color: var(--fill-color);\n",
       "    }\n",
       "    40% {\n",
       "      border-color: transparent;\n",
       "      border-right-color: var(--fill-color);\n",
       "      border-top-color: var(--fill-color);\n",
       "    }\n",
       "    60% {\n",
       "      border-color: transparent;\n",
       "      border-right-color: var(--fill-color);\n",
       "    }\n",
       "    80% {\n",
       "      border-color: transparent;\n",
       "      border-right-color: var(--fill-color);\n",
       "      border-bottom-color: var(--fill-color);\n",
       "    }\n",
       "    90% {\n",
       "      border-color: transparent;\n",
       "      border-bottom-color: var(--fill-color);\n",
       "    }\n",
       "  }\n",
       "</style>\n",
       "\n",
       "      <script>\n",
       "        async function quickchart(key) {\n",
       "          const quickchartButtonEl =\n",
       "            document.querySelector('#' + key + ' button');\n",
       "          quickchartButtonEl.disabled = true;  // To prevent multiple clicks.\n",
       "          quickchartButtonEl.classList.add('colab-df-spinner');\n",
       "          try {\n",
       "            const charts = await google.colab.kernel.invokeFunction(\n",
       "                'suggestCharts', [key], {});\n",
       "          } catch (error) {\n",
       "            console.error('Error during call to suggestCharts:', error);\n",
       "          }\n",
       "          quickchartButtonEl.classList.remove('colab-df-spinner');\n",
       "          quickchartButtonEl.classList.add('colab-df-quickchart-complete');\n",
       "        }\n",
       "        (() => {\n",
       "          let quickchartButtonEl =\n",
       "            document.querySelector('#df-768abd23-5d56-459f-af93-2ad7289b033f button');\n",
       "          quickchartButtonEl.style.display =\n",
       "            google.colab.kernel.accessAllowed ? 'block' : 'none';\n",
       "        })();\n",
       "      </script>\n",
       "    </div>\n",
       "\n",
       "  <div id=\"id_c612ad35-d42d-4f4a-b923-adda236a0497\">\n",
       "    <style>\n",
       "      .colab-df-generate {\n",
       "        background-color: #E8F0FE;\n",
       "        border: none;\n",
       "        border-radius: 50%;\n",
       "        cursor: pointer;\n",
       "        display: none;\n",
       "        fill: #1967D2;\n",
       "        height: 32px;\n",
       "        padding: 0 0 0 0;\n",
       "        width: 32px;\n",
       "      }\n",
       "\n",
       "      .colab-df-generate:hover {\n",
       "        background-color: #E2EBFA;\n",
       "        box-shadow: 0px 1px 2px rgba(60, 64, 67, 0.3), 0px 1px 3px 1px rgba(60, 64, 67, 0.15);\n",
       "        fill: #174EA6;\n",
       "      }\n",
       "\n",
       "      [theme=dark] .colab-df-generate {\n",
       "        background-color: #3B4455;\n",
       "        fill: #D2E3FC;\n",
       "      }\n",
       "\n",
       "      [theme=dark] .colab-df-generate:hover {\n",
       "        background-color: #434B5C;\n",
       "        box-shadow: 0px 1px 3px 1px rgba(0, 0, 0, 0.15);\n",
       "        filter: drop-shadow(0px 1px 2px rgba(0, 0, 0, 0.3));\n",
       "        fill: #FFFFFF;\n",
       "      }\n",
       "    </style>\n",
       "    <button class=\"colab-df-generate\" onclick=\"generateWithVariable('df')\"\n",
       "            title=\"Generate code using this dataframe.\"\n",
       "            style=\"display:none;\">\n",
       "\n",
       "  <svg xmlns=\"http://www.w3.org/2000/svg\" height=\"24px\"viewBox=\"0 0 24 24\"\n",
       "       width=\"24px\">\n",
       "    <path d=\"M7,19H8.4L18.45,9,17,7.55,7,17.6ZM5,21V16.75L18.45,3.32a2,2,0,0,1,2.83,0l1.4,1.43a1.91,1.91,0,0,1,.58,1.4,1.91,1.91,0,0,1-.58,1.4L9.25,21ZM18.45,9,17,7.55Zm-12,3A5.31,5.31,0,0,0,4.9,8.1,5.31,5.31,0,0,0,1,6.5,5.31,5.31,0,0,0,4.9,4.9,5.31,5.31,0,0,0,6.5,1,5.31,5.31,0,0,0,8.1,4.9,5.31,5.31,0,0,0,12,6.5,5.46,5.46,0,0,0,6.5,12Z\"/>\n",
       "  </svg>\n",
       "    </button>\n",
       "    <script>\n",
       "      (() => {\n",
       "      const buttonEl =\n",
       "        document.querySelector('#id_c612ad35-d42d-4f4a-b923-adda236a0497 button.colab-df-generate');\n",
       "      buttonEl.style.display =\n",
       "        google.colab.kernel.accessAllowed ? 'block' : 'none';\n",
       "\n",
       "      buttonEl.onclick = () => {\n",
       "        google.colab.notebook.generateWithVariable('df');\n",
       "      }\n",
       "      })();\n",
       "    </script>\n",
       "  </div>\n",
       "\n",
       "    </div>\n",
       "  </div>\n"
      ],
      "text/plain": [
       "          text       lemma  is_punctuation  is_space  shape part_of_speech  \\\n",
       "0     Students     student           False     False  Xxxxx           NOUN   \n",
       "1          are          be           False     False    xxx            AUX   \n",
       "2     learning       learn           False     False   xxxx           VERB   \n",
       "3      Natural     Natural           False     False  Xxxxx          PROPN   \n",
       "4     Language    Language           False     False  Xxxxx          PROPN   \n",
       "5   Processing  processing           False     False  Xxxxx           NOUN   \n",
       "6           in          in           False     False     xx            ADP   \n",
       "7          the         the           False     False    xxx            DET   \n",
       "8         W266        w266           False     False   Xddd            ADJ   \n",
       "9        class       class           False     False   xxxx           NOUN   \n",
       "10           .           .            True     False      .          PUNCT   \n",
       "\n",
       "   pos_tag        head       dep  \n",
       "0      NNS    learning     nsubj  \n",
       "1      VBP    learning       aux  \n",
       "2      VBG    learning      ROOT  \n",
       "3      NNP    Language  compound  \n",
       "4      NNP  Processing  compound  \n",
       "5       NN    learning      dobj  \n",
       "6       IN  Processing      prep  \n",
       "7       DT       class       det  \n",
       "8       JJ       class      amod  \n",
       "9       NN          in      pobj  \n",
       "10       .    learning     punct  "
      ]
     },
     "execution_count": 18,
     "metadata": {},
     "output_type": "execute_result"
    }
   ],
   "source": [
    "#if you capture the tags in a dataframe you can then perform additional\n",
    "#operations like counting and filtering and searching\n",
    "\n",
    "df = pd.DataFrame()\n",
    "df['text'] = [token.text for token in w266_doc]\n",
    "df['lemma'] = [token.lemma_ for token in w266_doc]\n",
    "df['is_punctuation'] = [token.is_punct for token in w266_doc]\n",
    "df['is_space'] = [token.is_space for token in w266_doc]\n",
    "df['shape'] = [token.shape_ for token in w266_doc]\n",
    "df['part_of_speech'] = [token.pos_ for token in w266_doc]\n",
    "df['pos_tag'] = [token.tag_ for token in w266_doc]\n",
    "df['head'] = [token.head.text for token in w266_doc]\n",
    "df['dep'] = [token.dep_ for token in w266_doc]\n",
    "\n",
    "df"
   ]
  },
  {
   "cell_type": "markdown",
   "metadata": {
    "id": "89zO-O0ZjeOt"
   },
   "source": [
    "The dependency tree is a list of arcs and labels.  These are shown in the final two columns.  The 'head' column indicates the word from which the incoming arc originates and the 'dep' column contains the label associated with that tag.\n"
   ]
  },
  {
   "cell_type": "markdown",
   "metadata": {
    "id": "rfg4bwMxi_CH"
   },
   "source": [
    "We can also visualize the dependency tree with the call to 'displacy.render' and then displaying the resulting HTML code."
   ]
  },
  {
   "cell_type": "code",
   "execution_count": 15,
   "metadata": {
    "id": "9PtOkFt52Ig7"
   },
   "outputs": [],
   "source": [
    "from spacy import displacy\n",
    "from IPython.core.display import HTML\n"
   ]
  },
  {
   "cell_type": "code",
   "execution_count": 20,
   "metadata": {
    "colab": {
     "base_uri": "https://localhost:8080/",
     "height": 440
    },
    "id": "vAbQGRGz2IdB",
    "outputId": "77341728-24ac-4884-c149-6e271e2b978e"
   },
   "outputs": [
    {
     "data": {
      "text/html": [
       "<span class=\"tex2jax_ignore\"><svg xmlns=\"http://www.w3.org/2000/svg\" xmlns:xlink=\"http://www.w3.org/1999/xlink\" xml:lang=\"en\" id=\"f50ecfe4467849dab768b17870c17e71-0\" class=\"displacy\" width=\"1800\" height=\"399.5\" direction=\"ltr\" style=\"max-width: none; height: 399.5px; color: #000000; background: #ffffff; font-family: Arial; direction: ltr\">\n",
       "<text class=\"displacy-token\" fill=\"currentColor\" text-anchor=\"middle\" y=\"309.5\">\n",
       "    <tspan class=\"displacy-word\" fill=\"currentColor\" x=\"50\">Students</tspan>\n",
       "    <tspan class=\"displacy-tag\" dy=\"2em\" fill=\"currentColor\" x=\"50\">NOUN</tspan>\n",
       "</text>\n",
       "\n",
       "<text class=\"displacy-token\" fill=\"currentColor\" text-anchor=\"middle\" y=\"309.5\">\n",
       "    <tspan class=\"displacy-word\" fill=\"currentColor\" x=\"225\">are</tspan>\n",
       "    <tspan class=\"displacy-tag\" dy=\"2em\" fill=\"currentColor\" x=\"225\">AUX</tspan>\n",
       "</text>\n",
       "\n",
       "<text class=\"displacy-token\" fill=\"currentColor\" text-anchor=\"middle\" y=\"309.5\">\n",
       "    <tspan class=\"displacy-word\" fill=\"currentColor\" x=\"400\">learning</tspan>\n",
       "    <tspan class=\"displacy-tag\" dy=\"2em\" fill=\"currentColor\" x=\"400\">VERB</tspan>\n",
       "</text>\n",
       "\n",
       "<text class=\"displacy-token\" fill=\"currentColor\" text-anchor=\"middle\" y=\"309.5\">\n",
       "    <tspan class=\"displacy-word\" fill=\"currentColor\" x=\"575\">Natural</tspan>\n",
       "    <tspan class=\"displacy-tag\" dy=\"2em\" fill=\"currentColor\" x=\"575\">PROPN</tspan>\n",
       "</text>\n",
       "\n",
       "<text class=\"displacy-token\" fill=\"currentColor\" text-anchor=\"middle\" y=\"309.5\">\n",
       "    <tspan class=\"displacy-word\" fill=\"currentColor\" x=\"750\">Language</tspan>\n",
       "    <tspan class=\"displacy-tag\" dy=\"2em\" fill=\"currentColor\" x=\"750\">PROPN</tspan>\n",
       "</text>\n",
       "\n",
       "<text class=\"displacy-token\" fill=\"currentColor\" text-anchor=\"middle\" y=\"309.5\">\n",
       "    <tspan class=\"displacy-word\" fill=\"currentColor\" x=\"925\">Processing</tspan>\n",
       "    <tspan class=\"displacy-tag\" dy=\"2em\" fill=\"currentColor\" x=\"925\">NOUN</tspan>\n",
       "</text>\n",
       "\n",
       "<text class=\"displacy-token\" fill=\"currentColor\" text-anchor=\"middle\" y=\"309.5\">\n",
       "    <tspan class=\"displacy-word\" fill=\"currentColor\" x=\"1100\">in</tspan>\n",
       "    <tspan class=\"displacy-tag\" dy=\"2em\" fill=\"currentColor\" x=\"1100\">ADP</tspan>\n",
       "</text>\n",
       "\n",
       "<text class=\"displacy-token\" fill=\"currentColor\" text-anchor=\"middle\" y=\"309.5\">\n",
       "    <tspan class=\"displacy-word\" fill=\"currentColor\" x=\"1275\">the</tspan>\n",
       "    <tspan class=\"displacy-tag\" dy=\"2em\" fill=\"currentColor\" x=\"1275\">DET</tspan>\n",
       "</text>\n",
       "\n",
       "<text class=\"displacy-token\" fill=\"currentColor\" text-anchor=\"middle\" y=\"309.5\">\n",
       "    <tspan class=\"displacy-word\" fill=\"currentColor\" x=\"1450\">W266</tspan>\n",
       "    <tspan class=\"displacy-tag\" dy=\"2em\" fill=\"currentColor\" x=\"1450\">ADJ</tspan>\n",
       "</text>\n",
       "\n",
       "<text class=\"displacy-token\" fill=\"currentColor\" text-anchor=\"middle\" y=\"309.5\">\n",
       "    <tspan class=\"displacy-word\" fill=\"currentColor\" x=\"1625\">class.</tspan>\n",
       "    <tspan class=\"displacy-tag\" dy=\"2em\" fill=\"currentColor\" x=\"1625\">NOUN</tspan>\n",
       "</text>\n",
       "\n",
       "<g class=\"displacy-arrow\">\n",
       "    <path class=\"displacy-arc\" id=\"arrow-f50ecfe4467849dab768b17870c17e71-0-0\" stroke-width=\"2px\" d=\"M70,264.5 C70,89.5 395.0,89.5 395.0,264.5\" fill=\"none\" stroke=\"currentColor\"/>\n",
       "    <text dy=\"1.25em\" style=\"font-size: 0.8em; letter-spacing: 1px\">\n",
       "        <textPath xlink:href=\"#arrow-f50ecfe4467849dab768b17870c17e71-0-0\" class=\"displacy-label\" startOffset=\"50%\" side=\"left\" fill=\"currentColor\" text-anchor=\"middle\">nsubj</textPath>\n",
       "    </text>\n",
       "    <path class=\"displacy-arrowhead\" d=\"M70,266.5 L62,254.5 78,254.5\" fill=\"currentColor\"/>\n",
       "</g>\n",
       "\n",
       "<g class=\"displacy-arrow\">\n",
       "    <path class=\"displacy-arc\" id=\"arrow-f50ecfe4467849dab768b17870c17e71-0-1\" stroke-width=\"2px\" d=\"M245,264.5 C245,177.0 390.0,177.0 390.0,264.5\" fill=\"none\" stroke=\"currentColor\"/>\n",
       "    <text dy=\"1.25em\" style=\"font-size: 0.8em; letter-spacing: 1px\">\n",
       "        <textPath xlink:href=\"#arrow-f50ecfe4467849dab768b17870c17e71-0-1\" class=\"displacy-label\" startOffset=\"50%\" side=\"left\" fill=\"currentColor\" text-anchor=\"middle\">aux</textPath>\n",
       "    </text>\n",
       "    <path class=\"displacy-arrowhead\" d=\"M245,266.5 L237,254.5 253,254.5\" fill=\"currentColor\"/>\n",
       "</g>\n",
       "\n",
       "<g class=\"displacy-arrow\">\n",
       "    <path class=\"displacy-arc\" id=\"arrow-f50ecfe4467849dab768b17870c17e71-0-2\" stroke-width=\"2px\" d=\"M595,264.5 C595,177.0 740.0,177.0 740.0,264.5\" fill=\"none\" stroke=\"currentColor\"/>\n",
       "    <text dy=\"1.25em\" style=\"font-size: 0.8em; letter-spacing: 1px\">\n",
       "        <textPath xlink:href=\"#arrow-f50ecfe4467849dab768b17870c17e71-0-2\" class=\"displacy-label\" startOffset=\"50%\" side=\"left\" fill=\"currentColor\" text-anchor=\"middle\">compound</textPath>\n",
       "    </text>\n",
       "    <path class=\"displacy-arrowhead\" d=\"M595,266.5 L587,254.5 603,254.5\" fill=\"currentColor\"/>\n",
       "</g>\n",
       "\n",
       "<g class=\"displacy-arrow\">\n",
       "    <path class=\"displacy-arc\" id=\"arrow-f50ecfe4467849dab768b17870c17e71-0-3\" stroke-width=\"2px\" d=\"M770,264.5 C770,177.0 915.0,177.0 915.0,264.5\" fill=\"none\" stroke=\"currentColor\"/>\n",
       "    <text dy=\"1.25em\" style=\"font-size: 0.8em; letter-spacing: 1px\">\n",
       "        <textPath xlink:href=\"#arrow-f50ecfe4467849dab768b17870c17e71-0-3\" class=\"displacy-label\" startOffset=\"50%\" side=\"left\" fill=\"currentColor\" text-anchor=\"middle\">compound</textPath>\n",
       "    </text>\n",
       "    <path class=\"displacy-arrowhead\" d=\"M770,266.5 L762,254.5 778,254.5\" fill=\"currentColor\"/>\n",
       "</g>\n",
       "\n",
       "<g class=\"displacy-arrow\">\n",
       "    <path class=\"displacy-arc\" id=\"arrow-f50ecfe4467849dab768b17870c17e71-0-4\" stroke-width=\"2px\" d=\"M420,264.5 C420,89.5 920.0,89.5 920.0,264.5\" fill=\"none\" stroke=\"currentColor\"/>\n",
       "    <text dy=\"1.25em\" style=\"font-size: 0.8em; letter-spacing: 1px\">\n",
       "        <textPath xlink:href=\"#arrow-f50ecfe4467849dab768b17870c17e71-0-4\" class=\"displacy-label\" startOffset=\"50%\" side=\"left\" fill=\"currentColor\" text-anchor=\"middle\">dobj</textPath>\n",
       "    </text>\n",
       "    <path class=\"displacy-arrowhead\" d=\"M920.0,266.5 L928.0,254.5 912.0,254.5\" fill=\"currentColor\"/>\n",
       "</g>\n",
       "\n",
       "<g class=\"displacy-arrow\">\n",
       "    <path class=\"displacy-arc\" id=\"arrow-f50ecfe4467849dab768b17870c17e71-0-5\" stroke-width=\"2px\" d=\"M945,264.5 C945,177.0 1090.0,177.0 1090.0,264.5\" fill=\"none\" stroke=\"currentColor\"/>\n",
       "    <text dy=\"1.25em\" style=\"font-size: 0.8em; letter-spacing: 1px\">\n",
       "        <textPath xlink:href=\"#arrow-f50ecfe4467849dab768b17870c17e71-0-5\" class=\"displacy-label\" startOffset=\"50%\" side=\"left\" fill=\"currentColor\" text-anchor=\"middle\">prep</textPath>\n",
       "    </text>\n",
       "    <path class=\"displacy-arrowhead\" d=\"M1090.0,266.5 L1098.0,254.5 1082.0,254.5\" fill=\"currentColor\"/>\n",
       "</g>\n",
       "\n",
       "<g class=\"displacy-arrow\">\n",
       "    <path class=\"displacy-arc\" id=\"arrow-f50ecfe4467849dab768b17870c17e71-0-6\" stroke-width=\"2px\" d=\"M1295,264.5 C1295,89.5 1620.0,89.5 1620.0,264.5\" fill=\"none\" stroke=\"currentColor\"/>\n",
       "    <text dy=\"1.25em\" style=\"font-size: 0.8em; letter-spacing: 1px\">\n",
       "        <textPath xlink:href=\"#arrow-f50ecfe4467849dab768b17870c17e71-0-6\" class=\"displacy-label\" startOffset=\"50%\" side=\"left\" fill=\"currentColor\" text-anchor=\"middle\">det</textPath>\n",
       "    </text>\n",
       "    <path class=\"displacy-arrowhead\" d=\"M1295,266.5 L1287,254.5 1303,254.5\" fill=\"currentColor\"/>\n",
       "</g>\n",
       "\n",
       "<g class=\"displacy-arrow\">\n",
       "    <path class=\"displacy-arc\" id=\"arrow-f50ecfe4467849dab768b17870c17e71-0-7\" stroke-width=\"2px\" d=\"M1470,264.5 C1470,177.0 1615.0,177.0 1615.0,264.5\" fill=\"none\" stroke=\"currentColor\"/>\n",
       "    <text dy=\"1.25em\" style=\"font-size: 0.8em; letter-spacing: 1px\">\n",
       "        <textPath xlink:href=\"#arrow-f50ecfe4467849dab768b17870c17e71-0-7\" class=\"displacy-label\" startOffset=\"50%\" side=\"left\" fill=\"currentColor\" text-anchor=\"middle\">amod</textPath>\n",
       "    </text>\n",
       "    <path class=\"displacy-arrowhead\" d=\"M1470,266.5 L1462,254.5 1478,254.5\" fill=\"currentColor\"/>\n",
       "</g>\n",
       "\n",
       "<g class=\"displacy-arrow\">\n",
       "    <path class=\"displacy-arc\" id=\"arrow-f50ecfe4467849dab768b17870c17e71-0-8\" stroke-width=\"2px\" d=\"M1120,264.5 C1120,2.0 1625.0,2.0 1625.0,264.5\" fill=\"none\" stroke=\"currentColor\"/>\n",
       "    <text dy=\"1.25em\" style=\"font-size: 0.8em; letter-spacing: 1px\">\n",
       "        <textPath xlink:href=\"#arrow-f50ecfe4467849dab768b17870c17e71-0-8\" class=\"displacy-label\" startOffset=\"50%\" side=\"left\" fill=\"currentColor\" text-anchor=\"middle\">pobj</textPath>\n",
       "    </text>\n",
       "    <path class=\"displacy-arrowhead\" d=\"M1625.0,266.5 L1633.0,254.5 1617.0,254.5\" fill=\"currentColor\"/>\n",
       "</g>\n",
       "</svg></span>"
      ],
      "text/plain": [
       "<IPython.core.display.HTML object>"
      ]
     },
     "metadata": {},
     "output_type": "display_data"
    }
   ],
   "source": [
    "html = displacy.render(w266_doc, style=\"dep\")\n",
    "#print(html)"
   ]
  },
  {
   "cell_type": "code",
   "execution_count": 21,
   "metadata": {
    "colab": {
     "base_uri": "https://localhost:8080/"
    },
    "id": "zF6wuFoM2Iaq",
    "outputId": "ad161434-cf3f-4130-8e89-104744507c63"
   },
   "outputs": [
    {
     "data": {
      "text/plain": [
       "<IPython.core.display.HTML object>"
      ]
     },
     "execution_count": 21,
     "metadata": {},
     "output_type": "execute_result"
    }
   ],
   "source": [
    "HTML(html)"
   ]
  },
  {
   "cell_type": "markdown",
   "metadata": {
    "id": "nUmK0NG9uqbJ"
   },
   "source": [
    "[Return to Top](#returnToTop)  \n",
    "<a id = 'mistral7b'></a>\n",
    "\n",
    "## LLM for grammar detection with Mistral 7B -\n",
    "\n",
    "[Mistral 7B](https://huggingface.co/mistralai/Mistral-7B-Instruct-v0.2) is a small but highly performant model. It is also possible to use it commercially. The model has been instruction fine-tuned by Mistral.ai so it should be able to follow our prompts and return good on point output.  We'll also use a quantized version (down to 4 bits thanks to Hugging Face) so we know it can load in our small GPU.  \n",
    "\n",
    "First let's load the libaries necessary for it to work."
   ]
  },
  {
   "cell_type": "code",
   "execution_count": 1,
   "metadata": {
    "id": "2fG9SdStIJn9"
   },
   "outputs": [],
   "source": [
    "%%capture\n",
    "\n",
    "!pip uninstall -y transformers\n",
    "!pip install git+https://github.com/huggingface/transformers"
   ]
  },
  {
   "cell_type": "code",
   "execution_count": 2,
   "metadata": {
    "colab": {
     "base_uri": "https://localhost:8080/"
    },
    "id": "ZQfFGDXdPDet",
    "outputId": "9f590ac4-178a-46f7-9543-3272e8b1bba7"
   },
   "outputs": [
    {
     "name": "stdout",
     "output_type": "stream",
     "text": [
      "\u001b[?25l   \u001b[90m━━━━━━━━━━━━━━━━━━━━━━━━━━━━━━━━━━━━━━━━\u001b[0m \u001b[32m0.0/365.3 kB\u001b[0m \u001b[31m?\u001b[0m eta \u001b[36m-:--:--\u001b[0m\r",
      "\u001b[2K   \u001b[90m━━━━━━━━━━━━━━━━━━━━━━━━━━━━━━━━━━━━━━━━\u001b[0m \u001b[32m365.3/365.3 kB\u001b[0m \u001b[31m12.2 MB/s\u001b[0m eta \u001b[36m0:00:00\u001b[0m\n",
      "\u001b[?25h"
     ]
    }
   ],
   "source": [
    "!pip install -q -U accelerate\n",
    "!pip install -q -U bitsandbytes"
   ]
  },
  {
   "cell_type": "markdown",
   "metadata": {
    "id": "M9qIL3lA2DLw"
   },
   "source": [
    "Now, let's specify the model we want.  There is no port to TensorFlow yet so we'll use the PyTorch version.  Since we are using the Hugging Face AutoModel classes and only running inference, we don't need to write a lot of PyTorch code."
   ]
  },
  {
   "cell_type": "code",
   "execution_count": 3,
   "metadata": {
    "id": "xoVy0mg4UZGu"
   },
   "outputs": [],
   "source": [
    "import torch\n",
    "import pprint\n",
    "\n",
    "device = \"cuda:0\" if torch.cuda.is_available() else \"cpu\"\n",
    "model_id = \"mistralai/Mistral-7B-Instruct-v0.3\""
   ]
  },
  {
   "cell_type": "markdown",
   "metadata": {
    "id": "-gGE6IQusOrz"
   },
   "source": [
    "The 7 billion parameter model needs about 32GB of GPU memory to run and it might load into an A100 GPU on Google Colab Pro (if one is avaialble).  In order to shrink the memory footprint of the model we can use quantization.  Specifically, we'll shrink the 32 bit floating point number representations down to 4 bits. This is the bits and bytes config file where we specify our quantization arguments.  You can read about it [here](https://huggingface.co/blog/4bit-transformers-bitsandbytes)."
   ]
  },
  {
   "cell_type": "code",
   "execution_count": 4,
   "metadata": {
    "id": "3XzWl0QiTmE1"
   },
   "outputs": [],
   "source": [
    "from transformers import BitsAndBytesConfig\n",
    "\n",
    "\n",
    "nf4_config = BitsAndBytesConfig(\n",
    "   load_in_4bit=True,\n",
    "   bnb_4bit_quant_type=\"nf4\",\n",
    "   bnb_4bit_use_double_quant=True,\n",
    "   bnb_4bit_compute_dtype=torch.bfloat16\n",
    ")\n"
   ]
  },
  {
   "cell_type": "markdown",
   "metadata": {
    "id": "gg0MWHE3tKrE"
   },
   "source": [
    "This model has been trained to work with dialog, meaning instances wehere we have multiple utterance and response pairs to create the context so the model can reply. We'll populate the context with only our prompt and not have any back and forth.\n",
    "\n",
    "First we'll ask the model to identify parts of speech."
   ]
  },
  {
   "cell_type": "code",
   "execution_count": 5,
   "metadata": {
    "id": "q98XLIXmFOLh"
   },
   "outputs": [],
   "source": [
    "myprompt = (\n",
    "    \"Given the sentence 'Students are learning Natural Language Processing in the challenging W266 class.' Please identify the nouns, verbs,\"\n",
    "    \" and adjectives in the sentence.  Please output a JSON record with fields for word:, pos:, and lemma:. \"\n",
    ")"
   ]
  },
  {
   "cell_type": "code",
   "execution_count": 6,
   "metadata": {
    "colab": {
     "base_uri": "https://localhost:8080/",
     "height": 1000,
     "referenced_widgets": [
      "519ce0c690b74d6b9e3ff8cb00f11ebe",
      "39e0f55d7efc4411bf0e52ffe55dfd14",
      "41e1221130914f79835020fec54a8866",
      "d9b6685913d644d290114f45b0c9fdd7",
      "5320c09ee81c4a1697d5d709f41d1bac",
      "5a9ad8d5462c40f68eff4f2942f18be3",
      "ff66a52905d54227913ef326b304ebad",
      "dbce33e286734653a1682ea875494329",
      "fc4337c5a76d4e0d990cd8ec2c58d974",
      "318e1faf3a55468fa83a1ff3008c542f",
      "92b915319e6d44a6959e4ec71f0f0b67",
      "5ad43005181e4e7889c8c3c8c37347d2",
      "64eb35ee579746819534974f0a7ca76f",
      "6571b473b3da435382d12b623765660f",
      "078e86e61d9a4238a0c854b6328e35c9",
      "c7b2ca504b8a453da09bf7be10b17404",
      "7d6c42f322d2445884b971e808d636fe",
      "d5f67ae01aa64afdaa8c901041ce3927",
      "81d6d6827f8f4ef78018dbef1cd30e58",
      "4cb11257c074469d88a239daf76f7b49",
      "8bdd91b8b4124a2ebe01c0d603bfbb0b",
      "e81cd5e504ed4771876a5f85e7a05e01",
      "4287392bf0014ae8a8f2e0615e34a7e9",
      "50b954b7462b479b8feb4b05180a9310",
      "a598bb499bef4dcaa7b622f73cb15cbb",
      "80ce11b9fb7743e5a5be1b591bf28585",
      "607de86d4c86454e8b82efda212e4dfa",
      "e38c50ecbd184c19bd92323c8562cc92",
      "87fef9cc5bb14f44a4d0672f827bb229",
      "05636303356745abb160e0c218124b9e",
      "ebf1279e045148d183d745ba393fcd11",
      "0c970b1cd2e64c8a8a2997ec0076a918",
      "2fa2b56572a94e1bb2d8a59e441015f2",
      "e17f7e4ca59a4167a343b88706acae5d",
      "6578318d5cfb4bee805082ac5b7aa406",
      "0da2882f25eb4759bc0652a499beb57f",
      "4be091f1405b46aea89fa1a2b83dacb3",
      "e42e6eb11bd64214a1126415194125f7",
      "728f7dc68e58489885743789425a82fe",
      "b82ccdf42c6f4fc5b939220822376747",
      "889a7660bc78475a8e3cc2d0e2e75342",
      "d51b0cb26e7947c98f5a855707eba7a4",
      "dfec6284182742d88bfa0e44e3cb3249",
      "3e020cefa8fd4eada7f1429d12b38e3d",
      "4e5e0c96223845d3aa8a61a9db96da34",
      "33266bbbfb0b450c866ba638a6a7065a",
      "757e9b70029145a5a2f4500c0932c749",
      "fc44285236db4557bfdceb35199632a9",
      "437a9265b3c0488fadc94cdcd7b4516a",
      "4126a6903842484fb86717ab2eefa66d",
      "41d8460c5fe540ba95b2827c023e6a98",
      "ad616d0998f44457a9d2c313b5fa0c42",
      "2d38513f37fa46849f58bd568c9b17e7",
      "29415f6781704f3fb7926b42cf58c4e9",
      "d2897743bb6c40a6aff1eb4b43bf5a60",
      "984d05d4288541cd8f191ce65e90b73f",
      "85a54bcf5b3947ee8e174c24125219b3",
      "8e8c366ce2474e6a831b6268e4f9ddcd",
      "ab12c232a5fd4d7e8a0a714eb9d4dc84",
      "33ee05ba73cf499c873cb0aa0bc9b1e7",
      "62ad0e0ee5be4aab9412f31bd1da2285",
      "6131ca0eea5048dc8a8198ba2d357ef2",
      "8ad7d40b669748f59c8177fa5963e317",
      "fdc40b0059ff4ffa9e19d97dbad13b80",
      "06f6c48b928e456694f0cdb3f6927edc",
      "8bcdd798576c45349ba8bc7477cf62f3",
      "a50320c100a74217bcc191f652e3143f",
      "760eafb619e54fb5818026e61195e71e",
      "fb29cb55c7a84e108406fbfa08159fb9",
      "0dbf9e60856941d7ae9bd4011d832896",
      "4b2afe794ca34ac281a10608fc0d6392",
      "e7ed3ec32fda4bf9bcdbe5d79b7b63f7",
      "45799b36c40f42dabf61a8449a6fb13b",
      "2b72ac8a54824df69972ea532fe8b97f",
      "78a9f1cdbee849a286030ae48e5958f0",
      "929c4254b66d4e4ab5f98d14c3d3097b",
      "ba704eb1707847f5853a1ed93205f115",
      "2865d05410664b6b810c1a21660c25e5",
      "9b2b7dc0e46541f6a22a648c6d485629",
      "4e0272b68c4040cbb67917848fdf2242",
      "bb5a89b1b16c43018c6ffc82fe84edc7",
      "9675e1eec9e84743846df40295dc106b",
      "d9e04df88ecd4228b0c0fc72a4eeb036",
      "7e31cc9839f8487da15d38cfc19a9f1d",
      "5088476bf80945b4895643247cf45eda",
      "202bbc5dc7a54d9eaaca60978d8c47fe",
      "7189344ec9e94dcbb45ad2aa3ff73f2d",
      "536340e70fbc4e9bab074c6f65ac54b9",
      "7827905f8cf948eab4194e8bcb20085f",
      "b2c2aeec0b52416da62d332c11a9f3f2",
      "eba73e6bcd054a578e6c942bd12be7a6",
      "c88a257337b740de86e90c453abf6033",
      "c40781a08ff54c5ebe0f4c3652036ef4",
      "875bc90f1b5a4db5b8bda50048e73f2f",
      "e851131f544e4e7bbd9058f3260bf365",
      "25d0d37359f24381bc0674cfac524d39",
      "cb31c04c5e5946c48b9c9ad869cf6173",
      "774e9efd9a9c4e8da658546dcd7cbcfb",
      "ef1fe702b6b342858de0dc6103c3b729",
      "214a8a587d414fb6800b520d831c14ca",
      "034c81973a79478fa0f48942d09b2b70",
      "3e01f95ac8c24610939b315be637ecb6",
      "7f3f51de7d664bb2b7752f3d6a50ea2f",
      "fab2f4bfc80144d58a9d2405ab06de50",
      "4f47bfe1e7af4c48856e664b0de3a6b6",
      "2a2235e9cda54c938cafc4f637a0ce37",
      "28bfd7263fbf49c3abfddf8f7723a3ff",
      "ce490342245e409bbbb9c42f9c65b663",
      "4e3b5a4a19ce46c0b51d4f1af43b2595",
      "8722a651e1ef4227aa12a415c968cd01",
      "94fa2a1a39ba4e678dbc26b876c33dac",
      "214d15825a1a418a986a259f86e42b9c",
      "1a18257a16d746d78ad319479c9013dc",
      "48d254202d494dc5b57755eb080c6ed0",
      "6c1c428054b44c018671451982e8a68b",
      "c941c04c506c4ef197d330a6e488daec",
      "d731f3ed56fb4e4dbc2295cc866c4781",
      "922b0d11142844adace3f16bb48f46f2",
      "27e435f7b65b40e2b24c82de2b8204e1",
      "9e6e5be82c9046eaa9f83ac4a124b8ef",
      "43cda29580b642f3a0401221ce49a1b5",
      "a6d74761ad604b28b5c4bc702bd673f0",
      "0bdfe9e8484a43f390c0ffbc96d8321c",
      "80091e6fb90f472695e050efdc351ed4",
      "f220fcbebfd14f859489de5b01131d61",
      "d1dd26e319e54166870eac57ac665485",
      "090943f64cbb400b912ab6073a54eb83",
      "3a1f51d8d3b8457bba8c6caffabb9b3f",
      "dd1647bf42b846f798d5be594ac45c8e",
      "4ff92c034c2a44ce98dafe06e0d2450d",
      "f6afab37b93241109206d1cd9ddfaa2b",
      "ec1b50f004d74aedb737a5c85a23ddbf"
     ]
    },
    "id": "h_Y4mTGQHVf3",
    "outputId": "32a8f8f8-5c5e-412d-e4fa-5b59861a9672"
   },
   "outputs": [
    {
     "data": {
      "application/vnd.jupyter.widget-view+json": {
       "model_id": "519ce0c690b74d6b9e3ff8cb00f11ebe",
       "version_major": 2,
       "version_minor": 0
      },
      "text/plain": [
       "config.json:   0%|          | 0.00/601 [00:00<?, ?B/s]"
      ]
     },
     "metadata": {},
     "output_type": "display_data"
    },
    {
     "data": {
      "application/vnd.jupyter.widget-view+json": {
       "model_id": "5ad43005181e4e7889c8c3c8c37347d2",
       "version_major": 2,
       "version_minor": 0
      },
      "text/plain": [
       "model.safetensors.index.json:   0%|          | 0.00/23.9k [00:00<?, ?B/s]"
      ]
     },
     "metadata": {},
     "output_type": "display_data"
    },
    {
     "data": {
      "application/vnd.jupyter.widget-view+json": {
       "model_id": "4287392bf0014ae8a8f2e0615e34a7e9",
       "version_major": 2,
       "version_minor": 0
      },
      "text/plain": [
       "Fetching 3 files:   0%|          | 0/3 [00:00<?, ?it/s]"
      ]
     },
     "metadata": {},
     "output_type": "display_data"
    },
    {
     "data": {
      "application/vnd.jupyter.widget-view+json": {
       "model_id": "e17f7e4ca59a4167a343b88706acae5d",
       "version_major": 2,
       "version_minor": 0
      },
      "text/plain": [
       "model-00002-of-00003.safetensors:   0%|          | 0.00/5.00G [00:00<?, ?B/s]"
      ]
     },
     "metadata": {},
     "output_type": "display_data"
    },
    {
     "data": {
      "application/vnd.jupyter.widget-view+json": {
       "model_id": "4e5e0c96223845d3aa8a61a9db96da34",
       "version_major": 2,
       "version_minor": 0
      },
      "text/plain": [
       "model-00001-of-00003.safetensors:   0%|          | 0.00/4.95G [00:00<?, ?B/s]"
      ]
     },
     "metadata": {},
     "output_type": "display_data"
    },
    {
     "data": {
      "application/vnd.jupyter.widget-view+json": {
       "model_id": "984d05d4288541cd8f191ce65e90b73f",
       "version_major": 2,
       "version_minor": 0
      },
      "text/plain": [
       "model-00003-of-00003.safetensors:   0%|          | 0.00/4.55G [00:00<?, ?B/s]"
      ]
     },
     "metadata": {},
     "output_type": "display_data"
    },
    {
     "data": {
      "application/vnd.jupyter.widget-view+json": {
       "model_id": "a50320c100a74217bcc191f652e3143f",
       "version_major": 2,
       "version_minor": 0
      },
      "text/plain": [
       "Loading checkpoint shards:   0%|          | 0/3 [00:00<?, ?it/s]"
      ]
     },
     "metadata": {},
     "output_type": "display_data"
    },
    {
     "data": {
      "application/vnd.jupyter.widget-view+json": {
       "model_id": "2865d05410664b6b810c1a21660c25e5",
       "version_major": 2,
       "version_minor": 0
      },
      "text/plain": [
       "generation_config.json:   0%|          | 0.00/116 [00:00<?, ?B/s]"
      ]
     },
     "metadata": {},
     "output_type": "display_data"
    },
    {
     "data": {
      "application/vnd.jupyter.widget-view+json": {
       "model_id": "7827905f8cf948eab4194e8bcb20085f",
       "version_major": 2,
       "version_minor": 0
      },
      "text/plain": [
       "tokenizer_config.json:   0%|          | 0.00/141k [00:00<?, ?B/s]"
      ]
     },
     "metadata": {},
     "output_type": "display_data"
    },
    {
     "data": {
      "application/vnd.jupyter.widget-view+json": {
       "model_id": "214a8a587d414fb6800b520d831c14ca",
       "version_major": 2,
       "version_minor": 0
      },
      "text/plain": [
       "tokenizer.model:   0%|          | 0.00/587k [00:00<?, ?B/s]"
      ]
     },
     "metadata": {},
     "output_type": "display_data"
    },
    {
     "data": {
      "application/vnd.jupyter.widget-view+json": {
       "model_id": "94fa2a1a39ba4e678dbc26b876c33dac",
       "version_major": 2,
       "version_minor": 0
      },
      "text/plain": [
       "tokenizer.json:   0%|          | 0.00/1.96M [00:00<?, ?B/s]"
      ]
     },
     "metadata": {},
     "output_type": "display_data"
    },
    {
     "data": {
      "application/vnd.jupyter.widget-view+json": {
       "model_id": "a6d74761ad604b28b5c4bc702bd673f0",
       "version_major": 2,
       "version_minor": 0
      },
      "text/plain": [
       "special_tokens_map.json:   0%|          | 0.00/414 [00:00<?, ?B/s]"
      ]
     },
     "metadata": {},
     "output_type": "display_data"
    },
    {
     "name": "stderr",
     "output_type": "stream",
     "text": [
      "The attention mask and the pad token id were not set. As a consequence, you may observe unexpected behavior. Please pass your input's `attention_mask` to obtain reliable results.\n",
      "Setting `pad_token_id` to `eos_token_id`:2 for open-end generation.\n",
      "The attention mask is not set and cannot be inferred from input because pad token is same as eos token. As a consequence, you may observe unexpected behavior. Please pass your input's `attention_mask` to obtain reliable results.\n"
     ]
    },
    {
     "name": "stdout",
     "output_type": "stream",
     "text": [
      "(\"<s>[INST] Given the sentence 'Students are learning Natural Language \"\n",
      " \"Processing in the challenging W266 class.' Please identify the nouns, verbs, \"\n",
      " 'and adjectives in the sentence.  Please output a JSON record with fields for '\n",
      " 'word:, pos:, and lemma:. [/INST] {\\n'\n",
      " ' \"words\": [\\n'\n",
      " '   {\\n'\n",
      " '     \"word\": \"Students\",\\n'\n",
      " '     \"pos\": \"NNS\",\\n'\n",
      " '     \"lemma\": \"student\"\\n'\n",
      " '   },\\n'\n",
      " '   {\\n'\n",
      " '     \"word\": \"are\",\\n'\n",
      " '     \"pos\": \"VBP\",\\n'\n",
      " '     \"lemma\": \"be\"\\n'\n",
      " '   },\\n'\n",
      " '   {\\n'\n",
      " '     \"word\": \"learning\",\\n'\n",
      " '     \"pos\": \"VBG\",\\n'\n",
      " '     \"lemma\": \"learn\"\\n'\n",
      " '   },\\n'\n",
      " '   {\\n'\n",
      " '     \"word\": \"Natural\",\\n'\n",
      " '     \"pos\": \"JJ\",\\n'\n",
      " '     \"lemma\": \"natural\"\\n'\n",
      " '   },\\n'\n",
      " '   {\\n'\n",
      " '     \"word\": \"Language\",\\n'\n",
      " '     \"pos\": \"NN\",\\n'\n",
      " '     \"lemma\": \"language\"\\n'\n",
      " '   },\\n'\n",
      " '   {\\n'\n",
      " '     \"word\": \"Processing\",\\n'\n",
      " '     \"pos\": \"NN\",\\n'\n",
      " '     \"lemma\": \"process\"\\n'\n",
      " '   },\\n'\n",
      " '   {\\n'\n",
      " '     \"word\": \"in\",\\n'\n",
      " '     \"pos\": \"IN\",\\n'\n",
      " '     \"lemma\": \"in\"\\n'\n",
      " '   },\\n'\n",
      " '   {\\n'\n",
      " '     \"word\": \"the\",\\n'\n",
      " '     \"pos\": \"DT\",\\n'\n",
      " '     \"lemma\": \"the\"\\n'\n",
      " '   },\\n'\n",
      " '   {\\n'\n",
      " '     \"word\": \"challenging\",\\n'\n",
      " '     \"pos\": \"JJ\",\\n'\n",
      " '     \"lemma\": \"challenging\"\\n'\n",
      " '   },\\n'\n",
      " '   {\\n'\n",
      " '     \"word\": \"W266\",\\n'\n",
      " '     \"pos\": \"CD\",\\n'\n",
      " '     \"lemma\": \"W266\"\\n'\n",
      " '   },\\n'\n",
      " '   {\\n'\n",
      " '     \"word\": \"class.\",\\n'\n",
      " '     \"pos\": \".$\",\\n'\n",
      " '     \"lemma\": \"class\"\\n'\n",
      " '   }\\n'\n",
      " ' ]\\n'\n",
      " '}</s>')\n"
     ]
    }
   ],
   "source": [
    "3#Note: It can take up to 3 minutes to download this model\n",
    "\n",
    "from transformers import AutoModelForCausalLM, AutoTokenizer\n",
    "\n",
    "device = \"cuda\" # the device to load the model onto\n",
    "\n",
    "model = AutoModelForCausalLM.from_pretrained(model_id, quantization_config=nf4_config)\n",
    "tokenizer = AutoTokenizer.from_pretrained(model_id)\n",
    "\n",
    "messages = [\n",
    "    {\"role\": \"user\", \"content\": myprompt}\n",
    "]\n",
    "\n",
    "encodeds = tokenizer.apply_chat_template(messages, return_tensors=\"pt\").to(device)\n",
    "\n",
    "model_inputs = encodeds.to(device)\n",
    "\n",
    "\n",
    "generated_ids = model.generate(encodeds, max_new_tokens=1000, do_sample=True)\n",
    "decoded = tokenizer.batch_decode(generated_ids)\n",
    "pprint.pprint(decoded[0], compact=True)\n"
   ]
  },
  {
   "cell_type": "markdown",
   "metadata": {
    "id": "bYlqYNlNBYsw"
   },
   "source": [
    "Let's see if we can move beyond simple parts of speech and see if the LLM can identify relations between words like subject and object."
   ]
  },
  {
   "cell_type": "code",
   "execution_count": 7,
   "metadata": {
    "colab": {
     "base_uri": "https://localhost:8080/"
    },
    "id": "vNidqDXeutrY",
    "outputId": "610cb7f6-b2ad-41c6-da1d-607aa8086bbd"
   },
   "outputs": [
    {
     "name": "stderr",
     "output_type": "stream",
     "text": [
      "The attention mask and the pad token id were not set. As a consequence, you may observe unexpected behavior. Please pass your input's `attention_mask` to obtain reliable results.\n",
      "Setting `pad_token_id` to `eos_token_id`:2 for open-end generation.\n"
     ]
    },
    {
     "name": "stdout",
     "output_type": "stream",
     "text": [
      "(\"<s>[INST] Given the sentence 'Students are learning Natural Language \"\n",
      " \"Processing in the challenging W266 class.' Please identify the nouns, verbs, \"\n",
      " 'and adjectives in the sentence.  Please output a JSON record with fields for '\n",
      " 'subj:, verb:, and object:. [/INST] {\\n'\n",
      " '   \"nouns\": [\"Students\", \"Natural Language Processing\", \"class\"],\\n'\n",
      " '   \"verbs\": [\"are learning\"],\\n'\n",
      " '   \"adjectives\": [\"challenging\", \"W266\"],\\n'\n",
      " '   \"sentence_structure\": {\\n'\n",
      " '      \"subject\": \"Students\",\\n'\n",
      " '      \"verb\": \"are learning\",\\n'\n",
      " '      \"object\": \"Natural Language Processing in the challenging W266 class\"\\n'\n",
      " '   }\\n'\n",
      " '}</s>')\n"
     ]
    }
   ],
   "source": [
    "myprompt = (\n",
    "    \"Given the sentence 'Students are learning Natural Language Processing in the challenging W266 class.' Please identify the nouns, verbs,\"\n",
    "    \" and adjectives in the sentence.  Please output a JSON record with fields for subj:, verb:, and object:. \"\n",
    ")\n",
    "\n",
    "messages = [\n",
    "    {\"role\": \"user\", \"content\": myprompt}\n",
    "]\n",
    "\n",
    "encodeds = tokenizer.apply_chat_template(messages, return_tensors=\"pt\").to(device)\n",
    "\n",
    "model_inputs = encodeds.to(device)\n",
    "\n",
    "\n",
    "generated_ids = model.generate(encodeds, max_new_tokens=1000, do_sample=True)\n",
    "decoded = tokenizer.batch_decode(generated_ids)\n",
    "pprint.pprint(decoded[0], compact=True)\n"
   ]
  },
  {
   "cell_type": "markdown",
   "metadata": {
    "id": "eFeCqzFHCnFR"
   },
   "source": [
    "It emits an answer but it isn't very accurate.  Compare the answer from the LLM with the answer from the dedicated dependency parser.  The dependency parser performs one function and does it well. The LLM generates text but, as a generalist, there's no guarantes it is accurate."
   ]
  },
  {
   "cell_type": "markdown",
   "metadata": {
    "id": "d6Gh1U-ynIbT"
   },
   "source": [
    "We'll look at other SpaCy capabilities in later classes.\n",
    "\n",
    "[Return to Top](#returnToTop)  \n",
    "<a id = 'classExercise'></a>\n",
    "\n",
    "## 3. Class Exercise\n",
    "\n",
    "Try submitting sentences to the SpaCY dependency parser to see how well it does and where it begins to break down.\n",
    "\n",
    "Here are a number of \"garden path\" sentences where words at the end modify the meaning of words toward the front and alter the correct parts of speech.  You can submit these sentences or come up with your own."
   ]
  },
  {
   "cell_type": "code",
   "execution_count": 13,
   "metadata": {
    "colab": {
     "base_uri": "https://localhost:8080/"
    },
    "id": "EvJEtJ_kTOGZ",
    "outputId": "9406e8da-bf9f-41c9-9b16-3e8877be2497"
   },
   "outputs": [
    {
     "name": "stdout",
     "output_type": "stream",
     "text": [
      "The DT man det\n",
      "blind JJ man amod\n",
      "man NN picked nsubj\n",
      "picked VBD picked ROOT\n",
      "up RP picked prt\n",
      "the DT hammer det\n",
      "hammer NN picked dobj\n",
      "and CC hammer cc\n",
      "saw NN hammer conj\n",
      ". . picked punct\n"
     ]
    }
   ],
   "source": [
    "#w266_text = 'The complex houses married and single students and their families.'\n",
    "w266_text = 'The blind man picked up the hammer and saw.'\n",
    "#w266_text = 'The woman with the dog that had the parasol was brown.'\n",
    "#w266_text = 'The old man the boat.'\n",
    "#w266_text = 'Time flies like an arrow, fruit flies like a banana.'\n",
    "#w266_text = 'Everyone must learn to parse long multi-clausal sentences because they teach us about the intricacies of grammar.'\n",
    "w266_doc = nlp(w266_text)\n",
    "for token in w266_doc:\n",
    "    print (token.text, token.tag_, token.head.text, token.dep_)"
   ]
  },
  {
   "cell_type": "code",
   "execution_count": 16,
   "metadata": {
    "colab": {
     "base_uri": "https://localhost:8080/",
     "height": 371
    },
    "id": "-2af98SEU5Wi",
    "outputId": "c491063e-ace7-4c17-974f-66c068e1d78e"
   },
   "outputs": [
    {
     "data": {
      "text/html": [
       "<span class=\"tex2jax_ignore\"><svg xmlns=\"http://www.w3.org/2000/svg\" xmlns:xlink=\"http://www.w3.org/1999/xlink\" xml:lang=\"en\" id=\"4295d88e9d5740b48d9766c5ebd63690-0\" class=\"displacy\" width=\"1625\" height=\"312.0\" direction=\"ltr\" style=\"max-width: none; height: 312.0px; color: #000000; background: #ffffff; font-family: Arial; direction: ltr\">\n",
       "<text class=\"displacy-token\" fill=\"currentColor\" text-anchor=\"middle\" y=\"222.0\">\n",
       "    <tspan class=\"displacy-word\" fill=\"currentColor\" x=\"50\">The</tspan>\n",
       "    <tspan class=\"displacy-tag\" dy=\"2em\" fill=\"currentColor\" x=\"50\">DET</tspan>\n",
       "</text>\n",
       "\n",
       "<text class=\"displacy-token\" fill=\"currentColor\" text-anchor=\"middle\" y=\"222.0\">\n",
       "    <tspan class=\"displacy-word\" fill=\"currentColor\" x=\"225\">blind</tspan>\n",
       "    <tspan class=\"displacy-tag\" dy=\"2em\" fill=\"currentColor\" x=\"225\">ADJ</tspan>\n",
       "</text>\n",
       "\n",
       "<text class=\"displacy-token\" fill=\"currentColor\" text-anchor=\"middle\" y=\"222.0\">\n",
       "    <tspan class=\"displacy-word\" fill=\"currentColor\" x=\"400\">man</tspan>\n",
       "    <tspan class=\"displacy-tag\" dy=\"2em\" fill=\"currentColor\" x=\"400\">NOUN</tspan>\n",
       "</text>\n",
       "\n",
       "<text class=\"displacy-token\" fill=\"currentColor\" text-anchor=\"middle\" y=\"222.0\">\n",
       "    <tspan class=\"displacy-word\" fill=\"currentColor\" x=\"575\">picked</tspan>\n",
       "    <tspan class=\"displacy-tag\" dy=\"2em\" fill=\"currentColor\" x=\"575\">VERB</tspan>\n",
       "</text>\n",
       "\n",
       "<text class=\"displacy-token\" fill=\"currentColor\" text-anchor=\"middle\" y=\"222.0\">\n",
       "    <tspan class=\"displacy-word\" fill=\"currentColor\" x=\"750\">up</tspan>\n",
       "    <tspan class=\"displacy-tag\" dy=\"2em\" fill=\"currentColor\" x=\"750\">ADP</tspan>\n",
       "</text>\n",
       "\n",
       "<text class=\"displacy-token\" fill=\"currentColor\" text-anchor=\"middle\" y=\"222.0\">\n",
       "    <tspan class=\"displacy-word\" fill=\"currentColor\" x=\"925\">the</tspan>\n",
       "    <tspan class=\"displacy-tag\" dy=\"2em\" fill=\"currentColor\" x=\"925\">DET</tspan>\n",
       "</text>\n",
       "\n",
       "<text class=\"displacy-token\" fill=\"currentColor\" text-anchor=\"middle\" y=\"222.0\">\n",
       "    <tspan class=\"displacy-word\" fill=\"currentColor\" x=\"1100\">hammer</tspan>\n",
       "    <tspan class=\"displacy-tag\" dy=\"2em\" fill=\"currentColor\" x=\"1100\">NOUN</tspan>\n",
       "</text>\n",
       "\n",
       "<text class=\"displacy-token\" fill=\"currentColor\" text-anchor=\"middle\" y=\"222.0\">\n",
       "    <tspan class=\"displacy-word\" fill=\"currentColor\" x=\"1275\">and</tspan>\n",
       "    <tspan class=\"displacy-tag\" dy=\"2em\" fill=\"currentColor\" x=\"1275\">CCONJ</tspan>\n",
       "</text>\n",
       "\n",
       "<text class=\"displacy-token\" fill=\"currentColor\" text-anchor=\"middle\" y=\"222.0\">\n",
       "    <tspan class=\"displacy-word\" fill=\"currentColor\" x=\"1450\">saw.</tspan>\n",
       "    <tspan class=\"displacy-tag\" dy=\"2em\" fill=\"currentColor\" x=\"1450\">NOUN</tspan>\n",
       "</text>\n",
       "\n",
       "<g class=\"displacy-arrow\">\n",
       "    <path class=\"displacy-arc\" id=\"arrow-4295d88e9d5740b48d9766c5ebd63690-0-0\" stroke-width=\"2px\" d=\"M70,177.0 C70,2.0 400.0,2.0 400.0,177.0\" fill=\"none\" stroke=\"currentColor\"/>\n",
       "    <text dy=\"1.25em\" style=\"font-size: 0.8em; letter-spacing: 1px\">\n",
       "        <textPath xlink:href=\"#arrow-4295d88e9d5740b48d9766c5ebd63690-0-0\" class=\"displacy-label\" startOffset=\"50%\" side=\"left\" fill=\"currentColor\" text-anchor=\"middle\">det</textPath>\n",
       "    </text>\n",
       "    <path class=\"displacy-arrowhead\" d=\"M70,179.0 L62,167.0 78,167.0\" fill=\"currentColor\"/>\n",
       "</g>\n",
       "\n",
       "<g class=\"displacy-arrow\">\n",
       "    <path class=\"displacy-arc\" id=\"arrow-4295d88e9d5740b48d9766c5ebd63690-0-1\" stroke-width=\"2px\" d=\"M245,177.0 C245,89.5 395.0,89.5 395.0,177.0\" fill=\"none\" stroke=\"currentColor\"/>\n",
       "    <text dy=\"1.25em\" style=\"font-size: 0.8em; letter-spacing: 1px\">\n",
       "        <textPath xlink:href=\"#arrow-4295d88e9d5740b48d9766c5ebd63690-0-1\" class=\"displacy-label\" startOffset=\"50%\" side=\"left\" fill=\"currentColor\" text-anchor=\"middle\">amod</textPath>\n",
       "    </text>\n",
       "    <path class=\"displacy-arrowhead\" d=\"M245,179.0 L237,167.0 253,167.0\" fill=\"currentColor\"/>\n",
       "</g>\n",
       "\n",
       "<g class=\"displacy-arrow\">\n",
       "    <path class=\"displacy-arc\" id=\"arrow-4295d88e9d5740b48d9766c5ebd63690-0-2\" stroke-width=\"2px\" d=\"M420,177.0 C420,89.5 570.0,89.5 570.0,177.0\" fill=\"none\" stroke=\"currentColor\"/>\n",
       "    <text dy=\"1.25em\" style=\"font-size: 0.8em; letter-spacing: 1px\">\n",
       "        <textPath xlink:href=\"#arrow-4295d88e9d5740b48d9766c5ebd63690-0-2\" class=\"displacy-label\" startOffset=\"50%\" side=\"left\" fill=\"currentColor\" text-anchor=\"middle\">nsubj</textPath>\n",
       "    </text>\n",
       "    <path class=\"displacy-arrowhead\" d=\"M420,179.0 L412,167.0 428,167.0\" fill=\"currentColor\"/>\n",
       "</g>\n",
       "\n",
       "<g class=\"displacy-arrow\">\n",
       "    <path class=\"displacy-arc\" id=\"arrow-4295d88e9d5740b48d9766c5ebd63690-0-3\" stroke-width=\"2px\" d=\"M595,177.0 C595,89.5 745.0,89.5 745.0,177.0\" fill=\"none\" stroke=\"currentColor\"/>\n",
       "    <text dy=\"1.25em\" style=\"font-size: 0.8em; letter-spacing: 1px\">\n",
       "        <textPath xlink:href=\"#arrow-4295d88e9d5740b48d9766c5ebd63690-0-3\" class=\"displacy-label\" startOffset=\"50%\" side=\"left\" fill=\"currentColor\" text-anchor=\"middle\">prt</textPath>\n",
       "    </text>\n",
       "    <path class=\"displacy-arrowhead\" d=\"M745.0,179.0 L753.0,167.0 737.0,167.0\" fill=\"currentColor\"/>\n",
       "</g>\n",
       "\n",
       "<g class=\"displacy-arrow\">\n",
       "    <path class=\"displacy-arc\" id=\"arrow-4295d88e9d5740b48d9766c5ebd63690-0-4\" stroke-width=\"2px\" d=\"M945,177.0 C945,89.5 1095.0,89.5 1095.0,177.0\" fill=\"none\" stroke=\"currentColor\"/>\n",
       "    <text dy=\"1.25em\" style=\"font-size: 0.8em; letter-spacing: 1px\">\n",
       "        <textPath xlink:href=\"#arrow-4295d88e9d5740b48d9766c5ebd63690-0-4\" class=\"displacy-label\" startOffset=\"50%\" side=\"left\" fill=\"currentColor\" text-anchor=\"middle\">det</textPath>\n",
       "    </text>\n",
       "    <path class=\"displacy-arrowhead\" d=\"M945,179.0 L937,167.0 953,167.0\" fill=\"currentColor\"/>\n",
       "</g>\n",
       "\n",
       "<g class=\"displacy-arrow\">\n",
       "    <path class=\"displacy-arc\" id=\"arrow-4295d88e9d5740b48d9766c5ebd63690-0-5\" stroke-width=\"2px\" d=\"M595,177.0 C595,2.0 1100.0,2.0 1100.0,177.0\" fill=\"none\" stroke=\"currentColor\"/>\n",
       "    <text dy=\"1.25em\" style=\"font-size: 0.8em; letter-spacing: 1px\">\n",
       "        <textPath xlink:href=\"#arrow-4295d88e9d5740b48d9766c5ebd63690-0-5\" class=\"displacy-label\" startOffset=\"50%\" side=\"left\" fill=\"currentColor\" text-anchor=\"middle\">dobj</textPath>\n",
       "    </text>\n",
       "    <path class=\"displacy-arrowhead\" d=\"M1100.0,179.0 L1108.0,167.0 1092.0,167.0\" fill=\"currentColor\"/>\n",
       "</g>\n",
       "\n",
       "<g class=\"displacy-arrow\">\n",
       "    <path class=\"displacy-arc\" id=\"arrow-4295d88e9d5740b48d9766c5ebd63690-0-6\" stroke-width=\"2px\" d=\"M1120,177.0 C1120,89.5 1270.0,89.5 1270.0,177.0\" fill=\"none\" stroke=\"currentColor\"/>\n",
       "    <text dy=\"1.25em\" style=\"font-size: 0.8em; letter-spacing: 1px\">\n",
       "        <textPath xlink:href=\"#arrow-4295d88e9d5740b48d9766c5ebd63690-0-6\" class=\"displacy-label\" startOffset=\"50%\" side=\"left\" fill=\"currentColor\" text-anchor=\"middle\">cc</textPath>\n",
       "    </text>\n",
       "    <path class=\"displacy-arrowhead\" d=\"M1270.0,179.0 L1278.0,167.0 1262.0,167.0\" fill=\"currentColor\"/>\n",
       "</g>\n",
       "\n",
       "<g class=\"displacy-arrow\">\n",
       "    <path class=\"displacy-arc\" id=\"arrow-4295d88e9d5740b48d9766c5ebd63690-0-7\" stroke-width=\"2px\" d=\"M1120,177.0 C1120,2.0 1450.0,2.0 1450.0,177.0\" fill=\"none\" stroke=\"currentColor\"/>\n",
       "    <text dy=\"1.25em\" style=\"font-size: 0.8em; letter-spacing: 1px\">\n",
       "        <textPath xlink:href=\"#arrow-4295d88e9d5740b48d9766c5ebd63690-0-7\" class=\"displacy-label\" startOffset=\"50%\" side=\"left\" fill=\"currentColor\" text-anchor=\"middle\">conj</textPath>\n",
       "    </text>\n",
       "    <path class=\"displacy-arrowhead\" d=\"M1450.0,179.0 L1458.0,167.0 1442.0,167.0\" fill=\"currentColor\"/>\n",
       "</g>\n",
       "</svg></span>"
      ],
      "text/plain": [
       "<IPython.core.display.HTML object>"
      ]
     },
     "metadata": {},
     "output_type": "display_data"
    },
    {
     "data": {
      "text/plain": [
       "<IPython.core.display.HTML object>"
      ]
     },
     "execution_count": 16,
     "metadata": {},
     "output_type": "execute_result"
    }
   ],
   "source": [
    "html = displacy.render(w266_doc, style=\"dep\")\n",
    "HTML(html)"
   ]
  }
 ],
 "metadata": {
  "accelerator": "GPU",
  "colab": {
   "gpuType": "T4",
   "provenance": []
  },
  "kernelspec": {
   "display_name": "Python 3 (ipykernel)",
   "language": "python",
   "name": "python3"
  },
  "language_info": {
   "codemirror_mode": {
    "name": "ipython",
    "version": 3
   },
   "file_extension": ".py",
   "mimetype": "text/x-python",
   "name": "python",
   "nbconvert_exporter": "python",
   "pygments_lexer": "ipython3",
   "version": "3.11.5"
  }
 },
 "nbformat": 4,
 "nbformat_minor": 1
}
