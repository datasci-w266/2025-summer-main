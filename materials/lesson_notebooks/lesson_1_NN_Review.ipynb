{
  "cells": [
    {
      "cell_type": "markdown",
      "metadata": {
        "id": "8IC2wq-6dd09"
      },
      "source": [
        "## Notebook for Lesson 1 - Review of Neural Net Basics\n",
        "\n",
        "**Note:** lesson notebooks are created for the purpose of in-class illustrations and student experimentation after class.\n",
        "\n",
        "Back to [week 1 slides](https://docs.google.com/presentation/d/1xHljj6EVfxc9KG0UD2G0-72dUbhif3oDCRENA-lv22Q/edit#slide=id.g1267b8de356_1_182)\n",
        "\n",
        "**Description:** Review some basics about cross entropy loss functions, vectors, matrices and tensors that we will use throughout the rest of the class.<br>\n",
        "\n",
        "Section 1 deals with setup and prerequisites, which does not need a lot of discussion.\n",
        "Cross entropy and loss functions are handled in section 2. Section 3 looks at vectors, matrices and their implementation and manipulation in Tensorflow. Section 4 discusses and demonstrates the softmax operation.  Section 5 uses the keras sequential API.  Section 6 introduces the Keras functional API, which we'll use in the remainder of the class, and demonstrates the effect of normalization on a layer's output.\n",
        "\n",
        "<a id = 'returnToTop'></a>\n",
        "\n",
        "## Notebook Contents\n",
        "  * 1. [Setup](#setup)\n",
        "  * 2. [Entropy and Loss Function Review](#entropyReview)\n",
        "    * 2.1 [Entropy](#entropyReview)  \n",
        "    * 2.2 [Cross Entropy](#crossEntropy)\n",
        "    * 2.3 [KL Divergence](#klDivergence)\n",
        "    * 2.4 [Checking a Few Things About Cross-Entropy](#checkingXEntropy)    \n",
        "  * 3. [A Few Basic Words on Vector and Matrix Calculations](#vectorMatrixCalc)\n",
        "    * 3.1 [Tensors and Tensor Manipulation](#tensorManipulation)\n",
        "  * 4. [Familiarization with the Output Layer and the Softmax Operation](#softmax)\n",
        "  * 5. [Most Basic Keras Intro](#basicKeras)\n",
        "  * 6. [Effects of Layer Normalization](#normalization)\n",
        "\n",
        "\n",
        "\n",
        "\n",
        "[![Open In Colab](https://colab.research.google.com/assets/colab-badge.svg)](https://colab.research.google.com/github/datasci-w266/2025-summer-main/blob/master/materials/lesson_notebooks/lesson_1_NN_Review.ipynb)"
      ]
    },
    {
      "cell_type": "markdown",
      "metadata": {
        "id": "lfWIyVzMdd1G"
      },
      "source": [
        "[Return to Top](#returnToTop)  \n",
        "<a id = 'setup'></a>\n",
        "\n",
        "## 1. Setup"
      ]
    },
    {
      "cell_type": "code",
      "execution_count": 1,
      "metadata": {
        "id": "NJ3B3JgVdd1G"
      },
      "outputs": [],
      "source": [
        "import os\n",
        "os.environ[\"KERAS_BACKEND\"] = \"tensorflow\"\n",
        "\n",
        "from random import random\n",
        "import numpy as np\n",
        "\n",
        "from matplotlib import pyplot as plt\n",
        "\n",
        "import tensorflow as tf\n",
        "import keras\n",
        "from keras import layers"
      ]
    },
    {
      "cell_type": "code",
      "execution_count": 2,
      "metadata": {
        "id": "nOlES9Zxdd1J"
      },
      "outputs": [],
      "source": [
        "# 4-window plot. Small modification from matplotlib examples.\n",
        "\n",
        "def make_plot(axs, history1, history2):\n",
        "    box = dict(facecolor='yellow', pad=5, alpha=0.2)\n",
        "\n",
        "    ax1 = axs[0, 0]\n",
        "    ax1.plot(history1.history['loss'])\n",
        "    ax1.plot(history1.history['val_loss'])\n",
        "    ax1.set_title('loss - no dropout')\n",
        "    ax1.set_ylabel('loss', bbox=box)\n",
        "    ax1.set_ylim(0, 0.7)\n",
        "\n",
        "    ax3 = axs[1, 0]\n",
        "    ax3.set_title('accuracy - no dropout')\n",
        "    ax3.plot(history1.history['categorical_accuracy'])\n",
        "    ax3.plot(history1.history['val_categorical_accuracy'])\n",
        "    ax3.set_ylabel('accuracy', bbox=box)\n",
        "    ax3.set_ylim(0.7, 1.0)\n",
        "\n",
        "\n",
        "    ax2 = axs[0, 1]\n",
        "    ax2.set_title('loss - with dropout')\n",
        "    ax2.plot(history2.history['loss'])\n",
        "    ax2.plot(history2.history['val_loss'])\n",
        "    ax2.set_ylim(0, 0.7)\n",
        "\n",
        "    ax4 = axs[1, 1]\n",
        "    ax4.set_title('accuracy - with dropout')\n",
        "    ax4.plot(history2.history['categorical_accuracy'])\n",
        "    ax4.plot(history2.history['val_categorical_accuracy'])\n",
        "    ax4.set_ylim(0.7, 1.0)"
      ]
    },
    {
      "cell_type": "markdown",
      "metadata": {
        "id": "li-WxqGTdd1K"
      },
      "source": [
        "[Return to Top](#returnToTop)  \n",
        "<a id = 'entropyReview'></a>\n",
        "\n",
        "## 2. Entropy and Loss Review\n",
        "\n",
        "\n",
        "### 2.1 Entropy\n",
        "\n",
        "[Entropy (Shannon entropy)](https://en.wikipedia.org/wiki/Shannon_entropy) is a notion of how \"uncertain\" the outcome of some experiment is.  The more uncertain - or the more spread out the distribution - the higher the entropy. *(Aside: some of you may have encountered \"entropy\" in a thermodynamics class.  Entropy as we're defining it here is conceptually similar - a notion of the amount of disorder in a system, and the concepts are closely related.)*\n",
        "\n",
        "Mathematically, for a (discrete) random variable $X$,\n",
        "\n",
        "$$\\text{Entropy}(X) = H(X) = -\\Sigma_x\\ p(x) \\log_2 p(x)$$\n",
        "\n",
        "*(We take $0 \\times log_2(0) = 0$, although in the \"real world\" probabilities are rarely equal to 0.)*\n",
        "\n",
        "Or, in English: imagine you have some probability distribution over a discrete set of events $X$.  Loop over each event and take the product of the probability of that event and the base-2 log of the probability.  Or, put another way, find the expected value $E[-\\log_2 p(x)]$ for this probability distribution.\n",
        "\n",
        "\n",
        "\n",
        "Imagine a probability distribution $p$ across 5 outcomes.  These would correspond to the true distribution over five labels in a multi-class classification problem."
      ]
    },
    {
      "cell_type": "code",
      "execution_count": 3,
      "metadata": {
        "colab": {
          "base_uri": "https://localhost:8080/"
        },
        "id": "yEAhnBSNdd1K",
        "outputId": "587e6445-56ba-440c-d664-f4aad7ed9853",
        "scrolled": true
      },
      "outputs": [
        {
          "output_type": "stream",
          "name": "stdout",
          "text": [
            "[0.3  0.2  0.1  0.25 0.15]\n"
          ]
        }
      ],
      "source": [
        "p = np.array([0.3,0.2,0.1,0.25,0.15])\n",
        "print(p)"
      ]
    },
    {
      "cell_type": "markdown",
      "metadata": {
        "id": "hvWWs4-Fdd1M"
      },
      "source": [
        "Calculate the entropy:"
      ]
    },
    {
      "cell_type": "code",
      "execution_count": 4,
      "metadata": {
        "colab": {
          "base_uri": "https://localhost:8080/"
        },
        "id": "HmXw-ISEdd1N",
        "outputId": "c269c5b5-ad6b-4f27-fd7d-226a029098c5"
      },
      "outputs": [
        {
          "output_type": "stream",
          "name": "stdout",
          "text": [
            "2.228212945841001\n"
          ]
        }
      ],
      "source": [
        "S = -(0.3 * np.log2(0.3) + 0.2 * np.log2(0.2) + 0.1 * np.log2(0.1) + 0.25 * np.log2(0.25) + 0.15 * np.log2(0.15))\n",
        "print(S)"
      ]
    },
    {
      "cell_type": "markdown",
      "metadata": {
        "id": "KTY_nyj2dd1O"
      },
      "source": [
        "Explicit, but tedious and silly. Better way? Use vectors:"
      ]
    },
    {
      "cell_type": "code",
      "execution_count": 5,
      "metadata": {
        "colab": {
          "base_uri": "https://localhost:8080/"
        },
        "id": "pap8-A61dd1P",
        "outputId": "27f683db-bcf2-488d-cab0-df8b007ae961"
      },
      "outputs": [
        {
          "output_type": "stream",
          "name": "stdout",
          "text": [
            "2.228212945841001\n"
          ]
        }
      ],
      "source": [
        "S = - np.dot(p, np.log2(p))\n",
        "print(S)"
      ]
    },
    {
      "cell_type": "markdown",
      "metadata": {
        "id": "q0tt8QSpdd1P"
      },
      "source": [
        "Same result. Good."
      ]
    },
    {
      "cell_type": "markdown",
      "metadata": {
        "id": "MH2h0Du8dd1P"
      },
      "source": [
        "[Return to Top](#returnToTop)  \n",
        "<a id = 'crossEntropy'></a>\n",
        "\n",
        "### 2.2 Cross Entropy\n",
        "\n",
        "What if we get the code wrong? Suppose we have a finite sample of messages (introducing some _variance_), and we train a machine learning model (introducing some _bias_) to estimate the true probabilities. Let's call the predicted distribution $Q(X)$.\n",
        "\n",
        "Now we generate a code based on $Q(X)$, and use it to encode real messages (which come from $P(X)$). How many bits do we use, on average?\n",
        "\n",
        "If we design an optimal code for $Q$, we use $-\\log_2 Q(x)$ bits for message $x$. Then we average this over $x \\sim P$ to get:\n",
        "\n",
        "$$ \\text{CE}(P,Q) = \\sum_{x} - P(x) \\log_2 Q(x) = \\mathrm{E}_{x \\sim P(x)}\\left[ -\\log_2 Q(x) \\right] $$\n",
        "\n",
        "Since we \"crossed\" the code from $Q$ and used it on $P$, this is known as the [**cross-entropy**](https://en.wikipedia.org/wiki/Cross_entropy). Note that $ \\text{CE}(P,Q) \\ge H(P) $, because we know that the code trained on $Q$ can't possibly be better than the optimal code on $P$ itself!\n",
        "\n",
        "In the form above, this is the most commonly used loss function in machine learning. In unsupervised learning (density estimation), we use it exactly as-is, with $x$ as the data. In supervised learning, we take the random variable to be the label $y$, and take our distributions to be conditional ones: $P(y\\ |\\ x)$ and $Q(y\\ |\\ x)$:\n",
        "$$ \\text{CE}(P,Q)(x) = \\sum_{y'} -P(y'\\ |\\ x) \\log_2 Q(y'\\ |\\ x) $$\n",
        "It's common to average over $x$ and to approximate $P(y\\ |\\ x)$ with discrete samples $(x,y)$ from a test set $T$, in which case we get:\n",
        "\n",
        "$$ \\text{CE}(P,Q)\n",
        "\\approx \\frac{1}{|T|} \\sum_{(x,y) \\in T} \\sum_{y'} -\\mathbb{1}[y = y'] \\log_2 Q(y'\\ |\\ x)\n",
        "= \\frac{1}{|T|} \\sum_{(x,y) \\in T} -\\log_2 Q(y\\ |\\ x)\n",
        "$$\n",
        "\n",
        "We'll commonly also write this using natural logarithms, but you can always convert between the two by the formula $ \\log_2(x) = \\log_2(e) \\cdot \\ln(x) $."
      ]
    },
    {
      "cell_type": "markdown",
      "metadata": {
        "id": "Yk6baLz1dd1Q"
      },
      "source": [
        "[Return to Top](#returnToTop)  \n",
        "<a id = 'klDivergence'></a>\n",
        "\n",
        "### 2.3 KL Divergence\n",
        "\n",
        "We learned that we use the word \"cross-entropy\" to refer to the average number of bits we need if we design our code with $Q(X)$ (i.e. our model) in mind but end up sending with probability $P(X)$ (i.e. the test set).  Similarly, \"entropy\" is the average bits we need if we design with the right distribution in mind.\n",
        "\n",
        "We don't yet have a name for the difference between these quantities (i.e. the size of the *penalty* for using the wrong distribution to optimize our code).  That difference is known as the [Kullback–Leibler divergence](https://en.wikipedia.org/wiki/Kullback%E2%80%93Leibler_divergence), or KL divergence for short.\n",
        "\n",
        "It is a measure of how different two probability distributions are.  The more $Q$ differs from $P$, the worse the penalty would be, and thus the higher the KL divergence.\n",
        "\n",
        "That is,\n",
        "$$ D_{KL}(P\\ ||\\ Q) = CE(P, Q) - H(P)$$\n",
        "\n",
        "From a machine learning perspective, the KL divergence measures the \"avoidable\" error - when our model is perfect (i.e. the *distribution* $\\hat{P}(y\\ |\\ x_i) = P(y\\ |\\ x_i)$, the KL divergence goes to zero. In general, the cross-entropy loss - and prediction accuracy - will not be zero, but will be equal to the entropy $H(P)$. This \"unavoidable\" error is the [Bayes error rate](https://en.wikipedia.org/wiki/Bayes_error_rate) for the underlying task.\n",
        "\n",
        "**Important note:** we're taking the true distribution $y_i = P(y\\ |\\ x_i) = [1, 0, 0, 0]$ in this example to be one-hot (i.e. all mass on one value). This is different from the one-hot encoding we use for training labels, which are _observations_ (single values) _sampled_ from some true distribution $y_i^\\text{obs} \\sim P(y\\ |\\ x_i)$. In that case, one-hot encoding is just a convenient shortcut. In general - and particularly in NLP - we'll have some label uncertainty, and the true distribution $P(y\\ |\\ x_i)$ will be spread among potentially many possibilities.\n",
        "\n",
        "One final observation:  cross-entropy is not symmetric (think about how $P$ and $Q$ appear in the formula to understand why).  As a result KL Divergence isn't symmetric either (if you want to prove this to yourself substitute in for CE and E in the equation above and simplify).  So while KL divergence is a measure of similarity, it's useful to keep in mind that $D_{KL}(P\\ ||\\ Q) \\ne D_{KL}(Q\\ ||\\ P)$."
      ]
    },
    {
      "cell_type": "markdown",
      "metadata": {
        "id": "jtnaRL8hdd1Q"
      },
      "source": [
        "[Return to Top](#returnToTop)  \n",
        "<a id = 'checkXEntropy'></a>\n",
        "\n",
        "### 2.4 Checking a Few Things About Cross-Entropy\n",
        "\n",
        "Now imagine a 2nd distribution q which is close to $p$ but differs a bit. These are a prediction your model has made.  We'll construct it via a small $\\delta$ vector which has a mean of zero, and whose scale is a small number $\\epsilon$:"
      ]
    },
    {
      "cell_type": "code",
      "execution_count": 6,
      "metadata": {
        "colab": {
          "base_uri": "https://localhost:8080/"
        },
        "id": "yp7gvxLsdd1Q",
        "outputId": "7813bc61-307a-4b0e-9bcc-c5610ef5cf1a"
      },
      "outputs": [
        {
          "output_type": "stream",
          "name": "stdout",
          "text": [
            "q:  [0.29641368 0.21351206 0.09776584 0.24989801 0.14241041]\n"
          ]
        }
      ],
      "source": [
        "def create_q(p0, epsilon=0.03):\n",
        "\n",
        "    delta = epsilon * np.random.random(5)\n",
        "    delta = delta - np.mean(delta)\n",
        "\n",
        "    return (p0 + delta)\n",
        "\n",
        "q = create_q(p)\n",
        "print('q: ', q)"
      ]
    },
    {
      "cell_type": "markdown",
      "metadata": {
        "id": "KoSLju4Xdd1R"
      },
      "source": [
        "What is the cross entropy?"
      ]
    },
    {
      "cell_type": "code",
      "execution_count": 7,
      "metadata": {
        "colab": {
          "base_uri": "https://localhost:8080/"
        },
        "id": "NXtPMOqYdd1R",
        "outputId": "b4a2ecb8-682e-46f8-aa97-59038b88df9c"
      },
      "outputs": [
        {
          "output_type": "stream",
          "name": "stdout",
          "text": [
            "2.229197691721902\n"
          ]
        }
      ],
      "source": [
        "ce = -np.dot(p, np.log2(q))\n",
        "print(ce)"
      ]
    },
    {
      "cell_type": "markdown",
      "metadata": {
        "id": "RBYJQOTedd1S"
      },
      "source": [
        "Close! Smaller or bigger than entropy?"
      ]
    },
    {
      "cell_type": "code",
      "execution_count": 8,
      "metadata": {
        "colab": {
          "base_uri": "https://localhost:8080/"
        },
        "id": "8W38GfiPdd1S",
        "outputId": "2e6e6ad1-183c-4e25-8400-5e3f9d301a66"
      },
      "outputs": [
        {
          "output_type": "stream",
          "name": "stdout",
          "text": [
            "True\n"
          ]
        }
      ],
      "source": [
        "print((ce - S) > 0)"
      ]
    },
    {
      "cell_type": "markdown",
      "metadata": {
        "id": "fQAVNuIpdd1S"
      },
      "source": [
        "Let's try that for many q:"
      ]
    },
    {
      "cell_type": "code",
      "execution_count": 9,
      "metadata": {
        "colab": {
          "base_uri": "https://localhost:8080/"
        },
        "id": "BS7De8WGdd1T",
        "outputId": "55795cdc-ec8c-4b3a-8a41-f7a9ae796afd"
      },
      "outputs": [
        {
          "output_type": "stream",
          "name": "stdout",
          "text": [
            "ce > S?  True\n",
            "ce > S?  True\n",
            "ce > S?  True\n",
            "ce > S?  True\n",
            "ce > S?  True\n"
          ]
        }
      ],
      "source": [
        "for attempt in range(5):\n",
        "    q = create_q(p)\n",
        "    ce = -np.dot(p, np.log2(q))\n",
        "    #print(q)\n",
        "    print('ce > S? ', (ce-S)>0)\n"
      ]
    },
    {
      "cell_type": "markdown",
      "metadata": {
        "id": "gFQeE3eVdd1T"
      },
      "source": [
        "Indeed... $ce$ is always larger than $S$ ('experimentally verified', but should be proven). $ce = S$ when $q=p$, therefore minimizing $ce$ drives $q \\rightarrow p$.  KL Divergence is the difference between cross entropy and entropy."
      ]
    },
    {
      "cell_type": "markdown",
      "metadata": {
        "id": "j8ld9BUNdd1U"
      },
      "source": [
        "[Return to Top](#returnToTop)  \n",
        "<a id = 'vectorMatrixCalc'></a>\n",
        "\n",
        "## 3. A Few Basic Words on Vector and Matrix Calculations\n",
        "\n",
        "Imagine a neural net where the dimension  of the incoming layer is $4$, and the next layer has dimension $3$. Let $x$ be the input. What are the dimensions of the weight matrix $W$ and bias vector $b$ in $$z = f(x W + b)?$$    "
      ]
    },
    {
      "cell_type": "markdown",
      "metadata": {
        "id": "skWldllAdd1U"
      },
      "source": [
        "$W$ needs to 'translate' a 4-d vector into a 3-d vector. Hence dim$(W) = 4 \\times 3$.\n",
        "\n",
        "Each output neuron has its own bias value, dim$(b) = 3$.\n",
        "\n",
        "We can easily implement this using numpy and then experiment with various dimensions to help build intuition.  Here's an example with the diemnsions above:"
      ]
    },
    {
      "cell_type": "code",
      "execution_count": 10,
      "metadata": {
        "id": "AJLe04pudd1U"
      },
      "outputs": [],
      "source": [
        "#input\n",
        "x = np.array([1,1,2,2])\n",
        "\n",
        "#Weight matrix\n",
        "W = np.array([[-1,-3,-2],[-2,3,-6],[4,-2,3], [-1, 5, 1]])\n",
        "\n",
        "#bias terms\n",
        "b = np.array([-1, -2, -3])"
      ]
    },
    {
      "cell_type": "code",
      "execution_count": 11,
      "metadata": {
        "colab": {
          "base_uri": "https://localhost:8080/"
        },
        "id": "RYI9IvNYdd1V",
        "outputId": "dabefd3b-8810-446f-ea50-6fbc268b24f1"
      },
      "outputs": [
        {
          "output_type": "stream",
          "name": "stdout",
          "text": [
            "x shape:  (4,)\n",
            "W shape:  (4, 3)\n",
            "b shape:  (3,)\n"
          ]
        }
      ],
      "source": [
        "print('x shape: ', x.shape)\n",
        "print('W shape: ', W.shape)\n",
        "print('b shape: ', b.shape)"
      ]
    },
    {
      "cell_type": "markdown",
      "metadata": {
        "id": "ee2LGOdGdd1V"
      },
      "source": [
        "The W weight matrix and the bias term together make up the affine. The output of the affine is called the logit which we will label $z$."
      ]
    },
    {
      "cell_type": "code",
      "execution_count": 12,
      "metadata": {
        "colab": {
          "base_uri": "https://localhost:8080/"
        },
        "id": "04hGJIHudd1V",
        "outputId": "1d2eb410-a82d-4932-a807-bc28cf99fa80"
      },
      "outputs": [
        {
          "output_type": "execute_result",
          "data": {
            "text/plain": [
              "array([ 2,  4, -3])"
            ]
          },
          "metadata": {},
          "execution_count": 12
        }
      ],
      "source": [
        "# calculate the logit which we label as z\n",
        "z = x.dot(W) + b\n",
        "z"
      ]
    },
    {
      "cell_type": "markdown",
      "metadata": {
        "id": "XQ3BM1aWdd1W"
      },
      "source": [
        "Now let's add the non-linearity, sigmoid to be concrete in this case. The non-linearity is an element-wise operation. (The last output layer at the end however is different.)"
      ]
    },
    {
      "cell_type": "code",
      "execution_count": 13,
      "metadata": {
        "id": "6U_kTTE7dd1W"
      },
      "outputs": [],
      "source": [
        "def sigmoid(y):\n",
        "    return 1/(1 + np.exp(-y))"
      ]
    },
    {
      "cell_type": "markdown",
      "metadata": {
        "id": "dR-1KiEkdd1W"
      },
      "source": [
        "Now pass the logit $z$ through the non-linearity"
      ]
    },
    {
      "cell_type": "code",
      "execution_count": 14,
      "metadata": {
        "colab": {
          "base_uri": "https://localhost:8080/"
        },
        "id": "Z0H7mmjXdd1W",
        "outputId": "608f1461-8aa1-47a7-eb5b-7d421c2f115c"
      },
      "outputs": [
        {
          "output_type": "execute_result",
          "data": {
            "text/plain": [
              "array([0.88079708, 0.98201379, 0.04742587])"
            ]
          },
          "metadata": {},
          "execution_count": 14
        }
      ],
      "source": [
        "h = sigmoid(z)\n",
        "h"
      ]
    },
    {
      "cell_type": "markdown",
      "metadata": {
        "id": "AVoD_TZDdd1W"
      },
      "source": [
        "[Return to Top](#returnToTop)  \n",
        "<a id = 'tensorManipulation'></a>\n",
        "\n",
        "###  3.1 Tensors and Tensor Manipulation\n",
        "\n",
        "Tensorflow operates on [tensors](https://www.tensorflow.org/guide/tensor) which you can think of like numpy arrays.  Tensors have shape, rank, dimension (or axis) and size.  Let's look at what each of these means.\n",
        "\n",
        "The rank is the number of axes in the tensor. A rank_0 tensor is a scalar.  A rank_1 tensor is a vector. A rank_2 tensor is a matrix.\n",
        "\n",
        "The shape is the legnth of each of the axes in the tensor.  The axis is a way of referring to a particular axis within the tensor.  The size is the total number of elements in the tensor.\n",
        "\n",
        "Let's create a rank_4 tensor full of ones to see how this works."
      ]
    },
    {
      "cell_type": "code",
      "execution_count": 15,
      "metadata": {
        "id": "053wPKiBdd1X"
      },
      "outputs": [],
      "source": [
        "rank_4_tensor = tf.ones([3,2,5,7])"
      ]
    },
    {
      "cell_type": "markdown",
      "metadata": {
        "id": "QzcrLeaKdd1X"
      },
      "source": [
        "What does our rank_4 tensor look like?  We can simply print it out to see."
      ]
    },
    {
      "cell_type": "code",
      "execution_count": 16,
      "metadata": {
        "colab": {
          "base_uri": "https://localhost:8080/"
        },
        "id": "05K-0_yddd1X",
        "outputId": "ea6df9fe-d5d4-406d-cccd-386e3f3e91d0"
      },
      "outputs": [
        {
          "output_type": "execute_result",
          "data": {
            "text/plain": [
              "<tf.Tensor: shape=(3, 2, 5, 7), dtype=float32, numpy=\n",
              "array([[[[1., 1., 1., 1., 1., 1., 1.],\n",
              "         [1., 1., 1., 1., 1., 1., 1.],\n",
              "         [1., 1., 1., 1., 1., 1., 1.],\n",
              "         [1., 1., 1., 1., 1., 1., 1.],\n",
              "         [1., 1., 1., 1., 1., 1., 1.]],\n",
              "\n",
              "        [[1., 1., 1., 1., 1., 1., 1.],\n",
              "         [1., 1., 1., 1., 1., 1., 1.],\n",
              "         [1., 1., 1., 1., 1., 1., 1.],\n",
              "         [1., 1., 1., 1., 1., 1., 1.],\n",
              "         [1., 1., 1., 1., 1., 1., 1.]]],\n",
              "\n",
              "\n",
              "       [[[1., 1., 1., 1., 1., 1., 1.],\n",
              "         [1., 1., 1., 1., 1., 1., 1.],\n",
              "         [1., 1., 1., 1., 1., 1., 1.],\n",
              "         [1., 1., 1., 1., 1., 1., 1.],\n",
              "         [1., 1., 1., 1., 1., 1., 1.]],\n",
              "\n",
              "        [[1., 1., 1., 1., 1., 1., 1.],\n",
              "         [1., 1., 1., 1., 1., 1., 1.],\n",
              "         [1., 1., 1., 1., 1., 1., 1.],\n",
              "         [1., 1., 1., 1., 1., 1., 1.],\n",
              "         [1., 1., 1., 1., 1., 1., 1.]]],\n",
              "\n",
              "\n",
              "       [[[1., 1., 1., 1., 1., 1., 1.],\n",
              "         [1., 1., 1., 1., 1., 1., 1.],\n",
              "         [1., 1., 1., 1., 1., 1., 1.],\n",
              "         [1., 1., 1., 1., 1., 1., 1.],\n",
              "         [1., 1., 1., 1., 1., 1., 1.]],\n",
              "\n",
              "        [[1., 1., 1., 1., 1., 1., 1.],\n",
              "         [1., 1., 1., 1., 1., 1., 1.],\n",
              "         [1., 1., 1., 1., 1., 1., 1.],\n",
              "         [1., 1., 1., 1., 1., 1., 1.],\n",
              "         [1., 1., 1., 1., 1., 1., 1.]]]], dtype=float32)>"
            ]
          },
          "metadata": {},
          "execution_count": 16
        }
      ],
      "source": [
        "rank_4_tensor"
      ]
    },
    {
      "cell_type": "markdown",
      "metadata": {
        "id": "-QG21r9tdd1X"
      },
      "source": [
        "How can we look at specific attributes of out rank_4 tensor?  We can use Tensorflow's shape command."
      ]
    },
    {
      "cell_type": "code",
      "execution_count": 17,
      "metadata": {
        "colab": {
          "base_uri": "https://localhost:8080/"
        },
        "id": "uiqWJnEbdd1X",
        "outputId": "f5a98cc6-642c-4e07-c052-f926cfc053c5"
      },
      "outputs": [
        {
          "output_type": "stream",
          "name": "stdout",
          "text": [
            "Number of axes: 4\n",
            "Shape of tensor: (3, 2, 5, 7)\n",
            "Elements along axis 0 of tensor: 3\n",
            "Elements along axis 1 of tensor: 2\n",
            "Elements along axis 2 of tensor: 5\n",
            "Elements along the last axis of tensor: 7\n",
            "Total number of elements (3*2*5*7):  210\n"
          ]
        }
      ],
      "source": [
        "print(\"Number of axes:\", rank_4_tensor.ndim)\n",
        "print(\"Shape of tensor:\", rank_4_tensor.shape)\n",
        "print(\"Elements along axis 0 of tensor:\", rank_4_tensor.shape[0])\n",
        "print(\"Elements along axis 1 of tensor:\", rank_4_tensor.shape[1])\n",
        "print(\"Elements along axis 2 of tensor:\", rank_4_tensor.shape[2])\n",
        "print(\"Elements along the last axis of tensor:\", rank_4_tensor.shape[-1])\n",
        "print(\"Total number of elements (3*2*5*7): \", tf.size(rank_4_tensor).numpy())\n"
      ]
    },
    {
      "cell_type": "markdown",
      "metadata": {
        "id": "s9-7-8Mqdd1Y"
      },
      "source": [
        "Not only can we see the shape of a tensor in a number of ways, but we can also alter the shape.  Sometimes we need to change our tensor's shape to match the input or process the output of our model.\n",
        "\n",
        "Let's define a rank_1 tensor with all the numbers between 0 and 29."
      ]
    },
    {
      "cell_type": "code",
      "execution_count": 18,
      "metadata": {
        "id": "tKyHwQqDdd1Z"
      },
      "outputs": [],
      "source": [
        "tensor = tf.constant([0,1,2,3,4,5,6,7,8,9,10,11,12,13,14,15,16,17,18,19,20,21,22,23,24,25,26,27,28,29], dtype=tf.float16)"
      ]
    },
    {
      "cell_type": "code",
      "execution_count": 19,
      "metadata": {
        "colab": {
          "base_uri": "https://localhost:8080/"
        },
        "id": "y4IbIGkOdd1Z",
        "outputId": "8561c68b-56c0-4f0a-a503-56b4e0c1a657"
      },
      "outputs": [
        {
          "output_type": "execute_result",
          "data": {
            "text/plain": [
              "<tf.Tensor: shape=(30,), dtype=float16, numpy=\n",
              "array([ 0.,  1.,  2.,  3.,  4.,  5.,  6.,  7.,  8.,  9., 10., 11., 12.,\n",
              "       13., 14., 15., 16., 17., 18., 19., 20., 21., 22., 23., 24., 25.,\n",
              "       26., 27., 28., 29.], dtype=float16)>"
            ]
          },
          "metadata": {},
          "execution_count": 19
        }
      ],
      "source": [
        "tensor"
      ]
    },
    {
      "cell_type": "markdown",
      "metadata": {
        "id": "6ibGdVHSdd1Z"
      },
      "source": [
        "Tensors can be reshaped.  Let's take our 1_rank tensor and reshape it into a 2_rank tensor dividing our numbers into groups of 10.  "
      ]
    },
    {
      "cell_type": "code",
      "execution_count": 20,
      "metadata": {
        "id": "oxc68qM5dd1a"
      },
      "outputs": [],
      "source": [
        "reshaped_tensor = tf.reshape(tensor, [3,10])"
      ]
    },
    {
      "cell_type": "code",
      "execution_count": 21,
      "metadata": {
        "colab": {
          "base_uri": "https://localhost:8080/"
        },
        "id": "WLft8atqdd1a",
        "outputId": "1461c4b0-60ee-4b38-b678-c37a55e20ae1"
      },
      "outputs": [
        {
          "output_type": "execute_result",
          "data": {
            "text/plain": [
              "<tf.Tensor: shape=(3, 10), dtype=float16, numpy=\n",
              "array([[ 0.,  1.,  2.,  3.,  4.,  5.,  6.,  7.,  8.,  9.],\n",
              "       [10., 11., 12., 13., 14., 15., 16., 17., 18., 19.],\n",
              "       [20., 21., 22., 23., 24., 25., 26., 27., 28., 29.]], dtype=float16)>"
            ]
          },
          "metadata": {},
          "execution_count": 21
        }
      ],
      "source": [
        "reshaped_tensor"
      ]
    },
    {
      "cell_type": "markdown",
      "metadata": {
        "id": "xE44XPJQdd1a"
      },
      "source": [
        "That worked.  We took our vector (rank_1 tensor) and reshaped it into a 3 row by 10 column matrix (rank_2 tensor).\n",
        "\n",
        "Often times you'll want to retrieve a specific element or elements within a tensor.  We can use slice the way we would with arrays or we can just reference a specific element.  Here's an example of retrieving the value '17' which will be the in the second row and the eighth column.   "
      ]
    },
    {
      "cell_type": "code",
      "execution_count": 22,
      "metadata": {
        "colab": {
          "base_uri": "https://localhost:8080/"
        },
        "id": "hQLEFo-Bdd1a",
        "outputId": "1249c845-5da8-433b-d41e-962d36319846"
      },
      "outputs": [
        {
          "output_type": "execute_result",
          "data": {
            "text/plain": [
              "<tf.Tensor: shape=(), dtype=float16, numpy=17.0>"
            ]
          },
          "metadata": {},
          "execution_count": 22
        }
      ],
      "source": [
        "reshaped_tensor[1][7]"
      ]
    },
    {
      "cell_type": "markdown",
      "metadata": {
        "id": "GX7HXSzCdd1b"
      },
      "source": [
        "[Return to Top](#returnToTop)  \n",
        "<a id = 'softmax'></a>\n",
        "\n",
        "## 4. Familiarization with the Output Layer and Softmax Operation\n",
        "\n",
        "Imagine your output layer (which does not have a non-linearity) returns these 5 numbers as the logit:"
      ]
    },
    {
      "cell_type": "code",
      "execution_count": 23,
      "metadata": {
        "colab": {
          "base_uri": "https://localhost:8080/"
        },
        "id": "7H0dzHGbdd1b",
        "outputId": "c6432b25-ad2b-4e89-b170-cbef7461694d"
      },
      "outputs": [
        {
          "output_type": "stream",
          "name": "stdout",
          "text": [
            "o:  [ 0.61446949 -4.94145944 -2.58668049  4.431816    1.81260531]\n"
          ]
        }
      ],
      "source": [
        "o = 10 * np.random.random(5) - 5\n",
        "print('o: ', o)"
      ]
    },
    {
      "cell_type": "markdown",
      "metadata": {
        "id": "wRj2VK64dd1b"
      },
      "source": [
        "In a classification problem, these 5 numbers would be the output for each class. They can be large, small, positive, negative, etc.\n",
        "\n",
        "We want to model probabilities though. Hence, we need to convert the output to 5 values that are **1) positive** and **2) must sum to 1**.\n",
        "\n",
        "Let's first exponentiate all values:"
      ]
    },
    {
      "cell_type": "code",
      "execution_count": 24,
      "metadata": {
        "colab": {
          "base_uri": "https://localhost:8080/"
        },
        "id": "rRmJkYDcdd1b",
        "outputId": "349fbe8e-6829-4783-c4cd-9cb6c6d46cf6"
      },
      "outputs": [
        {
          "output_type": "stream",
          "name": "stdout",
          "text": [
            "outputs:  [1.84867560e+00 7.14416427e-03 7.52694833e-02 8.40839750e+01\n",
            " 6.12638779e+00]\n"
          ]
        }
      ],
      "source": [
        "exp_o = np.exp(o)\n",
        "print('outputs: ', exp_o)"
      ]
    },
    {
      "cell_type": "markdown",
      "metadata": {
        "id": "f4VEH634dd1c"
      },
      "source": [
        "Great. All numbers are positive. But they don't sum to $1$. Simple solution: divide each value by the sum of all values:"
      ]
    },
    {
      "cell_type": "code",
      "execution_count": 25,
      "metadata": {
        "colab": {
          "base_uri": "https://localhost:8080/"
        },
        "id": "YJgUyojIdd1c",
        "outputId": "3fdb140e-05ea-4e4b-8a7c-6a5effa69103"
      },
      "outputs": [
        {
          "output_type": "stream",
          "name": "stdout",
          "text": [
            "sum of all output values:  92.14145200962037\n"
          ]
        }
      ],
      "source": [
        "sum_exp_o = np.sum(exp_o)\n",
        "print('sum of all output values: ', sum_exp_o)"
      ]
    },
    {
      "cell_type": "code",
      "execution_count": 26,
      "metadata": {
        "colab": {
          "base_uri": "https://localhost:8080/"
        },
        "id": "0JwKc_T_dd1c",
        "outputId": "098a3869-669b-41e9-a0a6-23ec8bc4cc15"
      },
      "outputs": [
        {
          "output_type": "stream",
          "name": "stdout",
          "text": [
            "model probabilities p:  [2.00634520e-02 7.75347480e-05 8.16890571e-04 9.12553179e-01\n",
            " 6.64889434e-02]\n"
          ]
        }
      ],
      "source": [
        "p = exp_o/sum_exp_o\n",
        "print('model probabilities p: ', p)"
      ]
    },
    {
      "cell_type": "code",
      "execution_count": 27,
      "metadata": {
        "colab": {
          "base_uri": "https://localhost:8080/"
        },
        "id": "PPyVnKpvdd1c",
        "outputId": "0fecd038-d86e-4a03-f8ff-03a9dfd604d1"
      },
      "outputs": [
        {
          "output_type": "stream",
          "name": "stdout",
          "text": [
            "model probabilities q:  [2.00634520e-02 7.75347480e-05 8.16890571e-04 9.12553179e-01\n",
            " 6.64889434e-02]\n"
          ]
        }
      ],
      "source": [
        "p = exp_o/sum_exp_o\n",
        "print('model probabilities q: ', p)"
      ]
    },
    {
      "cell_type": "code",
      "execution_count": 28,
      "metadata": {
        "colab": {
          "base_uri": "https://localhost:8080/"
        },
        "id": "UzNJUKAddd1d",
        "outputId": "a5c8c98c-4297-4a9a-e72a-4de868e91ed3"
      },
      "outputs": [
        {
          "output_type": "execute_result",
          "data": {
            "text/plain": [
              "np.float64(1.0)"
            ]
          },
          "metadata": {},
          "execution_count": 28
        }
      ],
      "source": [
        "np.sum(p)"
      ]
    },
    {
      "cell_type": "markdown",
      "metadata": {
        "id": "SE593enrdd1d"
      },
      "source": [
        "Cool! Sums to 1 as desired. (Not a surprise.)\n",
        "\n",
        "What happens if I add a constant to each value in $o$? How is softmax affected?"
      ]
    },
    {
      "cell_type": "code",
      "execution_count": 29,
      "metadata": {
        "id": "_lkC3OS5dd1d"
      },
      "outputs": [],
      "source": [
        "o_2 = o + 1"
      ]
    },
    {
      "cell_type": "code",
      "execution_count": 30,
      "metadata": {
        "colab": {
          "base_uri": "https://localhost:8080/"
        },
        "id": "cHvwo3Qvdd1d",
        "outputId": "09ffe3c8-0a2c-47e6-9d1a-a5792346ff21"
      },
      "outputs": [
        {
          "output_type": "stream",
          "name": "stdout",
          "text": [
            "outputs:  [5.02522130e+00 1.94198519e-02 2.04603669e-01 2.28563941e+02\n",
            " 1.66532486e+01]\n"
          ]
        }
      ],
      "source": [
        "exp_o_2 = np.exp(o_2)\n",
        "print('outputs: ', exp_o_2)"
      ]
    },
    {
      "cell_type": "code",
      "execution_count": 31,
      "metadata": {
        "id": "BgSREzrPdd1e"
      },
      "outputs": [],
      "source": [
        "sum_exp_o_2 = np.sum(exp_o_2)"
      ]
    },
    {
      "cell_type": "code",
      "execution_count": 32,
      "metadata": {
        "colab": {
          "base_uri": "https://localhost:8080/"
        },
        "id": "GqSuajwBdd1e",
        "outputId": "c1cb7826-e5c3-4aff-e3c7-2fbb843f7bb1"
      },
      "outputs": [
        {
          "output_type": "stream",
          "name": "stdout",
          "text": [
            "new probabilities q_2:  [2.00634520e-02 7.75347480e-05 8.16890571e-04 9.12553179e-01\n",
            " 6.64889434e-02]\n"
          ]
        }
      ],
      "source": [
        "q = exp_o_2/sum_exp_o_2\n",
        "print('new probabilities q_2: ', q)"
      ]
    },
    {
      "cell_type": "markdown",
      "metadata": {
        "id": "GcI-qvd3dd1e"
      },
      "source": [
        "Same!"
      ]
    },
    {
      "cell_type": "markdown",
      "metadata": {
        "id": "zkOL7oLIdd1f"
      },
      "source": [
        "[Return to Top](#returnToTop)  \n",
        "<a id = 'basicKeras'></a>\n",
        "\n",
        "## 5. Most Basic Keras Intro\n",
        "\n",
        "Simple 3-class classification model. This is only intended to illustrate the TensorFlow/Keras concepts. See: https://www.tensorflow.org/guide/keras"
      ]
    },
    {
      "cell_type": "markdown",
      "metadata": {
        "id": "skmU_-nCdd1f"
      },
      "source": [
        "There are two types of formalisms: 1) **Sequential** models, and 2) **Functional API**. The former is a little simpler, but it only supports (as the name says) sequential architectures. The Functional API approach is extremely flexible and will be introduced later. (And that is the one we will generally use for the rest of the class.)   \n",
        "\n",
        "\n",
        "But only for this first test we set up a **Sequential** model, wrapped in a function:"
      ]
    },
    {
      "cell_type": "code",
      "execution_count": 33,
      "metadata": {
        "id": "dwdMZWd7dd1f"
      },
      "outputs": [],
      "source": [
        "def create_model(dropout=0.0, num_neurons=10):\n",
        "    # Define 'sequential' model (vs. 'functional'... we'll discuss later.)\n",
        "    model = keras.Sequential([\n",
        "\n",
        "    # Let's go nuts in terms of layers and neurons per layer and actively try to overfit\n",
        "\n",
        "    # Add 5 densely-connected layers with num_neurons units followed by dropout to the model:\n",
        "\n",
        "    layers.Dense(num_neurons, activation='relu',\n",
        "                 #kernel_initializer=keras.initializers.glorot_normal ,\n",
        "                 input_shape=(20,)),         # '20' is the number of features of the input\n",
        "\n",
        "    # add a droput layer\n",
        "    layers.Dropout(dropout),\n",
        "\n",
        "    layers.Dense(num_neurons, activation='relu'),\n",
        "    layers.Dropout(dropout),\n",
        "\n",
        "    layers.Dense(num_neurons, activation='relu'),\n",
        "    layers.Dropout(dropout),\n",
        "\n",
        "    layers.Dense(num_neurons, activation='relu'),\n",
        "    layers.Dropout(dropout),\n",
        "\n",
        "    layers.Dense(num_neurons, activation='relu'),\n",
        "    layers.Dropout(dropout),\n",
        "\n",
        "    # Create a softmax layer with 3 output units -\n",
        "    # as required by the labels being 3 dimensional representinbg 3 classes:\n",
        "    layers.Dense(3, activation='softmax')])\n",
        "\n",
        "    # Compile model. Configure a model for categorical classification.\n",
        "    model.compile(optimizer=keras.optimizers.Adam(),\n",
        "              loss='categorical_crossentropy',\n",
        "              metrics=[keras.metrics.categorical_accuracy])\n",
        "\n",
        "    return model"
      ]
    },
    {
      "cell_type": "markdown",
      "metadata": {
        "id": "a9OWpaIJdd1g"
      },
      "source": [
        "Create some fake input data ():"
      ]
    },
    {
      "cell_type": "code",
      "execution_count": 34,
      "metadata": {
        "id": "sKtRoSr0dd1g"
      },
      "outputs": [],
      "source": [
        "def random_one_hot_labels(num_examples, num_classes, dim):\n",
        "\n",
        "    #create random data\n",
        "    base_data = np.random.random((num_examples, dim))\n",
        "\n",
        "    #create random labels\n",
        "    classes = np.random.randint(0, num_classes, num_examples)\n",
        "    labels = np.zeros((num_examples, num_classes))\n",
        "    labels[np.arange(num_examples), classes] = 1\n",
        "\n",
        "    # hide a small signal in the data\n",
        "    label_to_data_signal = np.reshape(np.array(np.random.random(num_classes * dim)),\n",
        "                                      (num_classes, dim))\n",
        "\n",
        "    signals = np.matmul(labels, label_to_data_signal)\n",
        "\n",
        "    data = base_data + 1/2 * signals\n",
        "\n",
        "    return data, labels\n",
        "\n",
        "\n",
        "\n",
        "data, labels = random_one_hot_labels(10000, 3, 20)"
      ]
    },
    {
      "cell_type": "markdown",
      "metadata": {
        "id": "gv9Eo6d1dd1g"
      },
      "source": [
        "Create a model without dropout:"
      ]
    },
    {
      "cell_type": "code",
      "execution_count": 35,
      "metadata": {
        "colab": {
          "base_uri": "https://localhost:8080/"
        },
        "id": "9TQgOTE1dd1h",
        "outputId": "c4616dc9-d225-4afb-c1a2-85dde0852c6c"
      },
      "outputs": [
        {
          "output_type": "stream",
          "name": "stderr",
          "text": [
            "/usr/local/lib/python3.11/dist-packages/keras/src/layers/core/dense.py:87: UserWarning: Do not pass an `input_shape`/`input_dim` argument to a layer. When using Sequential models, prefer using an `Input(shape)` object as the first layer in the model instead.\n",
            "  super().__init__(activity_regularizer=activity_regularizer, **kwargs)\n"
          ]
        }
      ],
      "source": [
        "model_0 = create_model(0.0, 200)"
      ]
    },
    {
      "cell_type": "markdown",
      "metadata": {
        "id": "BaEXxXXBdd1h"
      },
      "source": [
        "Make a couple of predictions prior to training when the model has only been compiled. Are they random?"
      ]
    },
    {
      "cell_type": "code",
      "execution_count": 36,
      "metadata": {
        "colab": {
          "base_uri": "https://localhost:8080/"
        },
        "id": "kA2YbIPUdd1h",
        "outputId": "b1952c60-95e4-4c34-be2a-f8f0309a3c76"
      },
      "outputs": [
        {
          "output_type": "stream",
          "name": "stdout",
          "text": [
            "\u001b[1m1/1\u001b[0m \u001b[32m━━━━━━━━━━━━━━━━━━━━\u001b[0m\u001b[37m\u001b[0m \u001b[1m0s\u001b[0m 243ms/step\n"
          ]
        },
        {
          "output_type": "execute_result",
          "data": {
            "text/plain": [
              "array([[0.32222053, 0.3331328 , 0.3446467 ],\n",
              "       [0.32924625, 0.32835892, 0.34239486]], dtype=float32)"
            ]
          },
          "metadata": {},
          "execution_count": 36
        }
      ],
      "source": [
        "model_0.predict(data[:2])"
      ]
    },
    {
      "cell_type": "markdown",
      "metadata": {
        "id": "pnQfT61Ydd1h"
      },
      "source": [
        "Pretty much...\n",
        "Now then train your model:"
      ]
    },
    {
      "cell_type": "code",
      "execution_count": 37,
      "metadata": {
        "colab": {
          "base_uri": "https://localhost:8080/"
        },
        "id": "QALIsmqwdd1i",
        "outputId": "55102ef8-b6b0-4253-bce1-b74d67527785"
      },
      "outputs": [
        {
          "output_type": "stream",
          "name": "stdout",
          "text": [
            "160/160 - 1s - 7ms/step - categorical_accuracy: 1.0000 - loss: 3.2514e-06 - val_categorical_accuracy: 0.8825 - val_loss: 1.4084\n"
          ]
        },
        {
          "output_type": "execute_result",
          "data": {
            "text/plain": [
              "<keras.src.callbacks.history.History at 0x780335d9d990>"
            ]
          },
          "metadata": {},
          "execution_count": 37
        }
      ],
      "source": [
        "history_0 = model_0.fit(data, labels,\n",
        "          validation_split=0.2,\n",
        "          epochs=100,\n",
        "          batch_size=50,\n",
        "          verbose=0)\n",
        "\n",
        "model_0.fit(data, labels,\n",
        "          validation_split=0.2,\n",
        "          epochs=1,\n",
        "          batch_size=50,\n",
        "          verbose=2)"
      ]
    },
    {
      "cell_type": "markdown",
      "metadata": {
        "id": "uQnaIPQQdd1i"
      },
      "source": [
        "Now create and train a model with dropout:"
      ]
    },
    {
      "cell_type": "code",
      "execution_count": 38,
      "metadata": {
        "colab": {
          "base_uri": "https://localhost:8080/"
        },
        "id": "LuwpDcnsdd1i",
        "outputId": "2bc72628-f392-46c4-a76d-0fc8f1cb7ea6"
      },
      "outputs": [
        {
          "output_type": "stream",
          "name": "stdout",
          "text": [
            "\u001b[1m160/160\u001b[0m \u001b[32m━━━━━━━━━━━━━━━━━━━━\u001b[0m\u001b[37m\u001b[0m \u001b[1m1s\u001b[0m 4ms/step - categorical_accuracy: 0.8526 - loss: 0.4157 - val_categorical_accuracy: 0.8640 - val_loss: 0.3724\n"
          ]
        },
        {
          "output_type": "execute_result",
          "data": {
            "text/plain": [
              "<keras.src.callbacks.history.History at 0x7803359ded10>"
            ]
          },
          "metadata": {},
          "execution_count": 38
        }
      ],
      "source": [
        "model_2 = create_model(0.2)\n",
        "\n",
        "history_2 = model_2.fit(data, labels,\n",
        "          validation_split=0.2,\n",
        "          epochs=100,\n",
        "          batch_size=50,\n",
        "          verbose=0)\n",
        "\n",
        "model_2.fit(data, labels,\n",
        "          validation_split=0.2,\n",
        "          epochs=1,\n",
        "          batch_size=50,\n",
        "          verbose=1)"
      ]
    },
    {
      "cell_type": "markdown",
      "metadata": {
        "id": "pmh5x_PPdd1i"
      },
      "source": [
        "Let's look at the behavior by examining the loss and accuracy curves:"
      ]
    },
    {
      "cell_type": "code",
      "execution_count": 39,
      "metadata": {
        "colab": {
          "base_uri": "https://localhost:8080/",
          "height": 829
        },
        "id": "QclYk7pidd1j",
        "outputId": "5840ec08-9f86-434b-9da4-9e34161cd65c"
      },
      "outputs": [
        {
          "output_type": "display_data",
          "data": {
            "text/plain": [
              "<Figure size 1850x1050 with 4 Axes>"
            ],
            "image/png": "[encoded data removed]"
          },
          "metadata": {}
        }
      ],
      "source": [
        "fig, axs = plt.subplots(2, 2)\n",
        "fig.subplots_adjust(left=0.2, wspace=0.6)\n",
        "make_plot(axs, history_0, history_2)\n",
        "\n",
        "fig.align_ylabels(axs[:, 1])\n",
        "fig.set_size_inches(18.5, 10.5)\n",
        "plt.show()"
      ]
    },
    {
      "cell_type": "markdown",
      "metadata": {
        "id": "Ay0B_qzrdd1j"
      },
      "source": [
        "What is the interpretation? (The example is surely very artificial.)"
      ]
    },
    {
      "cell_type": "markdown",
      "metadata": {
        "id": "G7as1ggudd1j"
      },
      "source": [
        "[Return to Top](#returnToTop)  \n",
        "<a id = 'normalization'></a>\n",
        "\n",
        "## 6. Effect of Layer Normalization\n",
        "\n",
        "In the last step, let's quickly introduce the **Functional API** and then specifically look at the effect of Layer Normalization.  The functional API lets us define each of our layers separately and then connect them together as we see fit.  We no longer have to wrap our layers as a sequence.  We can create arbitrarily complex architectures which we will see in later classes.  Here we will want two separate outputs.  The first output will be what comes out of our dense layer.  The second will be what happens after we pass that dense layer output through a normalization layer.  The functional API lets us look at both of these rather than just the output at the end of the sequence."
      ]
    },
    {
      "cell_type": "code",
      "execution_count": 40,
      "metadata": {
        "id": "6b5_M1wtdd1j"
      },
      "outputs": [],
      "source": [
        "try:\n",
        "    del function_model_layer_norm\n",
        "except:\n",
        "    pass\n",
        "\n",
        "# Functional API!\n",
        "# Define inputs, then network architecture build as a series of:\n",
        "#     layer_output = layer(earlier_layer_output)\n",
        "# then define model through input list and output list\n",
        "\n",
        "inputs = layers.Input(shape=(20,))\n",
        "\n",
        "dense_layer =  layers.Dense(5, activation='relu',\n",
        "                              kernel_initializer=keras.initializers.glorot_normal,\n",
        "                              name='layer_1')\n",
        "\n",
        "dense_out = dense_layer(inputs)\n",
        "\n",
        "# now add layer normalization layer\n",
        "final_out = layers.LayerNormalization()(dense_out)\n",
        "\n",
        "# use actual 2 layers as model outputs to see the effect of the layer normalization.\n",
        "# Note that the model outputs includes dense_out AND final_out\n",
        "function_model_layer_norm = keras.models.Model(inputs=[inputs], outputs=[dense_out, final_out])"
      ]
    },
    {
      "cell_type": "markdown",
      "metadata": {
        "id": "DLdTI8U_dd1k"
      },
      "source": [
        "Let's look at the effect of normalization.  First the output from the dense layer."
      ]
    },
    {
      "cell_type": "code",
      "execution_count": 41,
      "metadata": {
        "colab": {
          "base_uri": "https://localhost:8080/"
        },
        "id": "UCpkB-VTdd1k",
        "outputId": "a03aeb82-5fdc-41fb-91f0-51adffc8c7a6"
      },
      "outputs": [
        {
          "output_type": "stream",
          "name": "stdout",
          "text": [
            "\u001b[1m1/1\u001b[0m \u001b[32m━━━━━━━━━━━━━━━━━━━━\u001b[0m\u001b[37m\u001b[0m \u001b[1m0s\u001b[0m 132ms/step\n"
          ]
        },
        {
          "output_type": "stream",
          "name": "stderr",
          "text": [
            "/usr/local/lib/python3.11/dist-packages/keras/src/models/functional.py:237: UserWarning: The structure of `inputs` doesn't match the expected structure.\n",
            "Expected: ['keras_tensor_24']\n",
            "Received: inputs=Tensor(shape=(2, 20))\n",
            "  warnings.warn(msg)\n"
          ]
        },
        {
          "output_type": "execute_result",
          "data": {
            "text/plain": [
              "array([[0.1865682 , 0.        , 0.        , 0.        , 0.        ],\n",
              "       [0.04400593, 0.        , 0.        , 0.        , 0.        ]],\n",
              "      dtype=float32)"
            ]
          },
          "metadata": {},
          "execution_count": 41
        }
      ],
      "source": [
        "pred_layer_after_dense, pred_layer_after_norm = function_model_layer_norm.predict(data[:2], batch_size=2)\n",
        "pred_layer_after_dense"
      ]
    },
    {
      "cell_type": "markdown",
      "metadata": {
        "id": "qn7Xwv0gdd1k"
      },
      "source": [
        "Now lets see the output after it has passed through the normalization layer."
      ]
    },
    {
      "cell_type": "code",
      "execution_count": 42,
      "metadata": {
        "colab": {
          "base_uri": "https://localhost:8080/"
        },
        "id": "SwR0gv-Sdd1l",
        "outputId": "80c55ebd-3dfe-4005-ea93-699a7cb59dcf"
      },
      "outputs": [
        {
          "output_type": "execute_result",
          "data": {
            "text/plain": [
              "array([[ 1.841494  , -0.4603735 , -0.4603735 , -0.4603735 , -0.4603735 ],\n",
              "       [ 0.97272813, -0.24318205, -0.24318205, -0.24318205, -0.24318205]],\n",
              "      dtype=float32)"
            ]
          },
          "metadata": {},
          "execution_count": 42
        }
      ],
      "source": [
        "pred_layer_after_norm"
      ]
    },
    {
      "cell_type": "markdown",
      "metadata": {
        "id": "Fim3qejidd1l"
      },
      "source": [
        "Let's look at the sum and standard deviations of the normalized output:"
      ]
    },
    {
      "cell_type": "code",
      "execution_count": 43,
      "metadata": {
        "colab": {
          "base_uri": "https://localhost:8080/"
        },
        "id": "A9Gjom4udd1l",
        "outputId": "1247c7ad-c9b7-4778-ccdd-058176ab16d5"
      },
      "outputs": [
        {
          "output_type": "execute_result",
          "data": {
            "text/plain": [
              "array([-5.9604645e-08, -8.9406967e-08], dtype=float32)"
            ]
          },
          "metadata": {},
          "execution_count": 43
        }
      ],
      "source": [
        "np.sum(pred_layer_after_norm, axis=-1)"
      ]
    },
    {
      "cell_type": "code",
      "execution_count": 44,
      "metadata": {
        "colab": {
          "base_uri": "https://localhost:8080/"
        },
        "id": "YSd7d8Gddd1l",
        "outputId": "1231dca0-ea49-49aa-f73c-a64a8e1e2e1d"
      },
      "outputs": [
        {
          "output_type": "execute_result",
          "data": {
            "text/plain": [
              "array([0.9207469 , 0.48636404], dtype=float32)"
            ]
          },
          "metadata": {},
          "execution_count": 44
        }
      ],
      "source": [
        "np.std(pred_layer_after_norm, axis=-1)"
      ]
    },
    {
      "cell_type": "markdown",
      "metadata": {
        "id": "fu_iMfUCdd1m"
      },
      "source": [
        "Looks reasonable?"
      ]
    },
    {
      "cell_type": "code",
      "execution_count": null,
      "metadata": {
        "id": "f400vmvodd1m"
      },
      "outputs": [],
      "source": []
    }
  ],
  "metadata": {
    "colab": {
      "provenance": []
    },
    "kernelspec": {
      "display_name": "Python 3 (ipykernel)",
      "language": "python",
      "name": "python3"
    },
    "language_info": {
      "codemirror_mode": {
        "name": "ipython",
        "version": 3
      },
      "file_extension": ".py",
      "mimetype": "text/x-python",
      "name": "python",
      "nbconvert_exporter": "python",
      "pygments_lexer": "ipython3",
      "version": "3.11.5"
    }
  },
  "nbformat": 4,
  "nbformat_minor": 0
}